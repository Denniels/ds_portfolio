{
 "cells": [
  {
   "cell_type": "markdown",
   "id": "64533fc0",
   "metadata": {},
   "source": [
    "# Exportación de Visualizaciones - Análisis Demográfico\n",
    "\n",
    "Este notebook exporta las visualizaciones del análisis demográfico a formatos estáticos (PNG) e interactivos (HTML).\n",
    "\n",
    "## Requisitos Previos\n",
    "1. Tener el notebook `03_Analisis_BigQuery_Demografia.ipynb` ejecutado previamente\n",
    "2. Tener instalado kaleido para exportar a PNG: `pip install -U kaleido`\n",
    "3. Tener los permisos necesarios en la carpeta de destino\n",
    "\n",
    "## Funcionamiento\n",
    "El notebook:\n",
    "1. Carga los datos del análisis previo\n",
    "2. Genera las visualizaciones\n",
    "3. Las guarda en formato PNG y HTML"
   ]
  },
  {
   "cell_type": "code",
   "execution_count": 5,
   "id": "d8e06ca0",
   "metadata": {},
   "outputs": [
    {
     "name": "stdout",
     "output_type": "stream",
     "text": [
      "✅ Configuración inicial completada:\n",
      "📂 Directorio de datos: e:\\repos\\ds_portfolio\\notebooks\\data\n",
      "📊 Directorio de visualizaciones: e:\\repos\\ds_portfolio\\notebooks\\visualizaciones\n",
      "🔍 Verificando archivos y directorios:\n",
      "\n",
      "📂 Archivos de datos:\n",
      "✅ nombres_demografia.csv (2.6 KB)\n",
      "✅ nombres_demografia.pkl (0.0 KB)\n",
      "\n",
      "📊 Directorio de visualizaciones:\n",
      "✅ e:\\repos\\ds_portfolio\\notebooks\\visualizaciones existe\n"
     ]
    }
   ],
   "source": [
    "# Importar bibliotecas necesarias\n",
    "import os\n",
    "from pathlib import Path\n",
    "import pandas as pd\n",
    "import plotly.graph_objects as go\n",
    "from plotly.subplots import make_subplots\n",
    "\n",
    "# Verificar dependencias necesarias\n",
    "try:\n",
    "    import kaleido\n",
    "except ImportError:\n",
    "    print(\"⚠️ kaleido no está instalado. Instalando...\")\n",
    "    #!pip install -U kaleido\n",
    "    import kaleido\n",
    "\n",
    "# Configurar directorios usando Path para mejor manejo de rutas\n",
    "BASE_DIR = Path('e:/repos/ds_portfolio')\n",
    "NOTEBOOKS_DIR = BASE_DIR / 'notebooks'\n",
    "DATA_DIR = NOTEBOOKS_DIR / 'data'  # Aquí están los archivos nombres_demografia.*\n",
    "VIZ_DIR = NOTEBOOKS_DIR / 'visualizaciones'  # Para guardar las visualizaciones\n",
    "\n",
    "# Crear directorios si no existen\n",
    "DATA_DIR.mkdir(parents=True, exist_ok=True)\n",
    "VIZ_DIR.mkdir(parents=True, exist_ok=True)\n",
    "\n",
    "print(\"✅ Configuración inicial completada:\")\n",
    "print(f\"📂 Directorio de datos: {DATA_DIR}\")\n",
    "print(f\"📊 Directorio de visualizaciones: {VIZ_DIR}\")\n",
    "\n",
    "# Verificar que los archivos de datos existen\n",
    "data_files = {\n",
    "    'csv': DATA_DIR / 'nombres_demografia.csv',\n",
    "    'pkl': DATA_DIR / 'nombres_demografia.pkl'\n",
    "}\n",
    "\n",
    "print(\"🔍 Verificando archivos y directorios:\")\n",
    "print(\"\\n📂 Archivos de datos:\")\n",
    "for fmt, path in data_files.items():\n",
    "    if path.exists():\n",
    "        size = path.stat().st_size / 1024  # tamaño en KB\n",
    "        print(f\"✅ {path.name} ({size:.1f} KB)\")\n",
    "    else:\n",
    "        print(f\"❌ {path.name} no encontrado\")\n",
    "\n",
    "print(\"\\n📊 Directorio de visualizaciones:\")\n",
    "VIZ_DIR.mkdir(parents=True, exist_ok=True)\n",
    "print(f\"✅ {VIZ_DIR} {'existe' if VIZ_DIR.exists() else 'creado'}\")"
   ]
  },
  {
   "cell_type": "markdown",
   "id": "7258cebf",
   "metadata": {},
   "source": [
    "## 1. Cargar el DataFrame desde archivo temporal\n",
    "\n",
    "Para evitar reejecutar las consultas de BigQuery, primero guardaremos el DataFrame en un archivo temporal CSV."
   ]
  },
  {
   "cell_type": "markdown",
   "id": "e5bd61fc",
   "metadata": {},
   "source": [
    "## 1. Importar datos del notebook principal\n",
    "\n",
    "Para acceder a los datos del análisis demográfico, necesitamos:\n",
    "1. Copiar el DataFrame del notebook principal\n",
    "2. O cargarlo desde una variable compartida\n",
    "\n",
    "Método 1 - Copiar el DataFrame:\n",
    "```python\n",
    "# En el notebook principal (03_Analisis_BigQuery_Demografia.ipynb)\n",
    "df_nombres.to_pickle('notebooks/data/nombres_demografia.pkl')\n",
    "```"
   ]
  },
  {
   "cell_type": "code",
   "execution_count": 6,
   "id": "15d58fb2",
   "metadata": {},
   "outputs": [
    {
     "name": "stdout",
     "output_type": "stream",
     "text": [
      "🔄 Iniciando carga de datos...\n",
      "📂 Cargando datos desde pickle...\n",
      "⚠️ Error al cargar pickle: Ran out of input\n",
      "📂 Cargando datos desde CSV...\n",
      "\n",
      "✅ Datos cargados exitosamente\n",
      "\n",
      "📊 Resumen:\n",
      "- Registros: 110\n",
      "- Columnas: decade, name, gender, total_count, rank\n",
      "- Rango temporal: 1910-2010\n",
      "\n",
      "📋 Muestra de datos:\n"
     ]
    },
    {
     "data": {
      "text/html": [
       "<div>\n",
       "<style scoped>\n",
       "    .dataframe tbody tr th:only-of-type {\n",
       "        vertical-align: middle;\n",
       "    }\n",
       "\n",
       "    .dataframe tbody tr th {\n",
       "        vertical-align: top;\n",
       "    }\n",
       "\n",
       "    .dataframe thead th {\n",
       "        text-align: right;\n",
       "    }\n",
       "</style>\n",
       "<table border=\"1\" class=\"dataframe\">\n",
       "  <thead>\n",
       "    <tr style=\"text-align: right;\">\n",
       "      <th></th>\n",
       "      <th>decade</th>\n",
       "      <th>name</th>\n",
       "      <th>gender</th>\n",
       "      <th>total_count</th>\n",
       "      <th>rank</th>\n",
       "    </tr>\n",
       "  </thead>\n",
       "  <tbody>\n",
       "    <tr>\n",
       "      <th>0</th>\n",
       "      <td>1910</td>\n",
       "      <td>Mary</td>\n",
       "      <td>F</td>\n",
       "      <td>478634</td>\n",
       "      <td>1</td>\n",
       "    </tr>\n",
       "    <tr>\n",
       "      <th>1</th>\n",
       "      <td>1910</td>\n",
       "      <td>Helen</td>\n",
       "      <td>F</td>\n",
       "      <td>248150</td>\n",
       "      <td>2</td>\n",
       "    </tr>\n",
       "    <tr>\n",
       "      <th>2</th>\n",
       "      <td>1910</td>\n",
       "      <td>Dorothy</td>\n",
       "      <td>F</td>\n",
       "      <td>207465</td>\n",
       "      <td>3</td>\n",
       "    </tr>\n",
       "    <tr>\n",
       "      <th>3</th>\n",
       "      <td>1910</td>\n",
       "      <td>Margaret</td>\n",
       "      <td>F</td>\n",
       "      <td>189228</td>\n",
       "      <td>4</td>\n",
       "    </tr>\n",
       "    <tr>\n",
       "      <th>4</th>\n",
       "      <td>1910</td>\n",
       "      <td>Ruth</td>\n",
       "      <td>F</td>\n",
       "      <td>173654</td>\n",
       "      <td>5</td>\n",
       "    </tr>\n",
       "  </tbody>\n",
       "</table>\n",
       "</div>"
      ],
      "text/plain": [
       "   decade      name gender  total_count  rank\n",
       "0    1910      Mary      F       478634     1\n",
       "1    1910     Helen      F       248150     2\n",
       "2    1910   Dorothy      F       207465     3\n",
       "3    1910  Margaret      F       189228     4\n",
       "4    1910      Ruth      F       173654     5"
      ]
     },
     "metadata": {},
     "output_type": "display_data"
    }
   ],
   "source": [
    "# Función para cargar datos del análisis\n",
    "def cargar_datos():\n",
    "    \"\"\"\n",
    "    Intenta cargar los datos del análisis demográfico desde los archivos guardados\n",
    "    \"\"\"\n",
    "    # 1. Intentar cargar desde pickle (más rápido y preserva tipos de datos)\n",
    "    pkl_file = DATA_DIR / 'nombres_demografia.pkl'\n",
    "    if pkl_file.exists():\n",
    "        try:\n",
    "            print(f\"📂 Cargando datos desde pickle...\")\n",
    "            return pd.read_pickle(str(pkl_file))\n",
    "        except Exception as e:\n",
    "            print(f\"⚠️ Error al cargar pickle: {str(e)}\")\n",
    "    \n",
    "    # 2. Intentar cargar desde CSV (respaldo)\n",
    "    csv_file = DATA_DIR / 'nombres_demografia.csv'\n",
    "    if csv_file.exists():\n",
    "        try:\n",
    "            print(f\"📂 Cargando datos desde CSV...\")\n",
    "            df = pd.read_csv(str(csv_file))\n",
    "            # Asegurar que decade sea int para las visualizaciones\n",
    "            if 'decade' in df.columns:\n",
    "                df['decade'] = df['decade'].astype(int)\n",
    "            return df\n",
    "        except Exception as e:\n",
    "            print(f\"⚠️ Error al cargar CSV: {str(e)}\")\n",
    "    \n",
    "    print(\"\\n❌ No se encontraron archivos de datos en:\")\n",
    "    print(f\"- {pkl_file}\")\n",
    "    print(f\"- {csv_file}\")\n",
    "    return None\n",
    "\n",
    "# Cargar datos\n",
    "print(\"🔄 Iniciando carga de datos...\")\n",
    "df = cargar_datos()\n",
    "\n",
    "if df is not None:\n",
    "    print(f\"\\n✅ Datos cargados exitosamente\")\n",
    "    print(f\"\\n📊 Resumen:\")\n",
    "    print(f\"- Registros: {len(df):,}\")\n",
    "    print(f\"- Columnas: {', '.join(df.columns)}\")\n",
    "    if 'decade' in df.columns:\n",
    "        print(f\"- Rango temporal: {df['decade'].min()}-{df['decade'].max()}\")\n",
    "    \n",
    "    print(\"\\n📋 Muestra de datos:\")\n",
    "    display(df.head())"
   ]
  },
  {
   "cell_type": "markdown",
   "id": "bda7b10c",
   "metadata": {},
   "source": [
    "## 2. Crear Visualizaciones\n",
    "\n",
    "Generamos las visualizaciones usando los datos guardados."
   ]
  },
  {
   "cell_type": "code",
   "execution_count": 7,
   "id": "62f3be7d",
   "metadata": {},
   "outputs": [
    {
     "name": "stdout",
     "output_type": "stream",
     "text": [
      "\n",
      "🚀 Iniciando generación de visualizaciones...\n",
      "(Este proceso puede tomar varios minutos)\n",
      "Intento 1: Generando solo HTML...\n"
     ]
    },
    {
     "data": {
      "application/vnd.jupyter.widget-view+json": {
       "model_id": "81e20d831adb4c8c887568ce0c1d325b",
       "version_major": 2,
       "version_minor": 0
      },
      "text/plain": [
       "Progreso total:   0%|          | 0/100 [00:00<?, ?it/s]"
      ]
     },
     "metadata": {},
     "output_type": "display_data"
    },
    {
     "name": "stdout",
     "output_type": "stream",
     "text": [
      "\n",
      "📊 Procesando 110 registros...\n",
      "\n",
      "📈 Generando gráficas...\n"
     ]
    },
    {
     "data": {
      "application/vnd.jupyter.widget-view+json": {
       "model_id": "e2ab3e6f286b4670882b6607683e1fa8",
       "version_major": 2,
       "version_minor": 0
      },
      "text/plain": [
       "Procesando nombres Masculinos:   0%|          | 0/5 [00:00<?, ?it/s]"
      ]
     },
     "metadata": {},
     "output_type": "display_data"
    },
    {
     "data": {
      "application/vnd.jupyter.widget-view+json": {
       "model_id": "6f5d9ae3c5c54bd3b29a019ae8385886",
       "version_major": 2,
       "version_minor": 0
      },
      "text/plain": [
       "Procesando nombres Femeninos:   0%|          | 0/5 [00:00<?, ?it/s]"
      ]
     },
     "metadata": {},
     "output_type": "display_data"
    },
    {
     "name": "stdout",
     "output_type": "stream",
     "text": [
      "\n",
      "🎨 Actualizando diseño...\n",
      "\n",
      "💾 Guardando archivos...\n",
      "Guardando HTML... ✅ (e:\\repos\\ds_portfolio\\notebooks\\visualizaciones\\tendencias_nombres.html)\n",
      "\n",
      "⏱️ Tiempo total: 0.04 segundos\n",
      "\n",
      "✅ Archivos generados:\n",
      "- HTML: e:\\repos\\ds_portfolio\\notebooks\\visualizaciones\\tendencias_nombres.html\n",
      "\n",
      "📈 Mostrando previsualización...\n"
     ]
    },
    {
     "data": {
      "application/vnd.plotly.v1+json": {
       "config": {
        "plotlyServerURL": "https://plot.ly"
       },
       "data": [
        {
         "line": {
          "width": 2
         },
         "marker": {
          "size": 8
         },
         "mode": "lines+markers",
         "name": "James (Masculinos)",
         "type": "scatter",
         "x": {
          "bdata": "dgeAB4oHlAeeB6gHsgc=",
          "dtype": "i2"
         },
         "xaxis": "x",
         "y": {
          "bdata": "gzIEAODcBwDLWQgApSMMALXdDAC5cwoAH8oGAA==",
          "dtype": "i4"
         },
         "yaxis": "y"
        },
        {
         "line": {
          "width": 2
         },
         "marker": {
          "size": 8
         },
         "mode": "lines+markers",
         "name": "Michael (Masculinos)",
         "type": "scatter",
         "x": {
          "bdata": "ngeoB7IHvAfGB9AH",
          "dtype": "i2"
         },
         "xaxis": "x",
         "y": {
          "bdata": "McUMAHO3DAB4zAoAlR8KALkNBwDO0QMA",
          "dtype": "i4"
         },
         "yaxis": "y"
        },
        {
         "line": {
          "width": 2
         },
         "marker": {
          "size": 8
         },
         "mode": "lines+markers",
         "name": "John (Masculinos)",
         "type": "scatter",
         "x": {
          "bdata": "dgeAB4oHlAeeB6gH",
          "dtype": "i2"
         },
         "xaxis": "x",
         "y": {
          "bdata": "Ab4FAEGbCABhcQcA89oKAJMqDACk4woA",
          "dtype": "i4"
         },
         "yaxis": "y"
        },
        {
         "line": {
          "width": 2
         },
         "marker": {
          "size": 8
         },
         "mode": "lines+markers",
         "name": "Robert (Masculinos)",
         "type": "scatter",
         "x": {
          "bdata": "dgeAB4oHlAeeB6gH",
          "dtype": "i2"
         },
         "xaxis": "x",
         "y": {
          "bdata": "TKYDAELLCAAHAwkAhpALAHupDADp7gkA",
          "dtype": "i4"
         },
         "yaxis": "y"
        },
        {
         "line": {
          "width": 2
         },
         "marker": {
          "size": 8
         },
         "mode": "lines+markers",
         "name": "David (Masculinos)",
         "type": "scatter",
         "x": {
          "bdata": "ngeoB7IHvAc=",
          "dtype": "i2"
         },
         "xaxis": "x",
         "y": {
          "bdata": "b70LAOAzCwAPzgYAJ9oFAA==",
          "dtype": "i4"
         },
         "yaxis": "y"
        },
        {
         "line": {
          "width": 2
         },
         "marker": {
          "size": 8
         },
         "mode": "lines+markers",
         "name": "Mary (Femeninos)",
         "type": "scatter",
         "x": {
          "bdata": "dgeAB4oHlAeeB6gH",
          "dtype": "i2"
         },
         "xaxis": "x2",
         "y": {
          "bdata": "qk0HAA21CgDEvQgA48MJADiLCQCKawUA",
          "dtype": "i4"
         },
         "yaxis": "y2"
        },
        {
         "line": {
          "width": 2
         },
         "marker": {
          "size": 8
         },
         "mode": "lines+markers",
         "name": "Linda (Femeninos)",
         "type": "scatter",
         "x": {
          "bdata": "lAeeBw==",
          "dtype": "i2"
         },
         "xaxis": "x2",
         "y": {
          "bdata": "gxwIAOybCAA=",
          "dtype": "i4"
         },
         "yaxis": "y2"
        },
        {
         "line": {
          "width": 2
         },
         "marker": {
          "size": 8
         },
         "mode": "lines+markers",
         "name": "Patricia (Femeninos)",
         "type": "scatter",
         "x": {
          "bdata": "igeUB54H",
          "dtype": "i2"
         },
         "xaxis": "x2",
         "y": {
          "bdata": "f10DAPFGBgAKAwcA",
          "dtype": "i4"
         },
         "yaxis": "y2"
        },
        {
         "line": {
          "width": 2
         },
         "marker": {
          "size": 8
         },
         "mode": "lines+markers",
         "name": "Jennifer (Femeninos)",
         "type": "scatter",
         "x": {
          "bdata": "sge8Bw==",
          "dtype": "i2"
         },
         "xaxis": "x2",
         "y": {
          "bdata": "fOAIAPK5BgA=",
          "dtype": "i4"
         },
         "yaxis": "y2"
        },
        {
         "line": {
          "width": 2
         },
         "marker": {
          "size": 8
         },
         "mode": "lines+markers",
         "name": "Jessica (Femeninos)",
         "type": "scatter",
         "x": {
          "bdata": "vAfGBw==",
          "dtype": "i2"
         },
         "xaxis": "x2",
         "y": {
          "bdata": "pykHAM2fBAA=",
          "dtype": "i4"
         },
         "yaxis": "y2"
        }
       ],
       "layout": {
        "annotations": [
         {
          "font": {
           "size": 16
          },
          "showarrow": false,
          "text": "Nombres Masculinos más Populares por Década",
          "x": 0.5,
          "xanchor": "center",
          "xref": "paper",
          "y": 1,
          "yanchor": "bottom",
          "yref": "paper"
         },
         {
          "font": {
           "size": 16
          },
          "showarrow": false,
          "text": "Nombres Femeninos más Populares por Década",
          "x": 0.5,
          "xanchor": "center",
          "xref": "paper",
          "y": 0.44,
          "yanchor": "bottom",
          "yref": "paper"
         }
        ],
        "font": {
         "size": 12
        },
        "height": 1000,
        "showlegend": true,
        "template": {
         "data": {
          "bar": [
           {
            "error_x": {
             "color": "#2a3f5f"
            },
            "error_y": {
             "color": "#2a3f5f"
            },
            "marker": {
             "line": {
              "color": "white",
              "width": 0.5
             },
             "pattern": {
              "fillmode": "overlay",
              "size": 10,
              "solidity": 0.2
             }
            },
            "type": "bar"
           }
          ],
          "barpolar": [
           {
            "marker": {
             "line": {
              "color": "white",
              "width": 0.5
             },
             "pattern": {
              "fillmode": "overlay",
              "size": 10,
              "solidity": 0.2
             }
            },
            "type": "barpolar"
           }
          ],
          "carpet": [
           {
            "aaxis": {
             "endlinecolor": "#2a3f5f",
             "gridcolor": "#C8D4E3",
             "linecolor": "#C8D4E3",
             "minorgridcolor": "#C8D4E3",
             "startlinecolor": "#2a3f5f"
            },
            "baxis": {
             "endlinecolor": "#2a3f5f",
             "gridcolor": "#C8D4E3",
             "linecolor": "#C8D4E3",
             "minorgridcolor": "#C8D4E3",
             "startlinecolor": "#2a3f5f"
            },
            "type": "carpet"
           }
          ],
          "choropleth": [
           {
            "colorbar": {
             "outlinewidth": 0,
             "ticks": ""
            },
            "type": "choropleth"
           }
          ],
          "contour": [
           {
            "colorbar": {
             "outlinewidth": 0,
             "ticks": ""
            },
            "colorscale": [
             [
              0,
              "#0d0887"
             ],
             [
              0.1111111111111111,
              "#46039f"
             ],
             [
              0.2222222222222222,
              "#7201a8"
             ],
             [
              0.3333333333333333,
              "#9c179e"
             ],
             [
              0.4444444444444444,
              "#bd3786"
             ],
             [
              0.5555555555555556,
              "#d8576b"
             ],
             [
              0.6666666666666666,
              "#ed7953"
             ],
             [
              0.7777777777777778,
              "#fb9f3a"
             ],
             [
              0.8888888888888888,
              "#fdca26"
             ],
             [
              1,
              "#f0f921"
             ]
            ],
            "type": "contour"
           }
          ],
          "contourcarpet": [
           {
            "colorbar": {
             "outlinewidth": 0,
             "ticks": ""
            },
            "type": "contourcarpet"
           }
          ],
          "heatmap": [
           {
            "colorbar": {
             "outlinewidth": 0,
             "ticks": ""
            },
            "colorscale": [
             [
              0,
              "#0d0887"
             ],
             [
              0.1111111111111111,
              "#46039f"
             ],
             [
              0.2222222222222222,
              "#7201a8"
             ],
             [
              0.3333333333333333,
              "#9c179e"
             ],
             [
              0.4444444444444444,
              "#bd3786"
             ],
             [
              0.5555555555555556,
              "#d8576b"
             ],
             [
              0.6666666666666666,
              "#ed7953"
             ],
             [
              0.7777777777777778,
              "#fb9f3a"
             ],
             [
              0.8888888888888888,
              "#fdca26"
             ],
             [
              1,
              "#f0f921"
             ]
            ],
            "type": "heatmap"
           }
          ],
          "histogram": [
           {
            "marker": {
             "pattern": {
              "fillmode": "overlay",
              "size": 10,
              "solidity": 0.2
             }
            },
            "type": "histogram"
           }
          ],
          "histogram2d": [
           {
            "colorbar": {
             "outlinewidth": 0,
             "ticks": ""
            },
            "colorscale": [
             [
              0,
              "#0d0887"
             ],
             [
              0.1111111111111111,
              "#46039f"
             ],
             [
              0.2222222222222222,
              "#7201a8"
             ],
             [
              0.3333333333333333,
              "#9c179e"
             ],
             [
              0.4444444444444444,
              "#bd3786"
             ],
             [
              0.5555555555555556,
              "#d8576b"
             ],
             [
              0.6666666666666666,
              "#ed7953"
             ],
             [
              0.7777777777777778,
              "#fb9f3a"
             ],
             [
              0.8888888888888888,
              "#fdca26"
             ],
             [
              1,
              "#f0f921"
             ]
            ],
            "type": "histogram2d"
           }
          ],
          "histogram2dcontour": [
           {
            "colorbar": {
             "outlinewidth": 0,
             "ticks": ""
            },
            "colorscale": [
             [
              0,
              "#0d0887"
             ],
             [
              0.1111111111111111,
              "#46039f"
             ],
             [
              0.2222222222222222,
              "#7201a8"
             ],
             [
              0.3333333333333333,
              "#9c179e"
             ],
             [
              0.4444444444444444,
              "#bd3786"
             ],
             [
              0.5555555555555556,
              "#d8576b"
             ],
             [
              0.6666666666666666,
              "#ed7953"
             ],
             [
              0.7777777777777778,
              "#fb9f3a"
             ],
             [
              0.8888888888888888,
              "#fdca26"
             ],
             [
              1,
              "#f0f921"
             ]
            ],
            "type": "histogram2dcontour"
           }
          ],
          "mesh3d": [
           {
            "colorbar": {
             "outlinewidth": 0,
             "ticks": ""
            },
            "type": "mesh3d"
           }
          ],
          "parcoords": [
           {
            "line": {
             "colorbar": {
              "outlinewidth": 0,
              "ticks": ""
             }
            },
            "type": "parcoords"
           }
          ],
          "pie": [
           {
            "automargin": true,
            "type": "pie"
           }
          ],
          "scatter": [
           {
            "fillpattern": {
             "fillmode": "overlay",
             "size": 10,
             "solidity": 0.2
            },
            "type": "scatter"
           }
          ],
          "scatter3d": [
           {
            "line": {
             "colorbar": {
              "outlinewidth": 0,
              "ticks": ""
             }
            },
            "marker": {
             "colorbar": {
              "outlinewidth": 0,
              "ticks": ""
             }
            },
            "type": "scatter3d"
           }
          ],
          "scattercarpet": [
           {
            "marker": {
             "colorbar": {
              "outlinewidth": 0,
              "ticks": ""
             }
            },
            "type": "scattercarpet"
           }
          ],
          "scattergeo": [
           {
            "marker": {
             "colorbar": {
              "outlinewidth": 0,
              "ticks": ""
             }
            },
            "type": "scattergeo"
           }
          ],
          "scattergl": [
           {
            "marker": {
             "colorbar": {
              "outlinewidth": 0,
              "ticks": ""
             }
            },
            "type": "scattergl"
           }
          ],
          "scattermap": [
           {
            "marker": {
             "colorbar": {
              "outlinewidth": 0,
              "ticks": ""
             }
            },
            "type": "scattermap"
           }
          ],
          "scattermapbox": [
           {
            "marker": {
             "colorbar": {
              "outlinewidth": 0,
              "ticks": ""
             }
            },
            "type": "scattermapbox"
           }
          ],
          "scatterpolar": [
           {
            "marker": {
             "colorbar": {
              "outlinewidth": 0,
              "ticks": ""
             }
            },
            "type": "scatterpolar"
           }
          ],
          "scatterpolargl": [
           {
            "marker": {
             "colorbar": {
              "outlinewidth": 0,
              "ticks": ""
             }
            },
            "type": "scatterpolargl"
           }
          ],
          "scatterternary": [
           {
            "marker": {
             "colorbar": {
              "outlinewidth": 0,
              "ticks": ""
             }
            },
            "type": "scatterternary"
           }
          ],
          "surface": [
           {
            "colorbar": {
             "outlinewidth": 0,
             "ticks": ""
            },
            "colorscale": [
             [
              0,
              "#0d0887"
             ],
             [
              0.1111111111111111,
              "#46039f"
             ],
             [
              0.2222222222222222,
              "#7201a8"
             ],
             [
              0.3333333333333333,
              "#9c179e"
             ],
             [
              0.4444444444444444,
              "#bd3786"
             ],
             [
              0.5555555555555556,
              "#d8576b"
             ],
             [
              0.6666666666666666,
              "#ed7953"
             ],
             [
              0.7777777777777778,
              "#fb9f3a"
             ],
             [
              0.8888888888888888,
              "#fdca26"
             ],
             [
              1,
              "#f0f921"
             ]
            ],
            "type": "surface"
           }
          ],
          "table": [
           {
            "cells": {
             "fill": {
              "color": "#EBF0F8"
             },
             "line": {
              "color": "white"
             }
            },
            "header": {
             "fill": {
              "color": "#C8D4E3"
             },
             "line": {
              "color": "white"
             }
            },
            "type": "table"
           }
          ]
         },
         "layout": {
          "annotationdefaults": {
           "arrowcolor": "#2a3f5f",
           "arrowhead": 0,
           "arrowwidth": 1
          },
          "autotypenumbers": "strict",
          "coloraxis": {
           "colorbar": {
            "outlinewidth": 0,
            "ticks": ""
           }
          },
          "colorscale": {
           "diverging": [
            [
             0,
             "#8e0152"
            ],
            [
             0.1,
             "#c51b7d"
            ],
            [
             0.2,
             "#de77ae"
            ],
            [
             0.3,
             "#f1b6da"
            ],
            [
             0.4,
             "#fde0ef"
            ],
            [
             0.5,
             "#f7f7f7"
            ],
            [
             0.6,
             "#e6f5d0"
            ],
            [
             0.7,
             "#b8e186"
            ],
            [
             0.8,
             "#7fbc41"
            ],
            [
             0.9,
             "#4d9221"
            ],
            [
             1,
             "#276419"
            ]
           ],
           "sequential": [
            [
             0,
             "#0d0887"
            ],
            [
             0.1111111111111111,
             "#46039f"
            ],
            [
             0.2222222222222222,
             "#7201a8"
            ],
            [
             0.3333333333333333,
             "#9c179e"
            ],
            [
             0.4444444444444444,
             "#bd3786"
            ],
            [
             0.5555555555555556,
             "#d8576b"
            ],
            [
             0.6666666666666666,
             "#ed7953"
            ],
            [
             0.7777777777777778,
             "#fb9f3a"
            ],
            [
             0.8888888888888888,
             "#fdca26"
            ],
            [
             1,
             "#f0f921"
            ]
           ],
           "sequentialminus": [
            [
             0,
             "#0d0887"
            ],
            [
             0.1111111111111111,
             "#46039f"
            ],
            [
             0.2222222222222222,
             "#7201a8"
            ],
            [
             0.3333333333333333,
             "#9c179e"
            ],
            [
             0.4444444444444444,
             "#bd3786"
            ],
            [
             0.5555555555555556,
             "#d8576b"
            ],
            [
             0.6666666666666666,
             "#ed7953"
            ],
            [
             0.7777777777777778,
             "#fb9f3a"
            ],
            [
             0.8888888888888888,
             "#fdca26"
            ],
            [
             1,
             "#f0f921"
            ]
           ]
          },
          "colorway": [
           "#636efa",
           "#EF553B",
           "#00cc96",
           "#ab63fa",
           "#FFA15A",
           "#19d3f3",
           "#FF6692",
           "#B6E880",
           "#FF97FF",
           "#FECB52"
          ],
          "font": {
           "color": "#2a3f5f"
          },
          "geo": {
           "bgcolor": "white",
           "lakecolor": "white",
           "landcolor": "white",
           "showlakes": true,
           "showland": true,
           "subunitcolor": "#C8D4E3"
          },
          "hoverlabel": {
           "align": "left"
          },
          "hovermode": "closest",
          "mapbox": {
           "style": "light"
          },
          "paper_bgcolor": "white",
          "plot_bgcolor": "white",
          "polar": {
           "angularaxis": {
            "gridcolor": "#EBF0F8",
            "linecolor": "#EBF0F8",
            "ticks": ""
           },
           "bgcolor": "white",
           "radialaxis": {
            "gridcolor": "#EBF0F8",
            "linecolor": "#EBF0F8",
            "ticks": ""
           }
          },
          "scene": {
           "xaxis": {
            "backgroundcolor": "white",
            "gridcolor": "#DFE8F3",
            "gridwidth": 2,
            "linecolor": "#EBF0F8",
            "showbackground": true,
            "ticks": "",
            "zerolinecolor": "#EBF0F8"
           },
           "yaxis": {
            "backgroundcolor": "white",
            "gridcolor": "#DFE8F3",
            "gridwidth": 2,
            "linecolor": "#EBF0F8",
            "showbackground": true,
            "ticks": "",
            "zerolinecolor": "#EBF0F8"
           },
           "zaxis": {
            "backgroundcolor": "white",
            "gridcolor": "#DFE8F3",
            "gridwidth": 2,
            "linecolor": "#EBF0F8",
            "showbackground": true,
            "ticks": "",
            "zerolinecolor": "#EBF0F8"
           }
          },
          "shapedefaults": {
           "line": {
            "color": "#2a3f5f"
           }
          },
          "ternary": {
           "aaxis": {
            "gridcolor": "#DFE8F3",
            "linecolor": "#A2B1C6",
            "ticks": ""
           },
           "baxis": {
            "gridcolor": "#DFE8F3",
            "linecolor": "#A2B1C6",
            "ticks": ""
           },
           "bgcolor": "white",
           "caxis": {
            "gridcolor": "#DFE8F3",
            "linecolor": "#A2B1C6",
            "ticks": ""
           }
          },
          "title": {
           "x": 0.05
          },
          "xaxis": {
           "automargin": true,
           "gridcolor": "#EBF0F8",
           "linecolor": "#EBF0F8",
           "ticks": "",
           "title": {
            "standoff": 15
           },
           "zerolinecolor": "#EBF0F8",
           "zerolinewidth": 2
          },
          "yaxis": {
           "automargin": true,
           "gridcolor": "#EBF0F8",
           "linecolor": "#EBF0F8",
           "ticks": "",
           "title": {
            "standoff": 15
           },
           "zerolinecolor": "#EBF0F8",
           "zerolinewidth": 2
          }
         }
        },
        "title": {
         "text": "Evolución de Nombres más Populares por Década (1910-2013)"
        },
        "width": 1200,
        "xaxis": {
         "anchor": "y",
         "domain": [
          0,
          1
         ],
         "title": {
          "text": "Década"
         }
        },
        "xaxis2": {
         "anchor": "y2",
         "domain": [
          0,
          1
         ],
         "title": {
          "text": "Década"
         }
        },
        "yaxis": {
         "anchor": "x",
         "domain": [
          0.56,
          1
         ],
         "title": {
          "text": "Número de Nacimientos"
         }
        },
        "yaxis2": {
         "anchor": "x2",
         "domain": [
          0,
          0.44
         ],
         "title": {
          "text": "Número de Nacimientos"
         }
        }
       }
      }
     },
     "metadata": {},
     "output_type": "display_data"
    },
    {
     "name": "stdout",
     "output_type": "stream",
     "text": [
      "\n",
      "¿Desea intentar generar también el archivo PNG? (puede tardar más)\n",
      "Para generar PNG, ejecute:\n",
      "fig = crear_y_guardar_visualizacion(df, solo_html=False)\n"
     ]
    }
   ],
   "source": [
    "# Importar bibliotecas necesarias\n",
    "from tqdm.notebook import tqdm\n",
    "import time\n",
    "import threading\n",
    "from threading import Timer\n",
    "import warnings\n",
    "\n",
    "def guardar_visualizacion_segura(fig, ruta, formato='html'):\n",
    "    \"\"\"\n",
    "    Guarda una visualización de forma segura con timeout\n",
    "    \n",
    "    Args:\n",
    "        fig: Figura de plotly\n",
    "        ruta: Ruta donde guardar\n",
    "        formato: 'html' o 'png'\n",
    "    \n",
    "    Returns:\n",
    "        bool: True si se guardó correctamente, False si falló\n",
    "    \"\"\"\n",
    "    try:\n",
    "        if formato == 'html':\n",
    "            fig.write_html(\n",
    "                str(ruta),\n",
    "                include_plotlyjs='cdn',\n",
    "                full_html=True,\n",
    "                config={'displayModeBar': True}\n",
    "            )\n",
    "        else:  # png\n",
    "            with warnings.catch_warnings():\n",
    "                warnings.simplefilter(\"ignore\")\n",
    "                fig.write_image(str(ruta), scale=2)\n",
    "        return True\n",
    "    except Exception as e:\n",
    "        print(f\"⚠️ Error al guardar {formato.upper()}: {str(e)}\")\n",
    "        return False\n",
    "\n",
    "def crear_y_guardar_visualizacion(df=None, nombre_base='tendencias_nombres', solo_html=False):\n",
    "    \"\"\"\n",
    "    Crea y guarda visualizaciones de tendencias de nombres con monitoreo de progreso\n",
    "    \n",
    "    Args:\n",
    "        df: DataFrame con los datos. Si es None, intenta cargar desde archivo\n",
    "        nombre_base: Nombre base para los archivos de salida\n",
    "        solo_html: Si True, solo genera archivo HTML (más rápido)\n",
    "    \"\"\"\n",
    "    try:\n",
    "        start_time = time.time()\n",
    "        progress = tqdm(total=100, desc=\"Progreso total\")\n",
    "        \n",
    "        # 1. Cargar/verificar datos (10%)\n",
    "        if df is None:\n",
    "            csv_path = DATA_DIR / 'nombres_demografia.csv'\n",
    "            if not csv_path.exists():\n",
    "                print(f\"❌ No se encontró el archivo de datos en: {csv_path}\")\n",
    "                return None\n",
    "            print(f\"📂 Cargando datos desde: {csv_path}\")\n",
    "            df = pd.read_csv(str(csv_path))\n",
    "        progress.update(10)\n",
    "        \n",
    "        print(f\"\\n📊 Procesando {len(df):,} registros...\")\n",
    "        \n",
    "        # 2. Preparar datos (20%)\n",
    "        generos_data = {}\n",
    "        for genero in ['M', 'F']:\n",
    "            df_filtrado = df[df['gender'] == genero]\n",
    "            nombres_populares = (df_filtrado.groupby('name')['total_count']\n",
    "                            .sum()\n",
    "                            .sort_values(ascending=False)\n",
    "                            .head(5)\n",
    "                            .index)\n",
    "            generos_data[genero] = {\n",
    "                'df': df_filtrado,\n",
    "                'nombres': nombres_populares\n",
    "            }\n",
    "        progress.update(20)\n",
    "\n",
    "        # 3. Crear figura base (10%)\n",
    "        fig = make_subplots(\n",
    "            rows=2, cols=1,\n",
    "            subplot_titles=('Nombres Masculinos más Populares por Década',\n",
    "                        'Nombres Femeninos más Populares por Década'),\n",
    "            vertical_spacing=0.12\n",
    "        )\n",
    "        progress.update(10)\n",
    "\n",
    "        # 4. Añadir trazas (30%)\n",
    "        print(\"\\n📈 Generando gráficas...\")\n",
    "        for idx, (genero, nombre_genero) in enumerate([('M', 'Masculinos'), ('F', 'Femeninos')]):\n",
    "            data = generos_data[genero]\n",
    "            for nombre in tqdm(data['nombres'], desc=f\"Procesando nombres {nombre_genero}\"):\n",
    "                datos_nombre = data['df'][data['df']['name'] == nombre]\n",
    "                fig.add_trace(\n",
    "                    go.Scatter(\n",
    "                        x=datos_nombre['decade'],\n",
    "                        y=datos_nombre['total_count'],\n",
    "                        name=f\"{nombre} ({nombre_genero})\",\n",
    "                        mode='lines+markers',\n",
    "                        line=dict(width=2),\n",
    "                        marker=dict(size=8)\n",
    "                    ),\n",
    "                    row=idx+1, col=1\n",
    "                )\n",
    "        progress.update(30)\n",
    "\n",
    "        # 5. Actualizar diseño (10%)\n",
    "        print(\"\\n🎨 Actualizando diseño...\")\n",
    "        fig.update_layout(\n",
    "            height=1000,\n",
    "            width=1200,\n",
    "            title_text=\"Evolución de Nombres más Populares por Década (1910-2013)\",\n",
    "            showlegend=True,\n",
    "            template=\"plotly_white\",\n",
    "            font=dict(size=12)\n",
    "        )\n",
    "        \n",
    "        for i in range(2):\n",
    "            fig.update_xaxes(title_text=\"Década\", row=i+1, col=1)\n",
    "            fig.update_yaxes(title_text=\"Número de Nacimientos\", row=i+1, col=1)\n",
    "        progress.update(10)\n",
    "\n",
    "        # 6. Guardar archivos (20%)\n",
    "        print(\"\\n💾 Guardando archivos...\")\n",
    "        \n",
    "        # Asegurar que el directorio existe\n",
    "        VIZ_DIR.mkdir(parents=True, exist_ok=True)\n",
    "        \n",
    "        archivos_guardados = []\n",
    "        \n",
    "        # Guardar HTML (siempre intentamos esto primero)\n",
    "        print(\"Guardando HTML...\", end=\" \")\n",
    "        ruta_html = VIZ_DIR / f'{nombre_base}.html'\n",
    "        if guardar_visualizacion_segura(fig, ruta_html, 'html'):\n",
    "            print(f\"✅ ({ruta_html})\")\n",
    "            archivos_guardados.append(('HTML', ruta_html))\n",
    "        \n",
    "        # Guardar PNG (opcional)\n",
    "        if not solo_html:\n",
    "            print(\"Guardando PNG...\", end=\" \")\n",
    "            ruta_png = VIZ_DIR / f'{nombre_base}.png'\n",
    "            if guardar_visualizacion_segura(fig, ruta_png, 'png'):\n",
    "                print(f\"✅ ({ruta_png})\")\n",
    "                archivos_guardados.append(('PNG', ruta_png))\n",
    "            else:\n",
    "                print(\"\\n⚠️ No se pudo guardar PNG. Solo se generó HTML.\")\n",
    "        \n",
    "        progress.update(20)\n",
    "        \n",
    "        elapsed_time = time.time() - start_time\n",
    "        print(f\"\\n⏱️ Tiempo total: {elapsed_time:.2f} segundos\")\n",
    "        \n",
    "        if archivos_guardados:\n",
    "            print(\"\\n✅ Archivos generados:\")\n",
    "            for fmt, ruta in archivos_guardados:\n",
    "                print(f\"- {fmt}: {ruta}\")\n",
    "        \n",
    "        return fig\n",
    "            \n",
    "    except Exception as e:\n",
    "        print(f\"\\n❌ Error durante la generación: {str(e)}\")\n",
    "        return None\n",
    "    finally:\n",
    "        progress.close()\n",
    "\n",
    "print(\"\\n🚀 Iniciando generación de visualizaciones...\")\n",
    "print(\"(Este proceso puede tomar varios minutos)\")\n",
    "\n",
    "# Intentar primero solo con HTML (más rápido)\n",
    "print(\"Intento 1: Generando solo HTML...\")\n",
    "fig = crear_y_guardar_visualizacion(df, solo_html=True)\n",
    "\n",
    "if fig is not None:\n",
    "    print(\"\\n📈 Mostrando previsualización...\")\n",
    "    fig.show()\n",
    "    \n",
    "    # Preguntar si quiere intentar generar PNG\n",
    "    print(\"\\n¿Desea intentar generar también el archivo PNG? (puede tardar más)\")\n",
    "    print(\"Para generar PNG, ejecute:\")\n",
    "    print(\"fig = crear_y_guardar_visualizacion(df, solo_html=False)\")\n",
    "else:\n",
    "    print(\"\\n⚠️ No se pudo completar la visualización.\")\n",
    "    print(\"Sugerencia: Verifique que los datos están correctos\")"
   ]
  },
  {
   "cell_type": "markdown",
   "id": "ee8a2790",
   "metadata": {},
   "source": [
    "## 3. Verificación de Resultados\n",
    "\n",
    "Verificamos que los archivos se hayan creado correctamente."
   ]
  },
  {
   "cell_type": "code",
   "execution_count": 9,
   "id": "e6ea1586",
   "metadata": {},
   "outputs": [
    {
     "name": "stdout",
     "output_type": "stream",
     "text": [
      "🔍 Verificando archivos generados:\n",
      "❌ tendencias_nombres.png no encontrado\n",
      "✅ tendencias_nombres.html: 10.52 KB\n"
     ]
    }
   ],
   "source": [
    "def verificar_archivos():\n",
    "    \"\"\"\n",
    "    Verifica que los archivos de visualización existan y sean accesibles\n",
    "    \"\"\"\n",
    "    archivos = ['tendencias_nombres.png', 'tendencias_nombres.html']\n",
    "    \n",
    "    print(\"🔍 Verificando archivos generados:\")\n",
    "    for archivo in archivos:\n",
    "        ruta = VIZ_DIR / archivo\n",
    "        if ruta.exists():\n",
    "            tamaño = ruta.stat().st_size / 1024  # KB\n",
    "            print(f\"✅ {archivo}: {tamaño:.2f} KB\")\n",
    "        else:\n",
    "            print(f\"❌ {archivo} no encontrado\")\n",
    "\n",
    "verificar_archivos()"
   ]
  }
 ],
 "metadata": {
  "kernelspec": {
   "display_name": "ds_portfolio_env",
   "language": "python",
   "name": "python3"
  },
  "language_info": {
   "codemirror_mode": {
    "name": "ipython",
    "version": 3
   },
   "file_extension": ".py",
   "mimetype": "text/x-python",
   "name": "python",
   "nbconvert_exporter": "python",
   "pygments_lexer": "ipython3",
   "version": "3.11.9"
  }
 },
 "nbformat": 4,
 "nbformat_minor": 5
}
