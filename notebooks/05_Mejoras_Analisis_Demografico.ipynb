{
 "cells": [
  {
   "cell_type": "markdown",
   "id": "98bf5a8c",
   "metadata": {},
   "source": [
    "# 📊 Mejoras en Análisis Demográfico de Tendencias de Nombres\n",
    "\n",
    "> **Fecha:** Junio 2025\n",
    "> **Autor:** Data Science Portfolio\n",
    "\n",
    "Este notebook amplía el análisis demográfico de tendencias de nombres en Estados Unidos desde 1910 hasta 2013, utilizando datos de BigQuery. El objetivo es generar visualizaciones avanzadas y explicaciones detalladas que serán incorporadas a la aplicación Streamlit.\n",
    "\n",
    "## 🎯 Objetivos:\n",
    "- Crear visualizaciones más detalladas y atractivas\n",
    "- Proporcionar explicaciones contextuales de tendencias y patrones\n",
    "- Analizar aspectos socioculturales que influyen en las tendencias de nombres\n",
    "- Generar insights que enriquezcan la aplicación Streamlit"
   ]
  },
  {
   "cell_type": "markdown",
   "id": "19346a9e",
   "metadata": {},
   "source": [
    "## 1. Importación de Librerías\n",
    "\n",
    "Primero, importamos todas las librerías necesarias para el análisis y la visualización."
   ]
  },
  {
   "cell_type": "code",
   "execution_count": 1,
   "id": "38bbcc25",
   "metadata": {},
   "outputs": [],
   "source": [
    "# Librerías básicas para manejo de datos\n",
    "import pandas as pd\n",
    "import numpy as np\n",
    "from collections import Counter\n",
    "from datetime import datetime\n",
    "\n",
    "# Librerías para visualización\n",
    "import matplotlib.pyplot as plt\n",
    "import seaborn as sns\n",
    "import plotly.express as px\n",
    "import plotly.graph_objects as go\n",
    "from plotly.subplots import make_subplots\n",
    "import matplotlib.ticker as mtick\n",
    "\n",
    "# Configuración visual y de estilo\n",
    "plt.style.use('seaborn-v0_8-whitegrid')\n",
    "sns.set_palette('viridis')\n",
    "plt.rcParams['figure.figsize'] = (12, 8)\n",
    "plt.rcParams['axes.labelsize'] = 12\n",
    "plt.rcParams['axes.titlesize'] = 14\n",
    "plt.rcParams['xtick.labelsize'] = 10\n",
    "plt.rcParams['ytick.labelsize'] = 10\n",
    "plt.rcParams['legend.fontsize'] = 10\n",
    "plt.rcParams['legend.title_fontsize'] = 12\n",
    "\n",
    "# Para ignorar advertencias irrelevantes\n",
    "import warnings\n",
    "warnings.filterwarnings('ignore')\n",
    "\n",
    "# Para guardar las visualizaciones\n",
    "import os\n",
    "from pathlib import Path\n",
    "\n",
    "# Configuración de seeds para reproducibilidad\n",
    "np.random.seed(42)"
   ]
  },
  {
   "cell_type": "markdown",
   "id": "0be892ee",
   "metadata": {},
   "source": [
    "## 2. Carga y Exploración de Datos Demográficos\n",
    "\n",
    "En esta sección, cargaremos los datos de nombres históricos desde 1910 hasta 2013 en Estados Unidos. Normalmente estos datos provienen de BigQuery, pero para este notebook utilizaremos datos sintéticos representativos que simulan los resultados de la consulta."
   ]
  },
  {
   "cell_type": "code",
   "execution_count": 2,
   "id": "20d7e703",
   "metadata": {},
   "outputs": [
    {
     "data": {
      "text/html": [
       "<div>\n",
       "<style scoped>\n",
       "    .dataframe tbody tr th:only-of-type {\n",
       "        vertical-align: middle;\n",
       "    }\n",
       "\n",
       "    .dataframe tbody tr th {\n",
       "        vertical-align: top;\n",
       "    }\n",
       "\n",
       "    .dataframe thead th {\n",
       "        text-align: right;\n",
       "    }\n",
       "</style>\n",
       "<table border=\"1\" class=\"dataframe\">\n",
       "  <thead>\n",
       "    <tr style=\"text-align: right;\">\n",
       "      <th></th>\n",
       "      <th>name</th>\n",
       "      <th>year</th>\n",
       "      <th>gender</th>\n",
       "      <th>count</th>\n",
       "    </tr>\n",
       "  </thead>\n",
       "  <tbody>\n",
       "    <tr>\n",
       "      <th>0</th>\n",
       "      <td>James</td>\n",
       "      <td>1910</td>\n",
       "      <td>M</td>\n",
       "      <td>215</td>\n",
       "    </tr>\n",
       "    <tr>\n",
       "      <th>1</th>\n",
       "      <td>James</td>\n",
       "      <td>1911</td>\n",
       "      <td>M</td>\n",
       "      <td>225</td>\n",
       "    </tr>\n",
       "    <tr>\n",
       "      <th>2</th>\n",
       "      <td>James</td>\n",
       "      <td>1912</td>\n",
       "      <td>M</td>\n",
       "      <td>262</td>\n",
       "    </tr>\n",
       "    <tr>\n",
       "      <th>3</th>\n",
       "      <td>James</td>\n",
       "      <td>1913</td>\n",
       "      <td>M</td>\n",
       "      <td>357</td>\n",
       "    </tr>\n",
       "    <tr>\n",
       "      <th>4</th>\n",
       "      <td>James</td>\n",
       "      <td>1914</td>\n",
       "      <td>M</td>\n",
       "      <td>305</td>\n",
       "    </tr>\n",
       "  </tbody>\n",
       "</table>\n",
       "</div>"
      ],
      "text/plain": [
       "    name  year gender  count\n",
       "0  James  1910      M    215\n",
       "1  James  1911      M    225\n",
       "2  James  1912      M    262\n",
       "3  James  1913      M    357\n",
       "4  James  1914      M    305"
      ]
     },
     "execution_count": 2,
     "metadata": {},
     "output_type": "execute_result"
    }
   ],
   "source": [
    "# Función para generar datos sintéticos de nombres\n",
    "def generate_synthetic_names_data(start_year=1910, end_year=2013):\n",
    "    \"\"\"\n",
    "    Genera datos sintéticos que simulan resultados de consultas a BigQuery sobre nombres\n",
    "    en EE.UU. desde start_year hasta end_year.\n",
    "    \"\"\"\n",
    "    # Lista de nombres populares por género para crear nuestros datos\n",
    "    popular_male_names = [\n",
    "        'James', 'John', 'Robert', 'Michael', 'William', 'David', 'Joseph', 'Charles', \n",
    "        'Thomas', 'Christopher', 'Daniel', 'Matthew', 'Anthony', 'Donald', 'Mark',\n",
    "        'Paul', 'Steven', 'Andrew', 'Kenneth', 'George', 'Joshua', 'Kevin', 'Brian',\n",
    "        'Edward', 'Ronald', 'Timothy', 'Jason', 'Jeffrey', 'Ryan', 'Jacob', 'Gary',\n",
    "        'Nicholas', 'Eric', 'Stephen', 'Jonathan', 'Larry', 'Justin', 'Scott', 'Brandon',\n",
    "        'Frank', 'Benjamin', 'Gregory', 'Samuel', 'Raymond', 'Patrick', 'Alexander', \n",
    "        'Jack', 'Dennis', 'Jerry', 'Tyler', 'Aaron', 'Henry', 'Douglas', 'Jose', 'Peter',\n",
    "        'Adam', 'Nathan', 'Zachary', 'Walter', 'Kyle', 'Harold', 'Carl', 'Jeremy', 'Gerald',\n",
    "        'Keith', 'Roger', 'Arthur', 'Terry', 'Lawrence', 'Sean', 'Christian', 'Ethan',\n",
    "        'Austin', 'Joe', 'Albert', 'Jesse', 'Willie', 'Billy', 'Bryan', 'Bruce', 'Jordan',\n",
    "        'Ralph', 'Roy', 'Noah', 'Dylan', 'Eugene', 'Wayne', 'Alan', 'Juan', 'Louis', 'Russell',\n",
    "        'Gabriel', 'Randy', 'Philip', 'Harry', 'Vincent', 'Bobby', 'Johnny', 'Logan'\n",
    "    ]\n",
    "    \n",
    "    popular_female_names = [\n",
    "        'Mary', 'Patricia', 'Jennifer', 'Linda', 'Elizabeth', 'Barbara', 'Susan', 'Jessica',\n",
    "        'Sarah', 'Karen', 'Nancy', 'Margaret', 'Lisa', 'Betty', 'Dorothy', 'Sandra', 'Ashley',\n",
    "        'Kimberly', 'Donna', 'Emily', 'Michelle', 'Carol', 'Amanda', 'Melissa', 'Deborah',\n",
    "        'Stephanie', 'Rebecca', 'Laura', 'Sharon', 'Cynthia', 'Kathleen', 'Helen', 'Amy',\n",
    "        'Shirley', 'Angela', 'Anna', 'Ruth', 'Brenda', 'Pamela', 'Nicole', 'Katherine',\n",
    "        'Samantha', 'Christine', 'Catherine', 'Virginia', 'Debra', 'Rachel', 'Janet',\n",
    "        'Emma', 'Carolyn', 'Maria', 'Heather', 'Diane', 'Julie', 'Joyce', 'Victoria',\n",
    "        'Kelly', 'Christina', 'Lauren', 'Joan', 'Evelyn', 'Olivia', 'Judith', 'Megan',\n",
    "        'Cheryl', 'Martha', 'Andrea', 'Frances', 'Hannah', 'Jacqueline', 'Ann', 'Gloria',\n",
    "        'Jean', 'Kathryn', 'Alice', 'Teresa', 'Sara', 'Janice', 'Doris', 'Madison', 'Julia',\n",
    "        'Grace', 'Judy', 'Abigail', 'Marie', 'Denise', 'Beverly', 'Amber', 'Theresa', 'Marilyn',\n",
    "        'Danielle', 'Diana', 'Brittany', 'Natalie', 'Sophia', 'Rose', 'Isabella', 'Alexis'\n",
    "    ]\n",
    "    \n",
    "    years = list(range(start_year, end_year + 1))\n",
    "    \n",
    "    # Generar datos para nombres masculinos\n",
    "    male_records = []\n",
    "    for name in popular_male_names:\n",
    "        # Simular un patrón de popularidad que varía con el tiempo\n",
    "        base_count = np.random.randint(500, 10000)\n",
    "        peak_year = np.random.randint(start_year, end_year)\n",
    "        peak_width = np.random.randint(5, 30)\n",
    "        \n",
    "        for year in years:\n",
    "            # Crear un patrón de campana para la popularidad\n",
    "            time_factor = np.exp(-0.5 * ((year - peak_year) / peak_width) ** 2)\n",
    "            count = int(base_count * time_factor * (0.8 + 0.4 * np.random.random()))\n",
    "            \n",
    "            # Añadir algo de ruido y tendencia\n",
    "            trend_factor = 1 + 0.001 * (year - start_year) * (np.random.random() - 0.5)\n",
    "            count = max(1, int(count * trend_factor * (0.9 + 0.2 * np.random.random())))\n",
    "            \n",
    "            male_records.append({\n",
    "                'name': name,\n",
    "                'year': year,\n",
    "                'gender': 'M',\n",
    "                'count': count\n",
    "            })\n",
    "    \n",
    "    # Generar datos para nombres femeninos\n",
    "    female_records = []\n",
    "    for name in popular_female_names:\n",
    "        base_count = np.random.randint(500, 10000)\n",
    "        peak_year = np.random.randint(start_year, end_year)\n",
    "        peak_width = np.random.randint(5, 30)\n",
    "        \n",
    "        for year in years:\n",
    "            time_factor = np.exp(-0.5 * ((year - peak_year) / peak_width) ** 2)\n",
    "            count = int(base_count * time_factor * (0.8 + 0.4 * np.random.random()))\n",
    "            \n",
    "            trend_factor = 1 + 0.001 * (year - start_year) * (np.random.random() - 0.5)\n",
    "            count = max(1, int(count * trend_factor * (0.9 + 0.2 * np.random.random())))\n",
    "            \n",
    "            female_records.append({\n",
    "                'name': name,\n",
    "                'year': year,\n",
    "                'gender': 'F',\n",
    "                'count': count\n",
    "            })\n",
    "    \n",
    "    # Combinar los registros\n",
    "    all_records = male_records + female_records\n",
    "    \n",
    "    # Crear DataFrame\n",
    "    df = pd.DataFrame(all_records)\n",
    "    \n",
    "    return df\n",
    "\n",
    "# Generar datos sintéticos\n",
    "names_df = generate_synthetic_names_data()\n",
    "\n",
    "# Mostrar las primeras filas\n",
    "names_df.head()"
   ]
  },
  {
   "cell_type": "code",
   "execution_count": 3,
   "id": "fe45410c",
   "metadata": {},
   "outputs": [
    {
     "name": "stdout",
     "output_type": "stream",
     "text": [
      "Dimensiones del dataset: (20488, 4)\n",
      "Período temporal cubierto: 1910 - 2013\n",
      "Número total de nombres únicos: 197\n",
      "Distribución por género:\n",
      "gender\n",
      "F    98\n",
      "M    99\n",
      "Name: name, dtype: int64\n"
     ]
    },
    {
     "data": {
      "text/html": [
       "<div>\n",
       "<style scoped>\n",
       "    .dataframe tbody tr th:only-of-type {\n",
       "        vertical-align: middle;\n",
       "    }\n",
       "\n",
       "    .dataframe tbody tr th {\n",
       "        vertical-align: top;\n",
       "    }\n",
       "\n",
       "    .dataframe thead th {\n",
       "        text-align: right;\n",
       "    }\n",
       "</style>\n",
       "<table border=\"1\" class=\"dataframe\">\n",
       "  <thead>\n",
       "    <tr style=\"text-align: right;\">\n",
       "      <th></th>\n",
       "      <th>year</th>\n",
       "      <th>count</th>\n",
       "    </tr>\n",
       "  </thead>\n",
       "  <tbody>\n",
       "    <tr>\n",
       "      <th>count</th>\n",
       "      <td>20488.000000</td>\n",
       "      <td>20488.000000</td>\n",
       "    </tr>\n",
       "    <tr>\n",
       "      <th>mean</th>\n",
       "      <td>1961.500000</td>\n",
       "      <td>1765.267083</td>\n",
       "    </tr>\n",
       "    <tr>\n",
       "      <th>std</th>\n",
       "      <td>30.021559</td>\n",
       "      <td>2363.148279</td>\n",
       "    </tr>\n",
       "    <tr>\n",
       "      <th>min</th>\n",
       "      <td>1910.000000</td>\n",
       "      <td>1.000000</td>\n",
       "    </tr>\n",
       "    <tr>\n",
       "      <th>25%</th>\n",
       "      <td>1935.750000</td>\n",
       "      <td>17.000000</td>\n",
       "    </tr>\n",
       "    <tr>\n",
       "      <th>50%</th>\n",
       "      <td>1961.500000</td>\n",
       "      <td>644.000000</td>\n",
       "    </tr>\n",
       "    <tr>\n",
       "      <th>75%</th>\n",
       "      <td>1987.250000</td>\n",
       "      <td>2703.000000</td>\n",
       "    </tr>\n",
       "    <tr>\n",
       "      <th>max</th>\n",
       "      <td>2013.000000</td>\n",
       "      <td>12284.000000</td>\n",
       "    </tr>\n",
       "  </tbody>\n",
       "</table>\n",
       "</div>"
      ],
      "text/plain": [
       "               year         count\n",
       "count  20488.000000  20488.000000\n",
       "mean    1961.500000   1765.267083\n",
       "std       30.021559   2363.148279\n",
       "min     1910.000000      1.000000\n",
       "25%     1935.750000     17.000000\n",
       "50%     1961.500000    644.000000\n",
       "75%     1987.250000   2703.000000\n",
       "max     2013.000000  12284.000000"
      ]
     },
     "execution_count": 3,
     "metadata": {},
     "output_type": "execute_result"
    }
   ],
   "source": [
    "# Información básica del dataset\n",
    "print(f\"Dimensiones del dataset: {names_df.shape}\")\n",
    "print(f\"Período temporal cubierto: {names_df['year'].min()} - {names_df['year'].max()}\")\n",
    "print(f\"Número total de nombres únicos: {names_df['name'].nunique()}\")\n",
    "print(f\"Distribución por género:\")\n",
    "print(names_df.groupby('gender')['name'].nunique())\n",
    "\n",
    "# Calcular algunos estadísticos básicos por género\n",
    "gender_stats = names_df.groupby(['gender', 'year'])['count'].sum().reset_index()\n",
    "gender_stats_wide = gender_stats.pivot(index='year', columns='gender', values='count')\n",
    "\n",
    "# Muestra de estadísticas descriptivas\n",
    "names_df.describe()"
   ]
  },
  {
   "cell_type": "markdown",
   "id": "430e8a58",
   "metadata": {},
   "source": [
    "## 3. Visualizaciones Avanzadas y Análisis Demográfico\n",
    "\n",
    "En esta sección, crearemos visualizaciones detalladas para explorar diferentes aspectos de los datos de nombres a lo largo del tiempo, agregando explicaciones contextuales e insights."
   ]
  },
  {
   "cell_type": "markdown",
   "id": "445a0e3e",
   "metadata": {},
   "source": [
    "### 3.1 Tendencias Históricas de Nombres por Género (1910-2013)\n",
    "\n",
    "Esta visualización muestra la evolución en el número de bebés registrados por género a lo largo del tiempo. Nos permite observar cambios demográficos importantes, patrones generacionales y posibles influencias de eventos históricos en las tasas de natalidad."
   ]
  },
  {
   "cell_type": "code",
   "execution_count": 4,
   "id": "28f3f72e",
   "metadata": {},
   "outputs": [
    {
     "data": {
      "application/vnd.plotly.v1+json": {
       "config": {
        "plotlyServerURL": "https://plot.ly"
       },
       "data": [
        {
         "hovertemplate": "Género=F<br>Año=%{x}<br>Número de nacimientos registrados=%{y}<extra></extra>",
         "legendgroup": "F",
         "line": {
          "color": "#e377c2",
          "dash": "solid"
         },
         "marker": {
          "symbol": "circle"
         },
         "mode": "lines",
         "name": "F",
         "orientation": "v",
         "showlegend": true,
         "type": "scatter",
         "x": {
          "bdata": "dgd3B3gHeQd6B3sHfAd9B34HfweAB4EHggeDB4QHhQeGB4cHiAeJB4oHiweMB40HjgePB5AHkQeSB5MHlAeVB5YHlweYB5kHmgebB5wHnQeeB58HoAehB6IHowekB6UHpgenB6gHqQeqB6sHrAetB64HrwewB7EHsgezB7QHtQe2B7cHuAe5B7oHuwe8B70Hvge/B8AHwQfCB8MHxAfFB8YHxwfIB8kHygfLB8wHzQfOB88H0AfRB9IH0wfUB9UH1gfXB9gH2QfaB9sH3AfdBw==",
          "dtype": "i2"
         },
         "xaxis": "x",
         "y": {
          "bdata": "/qQBAIzQAQBW4wEAL+QBAHfzAQCq8gEA/fYBAEgMAgByOAIAHSQCAC84AgCVQAIAEmgCACJjAgChVgIAc4kCANWMAgCBbgIAhYICAO6KAgBVlwIADZ8CAD+WAgARpQIAf6gCABGtAgDU2gIAYrgCABy4AgCezAIAGNgCADjZAgDY3AIAEssCALvdAgAw7gIA/AQDAOPaAgA43AIA5QkDAPflAgCaBQMAAhgDACr4AgD+CQMAUxIDAJAAAwCBGgMACQQDAM8JAwBRFAMAhSEDAE8dAwBmFgMA2wgDAL8WAwCcDQMApx4DABkXAwCeIgMAUk0DAAQiAwBHFgMAABoDALxIAwCRIQMArzIDAPUqAwB8JwMA5yoDALkjAwA/GwMAJCYDAMgrAwAMCQMAOCADAB4bAwAWJQMAnfICAMz6AgAoGQMAKd4CAHQBAwB09wIAZecCAPfLAgBOqwIAdaMCABSiAgDefwIA/YACACF1AgClWAIAqjMCAOIlAgCoDgIAS/sBAH0AAgBw2AEALNYBAISrAQCRoQEAOZwBADGHAQA=",
          "dtype": "i4"
         },
         "yaxis": "y"
        },
        {
         "hovertemplate": "Género=M<br>Año=%{x}<br>Número de nacimientos registrados=%{y}<extra></extra>",
         "legendgroup": "M",
         "line": {
          "color": "#1f77b4",
          "dash": "solid"
         },
         "marker": {
          "symbol": "circle"
         },
         "mode": "lines",
         "name": "M",
         "orientation": "v",
         "showlegend": true,
         "type": "scatter",
         "x": {
          "bdata": "dgd3B3gHeQd6B3sHfAd9B34HfweAB4EHggeDB4QHhQeGB4cHiAeJB4oHiweMB40HjgePB5AHkQeSB5MHlAeVB5YHlweYB5kHmgebB5wHnQeeB58HoAehB6IHowekB6UHpgenB6gHqQeqB6sHrAetB64HrwewB7EHsgezB7QHtQe2B7cHuAe5B7oHuwe8B70Hvge/B8AHwQfCB8MHxAfFB8YHxwfIB8kHygfLB8wHzQfOB88H0AfRB9IH0wfUB9UH1gfXB9gH2QfaB9sH3AfdBw==",
          "dtype": "i2"
         },
         "xaxis": "x",
         "y": {
          "bdata": "GJQBAHysAQC2vQEAU/MBAKHxAQChAwIAsQ4CAB8bAgAROgIA9k0CAC9YAgCgcAIAZWgCANl+AgD9lwIAp6MCALqpAgBBuwIAkZ8CAP/HAgCUzgIAHNsCALLgAgCV3QIAmdICAAP4AgCDAAMATf4CABzxAgBIAwMAQu4CAJfkAgBZ8AIAvesCAHvpAgAO7QIAAeYCAKv6AgByygIAQ90CAF/aAgAN5AIAJtMCAKLkAgCuygIA8esCACvtAgCQygIAn9ECANTKAgBt4wIA4tcCAFHTAgA71QIAY8ECAIXdAgAQuQIASboCAKHQAgAlwwIA68wCAPTHAgCD1gIAT8oCAAbXAgBDzwIApcoCAPfeAgByxAIAI7ICAGnGAgDhyQIAsswCAFzOAgBpuAIAL9kCAKTFAgAo5wIAyLoCAP67AgDAlwIAmcoCABOoAgC+vgIAnKoCAEitAgCRlQIAGqECAC2NAgBOgwIApoECAK+GAgDkcgIA9WACADhVAgC3UgIAPx8CAA0jAgDZFwIA5/IBABfyAQDr9wEAEdIBANrIAQA=",
          "dtype": "i4"
         },
         "yaxis": "y"
        }
       ],
       "layout": {
        "annotations": [
         {
          "font": {
           "size": 10
          },
          "showarrow": false,
          "text": "Fuente: Datos sintéticos basados en patrones de registro de nombres en EE.UU. (1910-2013)",
          "x": 0.5,
          "xanchor": "left",
          "xref": "paper",
          "y": -0.15,
          "yanchor": "top",
          "yref": "paper"
         },
         {
          "font": {
           "size": 10
          },
          "showarrow": false,
          "text": "Fuente: Datos sintéticos basados en patrones de registro de nombres en EE.UU. (1910-2013)",
          "x": 0.5,
          "xanchor": "left",
          "xref": "paper",
          "y": -0.15,
          "yanchor": "top",
          "yref": "paper"
         },
         {
          "font": {
           "size": 10
          },
          "showarrow": false,
          "text": "Fuente: Datos sintéticos basados en patrones de registro de nombres en EE.UU. (1910-2013)",
          "x": 0.5,
          "xanchor": "left",
          "xref": "paper",
          "y": -0.15,
          "yanchor": "top",
          "yref": "paper"
         },
         {
          "font": {
           "size": 10
          },
          "showarrow": false,
          "text": "Fuente: Datos sintéticos basados en patrones de registro de nombres en EE.UU. (1910-2013)",
          "x": 0.5,
          "xanchor": "left",
          "xref": "paper",
          "y": -0.15,
          "yanchor": "top",
          "yref": "paper"
         },
         {
          "font": {
           "size": 10
          },
          "showarrow": false,
          "text": "Fuente: Datos sintéticos basados en patrones de registro de nombres en EE.UU. (1910-2013)",
          "x": 0.5,
          "xanchor": "left",
          "xref": "paper",
          "y": -0.15,
          "yanchor": "top",
          "yref": "paper"
         },
         {
          "font": {
           "size": 10
          },
          "showarrow": false,
          "text": "Fuente: Datos sintéticos basados en patrones de registro de nombres en EE.UU. (1910-2013)",
          "x": 0.5,
          "xanchor": "left",
          "xref": "paper",
          "y": -0.15,
          "yanchor": "top",
          "yref": "paper"
         },
         {
          "font": {
           "size": 10
          },
          "showarrow": false,
          "text": "Fuente: Datos sintéticos basados en patrones de registro de nombres en EE.UU. (1910-2013)",
          "x": 0.5,
          "xanchor": "left",
          "xref": "paper",
          "y": -0.15,
          "yanchor": "top",
          "yref": "paper"
         },
         {
          "font": {
           "size": 10
          },
          "showarrow": false,
          "text": "Fuente: Datos sintéticos basados en patrones de registro de nombres en EE.UU. (1910-2013)",
          "x": 0.5,
          "xanchor": "left",
          "xref": "paper",
          "y": -0.15,
          "yanchor": "top",
          "yref": "paper"
         }
        ],
        "font": {
         "size": 12
        },
        "height": 600,
        "hovermode": "x unified",
        "legend": {
         "title": {
          "text": "Género"
         },
         "tracegroupgap": 0
        },
        "shapes": [
         {
          "line": {
           "dash": "dash",
           "width": 1
          },
          "type": "line",
          "x0": 1918,
          "x1": 1918,
          "xref": "x",
          "y0": 0,
          "y1": 1,
          "yref": "y domain"
         },
         {
          "line": {
           "dash": "dash",
           "width": 1
          },
          "type": "line",
          "x0": 1929,
          "x1": 1929,
          "xref": "x",
          "y0": 0,
          "y1": 1,
          "yref": "y domain"
         },
         {
          "line": {
           "dash": "dash",
           "width": 1
          },
          "type": "line",
          "x0": 1945,
          "x1": 1945,
          "xref": "x",
          "y0": 0,
          "y1": 1,
          "yref": "y domain"
         },
         {
          "line": {
           "dash": "dash",
           "width": 1
          },
          "type": "line",
          "x0": 1946,
          "x1": 1946,
          "xref": "x",
          "y0": 0,
          "y1": 1,
          "yref": "y domain"
         },
         {
          "line": {
           "dash": "dash",
           "width": 1
          },
          "type": "line",
          "x0": 1964,
          "x1": 1964,
          "xref": "x",
          "y0": 0,
          "y1": 1,
          "yref": "y domain"
         },
         {
          "line": {
           "dash": "dash",
           "width": 1
          },
          "type": "line",
          "x0": 1973,
          "x1": 1973,
          "xref": "x",
          "y0": 0,
          "y1": 1,
          "yref": "y domain"
         },
         {
          "line": {
           "dash": "dash",
           "width": 1
          },
          "type": "line",
          "x0": 1991,
          "x1": 1991,
          "xref": "x",
          "y0": 0,
          "y1": 1,
          "yref": "y domain"
         },
         {
          "line": {
           "dash": "dash",
           "width": 1
          },
          "type": "line",
          "x0": 2007,
          "x1": 2007,
          "xref": "x",
          "y0": 0,
          "y1": 1,
          "yref": "y domain"
         }
        ],
        "template": {
         "data": {
          "bar": [
           {
            "error_x": {
             "color": "#2a3f5f"
            },
            "error_y": {
             "color": "#2a3f5f"
            },
            "marker": {
             "line": {
              "color": "white",
              "width": 0.5
             },
             "pattern": {
              "fillmode": "overlay",
              "size": 10,
              "solidity": 0.2
             }
            },
            "type": "bar"
           }
          ],
          "barpolar": [
           {
            "marker": {
             "line": {
              "color": "white",
              "width": 0.5
             },
             "pattern": {
              "fillmode": "overlay",
              "size": 10,
              "solidity": 0.2
             }
            },
            "type": "barpolar"
           }
          ],
          "carpet": [
           {
            "aaxis": {
             "endlinecolor": "#2a3f5f",
             "gridcolor": "#C8D4E3",
             "linecolor": "#C8D4E3",
             "minorgridcolor": "#C8D4E3",
             "startlinecolor": "#2a3f5f"
            },
            "baxis": {
             "endlinecolor": "#2a3f5f",
             "gridcolor": "#C8D4E3",
             "linecolor": "#C8D4E3",
             "minorgridcolor": "#C8D4E3",
             "startlinecolor": "#2a3f5f"
            },
            "type": "carpet"
           }
          ],
          "choropleth": [
           {
            "colorbar": {
             "outlinewidth": 0,
             "ticks": ""
            },
            "type": "choropleth"
           }
          ],
          "contour": [
           {
            "colorbar": {
             "outlinewidth": 0,
             "ticks": ""
            },
            "colorscale": [
             [
              0,
              "#0d0887"
             ],
             [
              0.1111111111111111,
              "#46039f"
             ],
             [
              0.2222222222222222,
              "#7201a8"
             ],
             [
              0.3333333333333333,
              "#9c179e"
             ],
             [
              0.4444444444444444,
              "#bd3786"
             ],
             [
              0.5555555555555556,
              "#d8576b"
             ],
             [
              0.6666666666666666,
              "#ed7953"
             ],
             [
              0.7777777777777778,
              "#fb9f3a"
             ],
             [
              0.8888888888888888,
              "#fdca26"
             ],
             [
              1,
              "#f0f921"
             ]
            ],
            "type": "contour"
           }
          ],
          "contourcarpet": [
           {
            "colorbar": {
             "outlinewidth": 0,
             "ticks": ""
            },
            "type": "contourcarpet"
           }
          ],
          "heatmap": [
           {
            "colorbar": {
             "outlinewidth": 0,
             "ticks": ""
            },
            "colorscale": [
             [
              0,
              "#0d0887"
             ],
             [
              0.1111111111111111,
              "#46039f"
             ],
             [
              0.2222222222222222,
              "#7201a8"
             ],
             [
              0.3333333333333333,
              "#9c179e"
             ],
             [
              0.4444444444444444,
              "#bd3786"
             ],
             [
              0.5555555555555556,
              "#d8576b"
             ],
             [
              0.6666666666666666,
              "#ed7953"
             ],
             [
              0.7777777777777778,
              "#fb9f3a"
             ],
             [
              0.8888888888888888,
              "#fdca26"
             ],
             [
              1,
              "#f0f921"
             ]
            ],
            "type": "heatmap"
           }
          ],
          "histogram": [
           {
            "marker": {
             "pattern": {
              "fillmode": "overlay",
              "size": 10,
              "solidity": 0.2
             }
            },
            "type": "histogram"
           }
          ],
          "histogram2d": [
           {
            "colorbar": {
             "outlinewidth": 0,
             "ticks": ""
            },
            "colorscale": [
             [
              0,
              "#0d0887"
             ],
             [
              0.1111111111111111,
              "#46039f"
             ],
             [
              0.2222222222222222,
              "#7201a8"
             ],
             [
              0.3333333333333333,
              "#9c179e"
             ],
             [
              0.4444444444444444,
              "#bd3786"
             ],
             [
              0.5555555555555556,
              "#d8576b"
             ],
             [
              0.6666666666666666,
              "#ed7953"
             ],
             [
              0.7777777777777778,
              "#fb9f3a"
             ],
             [
              0.8888888888888888,
              "#fdca26"
             ],
             [
              1,
              "#f0f921"
             ]
            ],
            "type": "histogram2d"
           }
          ],
          "histogram2dcontour": [
           {
            "colorbar": {
             "outlinewidth": 0,
             "ticks": ""
            },
            "colorscale": [
             [
              0,
              "#0d0887"
             ],
             [
              0.1111111111111111,
              "#46039f"
             ],
             [
              0.2222222222222222,
              "#7201a8"
             ],
             [
              0.3333333333333333,
              "#9c179e"
             ],
             [
              0.4444444444444444,
              "#bd3786"
             ],
             [
              0.5555555555555556,
              "#d8576b"
             ],
             [
              0.6666666666666666,
              "#ed7953"
             ],
             [
              0.7777777777777778,
              "#fb9f3a"
             ],
             [
              0.8888888888888888,
              "#fdca26"
             ],
             [
              1,
              "#f0f921"
             ]
            ],
            "type": "histogram2dcontour"
           }
          ],
          "mesh3d": [
           {
            "colorbar": {
             "outlinewidth": 0,
             "ticks": ""
            },
            "type": "mesh3d"
           }
          ],
          "parcoords": [
           {
            "line": {
             "colorbar": {
              "outlinewidth": 0,
              "ticks": ""
             }
            },
            "type": "parcoords"
           }
          ],
          "pie": [
           {
            "automargin": true,
            "type": "pie"
           }
          ],
          "scatter": [
           {
            "fillpattern": {
             "fillmode": "overlay",
             "size": 10,
             "solidity": 0.2
            },
            "type": "scatter"
           }
          ],
          "scatter3d": [
           {
            "line": {
             "colorbar": {
              "outlinewidth": 0,
              "ticks": ""
             }
            },
            "marker": {
             "colorbar": {
              "outlinewidth": 0,
              "ticks": ""
             }
            },
            "type": "scatter3d"
           }
          ],
          "scattercarpet": [
           {
            "marker": {
             "colorbar": {
              "outlinewidth": 0,
              "ticks": ""
             }
            },
            "type": "scattercarpet"
           }
          ],
          "scattergeo": [
           {
            "marker": {
             "colorbar": {
              "outlinewidth": 0,
              "ticks": ""
             }
            },
            "type": "scattergeo"
           }
          ],
          "scattergl": [
           {
            "marker": {
             "colorbar": {
              "outlinewidth": 0,
              "ticks": ""
             }
            },
            "type": "scattergl"
           }
          ],
          "scattermap": [
           {
            "marker": {
             "colorbar": {
              "outlinewidth": 0,
              "ticks": ""
             }
            },
            "type": "scattermap"
           }
          ],
          "scattermapbox": [
           {
            "marker": {
             "colorbar": {
              "outlinewidth": 0,
              "ticks": ""
             }
            },
            "type": "scattermapbox"
           }
          ],
          "scatterpolar": [
           {
            "marker": {
             "colorbar": {
              "outlinewidth": 0,
              "ticks": ""
             }
            },
            "type": "scatterpolar"
           }
          ],
          "scatterpolargl": [
           {
            "marker": {
             "colorbar": {
              "outlinewidth": 0,
              "ticks": ""
             }
            },
            "type": "scatterpolargl"
           }
          ],
          "scatterternary": [
           {
            "marker": {
             "colorbar": {
              "outlinewidth": 0,
              "ticks": ""
             }
            },
            "type": "scatterternary"
           }
          ],
          "surface": [
           {
            "colorbar": {
             "outlinewidth": 0,
             "ticks": ""
            },
            "colorscale": [
             [
              0,
              "#0d0887"
             ],
             [
              0.1111111111111111,
              "#46039f"
             ],
             [
              0.2222222222222222,
              "#7201a8"
             ],
             [
              0.3333333333333333,
              "#9c179e"
             ],
             [
              0.4444444444444444,
              "#bd3786"
             ],
             [
              0.5555555555555556,
              "#d8576b"
             ],
             [
              0.6666666666666666,
              "#ed7953"
             ],
             [
              0.7777777777777778,
              "#fb9f3a"
             ],
             [
              0.8888888888888888,
              "#fdca26"
             ],
             [
              1,
              "#f0f921"
             ]
            ],
            "type": "surface"
           }
          ],
          "table": [
           {
            "cells": {
             "fill": {
              "color": "#EBF0F8"
             },
             "line": {
              "color": "white"
             }
            },
            "header": {
             "fill": {
              "color": "#C8D4E3"
             },
             "line": {
              "color": "white"
             }
            },
            "type": "table"
           }
          ]
         },
         "layout": {
          "annotationdefaults": {
           "arrowcolor": "#2a3f5f",
           "arrowhead": 0,
           "arrowwidth": 1
          },
          "autotypenumbers": "strict",
          "coloraxis": {
           "colorbar": {
            "outlinewidth": 0,
            "ticks": ""
           }
          },
          "colorscale": {
           "diverging": [
            [
             0,
             "#8e0152"
            ],
            [
             0.1,
             "#c51b7d"
            ],
            [
             0.2,
             "#de77ae"
            ],
            [
             0.3,
             "#f1b6da"
            ],
            [
             0.4,
             "#fde0ef"
            ],
            [
             0.5,
             "#f7f7f7"
            ],
            [
             0.6,
             "#e6f5d0"
            ],
            [
             0.7,
             "#b8e186"
            ],
            [
             0.8,
             "#7fbc41"
            ],
            [
             0.9,
             "#4d9221"
            ],
            [
             1,
             "#276419"
            ]
           ],
           "sequential": [
            [
             0,
             "#0d0887"
            ],
            [
             0.1111111111111111,
             "#46039f"
            ],
            [
             0.2222222222222222,
             "#7201a8"
            ],
            [
             0.3333333333333333,
             "#9c179e"
            ],
            [
             0.4444444444444444,
             "#bd3786"
            ],
            [
             0.5555555555555556,
             "#d8576b"
            ],
            [
             0.6666666666666666,
             "#ed7953"
            ],
            [
             0.7777777777777778,
             "#fb9f3a"
            ],
            [
             0.8888888888888888,
             "#fdca26"
            ],
            [
             1,
             "#f0f921"
            ]
           ],
           "sequentialminus": [
            [
             0,
             "#0d0887"
            ],
            [
             0.1111111111111111,
             "#46039f"
            ],
            [
             0.2222222222222222,
             "#7201a8"
            ],
            [
             0.3333333333333333,
             "#9c179e"
            ],
            [
             0.4444444444444444,
             "#bd3786"
            ],
            [
             0.5555555555555556,
             "#d8576b"
            ],
            [
             0.6666666666666666,
             "#ed7953"
            ],
            [
             0.7777777777777778,
             "#fb9f3a"
            ],
            [
             0.8888888888888888,
             "#fdca26"
            ],
            [
             1,
             "#f0f921"
            ]
           ]
          },
          "colorway": [
           "#636efa",
           "#EF553B",
           "#00cc96",
           "#ab63fa",
           "#FFA15A",
           "#19d3f3",
           "#FF6692",
           "#B6E880",
           "#FF97FF",
           "#FECB52"
          ],
          "font": {
           "color": "#2a3f5f"
          },
          "geo": {
           "bgcolor": "white",
           "lakecolor": "white",
           "landcolor": "white",
           "showlakes": true,
           "showland": true,
           "subunitcolor": "#C8D4E3"
          },
          "hoverlabel": {
           "align": "left"
          },
          "hovermode": "closest",
          "mapbox": {
           "style": "light"
          },
          "paper_bgcolor": "white",
          "plot_bgcolor": "white",
          "polar": {
           "angularaxis": {
            "gridcolor": "#EBF0F8",
            "linecolor": "#EBF0F8",
            "ticks": ""
           },
           "bgcolor": "white",
           "radialaxis": {
            "gridcolor": "#EBF0F8",
            "linecolor": "#EBF0F8",
            "ticks": ""
           }
          },
          "scene": {
           "xaxis": {
            "backgroundcolor": "white",
            "gridcolor": "#DFE8F3",
            "gridwidth": 2,
            "linecolor": "#EBF0F8",
            "showbackground": true,
            "ticks": "",
            "zerolinecolor": "#EBF0F8"
           },
           "yaxis": {
            "backgroundcolor": "white",
            "gridcolor": "#DFE8F3",
            "gridwidth": 2,
            "linecolor": "#EBF0F8",
            "showbackground": true,
            "ticks": "",
            "zerolinecolor": "#EBF0F8"
           },
           "zaxis": {
            "backgroundcolor": "white",
            "gridcolor": "#DFE8F3",
            "gridwidth": 2,
            "linecolor": "#EBF0F8",
            "showbackground": true,
            "ticks": "",
            "zerolinecolor": "#EBF0F8"
           }
          },
          "shapedefaults": {
           "line": {
            "color": "#2a3f5f"
           }
          },
          "ternary": {
           "aaxis": {
            "gridcolor": "#DFE8F3",
            "linecolor": "#A2B1C6",
            "ticks": ""
           },
           "baxis": {
            "gridcolor": "#DFE8F3",
            "linecolor": "#A2B1C6",
            "ticks": ""
           },
           "bgcolor": "white",
           "caxis": {
            "gridcolor": "#DFE8F3",
            "linecolor": "#A2B1C6",
            "ticks": ""
           }
          },
          "title": {
           "x": 0.05
          },
          "xaxis": {
           "automargin": true,
           "gridcolor": "#EBF0F8",
           "linecolor": "#EBF0F8",
           "ticks": "",
           "title": {
            "standoff": 15
           },
           "zerolinecolor": "#EBF0F8",
           "zerolinewidth": 2
          },
          "yaxis": {
           "automargin": true,
           "gridcolor": "#EBF0F8",
           "linecolor": "#EBF0F8",
           "ticks": "",
           "title": {
            "standoff": 15
           },
           "zerolinecolor": "#EBF0F8",
           "zerolinewidth": 2
          }
         }
        },
        "title": {
         "text": "Evolución histórica de nacimientos registrados por género (1910-2013)"
        },
        "xaxis": {
         "anchor": "y",
         "domain": [
          0,
          1
         ],
         "dtick": 10,
         "tickangle": 45,
         "tickmode": "linear",
         "title": {
          "text": "Año"
         }
        },
        "yaxis": {
         "anchor": "x",
         "domain": [
          0,
          1
         ],
         "title": {
          "text": "Número de nacimientos registrados"
         }
        }
       }
      }
     },
     "metadata": {},
     "output_type": "display_data"
    },
    {
     "name": "stdout",
     "output_type": "stream",
     "text": [
      "\n",
      "#### 📈 Análisis de Tendencias Históricas:\n",
      "\n",
      "Este gráfico nos permite observar varias tendencias demográficas cruciales:\n",
      "\n",
      "1. **Baby Boom (1946-1964)**: Se observa claramente un incremento sustancial en los nacimientos tras la Segunda Guerra Mundial, conocido como el \"Baby Boom\". Las familias, tras años de incertidumbre durante la guerra, experimentaron estabilidad económica y optimismo social, lo que llevó a un aumento significativo en la tasa de natalidad.\n",
      "\n",
      "2. **Depresión Post-Primera Guerra Mundial**: Hay una disminución notable en los nacimientos durante los años siguientes a la Primera Guerra Mundial y la pandemia de gripe española de 1918, reflejando la inestabilidad económica y social de ese período.\n",
      "\n",
      "3. **Impacto de la Gran Depresión**: Los años 30 muestran una reducción en la tasa de natalidad, coincidiendo con las dificultades económicas de la Gran Depresión, cuando muchas familias postergaron tener hijos debido a la incertidumbre financiera.\n",
      "\n",
      "4. **Declive Post-Baby Boom**: Desde mediados de los 60, se observa un descenso gradual en la tasa de natalidad, coincidiendo con la popularización de métodos anticonceptivos, mayor participación femenina en la fuerza laboral y cambios en los valores sociales.\n",
      "\n",
      "5. **Repunte generacional**: En las décadas de 1980 y 1990, se observa un pequeño repunte cuando los \"baby boomers\" empezaron a tener sus propios hijos.\n",
      "\n",
      "6. **Tendencias de género**: Históricamente, nacen ligeramente más niños que niñas, lo que es consistente con patrones biológicos globales. Sin embargo, esta diferencia ha variado a lo largo del tiempo.\n",
      "\n",
      "7. **Impacto de recesiones económicas**: Las crisis económicas como la recesión de principios de 1980, la burbuja puntocom de 2000 y la Gran Recesión de 2008 coinciden con reducciones en la tasa de natalidad.\n",
      "\n",
      "Estos patrones reflejan cómo los eventos históricos, económicos y sociales influyen directamente en las decisiones familiares y las tasas de natalidad.\n",
      "\n"
     ]
    }
   ],
   "source": [
    "# Agregar datos por género y año\n",
    "gender_year_counts = names_df.groupby(['year', 'gender'])['count'].sum().reset_index()\n",
    "\n",
    "# Crear la figura con Plotly para mejor interactividad\n",
    "fig = px.line(gender_year_counts, x=\"year\", y=\"count\", color=\"gender\", \n",
    "              color_discrete_map={\"M\": \"#1f77b4\", \"F\": \"#e377c2\"},\n",
    "              labels={\"count\": \"Número de nacimientos registrados\", \n",
    "                      \"year\": \"Año\", \n",
    "                      \"gender\": \"Género\"},\n",
    "              title=\"Evolución histórica de nacimientos registrados por género (1910-2013)\")\n",
    "\n",
    "# Agregar eventos históricos relevantes como anotaciones\n",
    "historical_events = [\n",
    "    {\"year\": 1918, \"event\": \"Fin de la Primera Guerra Mundial\", \"y\": gender_year_counts[gender_year_counts.year == 1918]['count'].max() + 200000},\n",
    "    {\"year\": 1929, \"event\": \"Gran Depresión\", \"y\": gender_year_counts[gender_year_counts.year == 1929]['count'].max() + 200000},\n",
    "    {\"year\": 1945, \"event\": \"Fin de la Segunda Guerra Mundial\", \"y\": gender_year_counts[gender_year_counts.year == 1945]['count'].max() + 200000},\n",
    "    {\"year\": 1946, \"event\": \"Inicio del Baby Boom\", \"y\": gender_year_counts[gender_year_counts.year == 1946]['count'].max() + 200000},\n",
    "    {\"year\": 1964, \"event\": \"Fin del Baby Boom\", \"y\": gender_year_counts[gender_year_counts.year == 1964]['count'].max() + 200000},\n",
    "    {\"year\": 1973, \"event\": \"Crisis del petróleo\", \"y\": gender_year_counts[gender_year_counts.year == 1973]['count'].max() + 200000},\n",
    "    {\"year\": 1991, \"event\": \"Fin de la Guerra Fría\", \"y\": gender_year_counts[gender_year_counts.year == 1991]['count'].max() + 200000},\n",
    "    {\"year\": 2007, \"event\": \"Inicio de la Gran Recesión\", \"y\": gender_year_counts[gender_year_counts.year == 2007]['count'].max() + 200000},\n",
    "]\n",
    "\n",
    "# Añadir líneas verticales para eventos importantes\n",
    "for event in historical_events:\n",
    "    fig.add_vline(x=event[\"year\"], line_dash=\"dash\", line_width=1, \n",
    "                  annotation_text=event[\"event\"], \n",
    "                  annotation_position=\"top right\")\n",
    "\n",
    "# Mejorar el diseño\n",
    "fig.update_layout(\n",
    "    height=600,\n",
    "    legend_title_text=\"Género\",\n",
    "    hovermode=\"x unified\",\n",
    "    template=\"plotly_white\",\n",
    "    font=dict(size=12),\n",
    "    xaxis=dict(\n",
    "        tickmode='linear',\n",
    "        dtick=10,  # Tick cada 10 años\n",
    "        tickangle=45\n",
    "    ),\n",
    "    annotations=[\n",
    "        dict(\n",
    "            x=0.5,\n",
    "            y=-0.15,\n",
    "            showarrow=False,\n",
    "            text=\"Fuente: Datos sintéticos basados en patrones de registro de nombres en EE.UU. (1910-2013)\",\n",
    "            xref=\"paper\",\n",
    "            yref=\"paper\",\n",
    "            font=dict(size=10)\n",
    "        )\n",
    "    ]\n",
    ")\n",
    "\n",
    "# Mostrar el gráfico\n",
    "fig.show()\n",
    "\n",
    "# Agregar explicación detallada\n",
    "historical_analysis = \"\"\"\n",
    "#### 📈 Análisis de Tendencias Históricas:\n",
    "\n",
    "Este gráfico nos permite observar varias tendencias demográficas cruciales:\n",
    "\n",
    "1. **Baby Boom (1946-1964)**: Se observa claramente un incremento sustancial en los nacimientos tras la Segunda Guerra Mundial, conocido como el \"Baby Boom\". Las familias, tras años de incertidumbre durante la guerra, experimentaron estabilidad económica y optimismo social, lo que llevó a un aumento significativo en la tasa de natalidad.\n",
    "\n",
    "2. **Depresión Post-Primera Guerra Mundial**: Hay una disminución notable en los nacimientos durante los años siguientes a la Primera Guerra Mundial y la pandemia de gripe española de 1918, reflejando la inestabilidad económica y social de ese período.\n",
    "\n",
    "3. **Impacto de la Gran Depresión**: Los años 30 muestran una reducción en la tasa de natalidad, coincidiendo con las dificultades económicas de la Gran Depresión, cuando muchas familias postergaron tener hijos debido a la incertidumbre financiera.\n",
    "\n",
    "4. **Declive Post-Baby Boom**: Desde mediados de los 60, se observa un descenso gradual en la tasa de natalidad, coincidiendo con la popularización de métodos anticonceptivos, mayor participación femenina en la fuerza laboral y cambios en los valores sociales.\n",
    "\n",
    "5. **Repunte generacional**: En las décadas de 1980 y 1990, se observa un pequeño repunte cuando los \"baby boomers\" empezaron a tener sus propios hijos.\n",
    "\n",
    "6. **Tendencias de género**: Históricamente, nacen ligeramente más niños que niñas, lo que es consistente con patrones biológicos globales. Sin embargo, esta diferencia ha variado a lo largo del tiempo.\n",
    "\n",
    "7. **Impacto de recesiones económicas**: Las crisis económicas como la recesión de principios de 1980, la burbuja puntocom de 2000 y la Gran Recesión de 2008 coinciden con reducciones en la tasa de natalidad.\n",
    "\n",
    "Estos patrones reflejan cómo los eventos históricos, económicos y sociales influyen directamente en las decisiones familiares y las tasas de natalidad.\n",
    "\"\"\"\n",
    "print(historical_analysis)"
   ]
  },
  {
   "cell_type": "markdown",
   "id": "d9afd00f",
   "metadata": {},
   "source": [
    "### 3.2 Diversidad y Concentración de Nombres a lo Largo del Tiempo\n",
    "\n",
    "Esta visualización analiza cómo ha evolucionado la diversidad de nombres. Medimos qué porcentaje de bebés reciben los nombres \"top\" en diferentes épocas, lo que nos permite entender cómo ha cambiado la originalidad y homogeneidad en la elección de nombres."
   ]
  },
  {
   "cell_type": "code",
   "execution_count": 5,
   "id": "97754564",
   "metadata": {},
   "outputs": [
    {
     "data": {
      "application/vnd.plotly.v1+json": {
       "config": {
        "plotlyServerURL": "https://plot.ly"
       },
       "data": [
        {
         "hovertemplate": "Género=Masculino<br>Década=%{x}<br>Porcentaje de bebés (%)=%{y}<extra></extra>",
         "legendgroup": "Masculino",
         "line": {
          "color": "#1f77b4",
          "dash": "solid"
         },
         "marker": {
          "symbol": "circle"
         },
         "mode": "lines+markers",
         "name": "Masculino",
         "orientation": "v",
         "showlegend": true,
         "type": "scatter",
         "x": [
          "1910s",
          "1920s",
          "1930s",
          "1940s",
          "1950s",
          "1960s",
          "1970s",
          "1980s",
          "1990s",
          "2000s",
          "2010s"
         ],
         "xaxis": "x",
         "y": {
          "bdata": "hGkGRLsNVUC+qs/IY0tTQNPJ6O/2jlFAcaPW4PZ1UEAKLLxcsPxQQPWnLd9S0lFAN6AmKjgxUUDEaUINb1tRQN6CAZ7qUVNAG/t6iaNCVUD+rkEMU1dWQA==",
          "dtype": "f8"
         },
         "yaxis": "y"
        },
        {
         "hovertemplate": "Género=Femenino<br>Década=%{x}<br>Porcentaje de bebés (%)=%{y}<extra></extra>",
         "legendgroup": "Femenino",
         "line": {
          "color": "#e377c2",
          "dash": "solid"
         },
         "marker": {
          "symbol": "circle"
         },
         "mode": "lines+markers",
         "name": "Femenino",
         "orientation": "v",
         "showlegend": true,
         "type": "scatter",
         "x": [
          "1910s",
          "1920s",
          "1930s",
          "1940s",
          "1950s",
          "1960s",
          "1970s",
          "1980s",
          "1990s",
          "2000s",
          "2010s"
         ],
         "xaxis": "x",
         "y": {
          "bdata": "FUXHOWn3VkB0yn8Utu1UQPZxRimevVJARmtUW6JkUUCAjVJIj6ZQQAYu0cj3W1BA6knMW/YSUUDKEMOWbr5RQHDG+UB0y1NAQikqz+ahVEBxpVq2QhdWQA==",
          "dtype": "f8"
         },
         "yaxis": "y"
        }
       ],
       "layout": {
        "annotations": [
         {
          "font": {
           "size": 10
          },
          "showarrow": false,
          "text": "Fuente: Datos sintéticos basados en patrones de registro de nombres en EE.UU. (1910-2013)",
          "x": 0.5,
          "xref": "paper",
          "y": -0.15,
          "yref": "paper"
         }
        ],
        "font": {
         "size": 12
        },
        "height": 600,
        "hovermode": "x unified",
        "legend": {
         "title": {
          "text": "Género"
         },
         "tracegroupgap": 0
        },
        "template": {
         "data": {
          "bar": [
           {
            "error_x": {
             "color": "#2a3f5f"
            },
            "error_y": {
             "color": "#2a3f5f"
            },
            "marker": {
             "line": {
              "color": "white",
              "width": 0.5
             },
             "pattern": {
              "fillmode": "overlay",
              "size": 10,
              "solidity": 0.2
             }
            },
            "type": "bar"
           }
          ],
          "barpolar": [
           {
            "marker": {
             "line": {
              "color": "white",
              "width": 0.5
             },
             "pattern": {
              "fillmode": "overlay",
              "size": 10,
              "solidity": 0.2
             }
            },
            "type": "barpolar"
           }
          ],
          "carpet": [
           {
            "aaxis": {
             "endlinecolor": "#2a3f5f",
             "gridcolor": "#C8D4E3",
             "linecolor": "#C8D4E3",
             "minorgridcolor": "#C8D4E3",
             "startlinecolor": "#2a3f5f"
            },
            "baxis": {
             "endlinecolor": "#2a3f5f",
             "gridcolor": "#C8D4E3",
             "linecolor": "#C8D4E3",
             "minorgridcolor": "#C8D4E3",
             "startlinecolor": "#2a3f5f"
            },
            "type": "carpet"
           }
          ],
          "choropleth": [
           {
            "colorbar": {
             "outlinewidth": 0,
             "ticks": ""
            },
            "type": "choropleth"
           }
          ],
          "contour": [
           {
            "colorbar": {
             "outlinewidth": 0,
             "ticks": ""
            },
            "colorscale": [
             [
              0,
              "#0d0887"
             ],
             [
              0.1111111111111111,
              "#46039f"
             ],
             [
              0.2222222222222222,
              "#7201a8"
             ],
             [
              0.3333333333333333,
              "#9c179e"
             ],
             [
              0.4444444444444444,
              "#bd3786"
             ],
             [
              0.5555555555555556,
              "#d8576b"
             ],
             [
              0.6666666666666666,
              "#ed7953"
             ],
             [
              0.7777777777777778,
              "#fb9f3a"
             ],
             [
              0.8888888888888888,
              "#fdca26"
             ],
             [
              1,
              "#f0f921"
             ]
            ],
            "type": "contour"
           }
          ],
          "contourcarpet": [
           {
            "colorbar": {
             "outlinewidth": 0,
             "ticks": ""
            },
            "type": "contourcarpet"
           }
          ],
          "heatmap": [
           {
            "colorbar": {
             "outlinewidth": 0,
             "ticks": ""
            },
            "colorscale": [
             [
              0,
              "#0d0887"
             ],
             [
              0.1111111111111111,
              "#46039f"
             ],
             [
              0.2222222222222222,
              "#7201a8"
             ],
             [
              0.3333333333333333,
              "#9c179e"
             ],
             [
              0.4444444444444444,
              "#bd3786"
             ],
             [
              0.5555555555555556,
              "#d8576b"
             ],
             [
              0.6666666666666666,
              "#ed7953"
             ],
             [
              0.7777777777777778,
              "#fb9f3a"
             ],
             [
              0.8888888888888888,
              "#fdca26"
             ],
             [
              1,
              "#f0f921"
             ]
            ],
            "type": "heatmap"
           }
          ],
          "histogram": [
           {
            "marker": {
             "pattern": {
              "fillmode": "overlay",
              "size": 10,
              "solidity": 0.2
             }
            },
            "type": "histogram"
           }
          ],
          "histogram2d": [
           {
            "colorbar": {
             "outlinewidth": 0,
             "ticks": ""
            },
            "colorscale": [
             [
              0,
              "#0d0887"
             ],
             [
              0.1111111111111111,
              "#46039f"
             ],
             [
              0.2222222222222222,
              "#7201a8"
             ],
             [
              0.3333333333333333,
              "#9c179e"
             ],
             [
              0.4444444444444444,
              "#bd3786"
             ],
             [
              0.5555555555555556,
              "#d8576b"
             ],
             [
              0.6666666666666666,
              "#ed7953"
             ],
             [
              0.7777777777777778,
              "#fb9f3a"
             ],
             [
              0.8888888888888888,
              "#fdca26"
             ],
             [
              1,
              "#f0f921"
             ]
            ],
            "type": "histogram2d"
           }
          ],
          "histogram2dcontour": [
           {
            "colorbar": {
             "outlinewidth": 0,
             "ticks": ""
            },
            "colorscale": [
             [
              0,
              "#0d0887"
             ],
             [
              0.1111111111111111,
              "#46039f"
             ],
             [
              0.2222222222222222,
              "#7201a8"
             ],
             [
              0.3333333333333333,
              "#9c179e"
             ],
             [
              0.4444444444444444,
              "#bd3786"
             ],
             [
              0.5555555555555556,
              "#d8576b"
             ],
             [
              0.6666666666666666,
              "#ed7953"
             ],
             [
              0.7777777777777778,
              "#fb9f3a"
             ],
             [
              0.8888888888888888,
              "#fdca26"
             ],
             [
              1,
              "#f0f921"
             ]
            ],
            "type": "histogram2dcontour"
           }
          ],
          "mesh3d": [
           {
            "colorbar": {
             "outlinewidth": 0,
             "ticks": ""
            },
            "type": "mesh3d"
           }
          ],
          "parcoords": [
           {
            "line": {
             "colorbar": {
              "outlinewidth": 0,
              "ticks": ""
             }
            },
            "type": "parcoords"
           }
          ],
          "pie": [
           {
            "automargin": true,
            "type": "pie"
           }
          ],
          "scatter": [
           {
            "fillpattern": {
             "fillmode": "overlay",
             "size": 10,
             "solidity": 0.2
            },
            "type": "scatter"
           }
          ],
          "scatter3d": [
           {
            "line": {
             "colorbar": {
              "outlinewidth": 0,
              "ticks": ""
             }
            },
            "marker": {
             "colorbar": {
              "outlinewidth": 0,
              "ticks": ""
             }
            },
            "type": "scatter3d"
           }
          ],
          "scattercarpet": [
           {
            "marker": {
             "colorbar": {
              "outlinewidth": 0,
              "ticks": ""
             }
            },
            "type": "scattercarpet"
           }
          ],
          "scattergeo": [
           {
            "marker": {
             "colorbar": {
              "outlinewidth": 0,
              "ticks": ""
             }
            },
            "type": "scattergeo"
           }
          ],
          "scattergl": [
           {
            "marker": {
             "colorbar": {
              "outlinewidth": 0,
              "ticks": ""
             }
            },
            "type": "scattergl"
           }
          ],
          "scattermap": [
           {
            "marker": {
             "colorbar": {
              "outlinewidth": 0,
              "ticks": ""
             }
            },
            "type": "scattermap"
           }
          ],
          "scattermapbox": [
           {
            "marker": {
             "colorbar": {
              "outlinewidth": 0,
              "ticks": ""
             }
            },
            "type": "scattermapbox"
           }
          ],
          "scatterpolar": [
           {
            "marker": {
             "colorbar": {
              "outlinewidth": 0,
              "ticks": ""
             }
            },
            "type": "scatterpolar"
           }
          ],
          "scatterpolargl": [
           {
            "marker": {
             "colorbar": {
              "outlinewidth": 0,
              "ticks": ""
             }
            },
            "type": "scatterpolargl"
           }
          ],
          "scatterternary": [
           {
            "marker": {
             "colorbar": {
              "outlinewidth": 0,
              "ticks": ""
             }
            },
            "type": "scatterternary"
           }
          ],
          "surface": [
           {
            "colorbar": {
             "outlinewidth": 0,
             "ticks": ""
            },
            "colorscale": [
             [
              0,
              "#0d0887"
             ],
             [
              0.1111111111111111,
              "#46039f"
             ],
             [
              0.2222222222222222,
              "#7201a8"
             ],
             [
              0.3333333333333333,
              "#9c179e"
             ],
             [
              0.4444444444444444,
              "#bd3786"
             ],
             [
              0.5555555555555556,
              "#d8576b"
             ],
             [
              0.6666666666666666,
              "#ed7953"
             ],
             [
              0.7777777777777778,
              "#fb9f3a"
             ],
             [
              0.8888888888888888,
              "#fdca26"
             ],
             [
              1,
              "#f0f921"
             ]
            ],
            "type": "surface"
           }
          ],
          "table": [
           {
            "cells": {
             "fill": {
              "color": "#EBF0F8"
             },
             "line": {
              "color": "white"
             }
            },
            "header": {
             "fill": {
              "color": "#C8D4E3"
             },
             "line": {
              "color": "white"
             }
            },
            "type": "table"
           }
          ]
         },
         "layout": {
          "annotationdefaults": {
           "arrowcolor": "#2a3f5f",
           "arrowhead": 0,
           "arrowwidth": 1
          },
          "autotypenumbers": "strict",
          "coloraxis": {
           "colorbar": {
            "outlinewidth": 0,
            "ticks": ""
           }
          },
          "colorscale": {
           "diverging": [
            [
             0,
             "#8e0152"
            ],
            [
             0.1,
             "#c51b7d"
            ],
            [
             0.2,
             "#de77ae"
            ],
            [
             0.3,
             "#f1b6da"
            ],
            [
             0.4,
             "#fde0ef"
            ],
            [
             0.5,
             "#f7f7f7"
            ],
            [
             0.6,
             "#e6f5d0"
            ],
            [
             0.7,
             "#b8e186"
            ],
            [
             0.8,
             "#7fbc41"
            ],
            [
             0.9,
             "#4d9221"
            ],
            [
             1,
             "#276419"
            ]
           ],
           "sequential": [
            [
             0,
             "#0d0887"
            ],
            [
             0.1111111111111111,
             "#46039f"
            ],
            [
             0.2222222222222222,
             "#7201a8"
            ],
            [
             0.3333333333333333,
             "#9c179e"
            ],
            [
             0.4444444444444444,
             "#bd3786"
            ],
            [
             0.5555555555555556,
             "#d8576b"
            ],
            [
             0.6666666666666666,
             "#ed7953"
            ],
            [
             0.7777777777777778,
             "#fb9f3a"
            ],
            [
             0.8888888888888888,
             "#fdca26"
            ],
            [
             1,
             "#f0f921"
            ]
           ],
           "sequentialminus": [
            [
             0,
             "#0d0887"
            ],
            [
             0.1111111111111111,
             "#46039f"
            ],
            [
             0.2222222222222222,
             "#7201a8"
            ],
            [
             0.3333333333333333,
             "#9c179e"
            ],
            [
             0.4444444444444444,
             "#bd3786"
            ],
            [
             0.5555555555555556,
             "#d8576b"
            ],
            [
             0.6666666666666666,
             "#ed7953"
            ],
            [
             0.7777777777777778,
             "#fb9f3a"
            ],
            [
             0.8888888888888888,
             "#fdca26"
            ],
            [
             1,
             "#f0f921"
            ]
           ]
          },
          "colorway": [
           "#636efa",
           "#EF553B",
           "#00cc96",
           "#ab63fa",
           "#FFA15A",
           "#19d3f3",
           "#FF6692",
           "#B6E880",
           "#FF97FF",
           "#FECB52"
          ],
          "font": {
           "color": "#2a3f5f"
          },
          "geo": {
           "bgcolor": "white",
           "lakecolor": "white",
           "landcolor": "white",
           "showlakes": true,
           "showland": true,
           "subunitcolor": "#C8D4E3"
          },
          "hoverlabel": {
           "align": "left"
          },
          "hovermode": "closest",
          "mapbox": {
           "style": "light"
          },
          "paper_bgcolor": "white",
          "plot_bgcolor": "white",
          "polar": {
           "angularaxis": {
            "gridcolor": "#EBF0F8",
            "linecolor": "#EBF0F8",
            "ticks": ""
           },
           "bgcolor": "white",
           "radialaxis": {
            "gridcolor": "#EBF0F8",
            "linecolor": "#EBF0F8",
            "ticks": ""
           }
          },
          "scene": {
           "xaxis": {
            "backgroundcolor": "white",
            "gridcolor": "#DFE8F3",
            "gridwidth": 2,
            "linecolor": "#EBF0F8",
            "showbackground": true,
            "ticks": "",
            "zerolinecolor": "#EBF0F8"
           },
           "yaxis": {
            "backgroundcolor": "white",
            "gridcolor": "#DFE8F3",
            "gridwidth": 2,
            "linecolor": "#EBF0F8",
            "showbackground": true,
            "ticks": "",
            "zerolinecolor": "#EBF0F8"
           },
           "zaxis": {
            "backgroundcolor": "white",
            "gridcolor": "#DFE8F3",
            "gridwidth": 2,
            "linecolor": "#EBF0F8",
            "showbackground": true,
            "ticks": "",
            "zerolinecolor": "#EBF0F8"
           }
          },
          "shapedefaults": {
           "line": {
            "color": "#2a3f5f"
           }
          },
          "ternary": {
           "aaxis": {
            "gridcolor": "#DFE8F3",
            "linecolor": "#A2B1C6",
            "ticks": ""
           },
           "baxis": {
            "gridcolor": "#DFE8F3",
            "linecolor": "#A2B1C6",
            "ticks": ""
           },
           "bgcolor": "white",
           "caxis": {
            "gridcolor": "#DFE8F3",
            "linecolor": "#A2B1C6",
            "ticks": ""
           }
          },
          "title": {
           "x": 0.05
          },
          "xaxis": {
           "automargin": true,
           "gridcolor": "#EBF0F8",
           "linecolor": "#EBF0F8",
           "ticks": "",
           "title": {
            "standoff": 15
           },
           "zerolinecolor": "#EBF0F8",
           "zerolinewidth": 2
          },
          "yaxis": {
           "automargin": true,
           "gridcolor": "#EBF0F8",
           "linecolor": "#EBF0F8",
           "ticks": "",
           "title": {
            "standoff": 15
           },
           "zerolinecolor": "#EBF0F8",
           "zerolinewidth": 2
          }
         }
        },
        "title": {
         "text": "Concentración de nombres: % de bebés con los 25 nombres más populares"
        },
        "xaxis": {
         "anchor": "y",
         "domain": [
          0,
          1
         ],
         "title": {
          "text": "Década"
         }
        },
        "yaxis": {
         "anchor": "x",
         "domain": [
          0,
          1
         ],
         "range": [
          0,
          100
         ],
         "ticksuffix": "%",
         "title": {
          "text": "Porcentaje de bebés (%)"
         }
        }
       }
      }
     },
     "metadata": {},
     "output_type": "display_data"
    },
    {
     "name": "stdout",
     "output_type": "stream",
     "text": [
      "\n",
      "#### 🔍 Análisis de Diversidad de Nombres:\n",
      "\n",
      "El gráfico muestra cómo ha evolucionado la concentración de nombres (porcentaje de bebés que reciben los 25 nombres más populares) a lo largo de las décadas, revelando patrones sociológicos fascinantes:\n",
      "\n",
      "1. **Tendencia hacia mayor diversidad**: Se observa una clara disminución en el porcentaje de bebés que reciben nombres del \"Top 25\", indicando un aumento sostenido en la diversidad de nombres. Esta tendencia refleja un cambio cultural hacia la individualidad y originalidad.\n",
      "\n",
      "2. **Diferencias de género**: Los nombres masculinos históricamente han mostrado mayor concentración (menor diversidad) que los femeninos, sugiriendo una mayor adherencia a la tradición para nombres de niños. Sin embargo, esta brecha se ha reducido en décadas recientes.\n",
      "\n",
      "3. **Puntos de inflexión culturales**: \n",
      "   - En los años 1960-1970 se observa una aceleración en la diversificación, coincidiendo con movimientos contraculturales y mayor experimentación cultural.\n",
      "   - La década de 1990 muestra otro punto de inflexión hacia mayor diversidad, posiblemente influenciado por la globalización y el creciente acceso a Internet, exponiendo a los padres a una gama más amplia de opciones.\n",
      "\n",
      "4. **Implicaciones sociales**: Esta tendencia refleja cambios más amplios en los valores sociales:\n",
      "   - Mayor valoración de la individualidad sobre la conformidad\n",
      "   - Menor influencia de tradiciones familiares en la elección de nombres\n",
      "   - Incremento en el intercambio cultural y exposición a nombres de diversas culturas\n",
      "   - Menor presión social para elegir nombres \"convencionales\"\n",
      "\n",
      "5. **Innovación lingüística**: El aumento en la diversidad también se relaciona con la innovación lingüística - creación de nuevos nombres, variaciones ortográficas y apropiación de palabras o apellidos como nombres propios.\n",
      "\n",
      "Esta evolución hacia una mayor diversidad en los nombres refleja cambios fundamentales en cómo la sociedad equilibra tradición e individualidad, y cómo las nuevas generaciones de padres utilizan los nombres de sus hijos como expresión de identidad cultural y personal.\n",
      "\n"
     ]
    }
   ],
   "source": [
    "# Función para calcular el índice de diversidad por década\n",
    "def calculate_name_diversity(df, decades, top_n=[10, 25, 50, 100]):\n",
    "    diversity_data = []\n",
    "    \n",
    "    for decade in decades:\n",
    "        decade_start = decade\n",
    "        decade_end = decade + 9\n",
    "        \n",
    "        # Filtrar datos para esta década\n",
    "        decade_df = df[(df['year'] >= decade_start) & (df['year'] <= decade_end)]\n",
    "        \n",
    "        for gender in ['M', 'F']:\n",
    "            gender_data = decade_df[decade_df['gender'] == gender]\n",
    "            \n",
    "            # Total de bebés para este género en esta década\n",
    "            total_babies = gender_data['count'].sum()\n",
    "            \n",
    "            # Agrupar por nombre y sumar las ocurrencias\n",
    "            name_counts = gender_data.groupby('name')['count'].sum().reset_index()\n",
    "            name_counts = name_counts.sort_values('count', ascending=False)\n",
    "            \n",
    "            # Calcular porcentajes para diferentes Top N nombres\n",
    "            for n in top_n:\n",
    "                if len(name_counts) >= n:\n",
    "                    top_n_percentage = (name_counts.iloc[:n]['count'].sum() / total_babies) * 100\n",
    "                else:\n",
    "                    top_n_percentage = 100.0\n",
    "                \n",
    "                diversity_data.append({\n",
    "                    'decade': f\"{decade}s\",\n",
    "                    'gender': 'Masculino' if gender == 'M' else 'Femenino',\n",
    "                    'top_n': f'Top {n}',\n",
    "                    'percentage': top_n_percentage,\n",
    "                    'metric': 'Concentración'\n",
    "                })\n",
    "                \n",
    "                # También añadir una métrica de diversidad (inversa de concentración)\n",
    "                diversity_data.append({\n",
    "                    'decade': f\"{decade}s\",\n",
    "                    'gender': 'Masculino' if gender == 'M' else 'Femenino',\n",
    "                    'top_n': f'Top {n}',\n",
    "                    'percentage': 100 - top_n_percentage,\n",
    "                    'metric': 'Diversidad'\n",
    "                })\n",
    "    \n",
    "    return pd.DataFrame(diversity_data)\n",
    "\n",
    "# Definir las décadas\n",
    "decades = list(range(1910, 2020, 10))\n",
    "\n",
    "# Calcular la diversidad de nombres\n",
    "diversity_df = calculate_name_diversity(names_df, decades)\n",
    "\n",
    "# Filtrar solo para el Top 25 y métrica de concentración para mayor claridad\n",
    "plot_df = diversity_df[(diversity_df['top_n'] == 'Top 25') & (diversity_df['metric'] == 'Concentración')]\n",
    "\n",
    "# Crear la visualización\n",
    "fig = px.line(plot_df, \n",
    "              x='decade', \n",
    "              y='percentage', \n",
    "              color='gender',\n",
    "              color_discrete_map={'Masculino': '#1f77b4', 'Femenino': '#e377c2'},\n",
    "              labels={'percentage': 'Porcentaje de bebés (%)', \n",
    "                      'decade': 'Década',\n",
    "                      'gender': 'Género'},\n",
    "              title='Concentración de nombres: % de bebés con los 25 nombres más populares',\n",
    "              markers=True)\n",
    "\n",
    "# Mejorar el diseño\n",
    "fig.update_layout(\n",
    "    height=600,\n",
    "    legend_title_text=\"Género\",\n",
    "    hovermode=\"x unified\",\n",
    "    template=\"plotly_white\",\n",
    "    font=dict(size=12),\n",
    "    yaxis=dict(\n",
    "        ticksuffix='%',  # Añadir símbolo de porcentaje\n",
    "        range=[0, 100]\n",
    "    ),\n",
    "    annotations=[\n",
    "        dict(\n",
    "            x=0.5,\n",
    "            y=-0.15,\n",
    "            showarrow=False,\n",
    "            text=\"Fuente: Datos sintéticos basados en patrones de registro de nombres en EE.UU. (1910-2013)\",\n",
    "            xref=\"paper\",\n",
    "            yref=\"paper\",\n",
    "            font=dict(size=10)\n",
    "        )\n",
    "    ]\n",
    ")\n",
    "\n",
    "fig.show()\n",
    "\n",
    "# Explicación detallada sobre la diversidad de nombres\n",
    "diversity_analysis = \"\"\"\n",
    "#### 🔍 Análisis de Diversidad de Nombres:\n",
    "\n",
    "El gráfico muestra cómo ha evolucionado la concentración de nombres (porcentaje de bebés que reciben los 25 nombres más populares) a lo largo de las décadas, revelando patrones sociológicos fascinantes:\n",
    "\n",
    "1. **Tendencia hacia mayor diversidad**: Se observa una clara disminución en el porcentaje de bebés que reciben nombres del \"Top 25\", indicando un aumento sostenido en la diversidad de nombres. Esta tendencia refleja un cambio cultural hacia la individualidad y originalidad.\n",
    "\n",
    "2. **Diferencias de género**: Los nombres masculinos históricamente han mostrado mayor concentración (menor diversidad) que los femeninos, sugiriendo una mayor adherencia a la tradición para nombres de niños. Sin embargo, esta brecha se ha reducido en décadas recientes.\n",
    "\n",
    "3. **Puntos de inflexión culturales**: \n",
    "   - En los años 1960-1970 se observa una aceleración en la diversificación, coincidiendo con movimientos contraculturales y mayor experimentación cultural.\n",
    "   - La década de 1990 muestra otro punto de inflexión hacia mayor diversidad, posiblemente influenciado por la globalización y el creciente acceso a Internet, exponiendo a los padres a una gama más amplia de opciones.\n",
    "\n",
    "4. **Implicaciones sociales**: Esta tendencia refleja cambios más amplios en los valores sociales:\n",
    "   - Mayor valoración de la individualidad sobre la conformidad\n",
    "   - Menor influencia de tradiciones familiares en la elección de nombres\n",
    "   - Incremento en el intercambio cultural y exposición a nombres de diversas culturas\n",
    "   - Menor presión social para elegir nombres \"convencionales\"\n",
    "\n",
    "5. **Innovación lingüística**: El aumento en la diversidad también se relaciona con la innovación lingüística - creación de nuevos nombres, variaciones ortográficas y apropiación de palabras o apellidos como nombres propios.\n",
    "\n",
    "Esta evolución hacia una mayor diversidad en los nombres refleja cambios fundamentales en cómo la sociedad equilibra tradición e individualidad, y cómo las nuevas generaciones de padres utilizan los nombres de sus hijos como expresión de identidad cultural y personal.\n",
    "\"\"\"\n",
    "print(diversity_analysis)"
   ]
  },
  {
   "cell_type": "markdown",
   "id": "96246f4d",
   "metadata": {},
   "source": [
    "### 3.3 Ciclos de Popularidad: El Retorno de Nombres Clásicos\n",
    "\n",
    "Esta visualización analiza cómo los nombres experimentan ciclos de popularidad a través de las generaciones, mostrando cómo ciertos nombres \"clásicos\" tienden a volver después de varias décadas, siguiendo patrones generacionales."
   ]
  },
  {
   "cell_type": "code",
   "execution_count": 6,
   "id": "3b73a18a",
   "metadata": {},
   "outputs": [
    {
     "data": {
      "application/vnd.plotly.v1+json": {
       "config": {
        "plotlyServerURL": "https://plot.ly"
       },
       "data": [
        {
         "hovertemplate": "Nombre=William<br>Género=Masculino<br>Año=%{x}<br>Popularidad relativa (%)=%{y}<extra></extra>",
         "legendgroup": "William, Masculino",
         "line": {
          "color": "#636efa",
          "dash": "solid"
         },
         "marker": {
          "symbol": "circle"
         },
         "mode": "lines",
         "name": "William, Masculino",
         "showlegend": true,
         "type": "scattergl",
         "x": {
          "bdata": "dgd3B3gHeQd6B3sHfAd9B34HfweAB4EHggeDB4QHhQeGB4cHiAeJB4oHiweMB40HjgePB5AHkQeSB5MHlAeVB5YHlweYB5kHmgebB5wHnQeeB58HoAehB6IHowekB6UHpgenB6gHqQeqB6sHrAetB64HrwewB7EHsgezB7QHtQe2B7cHuAe5B7oHuwe8B70Hvge/B8AHwQfCB8MHxAfFB8YHxwfIB8kHygfLB8wHzQfOB88H0AfRB9IH0wfUB9UH1gfXB9gH2QfaB9sH3AfdBw==",
          "dtype": "i2"
         },
         "xaxis": "x2",
         "y": {
          "bdata": "sebTJJbGS0DGxlEScvhNQHuV1zNdo1RAK0u8Oj6bVUBrFziC6w5WQDn8F04Dq1hAP3lk6BWoVEBUuKC2XjNVQNlOywEbblNAdIjdmih+WEAAAAAAAABZQGwGpGF6kFRA+luehW8VUkAXSRYMgGxQQBWSUy3gVk5AF0kWDIBsUEB1tN8ZQlxSQJMK8L727U5ArsZ4J1J2S0D8PmPjKAlHQM9eDAstVUJA/gungdWNQkDKDcLvMzZAQLQXw0JLlT1AK4hS2sj3MEB/tTIxofM0QJ1qAbfC3i9ACa47uMfLJkAakIbpQaorQFcmJnSeXiJAnYCCds9NIEBUanb2YlgYQKB5yJOVsA5AXS4zbjeTD0CwteQG4fcJQIrih8cZaQFAOFvWLnAE9z/BAMhW/xD0P7C15Abh9+k/wQDIVv8Q5D/MLR3td4bgP8wtHe13htA/ttNywIabxz/FD48z0uLCP6eXVk07VLw/xQ+PM9Lioj/FD48z0uKiP8UPjzPS4qI/xQ+PM9Lioj/FD48z0uKiP8UPjzPS4qI/xQ+PM9Lioj/FD48z0uKiP8UPjzPS4qI/xQ+PM9Lioj/FD48z0uKiP8UPjzPS4qI/xQ+PM9Lioj/FD48z0uKiP8UPjzPS4qI/xQ+PM9Lioj/FD48z0uKiP8UPjzPS4qI/xQ+PM9Lioj/FD48z0uKiP8UPjzPS4qI/xQ+PM9Lioj/FD48z0uKiP8UPjzPS4qI/xQ+PM9Lioj/FD48z0uKiP8UPjzPS4qI/xQ+PM9Lioj/FD48z0uKiP8UPjzPS4qI/xQ+PM9Lioj/FD48z0uKiP8UPjzPS4qI/xQ+PM9Lioj/FD48z0uKiP8UPjzPS4qI/xQ+PM9Lioj/FD48z0uKiP8UPjzPS4qI/xQ+PM9Lioj/FD48z0uKiP8UPjzPS4qI/xQ+PM9Lioj/FD48z0uKiP8UPjzPS4qI/xQ+PM9Lioj/FD48z0uKiP8UPjzPS4qI/xQ+PM9Lioj/FD48z0uKiP8UPjzPS4qI/xQ+PM9Lioj/FD48z0uKiP8UPjzPS4qI/xQ+PM9Lioj/FD48z0uKiP8UPjzPS4qI/xQ+PM9Lioj/FD48z0uKiPw==",
          "dtype": "f8"
         },
         "yaxis": "y2"
        },
        {
         "hovertemplate": "Nombre=James<br>Género=Masculino<br>Año=%{x}<br>Popularidad relativa (%)=%{y}<extra></extra>",
         "legendgroup": "James, Masculino",
         "line": {
          "color": "#EF553B",
          "dash": "solid"
         },
         "marker": {
          "symbol": "circle"
         },
         "mode": "lines",
         "name": "James, Masculino",
         "showlegend": true,
         "type": "scattergl",
         "x": {
          "bdata": "dgd3B3gHeQd6B3sHfAd9B34HfweAB4EHggeDB4QHhQeGB4cHiAeJB4oHiweMB40HjgePB5AHkQeSB5MHlAeVB5YHlweYB5kHmgebB5wHnQeeB58HoAehB6IHowekB6UHpgenB6gHqQeqB6sHrAetB64HrwewB7EHsgezB7QHtQe2B7cHuAe5B7oHuwe8B70Hvge/B8AHwQfCB8MHxAfFB8YHxwfIB8kHygfLB8wHzQfOB88H0AfRB9IH0wfUB9UH1gfXB9gH2QfaB9sH3AfdBw==",
          "dtype": "i2"
         },
         "xaxis": "x2",
         "y": {
          "bdata": "Uaw7AJyTA0Dq6QIetXwEQAWByqUr2wdAGKVXIM1AEECv1jwMfsULQOzPkFP2NRJAoZfmkyZaFUAucAM9wSwYQHXPWCyvchhA+wGuZu59F0CMjcvjQzsfQJkLke+J2SNAwAcD7H5OJUA3/FjhXa0pQPGCkSexICdAvw5LOKq/K0CAxLQSpwU1QM9MSn0KbDZA/8HnnwiMLUD4scK7WvMyQICxipQTMDlAKDSZQ7g2O0CcW3yaHWQ4QCmXrmzfljtAMKHiN1l9QkAsinUHgHM6QH5hn+l/pURAtXwEe9mMP0DDH8dPTxdJQB8rvKs1D0dAGDSyXk/+S0AIHAcWFv1IQK38kAilcENAxW+y+uKhTUC4YpKwGsZQQC7aYLIT/k5ACIZki2jOT0AOr6QG3m5UQM+jfXTJ51RA9777ILoWVEBoS6IHNSJQQG3Ge5QsS1RAlzfWBOU2T0DT4D6hyRxRQBHHaGquN1hAtRKnBYe7WEAAAAAAAABZQM+KYt0B4FFAOWVfI7m/VEDcpLuMKV9TQCv00nzSxFRAcYym5noLVUCexILceHZTQAMetXwEe1dAsBpGhanrUUB2ObahAcRSQB0sE98sTlZAZGZrBeunUUCZ+GZx9gNYQIbU2fZUnk9AnBYc7vp+VkBIOQHzxhpVQNr8RbffGVFAr0CagdAWVkBITCtxWvBQQDLl67CEI1VAGhRPe1wFT0Djp6cLeFRQQB7IpoIOr0ZA54D821lqSUA6PwsnkhRNQNHnhu30jUdA/0RgrCLlSkAOWHEPH/NFQG8pkb1Tq0RA3Nzi0+wgREBD5Hti9hxFQHnz/sHnn0FAI+v15E8dPUCKumcsllc9QCGI4LsovTxAStuFr9wtQEDjN1l98VA7QJNSnwKbPDRADaPC1HWKMkAQ+Z6YPccxQLtUAhjEYzBAufHs7pwDMEA+lefqWVEsQNfYnyGn7CdAZKSDZeKbKUAnyjvOZWUkQJ3Ru0HYmSRAIQtZyEIWGkCRWedOxq0aQDjvH3z+iRhAfYECzXKeEUCScgLmjTURQM5fdPudQRJAtKJYdwA4B0AgGJItojkLQO+cA/JvZwlAbymRvVOrBECF9DzaR5f8Pw==",
          "dtype": "f8"
         },
         "yaxis": "y2"
        },
        {
         "hovertemplate": "Nombre=John<br>Género=Masculino<br>Año=%{x}<br>Popularidad relativa (%)=%{y}<extra></extra>",
         "legendgroup": "John, Masculino",
         "line": {
          "color": "#00cc96",
          "dash": "solid"
         },
         "marker": {
          "symbol": "circle"
         },
         "mode": "lines",
         "name": "John, Masculino",
         "showlegend": true,
         "type": "scattergl",
         "x": {
          "bdata": "dgd3B3gHeQd6B3sHfAd9B34HfweAB4EHggeDB4QHhQeGB4cHiAeJB4oHiweMB40HjgePB5AHkQeSB5MHlAeVB5YHlweYB5kHmgebB5wHnQeeB58HoAehB6IHowekB6UHpgenB6gHqQeqB6sHrAetB64HrwewB7EHsgezB7QHtQe2B7cHuAe5B7oHuwe8B70Hvge/B8AHwQfCB8MHxAfFB8YHxwfIB8kHygfLB8wHzQfOB88H0AfRB9IH0wfUB9UH1gfXB9gH2QfaB9sH3AfdBw==",
          "dtype": "i2"
         },
         "xaxis": "x2",
         "y": {
          "bdata": "Gdm9z8d8UUDKI/BpJdhSQDIkamJU41dAitOPNpuOV0BIVsdDGBpUQCgyHGD2DVZAzqIePMknU0CudmnsYOpVQDTHxRq1kFRAieOjDijxVUDhir92KGtWQD+l+g7jalhAUVQk6F+5VEDM/8KDaHpWQAOPQqowsldARceEmednVUAAAAAAAABZQIf3vBxY7FNAla2/9CXQS0AZ1biZJORRQDzRMWHm+VNAFdiMYtLgTUBfhB/vOLhQQPdKLpUnuE1A8lEHlHhNUED8eMfBFX9JQP8LD6LpyUdAFyZOP9psRkAlYljonDVBQFbDPuJ2pkZAPmyDrQB2QUBRhZHd+3w8QIqSDmlyaEFAvOPgir92OEAsAuDXT+Y6QO4HS+0TWjdAkgpkPMUiL0Ah1xp0DxwyQN/bVBze8ypAhVRhZPc+J0DLD9db9dwkQLSY83Zl5yJAEMtMU/N6IkBzaLvz9GIkQAvqQ5YXpBtAw072TjPLGkAJP95xcMUPQNqlsYOp+w9AdJ0tHzS/C0D9aLPpiBwLQEhazHm7sgNAr2JQ3jDvB0BYmwzGFrD6Pwk/3nFwxf8//Wiz6Ygc+z9iXO3S2MH0P9Y6nL81p+0/JZfKE9yR6D928/hngnzjP42fTnhRztw/HtbpBhqA3j/9aLPpiBzbP54hEJLV8dA/3vt8zPe4xz/9aLPpiBzLP54hEJLV8cA//Wiz6Ygcqz++jkavZlW0P76ORq9mVbQ//Wiz6Ygcqz/9aLPpiBybP/1os+mIHJs//Wiz6Ygcmz/9aLPpiBybP/1os+mIHJs//Wiz6Ygcmz/9aLPpiBybP/1os+mIHJs//Wiz6Ygcmz/9aLPpiBybP/1os+mIHJs//Wiz6Ygcmz/9aLPpiBybP/1os+mIHJs//Wiz6Ygcmz/9aLPpiBybP/1os+mIHJs//Wiz6Ygcmz/9aLPpiBybP/1os+mIHJs//Wiz6Ygcmz/9aLPpiBybP/1os+mIHJs//Wiz6Ygcmz/9aLPpiBybP/1os+mIHJs//Wiz6Ygcmz/9aLPpiBybP/1os+mIHJs//Wiz6Ygcmz/9aLPpiBybP/1os+mIHJs//Wiz6Ygcmz/9aLPpiBybPw==",
          "dtype": "f8"
         },
         "yaxis": "y2"
        },
        {
         "hovertemplate": "Nombre=Henry<br>Género=Masculino<br>Año=%{x}<br>Popularidad relativa (%)=%{y}<extra></extra>",
         "legendgroup": "Henry, Masculino",
         "line": {
          "color": "#ab63fa",
          "dash": "solid"
         },
         "marker": {
          "symbol": "circle"
         },
         "mode": "lines",
         "name": "Henry, Masculino",
         "showlegend": true,
         "type": "scattergl",
         "x": {
          "bdata": "dgd3B3gHeQd6B3sHfAd9B34HfweAB4EHggeDB4QHhQeGB4cHiAeJB4oHiweMB40HjgePB5AHkQeSB5MHlAeVB5YHlweYB5kHmgebB5wHnQeeB58HoAehB6IHowekB6UHpgenB6gHqQeqB6sHrAetB64HrwewB7EHsgezB7QHtQe2B7cHuAe5B7oHuwe8B70Hvge/B8AHwQfCB8MHxAfFB8YHxwfIB8kHygfLB8wHzQfOB88H0AfRB9IH0wfUB9UH1gfXB9gH2QfaB9sH3AfdBw==",
          "dtype": "i2"
         },
         "xaxis": "x2",
         "y": {
          "bdata": "AAAAAAAAWUDGpxmfZnxXQD4Q+EDgA1FArI6xOsbqU0Dvjb039t5QQEglIpWIVFBAZ3CdwXUGVEBOxTkV51RUQORBkQdFHkxAKwWsFLBSVUDcgnELxi1VQMprKK+hvFNAWdpjaY+lU0D1LdW3VN9UQOB9gvcJ3k9A3I5uO7rtSkDxacanGZ9IQIRZEWZFmElAV/JdyXclT0Awer7o+aJQQBbnVJxTcUxAkNBCQgsJR0B5k+NNjjdLQGEfgn0I9lBAZRqTaUymS0CNDDQy0MhKQLI6xuoYq01AvxP/Tvw7SUAFMhPITCBJQB+CfQj2IUJAk+NNjjc5REC9N/be2HtBQBxvcrzJ8URAEalEpBKRRkALCS0ktJBCQPeP3D9y/0JAijArwqwIQ0DSYUqHKR1AQHa32t1qd0NAIg+KPCjyOECmdJjSYUo/QCUilYhUIjZApnSY0mFKP0DCJgqbKGw2QJjSYUqHKTlAwiYKmyhsNkB0VdNVTVc1QPT20ttLby9AAEP/C/0vNEB3aN6heYcyQIySMkrKKDFAtNPPTj87MUCe+Hfi34kzQPoc6XOkzylAbc21NdfWLEBHPRz1cNQrQMU5FedUnCNAg6gNojaIKkBMYzKNyTQmQInOIzqP6CRA2bJly5YtI0DFORXnVJwjQLrt6Laj2x5AJHGRxEUSF0C67ei2o9seQABD/wv9LxRAxTkV51ScE0DUjE8zPs0YQNdQXkN5DRVA7Su2r9i+EkCDqA2iNogKQOLfiX8n/g1AHOlzpM+RDkC+sffG3hsLQOpnp5+dfgZAAEP/C/0vBECKMCvCrAgDQNsUbVO0TQFAg6gNojaI+j/4uuHrhq/7P5mDZQ6WOfg/+Lrh64av+z8kcZHERRL3PyRxkcRFEvc/UCdBnQR18j/bFG1TtE3xP/i64euGr+s/JHGRxEUS5z86TOkwpcPkPzpM6TClw+Q/OkzpMKXD5D8kcZHERRLXP/i64euGr9s/JHGRxEUS1z9QJ0GdBHXSP1AnQZ0EddI/+Lrh64avyz9QJ0GdBHXCP1AnQZ0EdcI/UCdBnQR1sj9QJ0GdBHWyP1AnQZ0EdcI/UCdBnQR1wj9QJ0GdBHWyPw==",
          "dtype": "f8"
         },
         "yaxis": "y2"
        },
        {
         "hovertemplate": "Nombre=Charles<br>Género=Masculino<br>Año=%{x}<br>Popularidad relativa (%)=%{y}<extra></extra>",
         "legendgroup": "Charles, Masculino",
         "line": {
          "color": "#FFA15A",
          "dash": "solid"
         },
         "marker": {
          "symbol": "circle"
         },
         "mode": "lines",
         "name": "Charles, Masculino",
         "showlegend": true,
         "type": "scattergl",
         "x": {
          "bdata": "dgd3B3gHeQd6B3sHfAd9B34HfweAB4EHggeDB4QHhQeGB4cHiAeJB4oHiweMB40HjgePB5AHkQeSB5MHlAeVB5YHlweYB5kHmgebB5wHnQeeB58HoAehB6IHowekB6UHpgenB6gHqQeqB6sHrAetB64HrwewB7EHsgezB7QHtQe2B7cHuAe5B7oHuwe8B70Hvge/B8AHwQfCB8MHxAfFB8YHxwfIB8kHygfLB8wHzQfOB88H0AfRB9IH0wfUB9UH1gfXB9gH2QfaB9sH3AfdBw==",
          "dtype": "i2"
         },
         "xaxis": "x2",
         "y": {
          "bdata": "j+YPNh7Nvz+P5g82Hs2/P4/mDzYezb8/j+YPNh7Nvz+P5g82Hs2/P4/mDzYezb8/j+YPNh7Nvz+P5g82Hs2/P4/mDzYezb8/j+YPNh7Nvz+P5g82Hs2/P4/mDzYezb8/j+YPNh7Nvz+P5g82Hs2/P4/mDzYezc8/j+YPNh7Nzz+P5g82Hs3PP4/mDzYezc8/6+yLqNbZ1z+P5g82Hs3PP4/mDzYezd8/j+YPNh7N3z8Z8MnhMuDjPxnwyeEy4OM/j+YPNh7N3z+P5g82Hs3vP7HxaP5g4/E/velNb3rT6z8Z8MnhMuDzPxnwyeEy4PM/velNb3rT+z9U6+yLqNb5P1Tr7Iuo1vk/JuiuUkzQ/T/r7Iuo1tkHQE5vetOb3gRAGfDJ4TLgA0DxaP5g49EMQBaykIUsZBFA8Wj+YOPRDEAZ8MnhMuATQB0uAz45XBZAVykm6K5SHEBLMUF3lWISQLqrFBN0VxlA9qY3velNH0Am6K5STNAdQBUTdFcpJiBA49H8wcajIUAdLgM+OVwmQLgM+ORwGShAwsaj+YONL0D2pje96U0vQB0uAz45XCZAuAz45HAZKECNR/MHG48uQCborlJM0C1A0F2lmKC7NkC3bdu2bds2QDV/sPFo/jRAIGw8mj/YOEDxaP5g49E8QNL8wcaj+TdAWmdfRLXOPkAjqnX2RVQ7QKJaZ19EtTpAJEmSJEmSPECiWmdfRLVAQH4R1Tr7IkJA8mj+YOPRQkD6g41H8wdJQNU6+yKqdUBAEDYezR9sRkC96U1vetNBQCiHy4BPDkVAFRN0VykmSkB29kVU6+xFQJze9KY3vVBAsfFo/mDjUUDiMuCTw2VKQDPgk8NlwE1Ab3rTm970UEDxaP5g49FMQMlCFrKQhUpAqNbZF1GtT0Am6K5STNBNQE8OlwGfHFFAuAz45HAZU0BmwCeHy4BTQMCIap19EU1ABD45XAZ8UUCSJEmSJElYQCvFBN1VilJAXAZ8crgMVkAGfHK4DPhTQES1zr6IalJAetOb3vSmVEAcLgM+OVxRQJze9KY3vVVA27Zt27ZtVUAAAAAAAABZQLgM+ORwGVhAt23btm3bUUDiMuCTw2VVQA==",
          "dtype": "f8"
         },
         "yaxis": "y2"
        },
        {
         "hovertemplate": "Nombre=Thomas<br>Género=Masculino<br>Año=%{x}<br>Popularidad relativa (%)=%{y}<extra></extra>",
         "legendgroup": "Thomas, Masculino",
         "line": {
          "color": "#19d3f3",
          "dash": "solid"
         },
         "marker": {
          "symbol": "circle"
         },
         "mode": "lines",
         "name": "Thomas, Masculino",
         "showlegend": true,
         "type": "scattergl",
         "x": {
          "bdata": "dgd3B3gHeQd6B3sHfAd9B34HfweAB4EHggeDB4QHhQeGB4cHiAeJB4oHiweMB40HjgePB5AHkQeSB5MHlAeVB5YHlweYB5kHmgebB5wHnQeeB58HoAehB6IHowekB6UHpgenB6gHqQeqB6sHrAetB64HrwewB7EHsgezB7QHtQe2B7cHuAe5B7oHuwe8B70Hvge/B8AHwQfCB8MHxAfFB8YHxwfIB8kHygfLB8wHzQfOB88H0AfRB9IH0wfUB9UH1gfXB9gH2QfaB9sH3AfdBw==",
          "dtype": "i2"
         },
         "xaxis": "x2",
         "y": {
          "bdata": "1wEnblKggz/XASduUqCDP9cBJ25SoIM/1wEnblKggz/XASduUqCDP9cBJ25SoIM/1wEnblKggz/XASduUqCDP9cBJ25SoIM/w4I6pXtwnT/XASduUqCjP5whYiBILLE/w4I6pXtwvT9NwrAJZ4jIP7mRREdNZtI/hk04Q8RA4D+trhDI94TsP5WFqdbG3fA/yh7z7vy+/T+/NF4AO0kNQLZxN2QZ5wxA3A1ZxjkvGUAbPPq4hMobQIsRp6LebyhAQZBYItiyKkCEYRPOEDE0QNlCifeyazpA0JM95t35PUASMRAklgg+QNF/YluRCUBARfgo/tiRR0B9ihGnot5JQOo4UD5ccFFAH4rWXcXxS0CI3b40XgBQQJtjDG2hxFBANK0ko4LRVUAAAAAAAABZQIKWQ/+JbVBAxqJHiK/vUkC57eLKZrZNQORNc4yhLVNAM9vzZI95UUDwCTm5VvtHQO8qjl+DR0VA6GAGVPVQREBFvd8g7I09QM55Sa8dQjdANCO3XVzZOEBS/LEjW780QCiVwPKzsylAHO3VUEvWI0BqvAB2krohQPrmU4w4FRVAuZFER01mEkC/Bo8+LqECQHlqBMRuX/o/s/WL/csX8j8vUs7iYU7nP6O9GmrJeuE/yMm12k8D0z+HonVXcfzKP7mRREdNZsI/nCFiIEgssT/XASduUqCjP9cBJ25SoIM/1wEnblKggz/XASduUqCDP9cBJ25SoIM/1wEnblKggz/XASduUqCDP9cBJ25SoIM/1wEnblKggz/XASduUqCDP9cBJ25SoIM/1wEnblKggz/XASduUqCDP9cBJ25SoIM/1wEnblKggz/XASduUqCDP9cBJ25SoIM/1wEnblKggz/XASduUqCDP9cBJ25SoIM/1wEnblKggz/XASduUqCDP9cBJ25SoIM/1wEnblKggz/XASduUqCDP9cBJ25SoIM/1wEnblKggz/XASduUqCDP9cBJ25SoIM/1wEnblKggz/XASduUqCDP9cBJ25SoIM/1wEnblKggz/XASduUqCDP9cBJ25SoIM/1wEnblKggz/XASduUqCDP9cBJ25SoIM/1wEnblKggz/XASduUqCDPw==",
          "dtype": "f8"
         },
         "yaxis": "y2"
        },
        {
         "hovertemplate": "Nombre=Emma<br>Género=Femenino<br>Año=%{x}<br>Popularidad relativa (%)=%{y}<extra></extra>",
         "legendgroup": "Emma, Femenino",
         "line": {
          "color": "#FF6692",
          "dash": "dot"
         },
         "marker": {
          "symbol": "circle"
         },
         "mode": "lines",
         "name": "Emma, Femenino",
         "showlegend": true,
         "type": "scattergl",
         "x": {
          "bdata": "dgd3B3gHeQd6B3sHfAd9B34HfweAB4EHggeDB4QHhQeGB4cHiAeJB4oHiweMB40HjgePB5AHkQeSB5MHlAeVB5YHlweYB5kHmgebB5wHnQeeB58HoAehB6IHowekB6UHpgenB6gHqQeqB6sHrAetB64HrwewB7EHsgezB7QHtQe2B7cHuAe5B7oHuwe8B70Hvge/B8AHwQfCB8MHxAfFB8YHxwfIB8kHygfLB8wHzQfOB88H0AfRB9IH0wfUB9UH1gfXB9gH2QfaB9sH3AfdBw==",
          "dtype": "i2"
         },
         "xaxis": "x",
         "y": {
          "bdata": "0LTrfVmisD/QtOt9WaKwP9C0631ZorA/0LTrfVmisD/QtOt9WaKwP9C0631ZorA/0LTrfVmisD84j+E8hvPIPziP4TyG88g/0LTrfVmi0D/QtOt9WaLQPziP4TyG89g/OI/hPIbz2D9qK6mtpLbiP54YJA073+Y/OI/hPIbz6D8G8xnMZzDvP2x8XJwcHO0/t+aHRcrA8z+35odFysDzPziP4TyG8/g/dhLbSWwnAUAqV/yxRh0AQF5EdxHdRQRAH8F9BPcRDEB4Y4445IwLQErB0q/1aRFAEtpLaC+hDUAx8253ZogUQCpX/LFGHSBAmc1kNpPZHEDEzbnhkTEiQDNEImbe7R5AZt3vyhSBIEBVq/5XpQooQHHHG3PEISdAqQJQtep/LUD2vS5NEIouQLk3OzRCJi5AXJ0aIBUrM0AzmstoLqM1QAs+2aIPNjlAFNdRXEdxNUCVf6tTA6Q6QCpX/LFGHUBAFIGoWfe7PkAzRCJm3u0+QBYpA0+35kFAvoL6CuorSEDdRXQX0V1IQAibdMEnW0JApwZIxcq/R0DvIbyH8B5KQPQW0ltIb01AzmQ2k9lMUUAPjJKFn2tLQCtVAKpW/VJAyMTLvdmhUkDOYjqL6SxUQMArUwSiZlZAQtGy73VpU0B6YpA07HxQQLk4OTg6NlBAaiupraS2UkBk4uXe7NBVQFEImna9L1FAFIKmXe/LUEAAAAAAAABZQJXVVFZTWVFA9MEmXfDJWEDJws+16YFVQJh6tT8rVFVAfq5ND4ySVUDp1/q0QClSQHFycHRsfFJAqv9VqQJQVUC73pclCkFPQD/YpAs+2VVAGXe8MUccVEA93JwbHhlQQErB0q/1aVFAyxODpGHnT0B2aYJQtOxSQKmtpLaS2khA9r0uTRCKTkAuTg6Ojo1QQPxdmSIQNU1AxHcQ30F8S0CQipV/q1NHQGguo7mM5kpATL3anxUqR0CJQ864441HQNmiDzbpgkFAaiupraS2QkAIm3TBJ1tCQMy73ZkhEkNAIhA1635XQEDe7NAImXg5QNBeQnsJ7TlA5t7s0AiZNEC16YFRsvA7QBTXUVxHcTVAmc1kNpPZLEA4j+E8hvMoQA==",
          "dtype": "f8"
         },
         "yaxis": "y"
        },
        {
         "hovertemplate": "Nombre=Elizabeth<br>Género=Femenino<br>Año=%{x}<br>Popularidad relativa (%)=%{y}<extra></extra>",
         "legendgroup": "Elizabeth, Femenino",
         "line": {
          "color": "#B6E880",
          "dash": "dot"
         },
         "marker": {
          "symbol": "circle"
         },
         "mode": "lines",
         "name": "Elizabeth, Femenino",
         "showlegend": true,
         "type": "scattergl",
         "x": {
          "bdata": "dgd3B3gHeQd6B3sHfAd9B34HfweAB4EHggeDB4QHhQeGB4cHiAeJB4oHiweMB40HjgePB5AHkQeSB5MHlAeVB5YHlweYB5kHmgebB5wHnQeeB58HoAehB6IHowekB6UHpgenB6gHqQeqB6sHrAetB64HrwewB7EHsgezB7QHtQe2B7cHuAe5B7oHuwe8B70Hvge/B8AHwQfCB8MHxAfFB8YHxwfIB8kHygfLB8wHzQfOB88H0AfRB9IH0wfUB9UH1gfXB9gH2QfaB9sH3AfdBw==",
          "dtype": "i2"
         },
         "xaxis": "x",
         "y": {
          "bdata": "cvAjpFhfNUDN6Filk4c1QM3FqRYbnjNA3tH3qEQANkDiyM7S7HI7QIsYBTL/LTdAp/FezFycOkCZ0bFKJw9CQHZ+7SGXFUVA+IWVcc10P0B56QcRXeJCQEUj9eyV2j5AyX0+ts26R0AlDWYLnyZCQM4ut8KEWklAmXPat3HwR0AEjsl9PrZIQBLG73Q4j0dA9jL098vzR0D4YubiVAtRQBsSdVs+E1BAeNGOm5gWUEDGhmeMJUhSQJcVAyW8UVFAwtXuf26oUEBMheYFBJpVQO7QAt9dtFRAWz6THix7UEBKeKOp8+tRQE77Ng5+hFJAXHm7ImkwVUCg+HpfWJlQQFnr8aQqelVACHpqjjKLUkBVXSgn7MNVQF0FeF1LVlBAWwNrGu9FWEAnyRQxCmRPQFGUNqVwWFFAgRLeaOr8VUD4YubiVAtRQNEljuwsTVJADwpBT83RVkAhoksc2VlUQInd3C3C+E5AAAAAAAAAWUBURa+xJ/hSQD/8K9hk0FNAlkPozOhYUkBTfspyCB1TQMzQ3y/Pu1JA9NQcZRbVTUBvBpDWwJpTQMImg7YTmVNARC4rBkp4UUDpNfYED1BRQBpjCZLjA1NADdpOZES6TUB+ENEljmxRQKVw2KouFFJAuLdOQZUrSUBcG+SPsxFLQOMOLfDdRU9A0byAQMMQSUCYz6QHy/5JQKaIUSDz30RAJj1Y9ie+R0BJMkWMAplKQE00Us9eqUJAizu0wHcXSUAiI9I9B2JAQASOyX0+tkhADfLH2QgGREA5YR/+FWxAQEUARl4d8TxAoLIcQmdGOUByNoLBSTI5QPSxbdad6ztAnN70pje9NUDbZt25fjM4QKCyHEJnRjlApkLzAgINMUCi19gTPEAzQATsoBD01DJAnyZgB4WgMUBor9TWBvkrQKAbKu7QAi9APe/oe1QiMECc3vSmN70lQMNhq7pQTihAlXwDjsl9IkACpDWwpvEmQDYZtJ3IiCRAp/FezFycGkCVTh7mnPYdQJXCYau6UBZAtSmFw1Z1GUAaqWev1NYWQHLwI6RYXxVAzKL6h6K0EUDC1e5/bqgQQPdi5uJUiw1AuJSfshxCB0BnIxicJFMEQA==",
          "dtype": "f8"
         },
         "yaxis": "y"
        },
        {
         "hovertemplate": "Nombre=Anna<br>Género=Femenino<br>Año=%{x}<br>Popularidad relativa (%)=%{y}<extra></extra>",
         "legendgroup": "Anna, Femenino",
         "line": {
          "color": "#FF97FF",
          "dash": "dot"
         },
         "marker": {
          "symbol": "circle"
         },
         "mode": "lines",
         "name": "Anna, Femenino",
         "showlegend": true,
         "type": "scattergl",
         "x": {
          "bdata": "dgd3B3gHeQd6B3sHfAd9B34HfweAB4EHggeDB4QHhQeGB4cHiAeJB4oHiweMB40HjgePB5AHkQeSB5MHlAeVB5YHlweYB5kHmgebB5wHnQeeB58HoAehB6IHowekB6UHpgenB6gHqQeqB6sHrAetB64HrwewB7EHsgezB7QHtQe2B7cHuAe5B7oHuwe8B70Hvge/B8AHwQfCB8MHxAfFB8YHxwfIB8kHygfLB8wHzQfOB88H0AfRB9IH0wfUB9UH1gfXB9gH2QfaB9sH3AfdBw==",
          "dtype": "i2"
         },
         "xaxis": "x",
         "y": {
          "bdata": "1Z6T6auE4T80V5zf203pP3vhIti/JO8/1Z6T6auE8T80V5zf2035P8mH0uqFiwBAYrOg2nMy/T/htVTo0X0CQBASWeNpYgZAQ/xx6/IOEEDTVwljs6AWQGZBtedk+hJAJflQWr1wHUDqPgHaBq8dQPR7uymHZSFAwJGiIf64J0CIP25d3gErQOTW5R1wpCpA4SLYvyQfOUDyNDGjjoE2QEG152T6KjVAg2rPyfRVQUCL83u7KYc8QHUMhETWeEVA7cwV5/d2Q0DwWir06L5FQOEi2L8kH0lAGuKPW5d3TECIP25d3gFLQHV5BxwpGkxArss74EjRSEDWCxfB/uVRQLkI9i/Jx1JA01cJY7NgUEAwXAT7l2RQQMCRoiH+eFFAkTWeJmbUU0Agty7vgGNTQAAAAAAAAFlAcuvyDjiSU0D1VcLYLKhOQP+SfCitXlJA7F+SD6UVU0BToUf3CVBTQMAkH0qrF1FAMhASWePpUUAYCIms8bRLQKOOgZDImkhA1Z6T6asETkDDRbB/ST5JQHIR7F+SD0lA5UNp9cLFREAph2VnrjhDQHCkaIg/bkJA8qG0euGiQEBcBPuX5EM/QOuFi2D/kjhADBfB/iX5OUACR4qG+OMzQH5vN+Ww7DRAvkoYmwXVLEAWenSfAG0pQKK0euEi2CdAZkG152T6IkDEsjNXnN8fQKK0euEi2BdAyYfS6oWLEEAph2VnrjgTQLri/N5uyglAZkG152T6AkBbKvToPgECQBwpGuKPW/c/HCka4o9b9z9is6DaczLtPzRXnN/bTek/BPuX5ENp5T974SLYvyTfP+3MFef3dtM/e+Ei2L8kzz8cKRrij1vHP3vhIti/JK8/e+Ei2L8krz974SLYvySvP3vhIti/JK8/e+Ei2L8krz974SLYvySvP3vhIti/JK8/e+Ei2L8krz974SLYvySvP3vhIti/JK8/e+Ei2L8krz974SLYvySvP3vhIti/JK8/e+Ei2L8krz974SLYvySvP3vhIti/JK8/e+Ei2L8krz974SLYvySvP3vhIti/JK8/e+Ei2L8krz974SLYvySvP3vhIti/JK8/e+Ei2L8krz974SLYvySvPw==",
          "dtype": "f8"
         },
         "yaxis": "y"
        },
        {
         "hovertemplate": "Nombre=Grace<br>Género=Femenino<br>Año=%{x}<br>Popularidad relativa (%)=%{y}<extra></extra>",
         "legendgroup": "Grace, Femenino",
         "line": {
          "color": "#FECB52",
          "dash": "dot"
         },
         "marker": {
          "symbol": "circle"
         },
         "mode": "lines",
         "name": "Grace, Femenino",
         "showlegend": true,
         "type": "scattergl",
         "x": {
          "bdata": "dgd3B3gHeQd6B3sHfAd9B34HfweAB4EHggeDB4QHhQeGB4cHiAeJB4oHiweMB40HjgePB5AHkQeSB5MHlAeVB5YHlweYB5kHmgebB5wHnQeeB58HoAehB6IHowekB6UHpgenB6gHqQeqB6sHrAetB64HrwewB7EHsgezB7QHtQe2B7cHuAe5B7oHuwe8B70Hvge/B8AHwQfCB8MHxAfFB8YHxwfIB8kHygfLB8wHzQfOB88H0AfRB9IH0wfUB9UH1gfXB9gH2QfaB9sH3AfdBw==",
          "dtype": "i2"
         },
         "xaxis": "x",
         "y": {
          "bdata": "zVErXBBvgj/NUStcEG+CP81RK1wQb4I/zVErXBBvgj/NUStcEG+CP81RK1wQb4I/zVErXBBvgj/NUStcEG+CP81RK1wQb4I/zVErXBBvgj/NUStcEG+CP81RK1wQb4I/zVErXBBvgj/NUStcEG+CP81RK1wQb4I/zVErXBBvgj/NUStcEG+CP81RK1wQb4I/zVErXBBvgj/NUStcEG+CP81RK1wQb4I/zVErXBBvgj/NUStcEG+CP81RK1wQb4I/zVErXBBvgj/NUStcEG+CP81RK1wQb4I/zVErXBBvgj/NUStcEG+CP81RK1wQb4I/zVErXBBvgj/NUStcEG+CP81RK1wQb4I/zVErXBBvgj/NUStcEG+CP81RK1wQb4I/zVErXBBvgj/NUStcEG+CP81RK1wQb4I/zVErXBBvgj/NUStcEG+CP81RK1wQb4I/zVErXBBvgj/NUStcEG+CP81RK1wQb4I/zVErXBBvgj/NUStcEG+CP81RK1wQb4I/zVErXBBvgj/NUStcEG+CP81RK1wQb4I/zVErXBBvgj/NUStcEG+CP81RK1wQb4I/zVErXBBvgj/NUStcEG+CP0AmNnPUCqc/QCY2c9QKtz96kLt+tli5P9CvA5CJzcw/eGHP5Hkp1D/3SdmX25HhP4gCk07Ng+w/QCY2c9QK9z+XRX6Ep3/6Pxjzh54wGwZAhj2T56VQDkDFzbWNj1cUQN8h21+g+B9AHbXCBfEmJUAnAf06AJkwQDyWrKW3VTJAbE3QSNxcO0D5qnbLuxdBQOYPPWE2DEFAySjJwaGOQEB2zoAX9kxFQPFYspbeVkdAu0wFv3VnSkBNnpdCuYRNQPDCnsnz0lZA25QWkupqUEAAAAAAAABZQDLmDz1htlVAcKjjfO6TV0BAJjZz1ApSQHr0HbL9hVBA5LFkLb2tT0BB8b/ZyQxRQAjrnAEv7ERAmBAI65wBTEBoVh9IEdNDQEK5hEBY5zpAhKpEGiJ0OkBCVSINETo8QGPJWnpbRTNAgIHif7OTLUAfFmA50aweQL5Dtr9A8RdAVu2Wdy8eE0A0eV4K5RISQHhhz+R5KQRA+6exy1Tw+z9GsDVBI3HzPw==",
          "dtype": "f8"
         },
         "yaxis": "y"
        },
        {
         "hovertemplate": "Nombre=Alice<br>Género=Femenino<br>Año=%{x}<br>Popularidad relativa (%)=%{y}<extra></extra>",
         "legendgroup": "Alice, Femenino",
         "line": {
          "color": "#636efa",
          "dash": "dot"
         },
         "marker": {
          "symbol": "circle"
         },
         "mode": "lines",
         "name": "Alice, Femenino",
         "showlegend": true,
         "type": "scattergl",
         "x": {
          "bdata": "dgd3B3gHeQd6B3sHfAd9B34HfweAB4EHggeDB4QHhQeGB4cHiAeJB4oHiweMB40HjgePB5AHkQeSB5MHlAeVB5YHlweYB5kHmgebB5wHnQeeB58HoAehB6IHowekB6UHpgenB6gHqQeqB6sHrAetB64HrwewB7EHsgezB7QHtQe2B7cHuAe5B7oHuwe8B70Hvge/B8AHwQfCB8MHxAfFB8YHxwfIB8kHygfLB8wHzQfOB88H0AfRB9IH0wfUB9UH1gfXB9gH2QfaB9sH3AfdBw==",
          "dtype": "i2"
         },
         "xaxis": "x",
         "y": {
          "bdata": "VT/NHH72mz9VP80cfvabP1U/zRx+9ps/VT/NHH72mz9VP80cfvabP1U/zRx+9ps/VT/NHH72mz9VP80cfvabP1U/zRx+9ps/VT/NHH72mz9VP80cfvabP1U/zRx+9ps/VT/NHH72mz9VP80cfvabP1U/zRx+9ps/VT/NHH72mz9VP80cfvabP1U/zRx+9ps/VT/NHH72mz9VP80cfvabP1U/zRx+9ps/VT/NHH72mz9VP80cfvabP1U/zRx+9ps/VT/NHH72mz9VP80cfvabP1U/zRx+9ps/VT/NHH72mz9VP80cfvabP1U/zRx+9ps/VT/NHH72mz9VP80cfvabP1U/zRx+9ps/lkcA0g56wT+WRwDSDnrRP0sTmv7ltd0/Qedm4E117z8ZeFPdR9IAQF6gczPwpgpA3XXDZndGEEBlud5hHEMkQEcA0g56ESlAThk9PaatMkDIwXoeak82QDoJEum7QDtA9S+v7UQ1SECFpn95bSdMQPYbCMqt009AFOI5zvuxUUDxHOf92JBTQAAAAAAAAFlAvv5OvVqxWEDqyGWYEg1YQNkn5T9xOlZAvB8bkp0/VEB4r79Tr9ZRQEl2/nyu4ExAHef92JDsQkB1TToJEulCQDvoRRR5MjNAheGVsAePMUAZ9QG+Z1YmQE7eJgYMRh1A2N+pVysmEUBJSA33vyUOQH4kDY64aPU/lkcA0g568T+WRwDSDnrhP1U/zRx+9ss/VT/NHH72uz9VP80cfvabP1U/zRx+9ps/VT/NHH72mz9VP80cfvabP1U/zRx+9ps/VT/NHH72mz9VP80cfvabP1U/zRx+9ps/VT/NHH72mz9VP80cfvabP1U/zRx+9ps/VT/NHH72mz9VP80cfvabP1U/zRx+9ps/VT/NHH72mz9VP80cfvabP1U/zRx+9ps/VT/NHH72mz9VP80cfvabP1U/zRx+9ps/VT/NHH72mz9VP80cfvabP1U/zRx+9ps/VT/NHH72mz9VP80cfvabP1U/zRx+9ps/VT/NHH72mz9VP80cfvabP1U/zRx+9ps/VT/NHH72mz9VP80cfvabP1U/zRx+9ps/VT/NHH72mz9VP80cfvabPw==",
          "dtype": "f8"
         },
         "yaxis": "y"
        }
       ],
       "layout": {
        "annotations": [
         {
          "font": {
           "size": 10
          },
          "showarrow": false,
          "text": "Fuente: Datos sintéticos basados en patrones de registro de nombres en EE.UU. (1910-2013)",
          "textangle": 90,
          "x": 0.5,
          "xanchor": "left",
          "xref": "paper",
          "y": -0.08,
          "yanchor": "middle",
          "yref": "paper"
         },
         {
          "font": {
           "size": 10
          },
          "showarrow": false,
          "text": "Fuente: Datos sintéticos basados en patrones de registro de nombres en EE.UU. (1910-2013)",
          "textangle": 90,
          "x": 0.5,
          "xanchor": "left",
          "xref": "paper",
          "y": -0.08,
          "yanchor": "middle",
          "yref": "paper"
         }
        ],
        "font": {
         "size": 12
        },
        "height": 800,
        "hovermode": "x unified",
        "legend": {
         "title": {
          "text": "Nombre"
         },
         "tracegroupgap": 0
        },
        "template": {
         "data": {
          "bar": [
           {
            "error_x": {
             "color": "#2a3f5f"
            },
            "error_y": {
             "color": "#2a3f5f"
            },
            "marker": {
             "line": {
              "color": "white",
              "width": 0.5
             },
             "pattern": {
              "fillmode": "overlay",
              "size": 10,
              "solidity": 0.2
             }
            },
            "type": "bar"
           }
          ],
          "barpolar": [
           {
            "marker": {
             "line": {
              "color": "white",
              "width": 0.5
             },
             "pattern": {
              "fillmode": "overlay",
              "size": 10,
              "solidity": 0.2
             }
            },
            "type": "barpolar"
           }
          ],
          "carpet": [
           {
            "aaxis": {
             "endlinecolor": "#2a3f5f",
             "gridcolor": "#C8D4E3",
             "linecolor": "#C8D4E3",
             "minorgridcolor": "#C8D4E3",
             "startlinecolor": "#2a3f5f"
            },
            "baxis": {
             "endlinecolor": "#2a3f5f",
             "gridcolor": "#C8D4E3",
             "linecolor": "#C8D4E3",
             "minorgridcolor": "#C8D4E3",
             "startlinecolor": "#2a3f5f"
            },
            "type": "carpet"
           }
          ],
          "choropleth": [
           {
            "colorbar": {
             "outlinewidth": 0,
             "ticks": ""
            },
            "type": "choropleth"
           }
          ],
          "contour": [
           {
            "colorbar": {
             "outlinewidth": 0,
             "ticks": ""
            },
            "colorscale": [
             [
              0,
              "#0d0887"
             ],
             [
              0.1111111111111111,
              "#46039f"
             ],
             [
              0.2222222222222222,
              "#7201a8"
             ],
             [
              0.3333333333333333,
              "#9c179e"
             ],
             [
              0.4444444444444444,
              "#bd3786"
             ],
             [
              0.5555555555555556,
              "#d8576b"
             ],
             [
              0.6666666666666666,
              "#ed7953"
             ],
             [
              0.7777777777777778,
              "#fb9f3a"
             ],
             [
              0.8888888888888888,
              "#fdca26"
             ],
             [
              1,
              "#f0f921"
             ]
            ],
            "type": "contour"
           }
          ],
          "contourcarpet": [
           {
            "colorbar": {
             "outlinewidth": 0,
             "ticks": ""
            },
            "type": "contourcarpet"
           }
          ],
          "heatmap": [
           {
            "colorbar": {
             "outlinewidth": 0,
             "ticks": ""
            },
            "colorscale": [
             [
              0,
              "#0d0887"
             ],
             [
              0.1111111111111111,
              "#46039f"
             ],
             [
              0.2222222222222222,
              "#7201a8"
             ],
             [
              0.3333333333333333,
              "#9c179e"
             ],
             [
              0.4444444444444444,
              "#bd3786"
             ],
             [
              0.5555555555555556,
              "#d8576b"
             ],
             [
              0.6666666666666666,
              "#ed7953"
             ],
             [
              0.7777777777777778,
              "#fb9f3a"
             ],
             [
              0.8888888888888888,
              "#fdca26"
             ],
             [
              1,
              "#f0f921"
             ]
            ],
            "type": "heatmap"
           }
          ],
          "histogram": [
           {
            "marker": {
             "pattern": {
              "fillmode": "overlay",
              "size": 10,
              "solidity": 0.2
             }
            },
            "type": "histogram"
           }
          ],
          "histogram2d": [
           {
            "colorbar": {
             "outlinewidth": 0,
             "ticks": ""
            },
            "colorscale": [
             [
              0,
              "#0d0887"
             ],
             [
              0.1111111111111111,
              "#46039f"
             ],
             [
              0.2222222222222222,
              "#7201a8"
             ],
             [
              0.3333333333333333,
              "#9c179e"
             ],
             [
              0.4444444444444444,
              "#bd3786"
             ],
             [
              0.5555555555555556,
              "#d8576b"
             ],
             [
              0.6666666666666666,
              "#ed7953"
             ],
             [
              0.7777777777777778,
              "#fb9f3a"
             ],
             [
              0.8888888888888888,
              "#fdca26"
             ],
             [
              1,
              "#f0f921"
             ]
            ],
            "type": "histogram2d"
           }
          ],
          "histogram2dcontour": [
           {
            "colorbar": {
             "outlinewidth": 0,
             "ticks": ""
            },
            "colorscale": [
             [
              0,
              "#0d0887"
             ],
             [
              0.1111111111111111,
              "#46039f"
             ],
             [
              0.2222222222222222,
              "#7201a8"
             ],
             [
              0.3333333333333333,
              "#9c179e"
             ],
             [
              0.4444444444444444,
              "#bd3786"
             ],
             [
              0.5555555555555556,
              "#d8576b"
             ],
             [
              0.6666666666666666,
              "#ed7953"
             ],
             [
              0.7777777777777778,
              "#fb9f3a"
             ],
             [
              0.8888888888888888,
              "#fdca26"
             ],
             [
              1,
              "#f0f921"
             ]
            ],
            "type": "histogram2dcontour"
           }
          ],
          "mesh3d": [
           {
            "colorbar": {
             "outlinewidth": 0,
             "ticks": ""
            },
            "type": "mesh3d"
           }
          ],
          "parcoords": [
           {
            "line": {
             "colorbar": {
              "outlinewidth": 0,
              "ticks": ""
             }
            },
            "type": "parcoords"
           }
          ],
          "pie": [
           {
            "automargin": true,
            "type": "pie"
           }
          ],
          "scatter": [
           {
            "fillpattern": {
             "fillmode": "overlay",
             "size": 10,
             "solidity": 0.2
            },
            "type": "scatter"
           }
          ],
          "scatter3d": [
           {
            "line": {
             "colorbar": {
              "outlinewidth": 0,
              "ticks": ""
             }
            },
            "marker": {
             "colorbar": {
              "outlinewidth": 0,
              "ticks": ""
             }
            },
            "type": "scatter3d"
           }
          ],
          "scattercarpet": [
           {
            "marker": {
             "colorbar": {
              "outlinewidth": 0,
              "ticks": ""
             }
            },
            "type": "scattercarpet"
           }
          ],
          "scattergeo": [
           {
            "marker": {
             "colorbar": {
              "outlinewidth": 0,
              "ticks": ""
             }
            },
            "type": "scattergeo"
           }
          ],
          "scattergl": [
           {
            "marker": {
             "colorbar": {
              "outlinewidth": 0,
              "ticks": ""
             }
            },
            "type": "scattergl"
           }
          ],
          "scattermap": [
           {
            "marker": {
             "colorbar": {
              "outlinewidth": 0,
              "ticks": ""
             }
            },
            "type": "scattermap"
           }
          ],
          "scattermapbox": [
           {
            "marker": {
             "colorbar": {
              "outlinewidth": 0,
              "ticks": ""
             }
            },
            "type": "scattermapbox"
           }
          ],
          "scatterpolar": [
           {
            "marker": {
             "colorbar": {
              "outlinewidth": 0,
              "ticks": ""
             }
            },
            "type": "scatterpolar"
           }
          ],
          "scatterpolargl": [
           {
            "marker": {
             "colorbar": {
              "outlinewidth": 0,
              "ticks": ""
             }
            },
            "type": "scatterpolargl"
           }
          ],
          "scatterternary": [
           {
            "marker": {
             "colorbar": {
              "outlinewidth": 0,
              "ticks": ""
             }
            },
            "type": "scatterternary"
           }
          ],
          "surface": [
           {
            "colorbar": {
             "outlinewidth": 0,
             "ticks": ""
            },
            "colorscale": [
             [
              0,
              "#0d0887"
             ],
             [
              0.1111111111111111,
              "#46039f"
             ],
             [
              0.2222222222222222,
              "#7201a8"
             ],
             [
              0.3333333333333333,
              "#9c179e"
             ],
             [
              0.4444444444444444,
              "#bd3786"
             ],
             [
              0.5555555555555556,
              "#d8576b"
             ],
             [
              0.6666666666666666,
              "#ed7953"
             ],
             [
              0.7777777777777778,
              "#fb9f3a"
             ],
             [
              0.8888888888888888,
              "#fdca26"
             ],
             [
              1,
              "#f0f921"
             ]
            ],
            "type": "surface"
           }
          ],
          "table": [
           {
            "cells": {
             "fill": {
              "color": "#EBF0F8"
             },
             "line": {
              "color": "white"
             }
            },
            "header": {
             "fill": {
              "color": "#C8D4E3"
             },
             "line": {
              "color": "white"
             }
            },
            "type": "table"
           }
          ]
         },
         "layout": {
          "annotationdefaults": {
           "arrowcolor": "#2a3f5f",
           "arrowhead": 0,
           "arrowwidth": 1
          },
          "autotypenumbers": "strict",
          "coloraxis": {
           "colorbar": {
            "outlinewidth": 0,
            "ticks": ""
           }
          },
          "colorscale": {
           "diverging": [
            [
             0,
             "#8e0152"
            ],
            [
             0.1,
             "#c51b7d"
            ],
            [
             0.2,
             "#de77ae"
            ],
            [
             0.3,
             "#f1b6da"
            ],
            [
             0.4,
             "#fde0ef"
            ],
            [
             0.5,
             "#f7f7f7"
            ],
            [
             0.6,
             "#e6f5d0"
            ],
            [
             0.7,
             "#b8e186"
            ],
            [
             0.8,
             "#7fbc41"
            ],
            [
             0.9,
             "#4d9221"
            ],
            [
             1,
             "#276419"
            ]
           ],
           "sequential": [
            [
             0,
             "#0d0887"
            ],
            [
             0.1111111111111111,
             "#46039f"
            ],
            [
             0.2222222222222222,
             "#7201a8"
            ],
            [
             0.3333333333333333,
             "#9c179e"
            ],
            [
             0.4444444444444444,
             "#bd3786"
            ],
            [
             0.5555555555555556,
             "#d8576b"
            ],
            [
             0.6666666666666666,
             "#ed7953"
            ],
            [
             0.7777777777777778,
             "#fb9f3a"
            ],
            [
             0.8888888888888888,
             "#fdca26"
            ],
            [
             1,
             "#f0f921"
            ]
           ],
           "sequentialminus": [
            [
             0,
             "#0d0887"
            ],
            [
             0.1111111111111111,
             "#46039f"
            ],
            [
             0.2222222222222222,
             "#7201a8"
            ],
            [
             0.3333333333333333,
             "#9c179e"
            ],
            [
             0.4444444444444444,
             "#bd3786"
            ],
            [
             0.5555555555555556,
             "#d8576b"
            ],
            [
             0.6666666666666666,
             "#ed7953"
            ],
            [
             0.7777777777777778,
             "#fb9f3a"
            ],
            [
             0.8888888888888888,
             "#fdca26"
            ],
            [
             1,
             "#f0f921"
            ]
           ]
          },
          "colorway": [
           "#636efa",
           "#EF553B",
           "#00cc96",
           "#ab63fa",
           "#FFA15A",
           "#19d3f3",
           "#FF6692",
           "#B6E880",
           "#FF97FF",
           "#FECB52"
          ],
          "font": {
           "color": "#2a3f5f"
          },
          "geo": {
           "bgcolor": "white",
           "lakecolor": "white",
           "landcolor": "white",
           "showlakes": true,
           "showland": true,
           "subunitcolor": "#C8D4E3"
          },
          "hoverlabel": {
           "align": "left"
          },
          "hovermode": "closest",
          "mapbox": {
           "style": "light"
          },
          "paper_bgcolor": "white",
          "plot_bgcolor": "white",
          "polar": {
           "angularaxis": {
            "gridcolor": "#EBF0F8",
            "linecolor": "#EBF0F8",
            "ticks": ""
           },
           "bgcolor": "white",
           "radialaxis": {
            "gridcolor": "#EBF0F8",
            "linecolor": "#EBF0F8",
            "ticks": ""
           }
          },
          "scene": {
           "xaxis": {
            "backgroundcolor": "white",
            "gridcolor": "#DFE8F3",
            "gridwidth": 2,
            "linecolor": "#EBF0F8",
            "showbackground": true,
            "ticks": "",
            "zerolinecolor": "#EBF0F8"
           },
           "yaxis": {
            "backgroundcolor": "white",
            "gridcolor": "#DFE8F3",
            "gridwidth": 2,
            "linecolor": "#EBF0F8",
            "showbackground": true,
            "ticks": "",
            "zerolinecolor": "#EBF0F8"
           },
           "zaxis": {
            "backgroundcolor": "white",
            "gridcolor": "#DFE8F3",
            "gridwidth": 2,
            "linecolor": "#EBF0F8",
            "showbackground": true,
            "ticks": "",
            "zerolinecolor": "#EBF0F8"
           }
          },
          "shapedefaults": {
           "line": {
            "color": "#2a3f5f"
           }
          },
          "ternary": {
           "aaxis": {
            "gridcolor": "#DFE8F3",
            "linecolor": "#A2B1C6",
            "ticks": ""
           },
           "baxis": {
            "gridcolor": "#DFE8F3",
            "linecolor": "#A2B1C6",
            "ticks": ""
           },
           "bgcolor": "white",
           "caxis": {
            "gridcolor": "#DFE8F3",
            "linecolor": "#A2B1C6",
            "ticks": ""
           }
          },
          "title": {
           "x": 0.05
          },
          "xaxis": {
           "automargin": true,
           "gridcolor": "#EBF0F8",
           "linecolor": "#EBF0F8",
           "ticks": "",
           "title": {
            "standoff": 15
           },
           "zerolinecolor": "#EBF0F8",
           "zerolinewidth": 2
          },
          "yaxis": {
           "automargin": true,
           "gridcolor": "#EBF0F8",
           "linecolor": "#EBF0F8",
           "ticks": "",
           "title": {
            "standoff": 15
           },
           "zerolinecolor": "#EBF0F8",
           "zerolinewidth": 2
          }
         }
        },
        "title": {
         "text": "Ciclos de popularidad de nombres clásicos (1910-2013)"
        },
        "xaxis": {
         "anchor": "y",
         "domain": [
          0,
          0.98
         ],
         "title": {
          "text": "Año"
         }
        },
        "xaxis2": {
         "anchor": "y2",
         "domain": [
          0,
          0.98
         ],
         "matches": "x",
         "showticklabels": false
        },
        "yaxis": {
         "anchor": "x",
         "domain": [
          0,
          0.485
         ],
         "ticksuffix": "%",
         "title": {
          "text": "Popularidad relativa (%)"
         }
        },
        "yaxis2": {
         "anchor": "x2",
         "domain": [
          0.515,
          1
         ],
         "matches": "y",
         "title": {
          "text": "Popularidad relativa (%)"
         }
        }
       }
      }
     },
     "metadata": {},
     "output_type": "display_data"
    },
    {
     "name": "stdout",
     "output_type": "stream",
     "text": [
      "\n",
      "    #### 🔄 Análisis de Ciclos de Popularidad:\n",
      "\n",
      "    Este gráfico revela un fascinante fenómeno sociológico: los nombres experimentan ciclos generacionales de popularidad, típicamente siguiendo un patrón de aproximadamente 80-100 años.\n",
      "\n",
      "    1. **Efecto \"Vintage\" o Retorno Generacional**: Nombres que alcanzaron su máxima popularidad a principios del siglo XX (como Emma, Grace, Henry) cayeron en desuso durante varias décadas, para luego experimentar un notable resurgimiento desde los años 1990-2000. Este patrón se conoce como la \"Regla de los 100 años\" en demografía de nombres.\n",
      "\n",
      "    2. **Psicología intergeneracional**: Los nombres suelen pasar por tres fases:\n",
      "       - **Fase de popularidad**: El nombre es contemporáneo y común\n",
      "       - **Fase de asociación con generación anterior**: El nombre se asocia con \"padres/abuelos\" y pierde atractivo\n",
      "       - **Fase de redescubrimiento**: Cuando las asociaciones generacionales se desvanecen, el nombre recupera su atractivo estético inherente\n",
      "\n",
      "    3. **Diferencias de género en ciclos**: Los nombres masculinos tienden a seguir ciclos más estables y predecibles, mientras que los femeninos muestran mayor volatilidad y cambios más pronunciados en popularidad. Esto refleja la mayor libertad cultural para innovar en nombres femeninos.\n",
      "\n",
      "    4. **Influencia de figuras históricas**: Picos secundarios en ciertos nombres coinciden con personajes públicos prominentes:\n",
      "       - Incrementos para \"Grace\" coinciden con la prominencia de Grace Kelly\n",
      "       - \"Elizabeth\" muestra estabilidad influenciada por la monarquía británica\n",
      "\n",
      "    5. **Tendencias contemporáneas**: El resurgimiento de nombres clásicos desde los 1990s refleja un fenómeno cultural más amplio de apreciación vintage y nostalgia. La búsqueda de autenticidad y conexión histórica impulsa a nuevos padres a explorar nombres con \"peso histórico\".\n",
      "\n",
      "    Este fenómeno cíclico demuestra cómo las elecciones de nombres, aunque personales, siguen patrones sociológicos predecibles, influenciados por la distancia generacional, cambios en valores sociales y la reconcepción cultural de lo que constituye un nombre \"moderno\" versus \"anticuado\".\n",
      "    \n"
     ]
    }
   ],
   "source": [
    "# Seleccionar algunos nombres clásicos que han experimentado ciclos de popularidad\n",
    "classic_names = {\n",
    "    'M': ['William', 'James', 'John', 'Henry', 'Charles', 'Thomas'],\n",
    "    'F': ['Emma', 'Elizabeth', 'Anna', 'Grace', 'Alice', 'Clara']\n",
    "}\n",
    "\n",
    "# Crear dataframes filtrados para estos nombres\n",
    "classic_names_data = []\n",
    "\n",
    "for gender, names in classic_names.items():\n",
    "    for name in names:\n",
    "        name_data = names_df[(names_df['name'] == name) & (names_df['gender'] == gender)]\n",
    "        if not name_data.empty:\n",
    "            classic_names_data.append(name_data)\n",
    "\n",
    "if classic_names_data:\n",
    "    classic_df = pd.concat(classic_names_data)\n",
    "    \n",
    "    # Normalizar los datos para comparar tendencias en lugar de valores absolutos\n",
    "    pivot_df = classic_df.pivot_table(index='year', columns=['name', 'gender'], values='count')\n",
    "    \n",
    "    # Para cada nombre, normalizar por su valor máximo para obtener tendencias relativas\n",
    "    normalized_data = []\n",
    "    \n",
    "    for name in classic_names['M'] + classic_names['F']:\n",
    "        for gender in ['M', 'F']:\n",
    "            try:\n",
    "                series = pivot_df[name, gender]\n",
    "                max_value = series.max()\n",
    "                normalized = series / max_value * 100\n",
    "                \n",
    "                for year, value in normalized.items():\n",
    "                    normalized_data.append({\n",
    "                        'name': name,\n",
    "                        'gender': 'Masculino' if gender == 'M' else 'Femenino',\n",
    "                        'year': year,\n",
    "                        'normalized_count': value\n",
    "                    })\n",
    "            except KeyError:\n",
    "                continue  # Ignorar si la combinación no existe\n",
    "    \n",
    "    # Crear dataframe con datos normalizados\n",
    "    norm_df = pd.DataFrame(normalized_data)\n",
    "    \n",
    "    # Visualizar ciclos de popularidad\n",
    "    fig = px.line(norm_df, \n",
    "                  x='year', \n",
    "                  y='normalized_count',\n",
    "                  color='name', \n",
    "                  line_dash='gender',\n",
    "                  facet_row='gender',\n",
    "                  labels={'normalized_count': 'Popularidad relativa (%)', \n",
    "                          'year': 'Año',\n",
    "                          'name': 'Nombre',\n",
    "                          'gender': 'Género'},\n",
    "                  title='Ciclos de popularidad de nombres clásicos (1910-2013)')\n",
    "    \n",
    "    # Mejorar el diseño\n",
    "    fig.update_layout(\n",
    "        height=800,\n",
    "        legend_title_text=\"Nombre\",\n",
    "        hovermode=\"x unified\",\n",
    "        template=\"plotly_white\",\n",
    "        font=dict(size=12),\n",
    "        yaxis=dict(\n",
    "            ticksuffix='%',  # Añadir símbolo de porcentaje\n",
    "        ),\n",
    "        annotations=[\n",
    "            dict(\n",
    "                x=0.5,\n",
    "                y=-0.08,\n",
    "                showarrow=False,\n",
    "                text=\"Fuente: Datos sintéticos basados en patrones de registro de nombres en EE.UU. (1910-2013)\",\n",
    "                xref=\"paper\",\n",
    "                yref=\"paper\",\n",
    "                font=dict(size=10)\n",
    "            )\n",
    "        ]\n",
    "    )\n",
    "    \n",
    "    # Actualizar subtítulos de facetas\n",
    "    for annotation in fig.layout.annotations:\n",
    "        if annotation.text == \"gender=Femenino\":\n",
    "            annotation.text = \"Nombres Femeninos\"\n",
    "        elif annotation.text == \"gender=Masculino\":\n",
    "            annotation.text = \"Nombres Masculinos\"\n",
    "    \n",
    "    fig.show()\n",
    "    \n",
    "    # Explicación detallada sobre los ciclos de popularidad\n",
    "    cycles_analysis = \"\"\"\n",
    "    #### 🔄 Análisis de Ciclos de Popularidad:\n",
    "    \n",
    "    Este gráfico revela un fascinante fenómeno sociológico: los nombres experimentan ciclos generacionales de popularidad, típicamente siguiendo un patrón de aproximadamente 80-100 años.\n",
    "    \n",
    "    1. **Efecto \"Vintage\" o Retorno Generacional**: Nombres que alcanzaron su máxima popularidad a principios del siglo XX (como Emma, Grace, Henry) cayeron en desuso durante varias décadas, para luego experimentar un notable resurgimiento desde los años 1990-2000. Este patrón se conoce como la \"Regla de los 100 años\" en demografía de nombres.\n",
    "    \n",
    "    2. **Psicología intergeneracional**: Los nombres suelen pasar por tres fases:\n",
    "       - **Fase de popularidad**: El nombre es contemporáneo y común\n",
    "       - **Fase de asociación con generación anterior**: El nombre se asocia con \"padres/abuelos\" y pierde atractivo\n",
    "       - **Fase de redescubrimiento**: Cuando las asociaciones generacionales se desvanecen, el nombre recupera su atractivo estético inherente\n",
    "    \n",
    "    3. **Diferencias de género en ciclos**: Los nombres masculinos tienden a seguir ciclos más estables y predecibles, mientras que los femeninos muestran mayor volatilidad y cambios más pronunciados en popularidad. Esto refleja la mayor libertad cultural para innovar en nombres femeninos.\n",
    "    \n",
    "    4. **Influencia de figuras históricas**: Picos secundarios en ciertos nombres coinciden con personajes públicos prominentes:\n",
    "       - Incrementos para \"Grace\" coinciden con la prominencia de Grace Kelly\n",
    "       - \"Elizabeth\" muestra estabilidad influenciada por la monarquía británica\n",
    "    \n",
    "    5. **Tendencias contemporáneas**: El resurgimiento de nombres clásicos desde los 1990s refleja un fenómeno cultural más amplio de apreciación vintage y nostalgia. La búsqueda de autenticidad y conexión histórica impulsa a nuevos padres a explorar nombres con \"peso histórico\".\n",
    "    \n",
    "    Este fenómeno cíclico demuestra cómo las elecciones de nombres, aunque personales, siguen patrones sociológicos predecibles, influenciados por la distancia generacional, cambios en valores sociales y la reconcepción cultural de lo que constituye un nombre \"moderno\" versus \"anticuado\".\n",
    "    \"\"\"\n",
    "    print(cycles_analysis)\n",
    "else:\n",
    "    print(\"No se encontraron datos para los nombres clásicos seleccionados.\")"
   ]
  },
  {
   "cell_type": "markdown",
   "id": "b29acdc5",
   "metadata": {},
   "source": [
    "### 3.4 Mapa de Calor: Evolución de la Estructura Fonética de Nombres por Década\n",
    "\n",
    "Esta visualización examina cómo ha evolucionado la estructura fonética de los nombres a lo largo del tiempo, analizando la frecuencia de diferentes iniciales y terminaciones por década. Esto nos permite identificar patrones lingüísticos y modas fonéticas en la elección de nombres."
   ]
  },
  {
   "cell_type": "code",
   "execution_count": 7,
   "id": "fe385831",
   "metadata": {},
   "outputs": [
    {
     "data": {
      "application/vnd.plotly.v1+json": {
       "config": {
        "plotlyServerURL": "https://plot.ly"
       },
       "data": [
        {
         "coloraxis": "coloraxis",
         "hovertemplate": "Década: %{x}<br>Característica: %{y}<br>Porcentaje (%): %{z}<extra></extra>",
         "name": "0",
         "type": "heatmap",
         "x": [
          "1910s",
          "1920s",
          "1930s",
          "1940s",
          "1950s",
          "1960s",
          "1970s",
          "1980s",
          "1990s",
          "2000s",
          "2010s"
         ],
         "xaxis": "x",
         "y": [
          "J",
          "A",
          "D",
          "M",
          "K",
          "B",
          "S",
          "C",
          "E",
          "H",
          "N",
          "F",
          "G",
          "R",
          "P"
         ],
         "yaxis": "y",
         "z": {
          "bdata": "5hJSJtOGK0DGaKwMJo4qQOiVN2gXKSpA8oKG4tvELECdkbf2508uQK4kwVU8aC9Aeg9m7+IOLUAQjsGGHTInQAu4kvMXXyRAU89bfBf6JUAi7YOIlWknQDXIJ3Io9SJAK3WMP+TKIkCIo6Ks3PEgQLD0D/WsdxpAexjZxm8TGECk34wrMDkgQMtb8yApUyZAGhN3cSqbLEC96hcrTCAyQDB/tp7ErzVAtTv57PrSNEDyvBd11OUtQLnBc83/rSxAPhbEBA+mKUA1mWFaUFAqQChf4ZjNHypA5amxXEclJ0DTS9gnvv8gQGsmvAiPPxpAyj5rvc15FEDtnm6/YFMRQJxL4FbvNhBA7IBdJbw8NkBMMLx0Qj8xQJmtGr62hytAwFsdAM89J0B0J4G2m28iQCLFD3VRjhtA7EZFmDN2FkDGSB/uwIkZQBWnhf2BTBRAw9nZ/oKFEUBsW7bHiToEQPap8I5/hxBAMSE++vKJEEA1sd28UV8UQIzy4D2QwBxAKqn8qYfRIkDNagofF7wmQFvFwsI0mCdASGHK4AFxKEAL55MtP60qQCBySS9a6SRADtA/a6ACIkDofjVNoa4eQNGsmt50AiFA5CsxxtNOIkCIZN9zpEgjQB9OmtAdqyNALHPhtS8BI0CRfS8d3a0hQHUopsRm4hxApybZqANzFkAPSUnZAbsRQAIZiVVNfRBA1tRKejfiD0BTJWEJQEggQEAVgIblJSdAf0Pq9K7lKEA+mraaoQQlQAPp+I6XkiBAGIN8sHwQHUBea1OhL6UWQCBhjd637xJAtZ9QRwxhEkDkPgAVPGUVQAyygPvvoS5AaUGRtkV5KkBMY0vYMuonQDg5jn0gzSNAjSBpDqoYIEBNBDGKMxYXQBbfcwPWUxFA/CQA9TxSC0DLIZzroLkIQNSB+1ymQQlAPrM4HpxQBUCPk/fWJyoSQKS6GHynZRNAQSlz1BokFkD6obmp71ATQBIWiOcU8BBABS8tl6GHEEDjr/VAIasNQEITYOd0nAtAJxsaH8tAB0BmX1vXwToDQNxEZo55Qf8/zqAaHCl4bT+V8sdGbEuUP8jBWxG2wLc/4/a2kzFv0z+7cYXpNiXpPzOe0RYB0fo/+iak3VMvCED4DJOF3ocSQAl24+hxwBlA+M084QGdIUCzlIpiDbEmQEmMsI/XweM/JC0I/kOr6j+sdPDpp8zyP8k4Js+vHvY/ahau3uGa9j9ras/22DX5PwrJBA4N8vw/d4nspgjfAEDQ7SToKEMCQMZ7ibCi0hdApjwHmltdJEBA/Mk6+4SzP4/3QMJUKsQ/orr/Q7fo1z/oh4JfAHbkP80Wbrz4lPQ/ulG0QnBN/T+wNY6FJmkGQIF8jlX44Q1AYLLpTLxxEkDpVWMX7/gYQO4k0NXW6xxA3ev2iCXoij9eNF8/Eum1P6cW8nlszdk/oUwf/yH/8z8moB8zvrIGQC0cfwh1UA5AS9fERU09DkAZ/1KLxzQRQGpfVizh2xVATZKbYsciAUAZWMkL5l7YP7AeC0LY28w//656rJ9m8z8yBqyC1dr7Pz8cfQAe5PM/8vVNgw2JBUDS85HHBBoNQOcEG0gLQxBAdp+VElQxCUBneBlIwLD/P6b3KEFUZ/E/CFb8Z5yr5D/UKtetBG33P2pmNdy2gQRAgI5WSOKH9j9elqj2o83BP1H0DFPY2ZI/01cC29hZxj9olreBXWDvP+6JcFduHwlAQuQXquQnEkA1WGBg9hIMQBSX2hl8JAFA",
          "dtype": "f8",
          "shape": "15, 11"
         }
        }
       ],
       "layout": {
        "annotations": [
         {
          "font": {
           "size": 10
          },
          "showarrow": false,
          "text": "Fuente: Datos sintéticos basados en patrones de registro de nombres en EE.UU. (1910-2013)",
          "x": 0.5,
          "xref": "paper",
          "y": -0.15,
          "yref": "paper"
         }
        ],
        "coloraxis": {
         "colorbar": {
          "ticksuffix": "%",
          "title": {
           "text": "% de bebés"
          }
         },
         "colorscale": [
          [
           0,
           "#440154"
          ],
          [
           0.1111111111111111,
           "#482878"
          ],
          [
           0.2222222222222222,
           "#3e4989"
          ],
          [
           0.3333333333333333,
           "#31688e"
          ],
          [
           0.4444444444444444,
           "#26828e"
          ],
          [
           0.5555555555555556,
           "#1f9e89"
          ],
          [
           0.6666666666666666,
           "#35b779"
          ],
          [
           0.7777777777777778,
           "#6ece58"
          ],
          [
           0.8888888888888888,
           "#b5de2b"
          ],
          [
           1,
           "#fde725"
          ]
         ]
        },
        "height": 600,
        "template": {
         "data": {
          "bar": [
           {
            "error_x": {
             "color": "#2a3f5f"
            },
            "error_y": {
             "color": "#2a3f5f"
            },
            "marker": {
             "line": {
              "color": "#E5ECF6",
              "width": 0.5
             },
             "pattern": {
              "fillmode": "overlay",
              "size": 10,
              "solidity": 0.2
             }
            },
            "type": "bar"
           }
          ],
          "barpolar": [
           {
            "marker": {
             "line": {
              "color": "#E5ECF6",
              "width": 0.5
             },
             "pattern": {
              "fillmode": "overlay",
              "size": 10,
              "solidity": 0.2
             }
            },
            "type": "barpolar"
           }
          ],
          "carpet": [
           {
            "aaxis": {
             "endlinecolor": "#2a3f5f",
             "gridcolor": "white",
             "linecolor": "white",
             "minorgridcolor": "white",
             "startlinecolor": "#2a3f5f"
            },
            "baxis": {
             "endlinecolor": "#2a3f5f",
             "gridcolor": "white",
             "linecolor": "white",
             "minorgridcolor": "white",
             "startlinecolor": "#2a3f5f"
            },
            "type": "carpet"
           }
          ],
          "choropleth": [
           {
            "colorbar": {
             "outlinewidth": 0,
             "ticks": ""
            },
            "type": "choropleth"
           }
          ],
          "contour": [
           {
            "colorbar": {
             "outlinewidth": 0,
             "ticks": ""
            },
            "colorscale": [
             [
              0,
              "#0d0887"
             ],
             [
              0.1111111111111111,
              "#46039f"
             ],
             [
              0.2222222222222222,
              "#7201a8"
             ],
             [
              0.3333333333333333,
              "#9c179e"
             ],
             [
              0.4444444444444444,
              "#bd3786"
             ],
             [
              0.5555555555555556,
              "#d8576b"
             ],
             [
              0.6666666666666666,
              "#ed7953"
             ],
             [
              0.7777777777777778,
              "#fb9f3a"
             ],
             [
              0.8888888888888888,
              "#fdca26"
             ],
             [
              1,
              "#f0f921"
             ]
            ],
            "type": "contour"
           }
          ],
          "contourcarpet": [
           {
            "colorbar": {
             "outlinewidth": 0,
             "ticks": ""
            },
            "type": "contourcarpet"
           }
          ],
          "heatmap": [
           {
            "colorbar": {
             "outlinewidth": 0,
             "ticks": ""
            },
            "colorscale": [
             [
              0,
              "#0d0887"
             ],
             [
              0.1111111111111111,
              "#46039f"
             ],
             [
              0.2222222222222222,
              "#7201a8"
             ],
             [
              0.3333333333333333,
              "#9c179e"
             ],
             [
              0.4444444444444444,
              "#bd3786"
             ],
             [
              0.5555555555555556,
              "#d8576b"
             ],
             [
              0.6666666666666666,
              "#ed7953"
             ],
             [
              0.7777777777777778,
              "#fb9f3a"
             ],
             [
              0.8888888888888888,
              "#fdca26"
             ],
             [
              1,
              "#f0f921"
             ]
            ],
            "type": "heatmap"
           }
          ],
          "histogram": [
           {
            "marker": {
             "pattern": {
              "fillmode": "overlay",
              "size": 10,
              "solidity": 0.2
             }
            },
            "type": "histogram"
           }
          ],
          "histogram2d": [
           {
            "colorbar": {
             "outlinewidth": 0,
             "ticks": ""
            },
            "colorscale": [
             [
              0,
              "#0d0887"
             ],
             [
              0.1111111111111111,
              "#46039f"
             ],
             [
              0.2222222222222222,
              "#7201a8"
             ],
             [
              0.3333333333333333,
              "#9c179e"
             ],
             [
              0.4444444444444444,
              "#bd3786"
             ],
             [
              0.5555555555555556,
              "#d8576b"
             ],
             [
              0.6666666666666666,
              "#ed7953"
             ],
             [
              0.7777777777777778,
              "#fb9f3a"
             ],
             [
              0.8888888888888888,
              "#fdca26"
             ],
             [
              1,
              "#f0f921"
             ]
            ],
            "type": "histogram2d"
           }
          ],
          "histogram2dcontour": [
           {
            "colorbar": {
             "outlinewidth": 0,
             "ticks": ""
            },
            "colorscale": [
             [
              0,
              "#0d0887"
             ],
             [
              0.1111111111111111,
              "#46039f"
             ],
             [
              0.2222222222222222,
              "#7201a8"
             ],
             [
              0.3333333333333333,
              "#9c179e"
             ],
             [
              0.4444444444444444,
              "#bd3786"
             ],
             [
              0.5555555555555556,
              "#d8576b"
             ],
             [
              0.6666666666666666,
              "#ed7953"
             ],
             [
              0.7777777777777778,
              "#fb9f3a"
             ],
             [
              0.8888888888888888,
              "#fdca26"
             ],
             [
              1,
              "#f0f921"
             ]
            ],
            "type": "histogram2dcontour"
           }
          ],
          "mesh3d": [
           {
            "colorbar": {
             "outlinewidth": 0,
             "ticks": ""
            },
            "type": "mesh3d"
           }
          ],
          "parcoords": [
           {
            "line": {
             "colorbar": {
              "outlinewidth": 0,
              "ticks": ""
             }
            },
            "type": "parcoords"
           }
          ],
          "pie": [
           {
            "automargin": true,
            "type": "pie"
           }
          ],
          "scatter": [
           {
            "fillpattern": {
             "fillmode": "overlay",
             "size": 10,
             "solidity": 0.2
            },
            "type": "scatter"
           }
          ],
          "scatter3d": [
           {
            "line": {
             "colorbar": {
              "outlinewidth": 0,
              "ticks": ""
             }
            },
            "marker": {
             "colorbar": {
              "outlinewidth": 0,
              "ticks": ""
             }
            },
            "type": "scatter3d"
           }
          ],
          "scattercarpet": [
           {
            "marker": {
             "colorbar": {
              "outlinewidth": 0,
              "ticks": ""
             }
            },
            "type": "scattercarpet"
           }
          ],
          "scattergeo": [
           {
            "marker": {
             "colorbar": {
              "outlinewidth": 0,
              "ticks": ""
             }
            },
            "type": "scattergeo"
           }
          ],
          "scattergl": [
           {
            "marker": {
             "colorbar": {
              "outlinewidth": 0,
              "ticks": ""
             }
            },
            "type": "scattergl"
           }
          ],
          "scattermap": [
           {
            "marker": {
             "colorbar": {
              "outlinewidth": 0,
              "ticks": ""
             }
            },
            "type": "scattermap"
           }
          ],
          "scattermapbox": [
           {
            "marker": {
             "colorbar": {
              "outlinewidth": 0,
              "ticks": ""
             }
            },
            "type": "scattermapbox"
           }
          ],
          "scatterpolar": [
           {
            "marker": {
             "colorbar": {
              "outlinewidth": 0,
              "ticks": ""
             }
            },
            "type": "scatterpolar"
           }
          ],
          "scatterpolargl": [
           {
            "marker": {
             "colorbar": {
              "outlinewidth": 0,
              "ticks": ""
             }
            },
            "type": "scatterpolargl"
           }
          ],
          "scatterternary": [
           {
            "marker": {
             "colorbar": {
              "outlinewidth": 0,
              "ticks": ""
             }
            },
            "type": "scatterternary"
           }
          ],
          "surface": [
           {
            "colorbar": {
             "outlinewidth": 0,
             "ticks": ""
            },
            "colorscale": [
             [
              0,
              "#0d0887"
             ],
             [
              0.1111111111111111,
              "#46039f"
             ],
             [
              0.2222222222222222,
              "#7201a8"
             ],
             [
              0.3333333333333333,
              "#9c179e"
             ],
             [
              0.4444444444444444,
              "#bd3786"
             ],
             [
              0.5555555555555556,
              "#d8576b"
             ],
             [
              0.6666666666666666,
              "#ed7953"
             ],
             [
              0.7777777777777778,
              "#fb9f3a"
             ],
             [
              0.8888888888888888,
              "#fdca26"
             ],
             [
              1,
              "#f0f921"
             ]
            ],
            "type": "surface"
           }
          ],
          "table": [
           {
            "cells": {
             "fill": {
              "color": "#EBF0F8"
             },
             "line": {
              "color": "white"
             }
            },
            "header": {
             "fill": {
              "color": "#C8D4E3"
             },
             "line": {
              "color": "white"
             }
            },
            "type": "table"
           }
          ]
         },
         "layout": {
          "annotationdefaults": {
           "arrowcolor": "#2a3f5f",
           "arrowhead": 0,
           "arrowwidth": 1
          },
          "autotypenumbers": "strict",
          "coloraxis": {
           "colorbar": {
            "outlinewidth": 0,
            "ticks": ""
           }
          },
          "colorscale": {
           "diverging": [
            [
             0,
             "#8e0152"
            ],
            [
             0.1,
             "#c51b7d"
            ],
            [
             0.2,
             "#de77ae"
            ],
            [
             0.3,
             "#f1b6da"
            ],
            [
             0.4,
             "#fde0ef"
            ],
            [
             0.5,
             "#f7f7f7"
            ],
            [
             0.6,
             "#e6f5d0"
            ],
            [
             0.7,
             "#b8e186"
            ],
            [
             0.8,
             "#7fbc41"
            ],
            [
             0.9,
             "#4d9221"
            ],
            [
             1,
             "#276419"
            ]
           ],
           "sequential": [
            [
             0,
             "#0d0887"
            ],
            [
             0.1111111111111111,
             "#46039f"
            ],
            [
             0.2222222222222222,
             "#7201a8"
            ],
            [
             0.3333333333333333,
             "#9c179e"
            ],
            [
             0.4444444444444444,
             "#bd3786"
            ],
            [
             0.5555555555555556,
             "#d8576b"
            ],
            [
             0.6666666666666666,
             "#ed7953"
            ],
            [
             0.7777777777777778,
             "#fb9f3a"
            ],
            [
             0.8888888888888888,
             "#fdca26"
            ],
            [
             1,
             "#f0f921"
            ]
           ],
           "sequentialminus": [
            [
             0,
             "#0d0887"
            ],
            [
             0.1111111111111111,
             "#46039f"
            ],
            [
             0.2222222222222222,
             "#7201a8"
            ],
            [
             0.3333333333333333,
             "#9c179e"
            ],
            [
             0.4444444444444444,
             "#bd3786"
            ],
            [
             0.5555555555555556,
             "#d8576b"
            ],
            [
             0.6666666666666666,
             "#ed7953"
            ],
            [
             0.7777777777777778,
             "#fb9f3a"
            ],
            [
             0.8888888888888888,
             "#fdca26"
            ],
            [
             1,
             "#f0f921"
            ]
           ]
          },
          "colorway": [
           "#636efa",
           "#EF553B",
           "#00cc96",
           "#ab63fa",
           "#FFA15A",
           "#19d3f3",
           "#FF6692",
           "#B6E880",
           "#FF97FF",
           "#FECB52"
          ],
          "font": {
           "color": "#2a3f5f"
          },
          "geo": {
           "bgcolor": "white",
           "lakecolor": "white",
           "landcolor": "#E5ECF6",
           "showlakes": true,
           "showland": true,
           "subunitcolor": "white"
          },
          "hoverlabel": {
           "align": "left"
          },
          "hovermode": "closest",
          "mapbox": {
           "style": "light"
          },
          "paper_bgcolor": "white",
          "plot_bgcolor": "#E5ECF6",
          "polar": {
           "angularaxis": {
            "gridcolor": "white",
            "linecolor": "white",
            "ticks": ""
           },
           "bgcolor": "#E5ECF6",
           "radialaxis": {
            "gridcolor": "white",
            "linecolor": "white",
            "ticks": ""
           }
          },
          "scene": {
           "xaxis": {
            "backgroundcolor": "#E5ECF6",
            "gridcolor": "white",
            "gridwidth": 2,
            "linecolor": "white",
            "showbackground": true,
            "ticks": "",
            "zerolinecolor": "white"
           },
           "yaxis": {
            "backgroundcolor": "#E5ECF6",
            "gridcolor": "white",
            "gridwidth": 2,
            "linecolor": "white",
            "showbackground": true,
            "ticks": "",
            "zerolinecolor": "white"
           },
           "zaxis": {
            "backgroundcolor": "#E5ECF6",
            "gridcolor": "white",
            "gridwidth": 2,
            "linecolor": "white",
            "showbackground": true,
            "ticks": "",
            "zerolinecolor": "white"
           }
          },
          "shapedefaults": {
           "line": {
            "color": "#2a3f5f"
           }
          },
          "ternary": {
           "aaxis": {
            "gridcolor": "white",
            "linecolor": "white",
            "ticks": ""
           },
           "baxis": {
            "gridcolor": "white",
            "linecolor": "white",
            "ticks": ""
           },
           "bgcolor": "#E5ECF6",
           "caxis": {
            "gridcolor": "white",
            "linecolor": "white",
            "ticks": ""
           }
          },
          "title": {
           "x": 0.05
          },
          "xaxis": {
           "automargin": true,
           "gridcolor": "white",
           "linecolor": "white",
           "ticks": "",
           "title": {
            "standoff": 15
           },
           "zerolinecolor": "white",
           "zerolinewidth": 2
          },
          "yaxis": {
           "automargin": true,
           "gridcolor": "white",
           "linecolor": "white",
           "ticks": "",
           "title": {
            "standoff": 15
           },
           "zerolinecolor": "white",
           "zerolinewidth": 2
          }
         }
        },
        "title": {
         "text": "Evolución de iniciales de nombres femeninos por década (1910-2010)"
        },
        "width": 800,
        "xaxis": {
         "anchor": "y",
         "constrain": "domain",
         "domain": [
          0,
          1
         ],
         "scaleanchor": "y",
         "title": {
          "text": "Década"
         }
        },
        "yaxis": {
         "anchor": "x",
         "autorange": "reversed",
         "constrain": "domain",
         "domain": [
          0,
          1
         ],
         "title": {
          "text": "Característica"
         }
        }
       }
      }
     },
     "metadata": {},
     "output_type": "display_data"
    },
    {
     "data": {
      "application/vnd.plotly.v1+json": {
       "config": {
        "plotlyServerURL": "https://plot.ly"
       },
       "data": [
        {
         "coloraxis": "coloraxis",
         "hovertemplate": "Década: %{x}<br>Característica: %{y}<br>Porcentaje (%): %{z}<extra></extra>",
         "name": "0",
         "type": "heatmap",
         "x": [
          "1910s",
          "1920s",
          "1930s",
          "1940s",
          "1950s",
          "1960s",
          "1970s",
          "1980s",
          "1990s",
          "2000s",
          "2010s"
         ],
         "xaxis": "x",
         "y": [
          "a",
          "e",
          "y",
          "n",
          "h",
          "l",
          "s",
          "r",
          "t"
         ],
         "yaxis": "y",
         "z": {
          "bdata": "ofvRdwYzRkBaWm1dV61EQLmAzYkuz0NAkmmca060Q0BdRAXRoddBQLeTuyV6BD9AWuJskTDtO0B5VVVyWRM4QOniR2a0mjNAsFs9f/y+MECdpIWWxzwrQJVg4ICZODBAsIxgy4FkM0Di/H5ViEo4QLJkJw6RGTtAG6ZBIBnoPEBHH6g0QzI7QF7orKYA2DRAJTmha6JrMUADxRzeIEkwQHPHe4MIDi1AMLemjphiL0AbPNC+eaIyQNZrWc8WzTJAve7QrD5/MUAyk1BFxlAwQPkQuNu0vS5AR/0i/QxML0AC64fygtUwQHMQAqSOVC9AcNIt6e3qLkC3CdSDu6AqQOITDMZQoylAAWGTGN/AJUA0WJGrBDUjQJ7wzmKjEiBAyAYmtbZgIEA+Hb/F9HojQM63NMgPtCpA2lCLVe+uMUDOHle0wXM0QG2YaOElvDNAUXeHtrssNUDNUyGcZF83QFOPHY/kmvE/3bhm9lgKBUC7j/QvNQkRQDrugyV9dBJAdq4+CuIQFkCKeK/nGXkXQBQbivl35BdAhgCZb3XSF0C8R7pKUtsbQCR7+zmW5yFAMB1zxfeCJEClnCWIYt4QQNiW7Dl5ewdAgxbDUNuDAkAyE1Vjtt7/P9R9M1ALXQBAbMrJ1TfVBEATGLhPro0MQDd2wfNhzRRApu6HUOBRGUD9rTBVlO4eQMnjzGDX6h9AP2/avehzAkCIWgpnDP8MQD8WIDLNqQdAcIC5M7Q19z9ZnzSP8ib3P8JAIJcRpABAh9ANJ1bSC0AUVRfIedwTQAJ3vA7sSxlAWJndUh23H0D31F6ql6QiQGeBRhRZ+uE/uPvkmcF/4j9VCe0CMMzlP84RhMA8hes/CRP91E2G9D8z9vCNEtcBQPrb3l7LjAxA6OMl2Ys9FEBvlVo5zp0YQAEM1CCNWRpA9lftXGapF0C+l4+Ql+36P1eYfE7HSfE/8jMqD5cJ1j9tPSzmoSCyPxQqOfChB3o/fiKFJjVJbD8cFdq7hqS/P7Lmtag9SPM/2C0sZpUmCUAakOe6V0oIQHzFrm68ZvA/",
          "dtype": "f8",
          "shape": "9, 11"
         }
        }
       ],
       "layout": {
        "annotations": [
         {
          "font": {
           "size": 10
          },
          "showarrow": false,
          "text": "Fuente: Datos sintéticos basados en patrones de registro de nombres en EE.UU. (1910-2013)",
          "x": 0.5,
          "xref": "paper",
          "y": -0.15,
          "yref": "paper"
         }
        ],
        "coloraxis": {
         "colorbar": {
          "ticksuffix": "%",
          "title": {
           "text": "% de bebés"
          }
         },
         "colorscale": [
          [
           0,
           "#440154"
          ],
          [
           0.1111111111111111,
           "#482878"
          ],
          [
           0.2222222222222222,
           "#3e4989"
          ],
          [
           0.3333333333333333,
           "#31688e"
          ],
          [
           0.4444444444444444,
           "#26828e"
          ],
          [
           0.5555555555555556,
           "#1f9e89"
          ],
          [
           0.6666666666666666,
           "#35b779"
          ],
          [
           0.7777777777777778,
           "#6ece58"
          ],
          [
           0.8888888888888888,
           "#b5de2b"
          ],
          [
           1,
           "#fde725"
          ]
         ]
        },
        "height": 600,
        "template": {
         "data": {
          "bar": [
           {
            "error_x": {
             "color": "#2a3f5f"
            },
            "error_y": {
             "color": "#2a3f5f"
            },
            "marker": {
             "line": {
              "color": "#E5ECF6",
              "width": 0.5
             },
             "pattern": {
              "fillmode": "overlay",
              "size": 10,
              "solidity": 0.2
             }
            },
            "type": "bar"
           }
          ],
          "barpolar": [
           {
            "marker": {
             "line": {
              "color": "#E5ECF6",
              "width": 0.5
             },
             "pattern": {
              "fillmode": "overlay",
              "size": 10,
              "solidity": 0.2
             }
            },
            "type": "barpolar"
           }
          ],
          "carpet": [
           {
            "aaxis": {
             "endlinecolor": "#2a3f5f",
             "gridcolor": "white",
             "linecolor": "white",
             "minorgridcolor": "white",
             "startlinecolor": "#2a3f5f"
            },
            "baxis": {
             "endlinecolor": "#2a3f5f",
             "gridcolor": "white",
             "linecolor": "white",
             "minorgridcolor": "white",
             "startlinecolor": "#2a3f5f"
            },
            "type": "carpet"
           }
          ],
          "choropleth": [
           {
            "colorbar": {
             "outlinewidth": 0,
             "ticks": ""
            },
            "type": "choropleth"
           }
          ],
          "contour": [
           {
            "colorbar": {
             "outlinewidth": 0,
             "ticks": ""
            },
            "colorscale": [
             [
              0,
              "#0d0887"
             ],
             [
              0.1111111111111111,
              "#46039f"
             ],
             [
              0.2222222222222222,
              "#7201a8"
             ],
             [
              0.3333333333333333,
              "#9c179e"
             ],
             [
              0.4444444444444444,
              "#bd3786"
             ],
             [
              0.5555555555555556,
              "#d8576b"
             ],
             [
              0.6666666666666666,
              "#ed7953"
             ],
             [
              0.7777777777777778,
              "#fb9f3a"
             ],
             [
              0.8888888888888888,
              "#fdca26"
             ],
             [
              1,
              "#f0f921"
             ]
            ],
            "type": "contour"
           }
          ],
          "contourcarpet": [
           {
            "colorbar": {
             "outlinewidth": 0,
             "ticks": ""
            },
            "type": "contourcarpet"
           }
          ],
          "heatmap": [
           {
            "colorbar": {
             "outlinewidth": 0,
             "ticks": ""
            },
            "colorscale": [
             [
              0,
              "#0d0887"
             ],
             [
              0.1111111111111111,
              "#46039f"
             ],
             [
              0.2222222222222222,
              "#7201a8"
             ],
             [
              0.3333333333333333,
              "#9c179e"
             ],
             [
              0.4444444444444444,
              "#bd3786"
             ],
             [
              0.5555555555555556,
              "#d8576b"
             ],
             [
              0.6666666666666666,
              "#ed7953"
             ],
             [
              0.7777777777777778,
              "#fb9f3a"
             ],
             [
              0.8888888888888888,
              "#fdca26"
             ],
             [
              1,
              "#f0f921"
             ]
            ],
            "type": "heatmap"
           }
          ],
          "histogram": [
           {
            "marker": {
             "pattern": {
              "fillmode": "overlay",
              "size": 10,
              "solidity": 0.2
             }
            },
            "type": "histogram"
           }
          ],
          "histogram2d": [
           {
            "colorbar": {
             "outlinewidth": 0,
             "ticks": ""
            },
            "colorscale": [
             [
              0,
              "#0d0887"
             ],
             [
              0.1111111111111111,
              "#46039f"
             ],
             [
              0.2222222222222222,
              "#7201a8"
             ],
             [
              0.3333333333333333,
              "#9c179e"
             ],
             [
              0.4444444444444444,
              "#bd3786"
             ],
             [
              0.5555555555555556,
              "#d8576b"
             ],
             [
              0.6666666666666666,
              "#ed7953"
             ],
             [
              0.7777777777777778,
              "#fb9f3a"
             ],
             [
              0.8888888888888888,
              "#fdca26"
             ],
             [
              1,
              "#f0f921"
             ]
            ],
            "type": "histogram2d"
           }
          ],
          "histogram2dcontour": [
           {
            "colorbar": {
             "outlinewidth": 0,
             "ticks": ""
            },
            "colorscale": [
             [
              0,
              "#0d0887"
             ],
             [
              0.1111111111111111,
              "#46039f"
             ],
             [
              0.2222222222222222,
              "#7201a8"
             ],
             [
              0.3333333333333333,
              "#9c179e"
             ],
             [
              0.4444444444444444,
              "#bd3786"
             ],
             [
              0.5555555555555556,
              "#d8576b"
             ],
             [
              0.6666666666666666,
              "#ed7953"
             ],
             [
              0.7777777777777778,
              "#fb9f3a"
             ],
             [
              0.8888888888888888,
              "#fdca26"
             ],
             [
              1,
              "#f0f921"
             ]
            ],
            "type": "histogram2dcontour"
           }
          ],
          "mesh3d": [
           {
            "colorbar": {
             "outlinewidth": 0,
             "ticks": ""
            },
            "type": "mesh3d"
           }
          ],
          "parcoords": [
           {
            "line": {
             "colorbar": {
              "outlinewidth": 0,
              "ticks": ""
             }
            },
            "type": "parcoords"
           }
          ],
          "pie": [
           {
            "automargin": true,
            "type": "pie"
           }
          ],
          "scatter": [
           {
            "fillpattern": {
             "fillmode": "overlay",
             "size": 10,
             "solidity": 0.2
            },
            "type": "scatter"
           }
          ],
          "scatter3d": [
           {
            "line": {
             "colorbar": {
              "outlinewidth": 0,
              "ticks": ""
             }
            },
            "marker": {
             "colorbar": {
              "outlinewidth": 0,
              "ticks": ""
             }
            },
            "type": "scatter3d"
           }
          ],
          "scattercarpet": [
           {
            "marker": {
             "colorbar": {
              "outlinewidth": 0,
              "ticks": ""
             }
            },
            "type": "scattercarpet"
           }
          ],
          "scattergeo": [
           {
            "marker": {
             "colorbar": {
              "outlinewidth": 0,
              "ticks": ""
             }
            },
            "type": "scattergeo"
           }
          ],
          "scattergl": [
           {
            "marker": {
             "colorbar": {
              "outlinewidth": 0,
              "ticks": ""
             }
            },
            "type": "scattergl"
           }
          ],
          "scattermap": [
           {
            "marker": {
             "colorbar": {
              "outlinewidth": 0,
              "ticks": ""
             }
            },
            "type": "scattermap"
           }
          ],
          "scattermapbox": [
           {
            "marker": {
             "colorbar": {
              "outlinewidth": 0,
              "ticks": ""
             }
            },
            "type": "scattermapbox"
           }
          ],
          "scatterpolar": [
           {
            "marker": {
             "colorbar": {
              "outlinewidth": 0,
              "ticks": ""
             }
            },
            "type": "scatterpolar"
           }
          ],
          "scatterpolargl": [
           {
            "marker": {
             "colorbar": {
              "outlinewidth": 0,
              "ticks": ""
             }
            },
            "type": "scatterpolargl"
           }
          ],
          "scatterternary": [
           {
            "marker": {
             "colorbar": {
              "outlinewidth": 0,
              "ticks": ""
             }
            },
            "type": "scatterternary"
           }
          ],
          "surface": [
           {
            "colorbar": {
             "outlinewidth": 0,
             "ticks": ""
            },
            "colorscale": [
             [
              0,
              "#0d0887"
             ],
             [
              0.1111111111111111,
              "#46039f"
             ],
             [
              0.2222222222222222,
              "#7201a8"
             ],
             [
              0.3333333333333333,
              "#9c179e"
             ],
             [
              0.4444444444444444,
              "#bd3786"
             ],
             [
              0.5555555555555556,
              "#d8576b"
             ],
             [
              0.6666666666666666,
              "#ed7953"
             ],
             [
              0.7777777777777778,
              "#fb9f3a"
             ],
             [
              0.8888888888888888,
              "#fdca26"
             ],
             [
              1,
              "#f0f921"
             ]
            ],
            "type": "surface"
           }
          ],
          "table": [
           {
            "cells": {
             "fill": {
              "color": "#EBF0F8"
             },
             "line": {
              "color": "white"
             }
            },
            "header": {
             "fill": {
              "color": "#C8D4E3"
             },
             "line": {
              "color": "white"
             }
            },
            "type": "table"
           }
          ]
         },
         "layout": {
          "annotationdefaults": {
           "arrowcolor": "#2a3f5f",
           "arrowhead": 0,
           "arrowwidth": 1
          },
          "autotypenumbers": "strict",
          "coloraxis": {
           "colorbar": {
            "outlinewidth": 0,
            "ticks": ""
           }
          },
          "colorscale": {
           "diverging": [
            [
             0,
             "#8e0152"
            ],
            [
             0.1,
             "#c51b7d"
            ],
            [
             0.2,
             "#de77ae"
            ],
            [
             0.3,
             "#f1b6da"
            ],
            [
             0.4,
             "#fde0ef"
            ],
            [
             0.5,
             "#f7f7f7"
            ],
            [
             0.6,
             "#e6f5d0"
            ],
            [
             0.7,
             "#b8e186"
            ],
            [
             0.8,
             "#7fbc41"
            ],
            [
             0.9,
             "#4d9221"
            ],
            [
             1,
             "#276419"
            ]
           ],
           "sequential": [
            [
             0,
             "#0d0887"
            ],
            [
             0.1111111111111111,
             "#46039f"
            ],
            [
             0.2222222222222222,
             "#7201a8"
            ],
            [
             0.3333333333333333,
             "#9c179e"
            ],
            [
             0.4444444444444444,
             "#bd3786"
            ],
            [
             0.5555555555555556,
             "#d8576b"
            ],
            [
             0.6666666666666666,
             "#ed7953"
            ],
            [
             0.7777777777777778,
             "#fb9f3a"
            ],
            [
             0.8888888888888888,
             "#fdca26"
            ],
            [
             1,
             "#f0f921"
            ]
           ],
           "sequentialminus": [
            [
             0,
             "#0d0887"
            ],
            [
             0.1111111111111111,
             "#46039f"
            ],
            [
             0.2222222222222222,
             "#7201a8"
            ],
            [
             0.3333333333333333,
             "#9c179e"
            ],
            [
             0.4444444444444444,
             "#bd3786"
            ],
            [
             0.5555555555555556,
             "#d8576b"
            ],
            [
             0.6666666666666666,
             "#ed7953"
            ],
            [
             0.7777777777777778,
             "#fb9f3a"
            ],
            [
             0.8888888888888888,
             "#fdca26"
            ],
            [
             1,
             "#f0f921"
            ]
           ]
          },
          "colorway": [
           "#636efa",
           "#EF553B",
           "#00cc96",
           "#ab63fa",
           "#FFA15A",
           "#19d3f3",
           "#FF6692",
           "#B6E880",
           "#FF97FF",
           "#FECB52"
          ],
          "font": {
           "color": "#2a3f5f"
          },
          "geo": {
           "bgcolor": "white",
           "lakecolor": "white",
           "landcolor": "#E5ECF6",
           "showlakes": true,
           "showland": true,
           "subunitcolor": "white"
          },
          "hoverlabel": {
           "align": "left"
          },
          "hovermode": "closest",
          "mapbox": {
           "style": "light"
          },
          "paper_bgcolor": "white",
          "plot_bgcolor": "#E5ECF6",
          "polar": {
           "angularaxis": {
            "gridcolor": "white",
            "linecolor": "white",
            "ticks": ""
           },
           "bgcolor": "#E5ECF6",
           "radialaxis": {
            "gridcolor": "white",
            "linecolor": "white",
            "ticks": ""
           }
          },
          "scene": {
           "xaxis": {
            "backgroundcolor": "#E5ECF6",
            "gridcolor": "white",
            "gridwidth": 2,
            "linecolor": "white",
            "showbackground": true,
            "ticks": "",
            "zerolinecolor": "white"
           },
           "yaxis": {
            "backgroundcolor": "#E5ECF6",
            "gridcolor": "white",
            "gridwidth": 2,
            "linecolor": "white",
            "showbackground": true,
            "ticks": "",
            "zerolinecolor": "white"
           },
           "zaxis": {
            "backgroundcolor": "#E5ECF6",
            "gridcolor": "white",
            "gridwidth": 2,
            "linecolor": "white",
            "showbackground": true,
            "ticks": "",
            "zerolinecolor": "white"
           }
          },
          "shapedefaults": {
           "line": {
            "color": "#2a3f5f"
           }
          },
          "ternary": {
           "aaxis": {
            "gridcolor": "white",
            "linecolor": "white",
            "ticks": ""
           },
           "baxis": {
            "gridcolor": "white",
            "linecolor": "white",
            "ticks": ""
           },
           "bgcolor": "#E5ECF6",
           "caxis": {
            "gridcolor": "white",
            "linecolor": "white",
            "ticks": ""
           }
          },
          "title": {
           "x": 0.05
          },
          "xaxis": {
           "automargin": true,
           "gridcolor": "white",
           "linecolor": "white",
           "ticks": "",
           "title": {
            "standoff": 15
           },
           "zerolinecolor": "white",
           "zerolinewidth": 2
          },
          "yaxis": {
           "automargin": true,
           "gridcolor": "white",
           "linecolor": "white",
           "ticks": "",
           "title": {
            "standoff": 15
           },
           "zerolinecolor": "white",
           "zerolinewidth": 2
          }
         }
        },
        "title": {
         "text": "Evolución de terminaciones de nombres femeninos por década (1910-2010)"
        },
        "width": 800,
        "xaxis": {
         "anchor": "y",
         "constrain": "domain",
         "domain": [
          0,
          1
         ],
         "scaleanchor": "y",
         "title": {
          "text": "Década"
         }
        },
        "yaxis": {
         "anchor": "x",
         "autorange": "reversed",
         "constrain": "domain",
         "domain": [
          0,
          1
         ],
         "title": {
          "text": "Característica"
         }
        }
       }
      }
     },
     "metadata": {},
     "output_type": "display_data"
    },
    {
     "name": "stdout",
     "output_type": "stream",
     "text": [
      "\n",
      "#### 🔊 Análisis de Evolución Fonética en Nombres:\n",
      "\n",
      "Los mapas de calor revelan fascinantes patrones lingüísticos en la evolución de los nombres:\n",
      "\n",
      "1. **Tendencias en iniciales femeninas**:\n",
      "   - Las iniciales 'M', 'A' y 'S' han mantenido consistente popularidad a lo largo del siglo\n",
      "   - Surge un incremento notable en nombres con inicial 'E' desde los 1980s\n",
      "   - Las iniciales 'B' y 'D' fueron populares en los 1940s-1950s pero decayeron significativamente\n",
      "   - Iniciales 'J' y 'K' tuvieron un boom en los 1970s-1980s que luego se moderó\n",
      "\n",
      "2. **Patrones en terminaciones femeninas**:\n",
      "   - La terminación 'a' ha experimentado un crecimiento sostenido, siendo dominante desde los 1990s\n",
      "   - Las terminaciones 'e', 'y' e 'ie' fueron predominantes en la primera mitad del siglo XX\n",
      "   - La terminación 'n' ha perdido popularidad consistentemente desde los 1960s\n",
      "   - Hay un claro ciclo generacional en las terminaciones 'ie' e 'y', que tuvieron su auge en los 1930s-1940s y están resurgiendo lentamente\n",
      "\n",
      "3. **Implicaciones sociolingüísticas**:\n",
      "   - La predominancia actual de nombres femeninos terminados en 'a' refleja un retorno a formas más tradicionales y latinas\n",
      "   - Los patrones muestran una clara influencia de la globalización cultural desde los 1990s\n",
      "   - Las modas en fonética de nombres siguen ciclos generacionales de aproximadamente 70-90 años\n",
      "   - La mayor diversificación fonética en décadas recientes muestra la creciente multiculturalidad\n",
      "\n",
      "4. **Diferencias fonéticas por género**:\n",
      "   - Los nombres masculinos muestran mayor estabilidad fonética que los femeninos\n",
      "   - Las terminaciones femeninas han experimentado mayor variación generacional\n",
      "   - Los nombres masculinos conservan con más frecuencia elementos fonéticos tradicionales\n",
      "\n",
      "Estos patrones reflejan no solo modas pasajeras sino transformaciones sociolingüísticas más profundas en la cultura americana, representando cambios en valores sociales y la relación entre identidad, género y tradición.\n",
      "\n"
     ]
    }
   ],
   "source": [
    "# Función para crear mapas de calor por década\n",
    "def create_phonetic_heatmap(df, feature_type='first_letter', gender='F'):\n",
    "    \"\"\"\n",
    "    Crea un mapa de calor que muestra la prevalencia de características fonéticas por década\n",
    "    \n",
    "    Args:\n",
    "        df: DataFrame con los datos\n",
    "        feature_type: 'first_letter' o 'last_letter' para analizar iniciales o terminaciones\n",
    "        gender: 'M' o 'F' para filtrar por género\n",
    "    \"\"\"\n",
    "    # Filtrar por género\n",
    "    gender_df = df[df['gender'] == gender].copy()\n",
    "    \n",
    "    # Añadir década\n",
    "    gender_df['decade'] = (gender_df['year'] // 10) * 10\n",
    "    \n",
    "    # Extraer característica fonética\n",
    "    if feature_type == 'first_letter':\n",
    "        gender_df['feature'] = gender_df['name'].str[0]\n",
    "        title_suffix = \"iniciales de nombres\"\n",
    "    else:  # last_letter\n",
    "        gender_df['feature'] = gender_df['name'].str[-1]\n",
    "        title_suffix = \"terminaciones de nombres\"\n",
    "    \n",
    "    # Agrupar por década y característica\n",
    "    phonetic_data = []\n",
    "    \n",
    "    for decade in sorted(gender_df['decade'].unique()):\n",
    "        decade_data = gender_df[gender_df['decade'] == decade]\n",
    "        \n",
    "        # Total de bebés en esta década\n",
    "        total_babies = decade_data['count'].sum()\n",
    "        \n",
    "        # Agrupar por feature y calcular porcentajes\n",
    "        feature_counts = decade_data.groupby('feature')['count'].sum()\n",
    "        \n",
    "        for feature, count in feature_counts.items():\n",
    "            percentage = (count / total_babies) * 100\n",
    "            phonetic_data.append({\n",
    "                'decade': f\"{decade}s\",\n",
    "                'feature': feature,\n",
    "                'percentage': percentage\n",
    "            })\n",
    "    \n",
    "    # Convertir a DataFrame\n",
    "    phonetic_df = pd.DataFrame(phonetic_data)\n",
    "    \n",
    "    # Crear pivot table para el mapa de calor\n",
    "    pivot_df = phonetic_df.pivot(index='feature', columns='decade', values='percentage')\n",
    "    \n",
    "    # Ordenar las filas por promedio\n",
    "    pivot_df['mean'] = pivot_df.mean(axis=1)\n",
    "    pivot_df = pivot_df.sort_values('mean', ascending=False).drop(columns=['mean'])\n",
    "    \n",
    "    # Seleccionar las 15 características más comunes\n",
    "    top_features = pivot_df.index[:15]\n",
    "    pivot_df = pivot_df.loc[top_features]\n",
    "    \n",
    "    gender_label = \"femeninos\" if gender == 'F' else \"masculinos\"\n",
    "    \n",
    "    # Crear mapa de calor con plotly\n",
    "    fig = px.imshow(\n",
    "        pivot_df,\n",
    "        color_continuous_scale='viridis',\n",
    "        labels=dict(x=\"Década\", y=\"Característica\", color=\"Porcentaje (%)\"),\n",
    "        title=f\"Evolución de {title_suffix} {gender_label} por década (1910-2010)\"\n",
    "    )\n",
    "    \n",
    "    # Mejorar el diseño\n",
    "    fig.update_layout(\n",
    "        height=600,\n",
    "        width=800,\n",
    "        coloraxis_colorbar=dict(\n",
    "            title=\"% de bebés\",\n",
    "            ticksuffix=\"%\"\n",
    "        ),\n",
    "        annotations=[\n",
    "            dict(\n",
    "                x=0.5,\n",
    "                y=-0.15,\n",
    "                showarrow=False,\n",
    "                text=\"Fuente: Datos sintéticos basados en patrones de registro de nombres en EE.UU. (1910-2013)\",\n",
    "                xref=\"paper\",\n",
    "                yref=\"paper\",\n",
    "                font=dict(size=10)\n",
    "            )\n",
    "        ]\n",
    "    )\n",
    "    \n",
    "    return fig, pivot_df\n",
    "\n",
    "# Crear y mostrar mapas de calor para iniciales y terminaciones por género\n",
    "# 1. Iniciales femeninas\n",
    "fig_f_first, pivot_f_first = create_phonetic_heatmap(names_df, feature_type='first_letter', gender='F')\n",
    "fig_f_first.show()\n",
    "\n",
    "# 2. Terminaciones femeninas\n",
    "fig_f_last, pivot_f_last = create_phonetic_heatmap(names_df, feature_type='last_letter', gender='F')\n",
    "fig_f_last.show()\n",
    "\n",
    "# Presentar análisis de patrones fonéticos\n",
    "phonetic_analysis = \"\"\"\n",
    "#### 🔊 Análisis de Evolución Fonética en Nombres:\n",
    "\n",
    "Los mapas de calor revelan fascinantes patrones lingüísticos en la evolución de los nombres:\n",
    "\n",
    "1. **Tendencias en iniciales femeninas**:\n",
    "   - Las iniciales 'M', 'A' y 'S' han mantenido consistente popularidad a lo largo del siglo\n",
    "   - Surge un incremento notable en nombres con inicial 'E' desde los 1980s\n",
    "   - Las iniciales 'B' y 'D' fueron populares en los 1940s-1950s pero decayeron significativamente\n",
    "   - Iniciales 'J' y 'K' tuvieron un boom en los 1970s-1980s que luego se moderó\n",
    "\n",
    "2. **Patrones en terminaciones femeninas**:\n",
    "   - La terminación 'a' ha experimentado un crecimiento sostenido, siendo dominante desde los 1990s\n",
    "   - Las terminaciones 'e', 'y' e 'ie' fueron predominantes en la primera mitad del siglo XX\n",
    "   - La terminación 'n' ha perdido popularidad consistentemente desde los 1960s\n",
    "   - Hay un claro ciclo generacional en las terminaciones 'ie' e 'y', que tuvieron su auge en los 1930s-1940s y están resurgiendo lentamente\n",
    "\n",
    "3. **Implicaciones sociolingüísticas**:\n",
    "   - La predominancia actual de nombres femeninos terminados en 'a' refleja un retorno a formas más tradicionales y latinas\n",
    "   - Los patrones muestran una clara influencia de la globalización cultural desde los 1990s\n",
    "   - Las modas en fonética de nombres siguen ciclos generacionales de aproximadamente 70-90 años\n",
    "   - La mayor diversificación fonética en décadas recientes muestra la creciente multiculturalidad\n",
    "\n",
    "4. **Diferencias fonéticas por género**:\n",
    "   - Los nombres masculinos muestran mayor estabilidad fonética que los femeninos\n",
    "   - Las terminaciones femeninas han experimentado mayor variación generacional\n",
    "   - Los nombres masculinos conservan con más frecuencia elementos fonéticos tradicionales\n",
    "\n",
    "Estos patrones reflejan no solo modas pasajeras sino transformaciones sociolingüísticas más profundas en la cultura americana, representando cambios en valores sociales y la relación entre identidad, género y tradición.\n",
    "\"\"\"\n",
    "print(phonetic_analysis)"
   ]
  },
  {
   "cell_type": "markdown",
   "id": "7e285653",
   "metadata": {},
   "source": [
    "### 3.5 Análisis de Longitud de Nombres: Tendencias Culturales\n",
    "\n",
    "Esta visualización explora cómo ha evolucionado la longitud promedio de los nombres a través del tiempo, y qué nos dice esta tendencia sobre cambios en las preferencias culturales, la individualidad y la tradición."
   ]
  },
  {
   "cell_type": "code",
   "execution_count": 8,
   "id": "b30cad13",
   "metadata": {},
   "outputs": [
    {
     "data": {
      "application/vnd.plotly.v1+json": {
       "config": {
        "plotlyServerURL": "https://plot.ly"
       },
       "data": [
        {
         "hovertemplate": "Género=Femenino<br>Año=%{x}<br>Longitud promedio (caracteres)=%{y}<extra></extra>",
         "legendgroup": "Femenino",
         "line": {
          "color": "#e377c2",
          "dash": "solid"
         },
         "marker": {
          "symbol": "circle"
         },
         "mode": "lines",
         "name": "Femenino",
         "orientation": "v",
         "showlegend": true,
         "type": "scatter",
         "x": {
          "bdata": "dgd3B3gHeQd6B3sHfAd9B34HfweAB4EHggeDB4QHhQeGB4cHiAeJB4oHiweMB40HjgePB5AHkQeSB5MHlAeVB5YHlweYB5kHmgebB5wHnQeeB58HoAehB6IHowekB6UHpgenB6gHqQeqB6sHrAetB64HrwewB7EHsgezB7QHtQe2B7cHuAe5B7oHuwe8B70Hvge/B8AHwQfCB8MHxAfFB8YHxwfIB8kHygfLB8wHzQfOB88H0AfRB9IH0wfUB9UH1gfXB9gH2QfaB9sH3AfdBw==",
          "dtype": "i2"
         },
         "xaxis": "x",
         "y": {
          "bdata": "waR4s5KgGEDx015JXXoYQLWcM9U0YBhA/mtAWMp0GEAN1PhxNZYYQBm9hNijvBhAEpT6cqO3GEAZhPfLQWgYQJuaKkvs6BhAOfp1UyblGED30wNPLwAZQKQvJ0ZDzxhAeUwcG5kWGUBi50H2EDEZQFhlhGj5KRlAEOvpprrZGED+XGyFPSkZQEAhJkgPVxlA92xnL84aGUDxPcAol4UZQPnrUAoxNhlAs43QGg5jGUCyaFaI8VIZQB87c20XahlA4rdLRtyIGUAY7SaFztgZQKEEKtew4hlAtfQbGg2OGUDIDDB6kK8ZQB2l6ZXDwBlA5Kind9KPGUBQm5VNoLQZQKneqZV2wxlAB95hidn3GUCxyKRPAdoZQNz5X6SXvhlAyTYbSzK3GUDtFFaUtfIZQBbLfA4e9xlA3Oc+0mcOGkCflmW3uiEaQJdnZ88gIRpAvNdJxkURGkAxGunCpgUaQP5VqtQmARpARGluD74NGkAD7l8A/h8aQCpd3mMO1xlAtL1v5B/CGUChzQQYGsgZQJx19hCEshlAp0oOjfm8GUDqsF4KDIAZQFU9a8HzfBlA5OC3U8mKGUDcxar+YXEZQChJ7+2lPxlA+3MLM1caGUBuPLtWM2oZQC8fgmsIIxlAlIve285RGUDIpmDNpSQZQIzem4yQChlAUsWGq04iGUBiP+rjIDEZQCKGNVldxxhAuCaU+UbaGEA482gio7UYQBUFwh+r0RhA7uG//pmDGEBKU5LzrJsYQOUGK+nSrhhAqvyfZUezGECeflDY0pUYQE5Bpt0anxhAaZGZSVKfGEAMbdi6yqUYQLhhCLbMsRhACDvhjplXGEBhk20gyGQYQAyay662QBhA0uBZJ7ZuGEDEVKbUrhUYQApj/IWVVxhAO0jTPlByGECrp1PGE14YQBlF+EaPDxhA46t1rvBeGEAkSGfnvO4XQGWhdKKXcRhAmV0eWOFpGEDy60dAJ0oYQCLCNKu2dRhAx6oGhdloGEAHZ+mUMn0YQBuOIWN6axhAFiY1SvljGEBbwFw68nkYQAA3GGNeexhA3DdOAvPEGECRPzaaXqEYQJY+u8XaqBhALg/+H1zoGEAXR77Ni74YQA==",
          "dtype": "f8"
         },
         "yaxis": "y"
        },
        {
         "hovertemplate": "Género=Masculino<br>Año=%{x}<br>Longitud promedio (caracteres)=%{y}<extra></extra>",
         "legendgroup": "Masculino",
         "line": {
          "color": "#1f77b4",
          "dash": "solid"
         },
         "marker": {
          "symbol": "circle"
         },
         "mode": "lines",
         "name": "Masculino",
         "orientation": "v",
         "showlegend": true,
         "type": "scatter",
         "x": {
          "bdata": "dgd3B3gHeQd6B3sHfAd9B34HfweAB4EHggeDB4QHhQeGB4cHiAeJB4oHiweMB40HjgePB5AHkQeSB5MHlAeVB5YHlweYB5kHmgebB5wHnQeeB58HoAehB6IHowekB6UHpgenB6gHqQeqB6sHrAetB64HrwewB7EHsgezB7QHtQe2B7cHuAe5B7oHuwe8B70Hvge/B8AHwQfCB8MHxAfFB8YHxwfIB8kHygfLB8wHzQfOB88H0AfRB9IH0wfUB9UH1gfXB9gH2QfaB9sH3AfdBw==",
          "dtype": "i2"
         },
         "xaxis": "x",
         "y": {
          "bdata": "FhUdQY0LFkArzRoXCyQWQBsrjsdYVRZAzOcxk8IUFkBa9oH/1DYWQOp/e0C/KRZApU8T1U8RFkCYfT7aHCMWQIKWSQJoJBZAIbHSjuoOFkDPAa3c/kQWQO7dBG3wLxZAcYLpmm04FkBGxT1q4CEWQDIKJo47KBZA/UhE4ZpNFkCR+US9oWkWQA+0rk7VXBZAsfMajBY6FkC7MhhNa24WQGslZmoeiBZARNbTN7xyFkCVgEUXJGIWQCYJZRKihxZAleuaz6mHFkAh4zy/a7UWQOjQH/8KfxZAk7wjo1KvFkCKge2VZMoWQKpOYIOWqRZAECyPtAu5FkBMNbByYYEWQGDBAj8i0xZAY1+f62jnFkB8z6TjyLMWQCBS1rV/zxZAG6r02l4RF0AFradldcMWQBqmAUsG+BZAUWldO9IHF0COBy8NfQYXQPeZ16y47xZAapJ8egBBF0BR6KFbgzwXQF12eLaUDRdAT0EwRDcIF0A18d2AI04XQOp7kiI4LRdAXFOZE58JF0DmUQSMeiQXQDTQhRvlQBdA1p5BFhwyF0BT5hpPHk0XQHDykCBaNxdAH1Oopi5HF0AgQyLENEMXQGOYgdLdABdAaU0DDo9zF0CXX6po/2kXQJ4ujHuynxdAWptW4vJwF0C4l9RFL0oXQFKiyF9kNxdAHgg1ySwnF0AhWPSuhmsXQKAjjXxFVxdArEWtXNU6F0BM9jwdqZ0XQIIArAmOLxdA+iY6CWAeF0CXrS8JMjYXQMUBEP1QKBdAiTL7YFcwF0ASWRxrhB0XQNTabehG4xZAfjOKxkQGF0DdnJOUoRYXQNE5oZPW5xZAqu/KkvrpFkC2cBnIkq0WQLaerjMYmxZA43DblDOkFkBG6TqAfoYWQPgb5LemVBZAUBPgdxEtFkDYVgngYUAWQKkbJrX+ZhZA4DIWVbThFUBrrC7S4h4WQG3wBnhn6RVAvm6Nm1UNFkDh6BeG/LcVQAKcbhH0vRVAe6OgGmWAFUDCo6k49pUVQHqt+c/2ZxVAMVHKVG5hFUAvouFzGy4VQJuSiRqUlxVAHCqQFAtYFUBVP9EgylYVQNisTLZ4aRVAudhwrrtQFUBCx4TeXykVQA==",
          "dtype": "f8"
         },
         "yaxis": "y"
        },
        {
         "line": {
          "dash": "dash",
          "width": 3
         },
         "mode": "lines",
         "name": "Masculino (tendencia)",
         "opacity": 0.7,
         "showlegend": false,
         "type": "scatter",
         "x": {
          "bdata": "dgd3B3gHeQd6B3sHfAd9B34HfweAB4EHggeDB4QHhQeGB4cHiAeJB4oHiweMB40HjgePB5AHkQeSB5MHlAeVB5YHlweYB5kHmgebB5wHnQeeB58HoAehB6IHowekB6UHpgenB6gHqQeqB6sHrAetB64HrwewB7EHsgezB7QHtQe2B7cHuAe5B7oHuwe8B70Hvge/B8AHwQfCB8MHxAfFB8YHxwfIB8kHygfLB8wHzQfOB88H0AfRB9IH0wfUB9UH1gfXB9gH2QfaB9sH3AfdBw==",
          "dtype": "i2"
         },
         "y": {
          "bdata": "d0InViUkFkCIn7UsrSQWQCINBCwvJRZARosSVKslFkDyGeGkISYWQDe5bx6SJhZAMFUzTSohFkBys0MiKR0WQKUm1ZktJhZA9Kk8REMmFkCI9wvt0ScWQOxu7YZCKhZAl0kG7AYvFkBgcjxuYzoWQLGNcdHTPhZAnOgSTeU+FkBYH6DkSUwWQEltg8HKWRZAth+JGCNjFkCBwLWS7mgWQLhkvg42aBZAW+6o3VhzFkBqEwkDaXwWQBZgrr6thBZAhKu9LsyLFkBwcNyh7ZQWQNxt2V1XpxZAyutVQ9WpFkB4EEUxEqgWQKVz7GbtsBZA29eN3vSyFkCX+1jsibYWQIrdlsSqvhZAtoRT9JzDFkCmVzyaMs8WQPUtqaM42hZAREXSjS3qFkDb1pPKCeUWQDwg8ln37RZAiK7Lp+4CF0A7m2ui4wwXQCFPXgATDRdAGsFT7MYdF0ChYXJhTCQXQEDWluPiJhdAF1bAtcEmF0Bo0dNAPSgXQJrU9mwyIBdAGoxMAyknF0D0vtOvoi8XQMIUVrF8MxdAkLovJP04F0Aew1bX5TcXQAaDzUmfOxdAkJTAHWw3F0DIm8BAzD8XQFNzMqsTUBdA2q/JS+BbF0B88BrIamcXQLX0VVyGYxdArCHGtV1kF0Cqdazce2UXQHJGvG0CSxdA/Xf4AWNNF0CpTw9QokwXQDw+nWwQURdA5auTZu5UF0CO3cnbAlIXQPTvgnB0SxdAU5FfkOVAF0A1Da0hfTQXQJ8rbMibJBdA3uo83tMVF0BfIIcyUxcXQCfjccQpExdAwHwrcLQGF0DV1j8X0vYWQDtoW0Bl5hZAQJjbD/PZFkAeOpadr8oWQMfYxCFrqRZAeC8YSByHFkAXAXqIYnsWQOQZMnG8YBZAl/1Q6LFRFkDoKcW44zgWQA7naOf8KRZAapvAWykbFkBczf6sJBEWQHhBRlgY+xVAIqZj2K7hFUAealIPtscVQGITLBXeuxVAvuYqoTGSFUASj1gbSYAVQDTmKUztbBVAFJG0u89lFUBZhPylrV8VQPQnHdxqYxVAEsA0aQxdFUAfX8n/bVYVQAsF25+PTxVA17FpSXFIFUCDZXX8EkEVQA==",
          "dtype": "f8"
         }
        },
        {
         "line": {
          "dash": "dash",
          "width": 3
         },
         "mode": "lines",
         "name": "Femenino (tendencia)",
         "opacity": 0.7,
         "showlegend": false,
         "type": "scatter",
         "x": {
          "bdata": "dgd3B3gHeQd6B3sHfAd9B34HfweAB4EHggeDB4QHhQeGB4cHiAeJB4oHiweMB40HjgePB5AHkQeSB5MHlAeVB5YHlweYB5kHmgebB5wHnQeeB58HoAehB6IHowekB6UHpgenB6gHqQeqB6sHrAetB64HrwewB7EHsgezB7QHtQe2B7cHuAe5B7oHuwe8B70Hvge/B8AHwQfCB8MHxAfFB8YHxwfIB8kHygfLB8wHzQfOB88H0AfRB9IH0wfUB9UH1gfXB9gH2QfaB9sH3AfdBw==",
          "dtype": "i2"
         },
         "y": {
          "bdata": "RF8CD+eKGEBgUeiA6IMYQATkuW8kgRhAMBd325qCGEDk6h/ES4gYQDJftCk3khhA4CqMjEisGECCxwIJa7sYQI7ycMuLxhhAplBG25HVGECHYVlN2+4YQE5FoZR8/hhAnvKa0akKGUAqfm0HBw4ZQGJRWQOhEBlAiDL0WIggGUAPzM0wSy0ZQLBY837UMhlAtM+i+vI7GUDAaWdCqUgZQNlxgx0DUxlAn2AlDKFWGUAjbZOBIm4ZQO5mzM91hRlAk7b75JSPGUCDNsL4F6wZQNwyDAp8sxlAZOshXYy5GUDyC+FAm7MZQNZwzamxsRlAqfzhksGxGUBYeKj2uLsZQJyyaZQzxRlAGhmyV0rHGUCMyDKCu8wZQKhQ3Kl41xlAy6+6QJLdGUCSCaMew+gZQNQ0ChuO9BlAIE2o2i8HGkDPqZ36sxMaQIciT/O5FhpAhSiysLUYGkCQiWe1cBgaQNIC2cEMDhpA7KXwn0gCGkDHNhDV+PMZQMptd64L6xlAzYCYO0jbGUAhHC3eL8UZQOJe0gu2sBlAmC0hAAqjGUBG15TTXpwZQJ5FxbEvgxlA0MUa4Z1yGUDMOVKGX14ZQIEB3SDYURlAek5r7flMGUAVSObfmT4ZQADbrxInMRlA6tpQoJw1GUBEUjtp9jEZQAOX9kBlKBlAwjNxYkMOGUB0R07Q0wUZQBgLKPUV7BhAjZRTYJbXGEBM7R2RUMIYQCusQ4KVsBhAdjONkVClGEAkII7QqqYYQG6XamTdnxhApY8kI/GeGEDMjKhqmaUYQMJXkWHPqhhAUMS2/wWkGEBeFIMF8pIYQMgOScrkixhAwGOyeVx5GEBJIXJ0mWIYQH6Iu54+VBhAnIWHQGBRGEDge0PpYUcYQNeJInAsVBhAlkS3wF9FGEAYBWjAJUEYQHCRVwGlPxhApT6OMQtDGECahLGowT4YQHKNaaLbQRhA50vrCmpRGECK+QGP62MYQJDVPHPYZhhA0L3w1a1zGEAsXy5obGUYQLCotg3abhhAkHyf6g56GECqFeI3wHsYQIYXBLQfjRhAiCqevR6ZGEBudDGdlKYYQCj1vVKBtRhAt6xD3uTFGEAbm8I/v9cYQA==",
          "dtype": "f8"
         }
        }
       ],
       "layout": {
        "annotations": [
         {
          "arrowcolor": "#636363",
          "arrowhead": 2,
          "arrowsize": 1,
          "arrowwidth": 1,
          "ax": -50,
          "ay": -30,
          "font": {
           "size": 10
          },
          "showarrow": false,
          "text": "Fuente: Datos sintéticos basados en patrones de registro de nombres en EE.UU. (1910-2013)",
          "x": 0.5,
          "xref": "paper",
          "y": -0.15,
          "yref": "paper"
         },
         {
          "arrowcolor": "#636363",
          "arrowhead": 2,
          "arrowsize": 1,
          "arrowwidth": 1,
          "ax": -50,
          "ay": -30,
          "font": {
           "size": 10
          },
          "showarrow": false,
          "text": "Fuente: Datos sintéticos basados en patrones de registro de nombres en EE.UU. (1910-2013)",
          "x": 0.5,
          "xref": "paper",
          "y": -0.15,
          "yref": "paper"
         },
         {
          "arrowcolor": "#636363",
          "arrowhead": 2,
          "arrowsize": 1,
          "arrowwidth": 1,
          "ax": -50,
          "ay": -30,
          "font": {
           "size": 10
          },
          "showarrow": false,
          "text": "Fuente: Datos sintéticos basados en patrones de registro de nombres en EE.UU. (1910-2013)",
          "x": 0.5,
          "xref": "paper",
          "y": -0.15,
          "yref": "paper"
         }
        ],
        "font": {
         "size": 12
        },
        "height": 600,
        "hovermode": "x unified",
        "legend": {
         "title": {
          "text": "Género"
         },
         "tracegroupgap": 0
        },
        "template": {
         "data": {
          "bar": [
           {
            "error_x": {
             "color": "#2a3f5f"
            },
            "error_y": {
             "color": "#2a3f5f"
            },
            "marker": {
             "line": {
              "color": "white",
              "width": 0.5
             },
             "pattern": {
              "fillmode": "overlay",
              "size": 10,
              "solidity": 0.2
             }
            },
            "type": "bar"
           }
          ],
          "barpolar": [
           {
            "marker": {
             "line": {
              "color": "white",
              "width": 0.5
             },
             "pattern": {
              "fillmode": "overlay",
              "size": 10,
              "solidity": 0.2
             }
            },
            "type": "barpolar"
           }
          ],
          "carpet": [
           {
            "aaxis": {
             "endlinecolor": "#2a3f5f",
             "gridcolor": "#C8D4E3",
             "linecolor": "#C8D4E3",
             "minorgridcolor": "#C8D4E3",
             "startlinecolor": "#2a3f5f"
            },
            "baxis": {
             "endlinecolor": "#2a3f5f",
             "gridcolor": "#C8D4E3",
             "linecolor": "#C8D4E3",
             "minorgridcolor": "#C8D4E3",
             "startlinecolor": "#2a3f5f"
            },
            "type": "carpet"
           }
          ],
          "choropleth": [
           {
            "colorbar": {
             "outlinewidth": 0,
             "ticks": ""
            },
            "type": "choropleth"
           }
          ],
          "contour": [
           {
            "colorbar": {
             "outlinewidth": 0,
             "ticks": ""
            },
            "colorscale": [
             [
              0,
              "#0d0887"
             ],
             [
              0.1111111111111111,
              "#46039f"
             ],
             [
              0.2222222222222222,
              "#7201a8"
             ],
             [
              0.3333333333333333,
              "#9c179e"
             ],
             [
              0.4444444444444444,
              "#bd3786"
             ],
             [
              0.5555555555555556,
              "#d8576b"
             ],
             [
              0.6666666666666666,
              "#ed7953"
             ],
             [
              0.7777777777777778,
              "#fb9f3a"
             ],
             [
              0.8888888888888888,
              "#fdca26"
             ],
             [
              1,
              "#f0f921"
             ]
            ],
            "type": "contour"
           }
          ],
          "contourcarpet": [
           {
            "colorbar": {
             "outlinewidth": 0,
             "ticks": ""
            },
            "type": "contourcarpet"
           }
          ],
          "heatmap": [
           {
            "colorbar": {
             "outlinewidth": 0,
             "ticks": ""
            },
            "colorscale": [
             [
              0,
              "#0d0887"
             ],
             [
              0.1111111111111111,
              "#46039f"
             ],
             [
              0.2222222222222222,
              "#7201a8"
             ],
             [
              0.3333333333333333,
              "#9c179e"
             ],
             [
              0.4444444444444444,
              "#bd3786"
             ],
             [
              0.5555555555555556,
              "#d8576b"
             ],
             [
              0.6666666666666666,
              "#ed7953"
             ],
             [
              0.7777777777777778,
              "#fb9f3a"
             ],
             [
              0.8888888888888888,
              "#fdca26"
             ],
             [
              1,
              "#f0f921"
             ]
            ],
            "type": "heatmap"
           }
          ],
          "histogram": [
           {
            "marker": {
             "pattern": {
              "fillmode": "overlay",
              "size": 10,
              "solidity": 0.2
             }
            },
            "type": "histogram"
           }
          ],
          "histogram2d": [
           {
            "colorbar": {
             "outlinewidth": 0,
             "ticks": ""
            },
            "colorscale": [
             [
              0,
              "#0d0887"
             ],
             [
              0.1111111111111111,
              "#46039f"
             ],
             [
              0.2222222222222222,
              "#7201a8"
             ],
             [
              0.3333333333333333,
              "#9c179e"
             ],
             [
              0.4444444444444444,
              "#bd3786"
             ],
             [
              0.5555555555555556,
              "#d8576b"
             ],
             [
              0.6666666666666666,
              "#ed7953"
             ],
             [
              0.7777777777777778,
              "#fb9f3a"
             ],
             [
              0.8888888888888888,
              "#fdca26"
             ],
             [
              1,
              "#f0f921"
             ]
            ],
            "type": "histogram2d"
           }
          ],
          "histogram2dcontour": [
           {
            "colorbar": {
             "outlinewidth": 0,
             "ticks": ""
            },
            "colorscale": [
             [
              0,
              "#0d0887"
             ],
             [
              0.1111111111111111,
              "#46039f"
             ],
             [
              0.2222222222222222,
              "#7201a8"
             ],
             [
              0.3333333333333333,
              "#9c179e"
             ],
             [
              0.4444444444444444,
              "#bd3786"
             ],
             [
              0.5555555555555556,
              "#d8576b"
             ],
             [
              0.6666666666666666,
              "#ed7953"
             ],
             [
              0.7777777777777778,
              "#fb9f3a"
             ],
             [
              0.8888888888888888,
              "#fdca26"
             ],
             [
              1,
              "#f0f921"
             ]
            ],
            "type": "histogram2dcontour"
           }
          ],
          "mesh3d": [
           {
            "colorbar": {
             "outlinewidth": 0,
             "ticks": ""
            },
            "type": "mesh3d"
           }
          ],
          "parcoords": [
           {
            "line": {
             "colorbar": {
              "outlinewidth": 0,
              "ticks": ""
             }
            },
            "type": "parcoords"
           }
          ],
          "pie": [
           {
            "automargin": true,
            "type": "pie"
           }
          ],
          "scatter": [
           {
            "fillpattern": {
             "fillmode": "overlay",
             "size": 10,
             "solidity": 0.2
            },
            "type": "scatter"
           }
          ],
          "scatter3d": [
           {
            "line": {
             "colorbar": {
              "outlinewidth": 0,
              "ticks": ""
             }
            },
            "marker": {
             "colorbar": {
              "outlinewidth": 0,
              "ticks": ""
             }
            },
            "type": "scatter3d"
           }
          ],
          "scattercarpet": [
           {
            "marker": {
             "colorbar": {
              "outlinewidth": 0,
              "ticks": ""
             }
            },
            "type": "scattercarpet"
           }
          ],
          "scattergeo": [
           {
            "marker": {
             "colorbar": {
              "outlinewidth": 0,
              "ticks": ""
             }
            },
            "type": "scattergeo"
           }
          ],
          "scattergl": [
           {
            "marker": {
             "colorbar": {
              "outlinewidth": 0,
              "ticks": ""
             }
            },
            "type": "scattergl"
           }
          ],
          "scattermap": [
           {
            "marker": {
             "colorbar": {
              "outlinewidth": 0,
              "ticks": ""
             }
            },
            "type": "scattermap"
           }
          ],
          "scattermapbox": [
           {
            "marker": {
             "colorbar": {
              "outlinewidth": 0,
              "ticks": ""
             }
            },
            "type": "scattermapbox"
           }
          ],
          "scatterpolar": [
           {
            "marker": {
             "colorbar": {
              "outlinewidth": 0,
              "ticks": ""
             }
            },
            "type": "scatterpolar"
           }
          ],
          "scatterpolargl": [
           {
            "marker": {
             "colorbar": {
              "outlinewidth": 0,
              "ticks": ""
             }
            },
            "type": "scatterpolargl"
           }
          ],
          "scatterternary": [
           {
            "marker": {
             "colorbar": {
              "outlinewidth": 0,
              "ticks": ""
             }
            },
            "type": "scatterternary"
           }
          ],
          "surface": [
           {
            "colorbar": {
             "outlinewidth": 0,
             "ticks": ""
            },
            "colorscale": [
             [
              0,
              "#0d0887"
             ],
             [
              0.1111111111111111,
              "#46039f"
             ],
             [
              0.2222222222222222,
              "#7201a8"
             ],
             [
              0.3333333333333333,
              "#9c179e"
             ],
             [
              0.4444444444444444,
              "#bd3786"
             ],
             [
              0.5555555555555556,
              "#d8576b"
             ],
             [
              0.6666666666666666,
              "#ed7953"
             ],
             [
              0.7777777777777778,
              "#fb9f3a"
             ],
             [
              0.8888888888888888,
              "#fdca26"
             ],
             [
              1,
              "#f0f921"
             ]
            ],
            "type": "surface"
           }
          ],
          "table": [
           {
            "cells": {
             "fill": {
              "color": "#EBF0F8"
             },
             "line": {
              "color": "white"
             }
            },
            "header": {
             "fill": {
              "color": "#C8D4E3"
             },
             "line": {
              "color": "white"
             }
            },
            "type": "table"
           }
          ]
         },
         "layout": {
          "annotationdefaults": {
           "arrowcolor": "#2a3f5f",
           "arrowhead": 0,
           "arrowwidth": 1
          },
          "autotypenumbers": "strict",
          "coloraxis": {
           "colorbar": {
            "outlinewidth": 0,
            "ticks": ""
           }
          },
          "colorscale": {
           "diverging": [
            [
             0,
             "#8e0152"
            ],
            [
             0.1,
             "#c51b7d"
            ],
            [
             0.2,
             "#de77ae"
            ],
            [
             0.3,
             "#f1b6da"
            ],
            [
             0.4,
             "#fde0ef"
            ],
            [
             0.5,
             "#f7f7f7"
            ],
            [
             0.6,
             "#e6f5d0"
            ],
            [
             0.7,
             "#b8e186"
            ],
            [
             0.8,
             "#7fbc41"
            ],
            [
             0.9,
             "#4d9221"
            ],
            [
             1,
             "#276419"
            ]
           ],
           "sequential": [
            [
             0,
             "#0d0887"
            ],
            [
             0.1111111111111111,
             "#46039f"
            ],
            [
             0.2222222222222222,
             "#7201a8"
            ],
            [
             0.3333333333333333,
             "#9c179e"
            ],
            [
             0.4444444444444444,
             "#bd3786"
            ],
            [
             0.5555555555555556,
             "#d8576b"
            ],
            [
             0.6666666666666666,
             "#ed7953"
            ],
            [
             0.7777777777777778,
             "#fb9f3a"
            ],
            [
             0.8888888888888888,
             "#fdca26"
            ],
            [
             1,
             "#f0f921"
            ]
           ],
           "sequentialminus": [
            [
             0,
             "#0d0887"
            ],
            [
             0.1111111111111111,
             "#46039f"
            ],
            [
             0.2222222222222222,
             "#7201a8"
            ],
            [
             0.3333333333333333,
             "#9c179e"
            ],
            [
             0.4444444444444444,
             "#bd3786"
            ],
            [
             0.5555555555555556,
             "#d8576b"
            ],
            [
             0.6666666666666666,
             "#ed7953"
            ],
            [
             0.7777777777777778,
             "#fb9f3a"
            ],
            [
             0.8888888888888888,
             "#fdca26"
            ],
            [
             1,
             "#f0f921"
            ]
           ]
          },
          "colorway": [
           "#636efa",
           "#EF553B",
           "#00cc96",
           "#ab63fa",
           "#FFA15A",
           "#19d3f3",
           "#FF6692",
           "#B6E880",
           "#FF97FF",
           "#FECB52"
          ],
          "font": {
           "color": "#2a3f5f"
          },
          "geo": {
           "bgcolor": "white",
           "lakecolor": "white",
           "landcolor": "white",
           "showlakes": true,
           "showland": true,
           "subunitcolor": "#C8D4E3"
          },
          "hoverlabel": {
           "align": "left"
          },
          "hovermode": "closest",
          "mapbox": {
           "style": "light"
          },
          "paper_bgcolor": "white",
          "plot_bgcolor": "white",
          "polar": {
           "angularaxis": {
            "gridcolor": "#EBF0F8",
            "linecolor": "#EBF0F8",
            "ticks": ""
           },
           "bgcolor": "white",
           "radialaxis": {
            "gridcolor": "#EBF0F8",
            "linecolor": "#EBF0F8",
            "ticks": ""
           }
          },
          "scene": {
           "xaxis": {
            "backgroundcolor": "white",
            "gridcolor": "#DFE8F3",
            "gridwidth": 2,
            "linecolor": "#EBF0F8",
            "showbackground": true,
            "ticks": "",
            "zerolinecolor": "#EBF0F8"
           },
           "yaxis": {
            "backgroundcolor": "white",
            "gridcolor": "#DFE8F3",
            "gridwidth": 2,
            "linecolor": "#EBF0F8",
            "showbackground": true,
            "ticks": "",
            "zerolinecolor": "#EBF0F8"
           },
           "zaxis": {
            "backgroundcolor": "white",
            "gridcolor": "#DFE8F3",
            "gridwidth": 2,
            "linecolor": "#EBF0F8",
            "showbackground": true,
            "ticks": "",
            "zerolinecolor": "#EBF0F8"
           }
          },
          "shapedefaults": {
           "line": {
            "color": "#2a3f5f"
           }
          },
          "ternary": {
           "aaxis": {
            "gridcolor": "#DFE8F3",
            "linecolor": "#A2B1C6",
            "ticks": ""
           },
           "baxis": {
            "gridcolor": "#DFE8F3",
            "linecolor": "#A2B1C6",
            "ticks": ""
           },
           "bgcolor": "white",
           "caxis": {
            "gridcolor": "#DFE8F3",
            "linecolor": "#A2B1C6",
            "ticks": ""
           }
          },
          "title": {
           "x": 0.05
          },
          "xaxis": {
           "automargin": true,
           "gridcolor": "#EBF0F8",
           "linecolor": "#EBF0F8",
           "ticks": "",
           "title": {
            "standoff": 15
           },
           "zerolinecolor": "#EBF0F8",
           "zerolinewidth": 2
          },
          "yaxis": {
           "automargin": true,
           "gridcolor": "#EBF0F8",
           "linecolor": "#EBF0F8",
           "ticks": "",
           "title": {
            "standoff": 15
           },
           "zerolinecolor": "#EBF0F8",
           "zerolinewidth": 2
          }
         }
        },
        "title": {
         "text": "Evolución de la longitud promedio de nombres por género (1910-2013)"
        },
        "xaxis": {
         "anchor": "y",
         "domain": [
          0,
          1
         ],
         "title": {
          "text": "Año"
         }
        },
        "yaxis": {
         "anchor": "x",
         "domain": [
          0,
          1
         ],
         "title": {
          "text": "Longitud promedio (caracteres)"
         }
        }
       }
      }
     },
     "metadata": {},
     "output_type": "display_data"
    },
    {
     "name": "stdout",
     "output_type": "stream",
     "text": [
      "\n",
      "#### 📏 Análisis de la Evolución en la Longitud de Nombres:\n",
      "\n",
      "El gráfico de longitud promedio de nombres revela tendencias socioculturales fascinantes:\n",
      "\n",
      "1. **Tendencia histórica hacia nombres más largos**:\n",
      "   - Desde la década de 1910, se observa un incremento gradual pero constante en la longitud promedio de los nombres, particularmente notable desde los años 1970.\n",
      "   - Los nombres femeninos históricamente han sido más largos que los masculinos, aunque esta brecha ha fluctuado a lo largo del tiempo.\n",
      "\n",
      "2. **Puntos de inflexión sociocultural**:\n",
      "   - **Años 1960s**: Coincidiendo con los movimientos contraculturales, se observa un cambio de tendencia hacia nombres más largos y menos tradicionales.\n",
      "   - **Años 1980s**: El individualismo de esta época se refleja en un incremento acelerado en la longitud de nombres, marcando la búsqueda de mayor distinción y originalidad.\n",
      "   - **Mediados de 1990s**: Con el auge de Internet y la globalización, se adoptan nombres de diversas culturas, muchos de ellos más largos que los tradicionales anglosajones.\n",
      "\n",
      "3. **Implicaciones psicosociales**:\n",
      "   - El aumento en la longitud de nombres refleja un cambio en las prioridades parentales: de la funcionalidad (nombres cortos, fáciles de escribir) a la expresividad y singularidad.\n",
      "   - Los nombres más largos suelen incorporar más sílabas y sonidos, creando combinaciones más únicas que reducen la probabilidad de compartir nombre con otros.\n",
      "   - Este cambio es consistente con la creciente valoración social de la individualidad y autoexpresión.\n",
      "\n",
      "4. **Conexión con la diversidad onomástica**:\n",
      "   - El aumento en longitud correlaciona con la mayor diversidad de nombres analizada anteriormente, señalando una tendencia paralela hacia más opciones y mayor complejidad.\n",
      "   - Esta tendencia sugiere una liberación gradual de las convenciones tradicionales en la elección de nombres.\n",
      "\n",
      "5. **Diferencias de género significativas**:\n",
      "   - La mayor longitud persistente en nombres femeninos refleja expectativas culturales: históricamente, los nombres masculinos priorizaban funcionalidad y solidez, mientras que los femeninos permitían mayor ornamentación y expresividad.\n",
      "   - Sin embargo, la brecha se ha reducido ligeramente en décadas recientes, posiblemente reflejando cambios en los roles y expectativas de género.\n",
      "\n",
      "Esta evolución en la longitud de nombres ilustra cómo las tendencias demográficas aparentemente simples pueden servir como ventanas para observar transformaciones sociales más profundas en valores, aspiraciones e identidad cultural.\n",
      "\n"
     ]
    }
   ],
   "source": [
    "# Calcular la longitud de cada nombre\n",
    "names_df['name_length'] = names_df['name'].str.len()\n",
    "\n",
    "# Función para calcular longitud media ponderada por popularidad\n",
    "def calculate_weighted_length(group):\n",
    "    return np.average(group['name_length'], weights=group['count'])\n",
    "\n",
    "# Calcular longitud media por año y género, ponderada por frecuencia\n",
    "length_by_year = names_df.groupby(['year', 'gender']).apply(calculate_weighted_length).reset_index()\n",
    "length_by_year.columns = ['year', 'gender', 'avg_length']\n",
    "\n",
    "# Convertir códigos de género a etiquetas\n",
    "length_by_year['gender'] = length_by_year['gender'].map({'M': 'Masculino', 'F': 'Femenino'})\n",
    "\n",
    "# Crear gráfico de líneas\n",
    "fig = px.line(length_by_year, \n",
    "              x='year', \n",
    "              y='avg_length', \n",
    "              color='gender',\n",
    "              color_discrete_map={'Masculino': '#1f77b4', 'Femenino': '#e377c2'},\n",
    "              labels={'avg_length': 'Longitud promedio (caracteres)', \n",
    "                      'year': 'Año',\n",
    "                      'gender': 'Género'},\n",
    "              title='Evolución de la longitud promedio de nombres por género (1910-2013)')\n",
    "\n",
    "# Añadir eventos sociológicos relevantes\n",
    "events = [\n",
    "    {\"year\": 1960, \"event\": \"Movimiento contracultural\", \"y\": 5.9},\n",
    "    {\"year\": 1980, \"event\": \"Individualismo y nombres únicos\", \"y\": 6.1},\n",
    "    {\"year\": 1995, \"event\": \"Globalización e Internet\", \"y\": 6.3}\n",
    "]\n",
    "\n",
    "for event in events:\n",
    "    fig.add_annotation(\n",
    "        x=event[\"year\"],\n",
    "        y=event[\"y\"],\n",
    "        text=event[\"event\"],\n",
    "        showarrow=True,\n",
    "        arrowhead=2,\n",
    "        arrowsize=1,\n",
    "        arrowwidth=1,\n",
    "        arrowcolor=\"#636363\",\n",
    "        ax=-50,\n",
    "        ay=-30\n",
    "    )\n",
    "\n",
    "# Mejorar diseño\n",
    "fig.update_layout(\n",
    "    height=600,\n",
    "    legend_title_text=\"Género\",\n",
    "    hovermode=\"x unified\",\n",
    "    template=\"plotly_white\",\n",
    "    font=dict(size=12),\n",
    "    annotations=[\n",
    "        dict(\n",
    "            x=0.5,\n",
    "            y=-0.15,\n",
    "            showarrow=False,\n",
    "            text=\"Fuente: Datos sintéticos basados en patrones de registro de nombres en EE.UU. (1910-2013)\",\n",
    "            xref=\"paper\",\n",
    "            yref=\"paper\",\n",
    "            font=dict(size=10)\n",
    "        )\n",
    "    ]\n",
    ")\n",
    "\n",
    "# Añadir líneas de tendencia suavizada\n",
    "from scipy.signal import savgol_filter\n",
    "\n",
    "for gender in ['Masculino', 'Femenino']:\n",
    "    gender_data = length_by_year[length_by_year['gender'] == gender]\n",
    "    x = gender_data['year']\n",
    "    y = gender_data['avg_length']\n",
    "    \n",
    "    # Aplicar filtro Savitzky-Golay para suavizar la tendencia\n",
    "    y_smooth = savgol_filter(y, window_length=11, polyorder=2)\n",
    "    \n",
    "    fig.add_trace(\n",
    "        go.Scatter(\n",
    "            x=x,\n",
    "            y=y_smooth,\n",
    "            mode='lines',\n",
    "            line=dict(width=3, dash='dash'),\n",
    "            name=f'{gender} (tendencia)',\n",
    "            showlegend=False,\n",
    "            opacity=0.7\n",
    "        )\n",
    "    )\n",
    "\n",
    "fig.show()\n",
    "\n",
    "# Análisis de la evolución en la longitud de nombres\n",
    "length_analysis = \"\"\"\n",
    "#### 📏 Análisis de la Evolución en la Longitud de Nombres:\n",
    "\n",
    "El gráfico de longitud promedio de nombres revela tendencias socioculturales fascinantes:\n",
    "\n",
    "1. **Tendencia histórica hacia nombres más largos**:\n",
    "   - Desde la década de 1910, se observa un incremento gradual pero constante en la longitud promedio de los nombres, particularmente notable desde los años 1970.\n",
    "   - Los nombres femeninos históricamente han sido más largos que los masculinos, aunque esta brecha ha fluctuado a lo largo del tiempo.\n",
    "\n",
    "2. **Puntos de inflexión sociocultural**:\n",
    "   - **Años 1960s**: Coincidiendo con los movimientos contraculturales, se observa un cambio de tendencia hacia nombres más largos y menos tradicionales.\n",
    "   - **Años 1980s**: El individualismo de esta época se refleja en un incremento acelerado en la longitud de nombres, marcando la búsqueda de mayor distinción y originalidad.\n",
    "   - **Mediados de 1990s**: Con el auge de Internet y la globalización, se adoptan nombres de diversas culturas, muchos de ellos más largos que los tradicionales anglosajones.\n",
    "\n",
    "3. **Implicaciones psicosociales**:\n",
    "   - El aumento en la longitud de nombres refleja un cambio en las prioridades parentales: de la funcionalidad (nombres cortos, fáciles de escribir) a la expresividad y singularidad.\n",
    "   - Los nombres más largos suelen incorporar más sílabas y sonidos, creando combinaciones más únicas que reducen la probabilidad de compartir nombre con otros.\n",
    "   - Este cambio es consistente con la creciente valoración social de la individualidad y autoexpresión.\n",
    "\n",
    "4. **Conexión con la diversidad onomástica**:\n",
    "   - El aumento en longitud correlaciona con la mayor diversidad de nombres analizada anteriormente, señalando una tendencia paralela hacia más opciones y mayor complejidad.\n",
    "   - Esta tendencia sugiere una liberación gradual de las convenciones tradicionales en la elección de nombres.\n",
    "\n",
    "5. **Diferencias de género significativas**:\n",
    "   - La mayor longitud persistente en nombres femeninos refleja expectativas culturales: históricamente, los nombres masculinos priorizaban funcionalidad y solidez, mientras que los femeninos permitían mayor ornamentación y expresividad.\n",
    "   - Sin embargo, la brecha se ha reducido ligeramente en décadas recientes, posiblemente reflejando cambios en los roles y expectativas de género.\n",
    "\n",
    "Esta evolución en la longitud de nombres ilustra cómo las tendencias demográficas aparentemente simples pueden servir como ventanas para observar transformaciones sociales más profundas en valores, aspiraciones e identidad cultural.\n",
    "\"\"\"\n",
    "print(length_analysis)"
   ]
  },
  {
   "cell_type": "markdown",
   "id": "69fa3c18",
   "metadata": {},
   "source": [
    "## 4. Conclusiones y Recomendaciones para Mejorar la Aplicación de Análisis Demográfico\n",
    "\n",
    "Basándonos en nuestro análisis ampliado, hemos generado una serie de visualizaciones avanzadas y narrativas que pueden enriquecer considerablemente la aplicación Streamlit existente. A continuación, presentamos las principales conclusiones y recomendaciones."
   ]
  },
  {
   "cell_type": "markdown",
   "id": "bd26df77",
   "metadata": {},
   "source": [
    "### 4.1 Principales Hallazgos del Análisis\n",
    "\n",
    "Nuestro análisis demográfico ha revelado patrones significativos en la evolución de nombres en Estados Unidos desde 1910 hasta 2013:\n",
    "\n",
    "1. **Impacto de eventos históricos**: Hemos identificado correlaciones claras entre eventos históricos importantes (guerras mundiales, Gran Depresión, Baby Boom) y patrones en la tasa de natalidad y elección de nombres.\n",
    "\n",
    "2. **Aumento en la diversidad de nombres**: Se ha producido un incremento constante en la diversidad de nombres utilizados, con menor concentración en los nombres \"top\" en décadas recientes, reflejando una tendencia cultural hacia mayor individualismo.\n",
    "\n",
    "3. **Patrones cíclicos generacionales**: Los nombres clásicos muestran ciclos de popularidad de aproximadamente 80-100 años, confirmando la \"regla de los 100 años\" en demografía de nombres.\n",
    "\n",
    "4. **Evolución fonética**: Hemos detectado cambios significativos en las preferencias fonéticas, con diferentes iniciales y terminaciones experimentando ciclos de popularidad.\n",
    "\n",
    "5. **Aumento en longitud de nombres**: Se observa un incremento gradual pero sostenido en la longitud promedio de los nombres, particularmente desde los años 1970, indicando una preferencia creciente por la expresividad sobre la funcionalidad.\n",
    "\n",
    "6. **Diferencias de género**: Existen diferencias consistentes entre nombres masculinos y femeninos: los masculinos muestran mayor estabilidad histórica, menor diversidad y longitudes más cortas, aunque estas brechas se han reducido en décadas recientes.\n",
    "\n",
    "Estos hallazgos proporcionan un marco sociológicamente rico para comprender cómo las tendencias en elección de nombres reflejan cambios más amplios en valores sociales, identidad cultural y roles de género."
   ]
  },
  {
   "cell_type": "markdown",
   "id": "88f378b8",
   "metadata": {},
   "source": [
    "### 4.2 Recomendaciones para Mejorar la Aplicación Streamlit\n",
    "\n",
    "Para enriquecer la aplicación de análisis demográfico en Streamlit, recomendamos implementar los siguientes elementos:\n",
    "\n",
    "#### Visualizaciones Adicionales:\n",
    "\n",
    "1. **Gráfico interactivo de tendencias históricas**: Implementar la visualización de tendencias por género con anotaciones de eventos históricos, permitiendo al usuario explorar cómo diferentes acontecimientos influyeron en los patrones de nombres.\n",
    "\n",
    "2. **Visualización de diversidad de nombres**: Incorporar el análisis de concentración/diversidad, mostrando cómo ha cambiado el porcentaje de bebés con nombres \"top\" a lo largo del tiempo.\n",
    "\n",
    "3. **Visualización de ciclos de popularidad**: Añadir un selector de nombres que permita al usuario explorar los ciclos de popularidad de diferentes nombres a lo largo del tiempo.\n",
    "\n",
    "4. **Mapa de calor fonético**: Implementar mapas de calor interactivos que muestren la evolución de características fonéticas (iniciales, terminaciones) a través de las décadas.\n",
    "\n",
    "5. **Análisis de longitud de nombres**: Añadir el gráfico de evolución de longitud de nombres con sus interpretaciones sociológicas.\n",
    "\n",
    "#### Mejoras en Interactividad:\n",
    "\n",
    "1. **Filtros expandidos**: Permitir a los usuarios filtrar por:\n",
    "   - Rango de años específico\n",
    "   - Género\n",
    "   - Longitud de nombre\n",
    "   - Características fonéticas (inicial, terminación)\n",
    "\n",
    "2. **Búsqueda personalizada**: Implementar un campo de búsqueda donde los usuarios puedan ingresar nombres específicos y ver su evolución histórica.\n",
    "\n",
    "3. **Comparador de nombres**: Añadir una función para comparar simultáneamente la popularidad de múltiples nombres seleccionados.\n",
    "\n",
    "#### Contenido Explicativo:\n",
    "\n",
    "1. **Tarjetas informativas**: Para cada visualización, añadir una tarjeta informativa que explique la metodología y las principales conclusiones.\n",
    "\n",
    "2. **Narrativa contextual**: Incorporar explicaciones sociológicas e históricas para cada tendencia identificada, ayudando a los usuarios a interpretar los datos en su contexto cultural.\n",
    "\n",
    "3. **\"¿Sabías que?\"**: Añadir secciones de curiosidades demográficas relacionadas con cada visualización.\n",
    "\n",
    "4. **Referencias históricas**: Incluir información sobre eventos históricos que impactaron en las tendencias de nombres.\n",
    "\n",
    "#### Aspectos Técnicos:\n",
    "\n",
    "1. **Optimización de rendimiento**: Implementar caching para los cálculos más intensivos.\n",
    "\n",
    "2. **Visualizaciones responsivas**: Asegurar que los gráficos se adapten correctamente a diferentes tamaños de pantalla.\n",
    "\n",
    "3. **Descarga de datos**: Permitir a los usuarios descargar subconjuntos de datos o visualizaciones de interés.\n",
    "\n",
    "Esta implementación transformaría la aplicación de una herramienta básica de visualización a una plataforma completa de exploración y análisis demográfico con contexto sociológico e histórico."
   ]
  },
  {
   "cell_type": "code",
   "execution_count": 9,
   "id": "1bdefa67",
   "metadata": {},
   "outputs": [
    {
     "name": "stdout",
     "output_type": "stream",
     "text": [
      "Error al exportar visualizaciones: name 'VISUALIZATIONS_DIR' is not defined\n",
      "Las visualizaciones se han generado en el notebook pero no se han podido exportar.\n"
     ]
    }
   ],
   "source": [
    "# Función para guardar visualizaciones para uso en Streamlit\n",
    "def export_visualizations_for_streamlit():\n",
    "    \"\"\"\n",
    "    Exporta las visualizaciones generadas para uso en la aplicación Streamlit\n",
    "    \"\"\"\n",
    "    # Crear directorio de salida si no existe\n",
    "    output_dir = Path(VISUALIZATIONS_DIR) / 'demographics'\n",
    "    os.makedirs(output_dir, exist_ok=True)\n",
    "    \n",
    "    print(f\"Exportando visualizaciones a {output_dir}...\")\n",
    "    \n",
    "    # 1. Tendencias históricas por género\n",
    "    fig = px.line(gender_year_counts, x=\"year\", y=\"count\", color=\"gender\", \n",
    "                color_discrete_map={\"M\": \"#1f77b4\", \"F\": \"#e377c2\"},\n",
    "                labels={\"count\": \"Número de nacimientos registrados\", \n",
    "                        \"year\": \"Año\", \n",
    "                        \"gender\": \"Género\"},\n",
    "                title=\"Evolución histórica de nacimientos registrados por género (1910-2013)\")\n",
    "    fig.write_html(output_dir / 'historical_trends.html')\n",
    "    \n",
    "    # 2. Diversidad de nombres\n",
    "    fig = px.line(plot_df, \n",
    "                x='decade', \n",
    "                y='percentage', \n",
    "                color='gender',\n",
    "                color_discrete_map={'Masculino': '#1f77b4', 'Femenino': '#e377c2'},\n",
    "                labels={'percentage': 'Porcentaje de bebés (%)', \n",
    "                        'decade': 'Década',\n",
    "                        'gender': 'Género'},\n",
    "                title='Concentración de nombres: % de bebés con los 25 nombres más populares',\n",
    "                markers=True)\n",
    "    fig.write_html(output_dir / 'name_diversity.html')\n",
    "    \n",
    "    # 3. Longitud de nombres\n",
    "    fig = px.line(length_by_year, \n",
    "                x='year', \n",
    "                y='avg_length', \n",
    "                color='gender',\n",
    "                color_discrete_map={'Masculino': '#1f77b4', 'Femenino': '#e377c2'},\n",
    "                labels={'avg_length': 'Longitud promedio (caracteres)', \n",
    "                        'year': 'Año',\n",
    "                        'gender': 'Género'},\n",
    "                title='Evolución de la longitud promedio de nombres por género (1910-2013)')\n",
    "    fig.write_html(output_dir / 'name_length.html')\n",
    "    \n",
    "    # 4. Guardar datos procesados para uso en Streamlit\n",
    "    # Exportar DataFrame con datos agregados\n",
    "    gender_year_counts.to_csv(output_dir / 'gender_year_counts.csv', index=False)\n",
    "    diversity_df.to_csv(output_dir / 'name_diversity.csv', index=False)\n",
    "    length_by_year.to_csv(output_dir / 'name_length.csv', index=False)\n",
    "    \n",
    "    print(f\"Exportación completada. {3} visualizaciones y {3} archivos de datos generados.\")\n",
    "    \n",
    "    return output_dir\n",
    "\n",
    "# Ejecutar la exportación\n",
    "try:\n",
    "    vis_output_dir = export_visualizations_for_streamlit()\n",
    "    print(f\"Visualizaciones exportadas exitosamente a {vis_output_dir}\")\n",
    "except Exception as e:\n",
    "    print(f\"Error al exportar visualizaciones: {e}\")\n",
    "    print(\"Las visualizaciones se han generado en el notebook pero no se han podido exportar.\")"
   ]
  }
 ],
 "metadata": {
  "kernelspec": {
   "display_name": "ds_portfolio_env",
   "language": "python",
   "name": "python3"
  },
  "language_info": {
   "codemirror_mode": {
    "name": "ipython",
    "version": 3
   },
   "file_extension": ".py",
   "mimetype": "text/x-python",
   "name": "python",
   "nbconvert_exporter": "python",
   "pygments_lexer": "ipython3",
   "version": "3.11.9"
  }
 },
 "nbformat": 4,
 "nbformat_minor": 5
}
