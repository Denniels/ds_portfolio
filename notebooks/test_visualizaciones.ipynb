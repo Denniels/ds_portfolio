{
 "cells": [
  {
   "cell_type": "markdown",
   "id": "b2db0d14",
   "metadata": {},
   "source": [
    "# Prueba de Visualizaciones\n",
    "\n",
    "Este notebook verifica que el sistema de guardado de visualizaciones funcione correctamente."
   ]
  },
  {
   "cell_type": "code",
   "execution_count": null,
   "id": "e69b8874",
   "metadata": {},
   "outputs": [],
   "source": [
    "import plotly.express as px\n",
    "from visualizaciones_helper import save_plot_with_fallback\n",
    "\n",
    "# Crear un gráfico de ejemplo\n",
    "df = px.data.iris()\n",
    "fig = px.scatter(df, x=\"sepal_width\", y=\"sepal_length\", color=\"species\",\n",
    "                 title=\"Ejemplo de Visualización\")\n",
    "\n",
    "# Guardar con el helper\n",
    "save_plot_with_fallback(fig, 'prueba_visualizacion')"
   ]
  },
  {
   "cell_type": "markdown",
   "id": "9ddb5964",
   "metadata": {},
   "source": [
    "## Resultado de la Prueba\n",
    "\n",
    "Si todo funciona correctamente, deberías ver:\n",
    "1. El gráfico interactivo arriba\n",
    "2. Un archivo HTML en la carpeta `figures`\n",
    "3. Un archivo PNG en la carpeta `figures`\n",
    "\n",
    "Versión interactiva (visible en VS Code):\n",
    "<iframe src=\"./figures/prueba_visualizacion.html\" width=\"100%\" height=\"600px\" frameborder=\"0\"></iframe>\n",
    "\n",
    "Versión estática (visible en GitHub):\n",
    "![prueba_visualizacion](./figures/prueba_visualizacion.png)"
   ]
  }
 ],
 "metadata": {
  "language_info": {
   "name": "python"
  }
 },
 "nbformat": 4,
 "nbformat_minor": 5
}
