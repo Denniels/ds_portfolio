{
 "cells": [
  {
   "cell_type": "markdown",
   "id": "18d7ee17",
   "metadata": {},
   "source": [
    "# Prueba de Visualización Simple\n",
    "\n",
    "Este notebook utiliza una versión optimizada del helper que prioriza velocidad y confiabilidad."
   ]
  },
  {
   "cell_type": "code",
   "execution_count": null,
   "id": "77701310",
   "metadata": {},
   "outputs": [
    {
     "name": "stdout",
     "output_type": "stream",
     "text": [
      "Guardando visualización 'prueba_simple'...\n",
      "- Guardando versión interactiva... ✓ (12.1 KB)\n",
      "- Guardando versión estática... ✓ (12.1 KB)\n",
      "- Guardando versión estática... "
     ]
    }
   ],
   "source": [
    "import plotly.express as px\n",
    "from visualizaciones_helper import save_plot_with_fallback\n",
    "import time\n",
    "\n",
    "# Crear un gráfico simple\n",
    "print(\"Creando gráfico de prueba...\")\n",
    "df = px.data.iris()\n",
    "fig = px.scatter(df, x=\"sepal_width\", y=\"sepal_length\", color=\"species\",\n",
    "                 title=\"Visualización de Prueba\",\n",
    "                 template=\"plotly_dark\")\n",
    "\n",
    "# Medir tiempo de ejecución\n",
    "start = time.time()\n",
    "save_plot_with_fallback(fig, 'prueba_simple', width=800, height=600)\n",
    "end = time.time()\n",
    "print(f\"\\nTiempo total: {end - start:.1f} segundos\")"
   ]
  },
  {
   "cell_type": "markdown",
   "id": "6ed95d49",
   "metadata": {},
   "source": [
    "## Visualización en GitHub\n",
    "\n",
    "El gráfico interactivo se puede ver haciendo click en la imagen:\n",
    "\n",
    "<div style=\"text-align: center;\">\n",
    "    <iframe src=\"figures/prueba_simple_github.html\" width=\"100%\" height=\"600\" frameborder=\"0\"></iframe>\n",
    "</div>"
   ]
  }
 ],
 "metadata": {
  "kernelspec": {
   "display_name": "ds_portfolio_env",
   "language": "python",
   "name": "python3"
  },
  "language_info": {
   "codemirror_mode": {
    "name": "ipython",
    "version": 3
   },
   "file_extension": ".py",
   "mimetype": "text/x-python",
   "name": "python",
   "nbconvert_exporter": "python",
   "pygments_lexer": "ipython3",
   "version": "3.11.9"
  }
 },
 "nbformat": 4,
 "nbformat_minor": 5
}
