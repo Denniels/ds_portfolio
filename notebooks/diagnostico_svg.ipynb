{
 "cells": [
  {
   "cell_type": "markdown",
   "id": "1f7f208e",
   "metadata": {},
   "source": [
    "# Diagnóstico de Generación SVG\n",
    "\n",
    "Este notebook analiza el proceso de generación de SVG y verifica los archivos generados."
   ]
  },
  {
   "cell_type": "code",
   "execution_count": null,
   "id": "ec27571d",
   "metadata": {},
   "outputs": [],
   "source": [
    "import plotly.express as px\n",
    "import plotly.io as pio\n",
    "from pathlib import Path\n",
    "import os\n",
    "import time\n",
    "\n",
    "# Verificar configuración actual\n",
    "print(\"Configuración de Kaleido:\")\n",
    "print(f\"Formato: {pio.kaleido.scope.default_format}\")\n",
    "print(f\"Versión: {pio.kaleido.version}\")\n",
    "print(\"\\nDirectorio de figuras:\")\n",
    "figures_dir = Path('figures')\n",
    "print(f\"Existe: {figures_dir.exists()}\")\n",
    "print(f\"Es directorio: {figures_dir.is_dir()}\")\n",
    "\n",
    "# Listar archivos existentes\n",
    "print(\"\\nArchivos en figures/:\")\n",
    "if figures_dir.exists():\n",
    "    for file in figures_dir.glob('*'):\n",
    "        if file.is_file():\n",
    "            print(f\"- {file.name} ({file.stat().st_size / 1024:.1f} KB)\")"
   ]
  },
  {
   "cell_type": "code",
   "execution_count": null,
   "id": "39a364f0",
   "metadata": {},
   "outputs": [],
   "source": [
    "# Intentar generar un SVG directamente\n",
    "print(\"Generando SVG de prueba...\")\n",
    "start_time = time.time()\n",
    "\n",
    "# Crear figura simple\n",
    "df = px.data.iris()\n",
    "fig = px.scatter(df, x=\"sepal_width\", y=\"sepal_length\", color=\"species\",\n",
    "                 title=\"Test SVG Directo\")\n",
    "\n",
    "# Preparar archivo\n",
    "svg_path = figures_dir / 'test_diagnostico.svg'\n",
    "svg_path.parent.mkdir(parents=True, exist_ok=True)\n",
    "if not svg_path.exists():\n",
    "    svg_path.touch()\n",
    "\n",
    "# Intentar escribir\n",
    "try:\n",
    "    fig.write_image(str(svg_path), engine='kaleido')\n",
    "    end_time = time.time()\n",
    "    \n",
    "    if svg_path.exists():\n",
    "        print(f\"✅ SVG generado correctamente\")\n",
    "        print(f\"Tamaño: {svg_path.stat().st_size / 1024:.1f} KB\")\n",
    "        print(f\"Tiempo: {end_time - start_time:.2f} segundos\")\n",
    "    else:\n",
    "        print(\"❌ Error: Archivo no encontrado después de escribir\")\n",
    "except Exception as e:\n",
    "    print(f\"❌ Error al generar SVG: {str(e)}\")"
   ]
  },
  {
   "cell_type": "markdown",
   "id": "367a85c0",
   "metadata": {},
   "source": [
    "## Verificación Visual\n",
    "\n",
    "Si el SVG se generó correctamente, deberías ver la imagen aquí:\n",
    "\n",
    "![Test SVG](figures/test_diagnostico.svg)\n",
    "\n",
    "Y aquí están los detalles del archivo:"
   ]
  },
  {
   "cell_type": "code",
   "execution_count": null,
   "id": "a51f1ecf",
   "metadata": {},
   "outputs": [],
   "source": [
    "# Verificar el archivo generado\n",
    "svg_path = figures_dir / 'test_diagnostico.svg'\n",
    "if svg_path.exists():\n",
    "    print(f\"Archivo: {svg_path}\")\n",
    "    print(f\"Tamaño: {svg_path.stat().st_size / 1024:.1f} KB\")\n",
    "    print(f\"Última modificación: {time.ctime(svg_path.stat().st_mtime)}\")\n",
    "    print(f\"Permisos: {oct(svg_path.stat().st_mode)[-3:]}\")\n",
    "    \n",
    "    # Intentar leer los primeros bytes\n",
    "    print(\"\\nPrimeros 100 bytes del archivo:\")\n",
    "    with open(svg_path, 'rb') as f:\n",
    "        print(f.read(100))\n",
    "else:\n",
    "    print(\"❌ El archivo SVG no existe\")"
   ]
  }
 ],
 "metadata": {
  "language_info": {
   "name": "python"
  }
 },
 "nbformat": 4,
 "nbformat_minor": 5
}
