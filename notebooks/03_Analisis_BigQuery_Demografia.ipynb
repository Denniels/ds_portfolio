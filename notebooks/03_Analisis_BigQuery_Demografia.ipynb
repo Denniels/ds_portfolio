{
 "cells": [
  {
   "cell_type": "markdown",
   "id": "8f471380",
   "metadata": {},
   "source": [
    "# Análisis Demográfico usando BigQuery Public Datasets\n",
    "\n",
    "Este notebook realiza un análisis demográfico utilizando datos históricos de nombres en Estados Unidos (1910-2013) disponibles en BigQuery. El análisis explorará:\n",
    "\n",
    "1. **Exploración y Preparación de Datos**\n",
    "   - Estructura y tipos de datos\n",
    "   - Distribución temporal de registros\n",
    "   - Cobertura geográfica\n",
    "\n",
    "2. **Análisis de Tendencias**\n",
    "   - Evolución de nombres populares\n",
    "   - Patrones por género\n",
    "   - Cambios generacionales\n",
    "\n",
    "3. **Visualizaciones Interactivas**\n",
    "   - Tendencias temporales\n",
    "   - Comparativas por género\n",
    "   - Distribuciones geográficas\n",
    "\n",
    "## Requisitos Previos\n",
    "\n",
    "### 1. Configuración de Google Cloud Platform (GCP)\n",
    "\n",
    "1. Crear una cuenta en GCP:\n",
    "   - Visitar [Google Cloud Console](https://console.cloud.google.com)\n",
    "   - Crear una cuenta nueva o iniciar sesión\n",
    "   - Activar el período de prueba gratuito si es la primera vez\n",
    "\n",
    "2. Crear un proyecto nuevo:\n",
    "   - En la consola de GCP, ir a \"Seleccionar proyecto\"\n",
    "   - Hacer clic en \"Nuevo proyecto\"\n",
    "   - Nombrar el proyecto (ej: \"analisis-demografia\")\n",
    "   - Hacer clic en \"Crear\"\n",
    "\n",
    "3. Habilitar la API de BigQuery:\n",
    "   - En el menú, ir a \"APIs y Servicios\" > \"Biblioteca\"\n",
    "   - Buscar \"BigQuery API\"\n",
    "   - Hacer clic en \"Habilitar\"\n",
    "\n",
    "4. Configurar credenciales:\n",
    "   - Ir a \"APIs y Servicios\" > \"Credenciales\"\n",
    "   - Hacer clic en \"Crear credenciales\" > \"Cuenta de servicio\"\n",
    "   - Nombrar la cuenta de servicio\n",
    "   - Otorgar el rol \"BigQuery User\"\n",
    "   - Crear una clave JSON\n",
    "   - Descargar el archivo JSON de credenciales\n",
    "\n",
    "5. Configurar autenticación local:\n",
    "   ```bash\n",
    "   # Establecer la variable de entorno GOOGLE_APPLICATION_CREDENTIALS\n",
    "   # En Windows (PowerShell):\n",
    "   $env:GOOGLE_APPLICATION_CREDENTIALS=\"ruta/a/tu/archivo-credenciales.json\"\n",
    "   \n",
    "   # En Windows (CMD):\n",
    "   set GOOGLE_APPLICATION_CREDENTIALS=ruta/a/tu/archivo-credenciales.json\n",
    "   \n",
    "   # En Linux/MacOS:\n",
    "   export GOOGLE_APPLICATION_CREDENTIALS=\"ruta/a/tu/archivo-credenciales.json\"\n",
    "   ```\n",
    "\n",
    "### 2. Instalación de Dependencias\n",
    "\n",
    "Ejecutar en la terminal:\n",
    "```bash\n",
    "pip install google-cloud-bigquery pandas plotly google-cloud-bigquery[pandas]\n",
    "```\n",
    "\n",
    "### 3. Verificación\n",
    "\n",
    "- Asegurarse de que el archivo de credenciales está en una ubicación segura\n",
    "- La variable de entorno GOOGLE_APPLICATION_CREDENTIALS está correctamente configurada\n",
    "- Todas las dependencias están instaladas"
   ]
  },
  {
   "cell_type": "code",
   "execution_count": 1,
   "id": "48c81c7d",
   "metadata": {},
   "outputs": [
    {
     "name": "stdout",
     "output_type": "stream",
     "text": [
      "\n",
      "🔐 Configuración actual de credenciales:\n",
      "📂 Usando credenciales existentes en: E:\\repos\\ds_portfolio\\credentials\\analicis-demografico-0fa332bfc9a7.json\n",
      "\n",
      "📚 Bibliotecas importadas correctamente\n",
      "\n",
      "📚 Bibliotecas importadas correctamente\n"
     ]
    }
   ],
   "source": [
    "# Configuración de credenciales\n",
    "import os\n",
    "from pathlib import Path\n",
    "\n",
    "def configurar_credenciales(ruta_credenciales=None):\n",
    "    \"\"\"\n",
    "    Configura las credenciales de BigQuery\n",
    "    \n",
    "    Args:\n",
    "        ruta_credenciales: Ruta al archivo JSON de credenciales.\n",
    "                          Si es None, usa la variable de entorno existente.\n",
    "    \"\"\"\n",
    "    if ruta_credenciales:\n",
    "        # Convertir a ruta absoluta\n",
    "        ruta_absoluta = str(Path(ruta_credenciales).resolve())\n",
    "        \n",
    "        if not os.path.exists(ruta_absoluta):\n",
    "            raise FileNotFoundError(f\"No se encontró el archivo de credenciales en: {ruta_absoluta}\")\n",
    "            \n",
    "        print(f\"📂 Configurando credenciales desde: {ruta_absoluta}\")\n",
    "        os.environ['GOOGLE_APPLICATION_CREDENTIALS'] = ruta_absoluta\n",
    "    else:\n",
    "        ruta_actual = os.getenv('GOOGLE_APPLICATION_CREDENTIALS')\n",
    "        if ruta_actual:\n",
    "            print(f\"📂 Usando credenciales existentes en: {ruta_actual}\")\n",
    "        else:\n",
    "            print(\"⚠️ No hay credenciales configuradas\")\n",
    "            \n",
    "    return os.getenv('GOOGLE_APPLICATION_CREDENTIALS')\n",
    "\n",
    "# Para cambiar la ruta de las credenciales, descomenta y modifica la siguiente línea:\n",
    "# ruta_credenciales = \"ruta/a/tu/archivo-credenciales.json\"\n",
    "# configurar_credenciales(ruta_credenciales)\n",
    "\n",
    "# Mostrar configuración actual\n",
    "print(\"\\n🔐 Configuración actual de credenciales:\")\n",
    "ruta_actual = configurar_credenciales()\n",
    "\n",
    "# Importar el resto de bibliotecas necesarias\n",
    "import pandas as pd\n",
    "import plotly.express as px\n",
    "import plotly.graph_objects as go\n",
    "from plotly.subplots import make_subplots\n",
    "from google.cloud import bigquery\n",
    "import db_dtypes  # Necesario para tipos de datos de BigQuery\n",
    "\n",
    "# Configurar visualizaciones y advertencias\n",
    "import warnings\n",
    "warnings.filterwarnings('ignore')\n",
    "\n",
    "print(\"\\n📚 Bibliotecas importadas correctamente\")"
   ]
  },
  {
   "cell_type": "code",
   "execution_count": 2,
   "id": "18453d6f",
   "metadata": {},
   "outputs": [
    {
     "name": "stdout",
     "output_type": "stream",
     "text": [
      "✅ Cliente BigQuery creado exitosamente\n"
     ]
    }
   ],
   "source": [
    "# Importar bibliotecas necesarias\n",
    "import pandas as pd\n",
    "import numpy as np\n",
    "import plotly.express as px\n",
    "import plotly.graph_objects as go\n",
    "from plotly.subplots import make_subplots\n",
    "from google.cloud import bigquery\n",
    "import db_dtypes  # Necesario para tipos de datos de BigQuery\n",
    "import os\n",
    "\n",
    "# Configurar advertencias\n",
    "import warnings\n",
    "warnings.filterwarnings('ignore')\n",
    "\n",
    "# Configurar credenciales\n",
    "os.environ['GOOGLE_APPLICATION_CREDENTIALS'] = ruta_actual\n",
    "\n",
    "try:\n",
    "\tclient = bigquery.Client()\n",
    "\tprint(\"✅ Cliente BigQuery creado exitosamente\")\n",
    "except Exception as e:\n",
    "\tprint(f\"❌ Error al crear cliente BigQuery: {str(e)}\")\n",
    "\tprint(\"\\nVerifica que:\")\n",
    "\tprint(f\"1. El archivo {ruta_actual} existe\")\n",
    "\tprint(\"2. El archivo contiene credenciales válidas\")\n",
    "\tprint(\"3. Tienes permisos para acceder al archivo\")"
   ]
  },
  {
   "cell_type": "code",
   "execution_count": 3,
   "id": "b20fa35e",
   "metadata": {},
   "outputs": [
    {
     "name": "stdout",
     "output_type": "stream",
     "text": [
      "✅ Variable GOOGLE_APPLICATION_CREDENTIALS configurada correctamente\n",
      "📂 Archivo de credenciales: E:\\repos\\ds_portfolio\\credentials\\analicis-demografico-0fa332bfc9a7.json\n"
     ]
    },
    {
     "data": {
      "text/plain": [
       "True"
      ]
     },
     "execution_count": 3,
     "metadata": {},
     "output_type": "execute_result"
    }
   ],
   "source": [
    "# Verificar configuración de credenciales\n",
    "import os\n",
    "\n",
    "def verificar_configuracion():\n",
    "    \"\"\"Verifica la configuración de credenciales de GCP\"\"\"\n",
    "    credenciales = os.getenv('GOOGLE_APPLICATION_CREDENTIALS')\n",
    "    \n",
    "    if credenciales:\n",
    "        if os.path.exists(credenciales):\n",
    "            print(\"✅ Variable GOOGLE_APPLICATION_CREDENTIALS configurada correctamente\")\n",
    "            print(f\"📂 Archivo de credenciales: {credenciales}\")\n",
    "            return True\n",
    "        else:\n",
    "            print(\"❌ El archivo de credenciales no existe en la ruta especificada\")\n",
    "            print(f\"🔍 Ruta actual: {credenciales}\")\n",
    "    else:\n",
    "        print(\"❌ Variable GOOGLE_APPLICATION_CREDENTIALS no configurada\")\n",
    "        print(\"Por favor, configura la variable de entorno con la ruta a tus credenciales\")\n",
    "    \n",
    "    print(\"\\n📝 Instrucciones de configuración:\")\n",
    "    print(\"1. Asegúrate de tener el archivo JSON de credenciales descargado\")\n",
    "    print(\"2. Configura la variable de entorno:\")\n",
    "    print(\"   Windows (PowerShell):\")\n",
    "    print('   $env:GOOGLE_APPLICATION_CREDENTIALS=E:\\repos\\ds_portfolio\\credentials\\analicis-demografico-0fa332bfc9a7.json')\n",
    "    print(\"   Windows (CMD):\"),\n",
    "    print(\"   set GOOGLE_APPLICATION_CREDENTIALS=E:\\repos\\ds_portfolio\\credentials\\analicis-demografico-0fa332bfc9a7.json\")\n",
    "    print(\"   Linux/MacOS:\"),\n",
    "    print('   export GOOGLE_APPLICATION_CREDENTIALS=E:\\repos\\ds_portfolio\\credentials\\analicis-demografico-0fa332bfc9a7.json')\n",
    "    return False\n",
    "\n",
    "# Ejecutar verificación\n",
    "verificar_configuracion()"
   ]
  },
  {
   "cell_type": "markdown",
   "id": "437fc514",
   "metadata": {},
   "source": [
    "## Exploración Inicial del Dataset\n",
    "\n",
    "Primero, vamos a examinar la estructura del dataset `usa_names` para entender:\n",
    "1. El esquema de la tabla\n",
    "2. Los tipos de datos\n",
    "3. El rango de años disponible\n",
    "4. La distribución de los datos"
   ]
  },
  {
   "cell_type": "code",
   "execution_count": 4,
   "id": "b4938ac0",
   "metadata": {},
   "outputs": [
    {
     "name": "stdout",
     "output_type": "stream",
     "text": [
      "Metadata del Dataset:\n"
     ]
    },
    {
     "data": {
      "text/html": [
       "<div>\n",
       "<style scoped>\n",
       "    .dataframe tbody tr th:only-of-type {\n",
       "        vertical-align: middle;\n",
       "    }\n",
       "\n",
       "    .dataframe tbody tr th {\n",
       "        vertical-align: top;\n",
       "    }\n",
       "\n",
       "    .dataframe thead th {\n",
       "        text-align: right;\n",
       "    }\n",
       "</style>\n",
       "<table border=\"1\" class=\"dataframe\">\n",
       "  <thead>\n",
       "    <tr style=\"text-align: right;\">\n",
       "      <th></th>\n",
       "      <th>column_name</th>\n",
       "      <th>data_type</th>\n",
       "      <th>is_nullable</th>\n",
       "    </tr>\n",
       "  </thead>\n",
       "  <tbody>\n",
       "    <tr>\n",
       "      <th>0</th>\n",
       "      <td>state</td>\n",
       "      <td>STRING</td>\n",
       "      <td>YES</td>\n",
       "    </tr>\n",
       "    <tr>\n",
       "      <th>1</th>\n",
       "      <td>gender</td>\n",
       "      <td>STRING</td>\n",
       "      <td>YES</td>\n",
       "    </tr>\n",
       "    <tr>\n",
       "      <th>2</th>\n",
       "      <td>year</td>\n",
       "      <td>INT64</td>\n",
       "      <td>YES</td>\n",
       "    </tr>\n",
       "    <tr>\n",
       "      <th>3</th>\n",
       "      <td>name</td>\n",
       "      <td>STRING</td>\n",
       "      <td>YES</td>\n",
       "    </tr>\n",
       "    <tr>\n",
       "      <th>4</th>\n",
       "      <td>number</td>\n",
       "      <td>INT64</td>\n",
       "      <td>YES</td>\n",
       "    </tr>\n",
       "  </tbody>\n",
       "</table>\n",
       "</div>"
      ],
      "text/plain": [
       "  column_name data_type is_nullable\n",
       "0       state    STRING         YES\n",
       "1      gender    STRING         YES\n",
       "2        year     INT64         YES\n",
       "3        name    STRING         YES\n",
       "4      number     INT64         YES"
      ]
     },
     "metadata": {},
     "output_type": "display_data"
    },
    {
     "name": "stdout",
     "output_type": "stream",
     "text": [
      "\n",
      "Estadísticas Descriptivas:\n"
     ]
    },
    {
     "data": {
      "text/html": [
       "<div>\n",
       "<style scoped>\n",
       "    .dataframe tbody tr th:only-of-type {\n",
       "        vertical-align: middle;\n",
       "    }\n",
       "\n",
       "    .dataframe tbody tr th {\n",
       "        vertical-align: top;\n",
       "    }\n",
       "\n",
       "    .dataframe thead th {\n",
       "        text-align: right;\n",
       "    }\n",
       "</style>\n",
       "<table border=\"1\" class=\"dataframe\">\n",
       "  <thead>\n",
       "    <tr style=\"text-align: right;\">\n",
       "      <th></th>\n",
       "      <th>min_year</th>\n",
       "      <th>max_year</th>\n",
       "      <th>num_states</th>\n",
       "      <th>unique_names</th>\n",
       "      <th>gender_types</th>\n",
       "      <th>total_registros</th>\n",
       "    </tr>\n",
       "  </thead>\n",
       "  <tbody>\n",
       "    <tr>\n",
       "      <th>0</th>\n",
       "      <td>1910</td>\n",
       "      <td>2013</td>\n",
       "      <td>51</td>\n",
       "      <td>29828</td>\n",
       "      <td>2</td>\n",
       "      <td>295727065</td>\n",
       "    </tr>\n",
       "  </tbody>\n",
       "</table>\n",
       "</div>"
      ],
      "text/plain": [
       "   min_year  max_year  num_states  unique_names  gender_types  total_registros\n",
       "0      1910      2013          51         29828             2        295727065"
      ]
     },
     "metadata": {},
     "output_type": "display_data"
    },
    {
     "name": "stdout",
     "output_type": "stream",
     "text": [
      "\n",
      "Métricas Derivadas:\n",
      "- Período de análisis: 103 años\n",
      "- Promedio de nombres únicos por año: 289.59\n",
      "- Densidad de datos: 2,871,137 registros/año\n"
     ]
    }
   ],
   "source": [
    "# Crear cliente de BigQuery\n",
    "\n",
    "# Parte 1: Explorar el esquema de la tabla\n",
    "try:\n",
    "    # Consulta para metadata y esquema\n",
    "    # Utilizamos INFORMATION_SCHEMA para metadata estructural\n",
    "    schema_query = \"\"\"\n",
    "    SELECT \n",
    "        column_name,\n",
    "        data_type,\n",
    "        is_nullable\n",
    "    FROM \n",
    "        `bigquery-public-data.usa_names.INFORMATION_SCHEMA.COLUMNS`\n",
    "    WHERE \n",
    "        table_name = 'usa_1910_2013'\n",
    "    ORDER BY \n",
    "        ordinal_position\n",
    "    \"\"\"\n",
    "    \n",
    "    # Estadísticas descriptivas básicas\n",
    "    # Métricas clave: rango temporal, cobertura geográfica, cardinalidad\n",
    "    stats_query = \"\"\"\n",
    "    SELECT\n",
    "        MIN(year) as min_year,\n",
    "        MAX(year) as max_year,\n",
    "        COUNT(DISTINCT state) as num_states,\n",
    "        COUNT(DISTINCT name) as unique_names,\n",
    "        COUNT(DISTINCT gender) as gender_types,\n",
    "        SUM(number) as total_registros\n",
    "    FROM \n",
    "        `bigquery-public-data.usa_names.usa_1910_2013`\n",
    "    \"\"\"\n",
    "    \n",
    "    print(\"Metadata del Dataset:\")\n",
    "    schema_df = client.query(schema_query).to_dataframe()\n",
    "    display(schema_df)\n",
    "    \n",
    "    print(\"\\nEstadísticas Descriptivas:\")\n",
    "    stats_df = client.query(stats_query).to_dataframe()\n",
    "    display(stats_df)\n",
    "    \n",
    "    # Cálculo de métricas derivadas\n",
    "    años_total = stats_df['max_year'].iloc[0] - stats_df['min_year'].iloc[0]\n",
    "    promedio_nombres = stats_df['unique_names'].iloc[0] / años_total\n",
    "    \n",
    "    print(\"\\nMétricas Derivadas:\")\n",
    "    print(f\"- Período de análisis: {años_total} años\")\n",
    "    print(f\"- Promedio de nombres únicos por año: {promedio_nombres:.2f}\")\n",
    "    print(f\"- Densidad de datos: {(stats_df['total_registros'].iloc[0] / años_total):,.0f} registros/año\")\n",
    "\n",
    "except Exception as e:\n",
    "    print(f\"Error en análisis exploratorio: {str(e)}\")\n",
    "    print(\"Verificar:\")\n",
    "    print(\"1. Conexión a BigQuery activa\")\n",
    "    print(\"2. Permisos de acceso al dataset\")\n",
    "    print(\"3. Sintaxis de consultas SQL\")"
   ]
  },
  {
   "cell_type": "code",
   "execution_count": 5,
   "id": "f5d544f2",
   "metadata": {},
   "outputs": [
    {
     "name": "stdout",
     "output_type": "stream",
     "text": [
      "📈 Rangos y cardinalidad de los datos:\n"
     ]
    },
    {
     "data": {
      "text/html": [
       "<div>\n",
       "<style scoped>\n",
       "    .dataframe tbody tr th:only-of-type {\n",
       "        vertical-align: middle;\n",
       "    }\n",
       "\n",
       "    .dataframe tbody tr th {\n",
       "        vertical-align: top;\n",
       "    }\n",
       "\n",
       "    .dataframe thead th {\n",
       "        text-align: right;\n",
       "    }\n",
       "</style>\n",
       "<table border=\"1\" class=\"dataframe\">\n",
       "  <thead>\n",
       "    <tr style=\"text-align: right;\">\n",
       "      <th></th>\n",
       "      <th>min_year</th>\n",
       "      <th>max_year</th>\n",
       "      <th>num_states</th>\n",
       "      <th>unique_names</th>\n",
       "      <th>gender_types</th>\n",
       "    </tr>\n",
       "  </thead>\n",
       "  <tbody>\n",
       "    <tr>\n",
       "      <th>0</th>\n",
       "      <td>1910</td>\n",
       "      <td>2013</td>\n",
       "      <td>51</td>\n",
       "      <td>29828</td>\n",
       "      <td>2</td>\n",
       "    </tr>\n",
       "  </tbody>\n",
       "</table>\n",
       "</div>"
      ],
      "text/plain": [
       "   min_year  max_year  num_states  unique_names  gender_types\n",
       "0      1910      2013          51         29828             2"
      ]
     },
     "metadata": {},
     "output_type": "display_data"
    },
    {
     "name": "stdout",
     "output_type": "stream",
     "text": [
      "Análisis de distribución temporal:\n",
      "\n",
      "Estadísticas por Género:\n",
      "\n",
      "Estadísticas por Género:\n"
     ]
    },
    {
     "data": {
      "text/html": [
       "<div>\n",
       "<style scoped>\n",
       "    .dataframe tbody tr th:only-of-type {\n",
       "        vertical-align: middle;\n",
       "    }\n",
       "\n",
       "    .dataframe tbody tr th {\n",
       "        vertical-align: top;\n",
       "    }\n",
       "\n",
       "    .dataframe thead tr th {\n",
       "        text-align: left;\n",
       "    }\n",
       "\n",
       "    .dataframe thead tr:last-of-type th {\n",
       "        text-align: right;\n",
       "    }\n",
       "</style>\n",
       "<table border=\"1\" class=\"dataframe\">\n",
       "  <thead>\n",
       "    <tr>\n",
       "      <th></th>\n",
       "      <th colspan=\"2\" halign=\"left\">unique_names</th>\n",
       "      <th colspan=\"2\" halign=\"left\">total_births</th>\n",
       "      <th colspan=\"2\" halign=\"left\">diversity_index</th>\n",
       "    </tr>\n",
       "    <tr>\n",
       "      <th></th>\n",
       "      <th>mean</th>\n",
       "      <th>std</th>\n",
       "      <th>mean</th>\n",
       "      <th>std</th>\n",
       "      <th>mean</th>\n",
       "      <th>std</th>\n",
       "    </tr>\n",
       "    <tr>\n",
       "      <th>gender</th>\n",
       "      <th></th>\n",
       "      <th></th>\n",
       "      <th></th>\n",
       "      <th></th>\n",
       "      <th></th>\n",
       "      <th></th>\n",
       "    </tr>\n",
       "  </thead>\n",
       "  <tbody>\n",
       "    <tr>\n",
       "      <th>F</th>\n",
       "      <td>3122.51</td>\n",
       "      <td>1425.2</td>\n",
       "      <td>1368326.06</td>\n",
       "      <td>332297.31</td>\n",
       "      <td>22.87</td>\n",
       "      <td>8.28</td>\n",
       "    </tr>\n",
       "    <tr>\n",
       "      <th>M</th>\n",
       "      <td>2393.89</td>\n",
       "      <td>969.17</td>\n",
       "      <td>1475203.41</td>\n",
       "      <td>440271.1</td>\n",
       "      <td>17.23</td>\n",
       "      <td>6.28</td>\n",
       "    </tr>\n",
       "  </tbody>\n",
       "</table>\n",
       "</div>"
      ],
      "text/plain": [
       "       unique_names         total_births            diversity_index      \n",
       "               mean     std         mean        std            mean   std\n",
       "gender                                                                   \n",
       "F           3122.51  1425.2   1368326.06  332297.31           22.87  8.28\n",
       "M           2393.89  969.17   1475203.41   440271.1           17.23  6.28"
      ]
     },
     "metadata": {},
     "output_type": "display_data"
    },
    {
     "data": {
      "application/vnd.plotly.v1+json": {
       "config": {
        "plotlyServerURL": "https://plot.ly"
       },
       "data": [
        {
         "line": {
          "color": "pink"
         },
         "mode": "lines",
         "name": "Femenino",
         "type": "scatter",
         "x": {
          "bdata": "dgd3B3gHeQd6B3sHfAd9B34HfweAB4EHggeDB4QHhQeGB4cHiAeJB4oHiweMB40HjgePB5AHkQeSB5MHlAeVB5YHlweYB5kHmgebB5wHnQeeB58HoAehB6IHowekB6UHpgenB6gHqQeqB6sHrAetB64HrwewB7EHsgezB7QHtQe2B7cHuAe5B7oHuwe8B70Hvge/B8AHwQfCB8MHxAfFB8YHxwfIB8kHygfLB8wHzQfOB88H0AfRB9IH0wfUB9UH1gfXB9gH2QfaB9sH3AfdBw==",
          "dtype": "i2"
         },
         "xaxis": "x",
         "y": {
          "bdata": "OwQqBO0ERgUNBhgHXAd5B9sHzgcACCIISQgrCEwIMQgSCCIIwgevB3MHNwdQB/oGCwcYB94G2wbuBggH7wYuB2kHlQdVB1oHAQhyCGAITwhECHoInwjeCPoIJQlqCXkJjAnMCQ0KMgoXCjIKUQooCjQKkQqSCkkL5wsFDLAL+gshDKEMpwxlDWwN7w1kDpYO0A55DukOTQ+5DxsQ3xANEgQTARMlEzoTDxPmEt4SxhIuE4ATkhSYFBEVcxVgFj4W+xaaF6UXZRexFpIWjRZMFg==",
          "dtype": "i2"
         },
         "yaxis": "y"
        },
        {
         "line": {
          "color": "red",
          "dash": "dash"
         },
         "mode": "lines",
         "name": "Tendencia F",
         "type": "scatter",
         "x": {
          "bdata": "dgd3B3gHeQd6B3sHfAd9B34HfweAB4EHggeDB4QHhQeGB4cHiAeJB4oHiweMB40HjgePB5AHkQeSB5MHlAeVB5YHlweYB5kHmgebB5wHnQeeB58HoAehB6IHowekB6UHpgenB6gHqQeqB6sHrAetB64HrwewB7EHsgezB7QHtQe2B7cHuAe5B7oHuwe8B70Hvge/B8AHwQfCB8MHxAfFB8YHxwfIB8kHygfLB8wHzQfOB88H0AfRB9IH0wfUB9UH1gfXB9gH2QfaB9sH3AfdBw==",
          "dtype": "i2"
         },
         "xaxis": "x",
         "y": {
          "bdata": "ACu1UisxikCAGSqVBZSLQIAHn9ff9oxAgPUTGrpZjkAA5IhclLyPQADpfk+3j5BAAGC5cCRBkUAA1/ORkfKRQEBOLrP+o5JAQMVo1GtVk0BAPKP12AaUQICz3RZGuJRAgCoYOLNplUCAoVJZIBuWQIAYjXqNzJZAwI/Hm/p9l0DABgK9Zy+YQMB9PN7U4JhAAPV2/0GSmUAAbLEgr0OaQADj60Ec9ZpAAFomY4mmm0BA0WCE9lecQEBIm6VjCZ1AQL/VxtC6nUCANhDoPWyeQICtSgmrHZ9AgCSFKhjPn0DAzd+lQkCgQGAJfTb5mKBA4EQax6/xoEBggLdXZkqhQAC8VOgco6FAgPfxeNP7oUAAM48JilSiQIBuLJpAraJAIKrJKvcFo0Cg5Wa7rV6jQCAhBExkt6NAwFyh3BoQpEBAmD5t0WikQMDT2/2HwaRAQA95jj4apUDgShYf9XKlQGCGs6+ry6VA4MFQQGIkpkCA/e3QGH2mQAA5i2HP1aZAgHQo8oUup0AAsMWCPIenQKDrYhPz36dAICcApKk4qECgYp00YJGoQECeOsUW6qhAwNnXVc1CqUBAFXXmg5upQMBQEnc69KlAYIyvB/FMqkDgx0yYp6WqQGAD6ihe/qpAAD+HuRRXq0CAeiRKy6+rQAC2wdqBCKxAoPFeazhhrEAgLfz77rmsQKBomYylEq1AIKQ2HVxrrUDA39OtEsStQEAbcT7JHK5AwFYOz391rkBgkqtfNs6uQODNSPDsJq9AYAnmgKN/r0DgRIMRWtivQEBAEFGIGLBAAN5emeNEsEDAe63hPnGwQJAZ/CmanbBAULdKcvXJsEAQVZm6UPawQNDy5wKsIrFAoJA2SwdPsUBgLoWTYnuxQCDM09u9p7FA8GkiJBnUsUCwB3FsdACyQHClv7TPLLJAMEMO/SpZskAA4VxFhoWyQMB+q43hsbJAgBz61TzeskBQukgemAqzQBBYl2bzNrNA0PXlrk5js0CQkzT3qY+zQGAxgz8FvLNAIM/Rh2Dos0DgbCDQuxS0QLAKbxgXQbRAcKi9YHJttEAwRgypzZm0QPDjWvEoxrRAwIGpOYTytECAH/iB3x61QA==",
          "dtype": "f8"
         },
         "yaxis": "y"
        },
        {
         "line": {
          "color": "blue"
         },
         "mode": "lines",
         "name": "Masculino",
         "type": "scatter",
         "x": {
          "bdata": "dgd3B3gHeQd6B3sHfAd9B34HfweAB4EHggeDB4QHhQeGB4cHiAeJB4oHiweMB40HjgePB5AHkQeSB5MHlAeVB5YHlweYB5kHmgebB5wHnQeeB58HoAehB6IHowekB6UHpgenB6gHqQeqB6sHrAetB64HrwewB7EHsgezB7QHtQe2B7cHuAe5B7oHuwe8B70Hvge/B8AHwQfCB8MHxAfFB8YHxwfIB8kHygfLB8wHzQfOB88H0AfRB9IH0wfUB9UH1gfXB9gH2QfaB9sH3AfdBw==",
          "dtype": "i2"
         },
         "xaxis": "x",
         "y": {
          "bdata": "tALyAloE6ATWBcwGAQcmB1EHiAe+B/cH7Qe0B+MHuwe3B5UHmwdNB0IH9gb1BrcGvga6BoUGiwZzBlkGewZnBqgGsAZhBj4Gogb5Bs0G1Qa+BsMG5QbfBtoG7AbXBvIG6Qb8BvoGCwfqBvEG8gbZBrQGwgb/BksHtQcICP4HFgg9CJ0I4wj1CB4JXQnFCesJMAo8CkAKnwoeC18L5Qt7Db0N1g0BDkAOTQ7oDQUOAg5dDrMOOQ9fD2IP5A+mEHsQ2xBxEUkRlREzETsRDBHIEA==",
          "dtype": "i2"
         },
         "yaxis": "y"
        },
        {
         "line": {
          "color": "navy",
          "dash": "dash"
         },
         "mode": "lines",
         "name": "Tendencia M",
         "type": "scatter",
         "x": {
          "bdata": "dgd3B3gHeQd6B3sHfAd9B34HfweAB4EHggeDB4QHhQeGB4cHiAeJB4oHiweMB40HjgePB5AHkQeSB5MHlAeVB5YHlweYB5kHmgebB5wHnQeeB58HoAehB6IHowekB6UHpgenB6gHqQeqB6sHrAetB64HrwewB7EHsgezB7QHtQe2B7cHuAe5B7oHuwe8B70Hvge/B8AHwQfCB8MHxAfFB8YHxwfIB8kHygfLB8wHzQfOB88H0AfRB9IH0wfUB9UH1gfXB9gH2QfaB9sH3AfdBw==",
          "dtype": "i2"
         },
         "xaxis": "x",
         "y": {
          "bdata": "wIVe6IVKjkAAI+8e0SePQCDgvyqOApBAwC4IxjNxkEBgfVBh2d+QQODLmPx+TpFAgBrhlyS9kUAgaSkzyiuSQMC3cc5vmpJAYAa6aRUJk0AAVQIFu3eTQKCjSqBg5pNAQPKSOwZVlEDgQNvWq8OUQICPI3JRMpVAIN5rDfeglUDALLSonA+WQGB7/ENCfpZAAMpE3+fslkCAGI16jVuXQCBn1RUzypdAwLUdsdg4mEBgBGZMfqeYQABTrucjFplAoKH2gsmEmUBA8D4eb/OZQOA+h7kUYppAgI3PVLrQmkAg3BfwXz+bQMAqYIsFrptAYHmoJqscnEAAyPDBUIucQKAWOV32+ZxAIGWB+JtonUDAs8mTQdedQGACEi/nRZ5AAFFayoy0nkCgn6JlMiOfQEDu6gDYkZ9AcJ4Zzj4AoEDAxb2bkTegQBDtYWnkbqBAYBQGNzemoECwO6oEit2gQABjTtLcFKFAUIryny9MoUCgsZZtgoOhQODYOjvVuqFAMADfCCjyoUCAJ4PWeimiQNBOJ6TNYKJAIHbLcSCYokBwnW8/c8+iQMDEEw3GBqNAEOy32hg+o0BgE1yoa3WjQLA6AHa+rKNAAGKkQxHko0BQiUgRZBukQKCw7N62UqRA8NeQrAmKpEAw/zR6XMGkQIAm2Uev+KRA0E19FQIwpUAgdSHjVGelQHCcxbCnnqVAwMNpfvrVpUAQ6w1MTQ2mQGASshmgRKZAsDlW5/J7pkAAYfq0RbOmQFCInoKY6qZAoK9CUOshp0Dw1uYdPlmnQED+iuuQkKdAgCUvuePHp0DQTNOGNv+nQCB0d1SJNqhAcJsbItxtqEDAwr/vLqWoQBDqY72B3KhAYBEIi9QTqUCwOKxYJ0upQABgUCZ6gqlAUIf088y5qUCgrpjBH/GpQPDVPI9yKKpAQP3gXMVfqkCQJIUqGJeqQNBLKfhqzqpAIHPNxb0Fq0BwmnGTED2rQMDBFWFjdKtAEOm5Lrarq0BgEF78COOrQLA3AspbGqxAAF+ml65RrEBQhkplAYmsQKCt7jJUwKxA8NSSAKf3rEBA/DbO+S6tQJAj25tMZq1A4Ep/aZ+drUAgciM38tStQA==",
          "dtype": "f8"
         },
         "yaxis": "y"
        }
       ],
       "layout": {
        "annotations": [
         {
          "font": {
           "size": 16
          },
          "showarrow": false,
          "text": "Evolución de la Diversidad de Nombres (1910-2013)",
          "x": 0.5,
          "xanchor": "center",
          "xref": "paper",
          "y": 1,
          "yanchor": "bottom",
          "yref": "paper"
         },
         {
          "font": {
           "size": 16
          },
          "showarrow": false,
          "text": "Tendencia de Nacimientos Registrados",
          "x": 0.5,
          "xanchor": "center",
          "xref": "paper",
          "y": 0.375,
          "yanchor": "bottom",
          "yref": "paper"
         }
        ],
        "height": 800,
        "showlegend": true,
        "template": {
         "data": {
          "bar": [
           {
            "error_x": {
             "color": "#2a3f5f"
            },
            "error_y": {
             "color": "#2a3f5f"
            },
            "marker": {
             "line": {
              "color": "#E5ECF6",
              "width": 0.5
             },
             "pattern": {
              "fillmode": "overlay",
              "size": 10,
              "solidity": 0.2
             }
            },
            "type": "bar"
           }
          ],
          "barpolar": [
           {
            "marker": {
             "line": {
              "color": "#E5ECF6",
              "width": 0.5
             },
             "pattern": {
              "fillmode": "overlay",
              "size": 10,
              "solidity": 0.2
             }
            },
            "type": "barpolar"
           }
          ],
          "carpet": [
           {
            "aaxis": {
             "endlinecolor": "#2a3f5f",
             "gridcolor": "white",
             "linecolor": "white",
             "minorgridcolor": "white",
             "startlinecolor": "#2a3f5f"
            },
            "baxis": {
             "endlinecolor": "#2a3f5f",
             "gridcolor": "white",
             "linecolor": "white",
             "minorgridcolor": "white",
             "startlinecolor": "#2a3f5f"
            },
            "type": "carpet"
           }
          ],
          "choropleth": [
           {
            "colorbar": {
             "outlinewidth": 0,
             "ticks": ""
            },
            "type": "choropleth"
           }
          ],
          "contour": [
           {
            "colorbar": {
             "outlinewidth": 0,
             "ticks": ""
            },
            "colorscale": [
             [
              0,
              "#0d0887"
             ],
             [
              0.1111111111111111,
              "#46039f"
             ],
             [
              0.2222222222222222,
              "#7201a8"
             ],
             [
              0.3333333333333333,
              "#9c179e"
             ],
             [
              0.4444444444444444,
              "#bd3786"
             ],
             [
              0.5555555555555556,
              "#d8576b"
             ],
             [
              0.6666666666666666,
              "#ed7953"
             ],
             [
              0.7777777777777778,
              "#fb9f3a"
             ],
             [
              0.8888888888888888,
              "#fdca26"
             ],
             [
              1,
              "#f0f921"
             ]
            ],
            "type": "contour"
           }
          ],
          "contourcarpet": [
           {
            "colorbar": {
             "outlinewidth": 0,
             "ticks": ""
            },
            "type": "contourcarpet"
           }
          ],
          "heatmap": [
           {
            "colorbar": {
             "outlinewidth": 0,
             "ticks": ""
            },
            "colorscale": [
             [
              0,
              "#0d0887"
             ],
             [
              0.1111111111111111,
              "#46039f"
             ],
             [
              0.2222222222222222,
              "#7201a8"
             ],
             [
              0.3333333333333333,
              "#9c179e"
             ],
             [
              0.4444444444444444,
              "#bd3786"
             ],
             [
              0.5555555555555556,
              "#d8576b"
             ],
             [
              0.6666666666666666,
              "#ed7953"
             ],
             [
              0.7777777777777778,
              "#fb9f3a"
             ],
             [
              0.8888888888888888,
              "#fdca26"
             ],
             [
              1,
              "#f0f921"
             ]
            ],
            "type": "heatmap"
           }
          ],
          "histogram": [
           {
            "marker": {
             "pattern": {
              "fillmode": "overlay",
              "size": 10,
              "solidity": 0.2
             }
            },
            "type": "histogram"
           }
          ],
          "histogram2d": [
           {
            "colorbar": {
             "outlinewidth": 0,
             "ticks": ""
            },
            "colorscale": [
             [
              0,
              "#0d0887"
             ],
             [
              0.1111111111111111,
              "#46039f"
             ],
             [
              0.2222222222222222,
              "#7201a8"
             ],
             [
              0.3333333333333333,
              "#9c179e"
             ],
             [
              0.4444444444444444,
              "#bd3786"
             ],
             [
              0.5555555555555556,
              "#d8576b"
             ],
             [
              0.6666666666666666,
              "#ed7953"
             ],
             [
              0.7777777777777778,
              "#fb9f3a"
             ],
             [
              0.8888888888888888,
              "#fdca26"
             ],
             [
              1,
              "#f0f921"
             ]
            ],
            "type": "histogram2d"
           }
          ],
          "histogram2dcontour": [
           {
            "colorbar": {
             "outlinewidth": 0,
             "ticks": ""
            },
            "colorscale": [
             [
              0,
              "#0d0887"
             ],
             [
              0.1111111111111111,
              "#46039f"
             ],
             [
              0.2222222222222222,
              "#7201a8"
             ],
             [
              0.3333333333333333,
              "#9c179e"
             ],
             [
              0.4444444444444444,
              "#bd3786"
             ],
             [
              0.5555555555555556,
              "#d8576b"
             ],
             [
              0.6666666666666666,
              "#ed7953"
             ],
             [
              0.7777777777777778,
              "#fb9f3a"
             ],
             [
              0.8888888888888888,
              "#fdca26"
             ],
             [
              1,
              "#f0f921"
             ]
            ],
            "type": "histogram2dcontour"
           }
          ],
          "mesh3d": [
           {
            "colorbar": {
             "outlinewidth": 0,
             "ticks": ""
            },
            "type": "mesh3d"
           }
          ],
          "parcoords": [
           {
            "line": {
             "colorbar": {
              "outlinewidth": 0,
              "ticks": ""
             }
            },
            "type": "parcoords"
           }
          ],
          "pie": [
           {
            "automargin": true,
            "type": "pie"
           }
          ],
          "scatter": [
           {
            "fillpattern": {
             "fillmode": "overlay",
             "size": 10,
             "solidity": 0.2
            },
            "type": "scatter"
           }
          ],
          "scatter3d": [
           {
            "line": {
             "colorbar": {
              "outlinewidth": 0,
              "ticks": ""
             }
            },
            "marker": {
             "colorbar": {
              "outlinewidth": 0,
              "ticks": ""
             }
            },
            "type": "scatter3d"
           }
          ],
          "scattercarpet": [
           {
            "marker": {
             "colorbar": {
              "outlinewidth": 0,
              "ticks": ""
             }
            },
            "type": "scattercarpet"
           }
          ],
          "scattergeo": [
           {
            "marker": {
             "colorbar": {
              "outlinewidth": 0,
              "ticks": ""
             }
            },
            "type": "scattergeo"
           }
          ],
          "scattergl": [
           {
            "marker": {
             "colorbar": {
              "outlinewidth": 0,
              "ticks": ""
             }
            },
            "type": "scattergl"
           }
          ],
          "scattermap": [
           {
            "marker": {
             "colorbar": {
              "outlinewidth": 0,
              "ticks": ""
             }
            },
            "type": "scattermap"
           }
          ],
          "scattermapbox": [
           {
            "marker": {
             "colorbar": {
              "outlinewidth": 0,
              "ticks": ""
             }
            },
            "type": "scattermapbox"
           }
          ],
          "scatterpolar": [
           {
            "marker": {
             "colorbar": {
              "outlinewidth": 0,
              "ticks": ""
             }
            },
            "type": "scatterpolar"
           }
          ],
          "scatterpolargl": [
           {
            "marker": {
             "colorbar": {
              "outlinewidth": 0,
              "ticks": ""
             }
            },
            "type": "scatterpolargl"
           }
          ],
          "scatterternary": [
           {
            "marker": {
             "colorbar": {
              "outlinewidth": 0,
              "ticks": ""
             }
            },
            "type": "scatterternary"
           }
          ],
          "surface": [
           {
            "colorbar": {
             "outlinewidth": 0,
             "ticks": ""
            },
            "colorscale": [
             [
              0,
              "#0d0887"
             ],
             [
              0.1111111111111111,
              "#46039f"
             ],
             [
              0.2222222222222222,
              "#7201a8"
             ],
             [
              0.3333333333333333,
              "#9c179e"
             ],
             [
              0.4444444444444444,
              "#bd3786"
             ],
             [
              0.5555555555555556,
              "#d8576b"
             ],
             [
              0.6666666666666666,
              "#ed7953"
             ],
             [
              0.7777777777777778,
              "#fb9f3a"
             ],
             [
              0.8888888888888888,
              "#fdca26"
             ],
             [
              1,
              "#f0f921"
             ]
            ],
            "type": "surface"
           }
          ],
          "table": [
           {
            "cells": {
             "fill": {
              "color": "#EBF0F8"
             },
             "line": {
              "color": "white"
             }
            },
            "header": {
             "fill": {
              "color": "#C8D4E3"
             },
             "line": {
              "color": "white"
             }
            },
            "type": "table"
           }
          ]
         },
         "layout": {
          "annotationdefaults": {
           "arrowcolor": "#2a3f5f",
           "arrowhead": 0,
           "arrowwidth": 1
          },
          "autotypenumbers": "strict",
          "coloraxis": {
           "colorbar": {
            "outlinewidth": 0,
            "ticks": ""
           }
          },
          "colorscale": {
           "diverging": [
            [
             0,
             "#8e0152"
            ],
            [
             0.1,
             "#c51b7d"
            ],
            [
             0.2,
             "#de77ae"
            ],
            [
             0.3,
             "#f1b6da"
            ],
            [
             0.4,
             "#fde0ef"
            ],
            [
             0.5,
             "#f7f7f7"
            ],
            [
             0.6,
             "#e6f5d0"
            ],
            [
             0.7,
             "#b8e186"
            ],
            [
             0.8,
             "#7fbc41"
            ],
            [
             0.9,
             "#4d9221"
            ],
            [
             1,
             "#276419"
            ]
           ],
           "sequential": [
            [
             0,
             "#0d0887"
            ],
            [
             0.1111111111111111,
             "#46039f"
            ],
            [
             0.2222222222222222,
             "#7201a8"
            ],
            [
             0.3333333333333333,
             "#9c179e"
            ],
            [
             0.4444444444444444,
             "#bd3786"
            ],
            [
             0.5555555555555556,
             "#d8576b"
            ],
            [
             0.6666666666666666,
             "#ed7953"
            ],
            [
             0.7777777777777778,
             "#fb9f3a"
            ],
            [
             0.8888888888888888,
             "#fdca26"
            ],
            [
             1,
             "#f0f921"
            ]
           ],
           "sequentialminus": [
            [
             0,
             "#0d0887"
            ],
            [
             0.1111111111111111,
             "#46039f"
            ],
            [
             0.2222222222222222,
             "#7201a8"
            ],
            [
             0.3333333333333333,
             "#9c179e"
            ],
            [
             0.4444444444444444,
             "#bd3786"
            ],
            [
             0.5555555555555556,
             "#d8576b"
            ],
            [
             0.6666666666666666,
             "#ed7953"
            ],
            [
             0.7777777777777778,
             "#fb9f3a"
            ],
            [
             0.8888888888888888,
             "#fdca26"
            ],
            [
             1,
             "#f0f921"
            ]
           ]
          },
          "colorway": [
           "#636efa",
           "#EF553B",
           "#00cc96",
           "#ab63fa",
           "#FFA15A",
           "#19d3f3",
           "#FF6692",
           "#B6E880",
           "#FF97FF",
           "#FECB52"
          ],
          "font": {
           "color": "#2a3f5f"
          },
          "geo": {
           "bgcolor": "white",
           "lakecolor": "white",
           "landcolor": "#E5ECF6",
           "showlakes": true,
           "showland": true,
           "subunitcolor": "white"
          },
          "hoverlabel": {
           "align": "left"
          },
          "hovermode": "closest",
          "mapbox": {
           "style": "light"
          },
          "paper_bgcolor": "white",
          "plot_bgcolor": "#E5ECF6",
          "polar": {
           "angularaxis": {
            "gridcolor": "white",
            "linecolor": "white",
            "ticks": ""
           },
           "bgcolor": "#E5ECF6",
           "radialaxis": {
            "gridcolor": "white",
            "linecolor": "white",
            "ticks": ""
           }
          },
          "scene": {
           "xaxis": {
            "backgroundcolor": "#E5ECF6",
            "gridcolor": "white",
            "gridwidth": 2,
            "linecolor": "white",
            "showbackground": true,
            "ticks": "",
            "zerolinecolor": "white"
           },
           "yaxis": {
            "backgroundcolor": "#E5ECF6",
            "gridcolor": "white",
            "gridwidth": 2,
            "linecolor": "white",
            "showbackground": true,
            "ticks": "",
            "zerolinecolor": "white"
           },
           "zaxis": {
            "backgroundcolor": "#E5ECF6",
            "gridcolor": "white",
            "gridwidth": 2,
            "linecolor": "white",
            "showbackground": true,
            "ticks": "",
            "zerolinecolor": "white"
           }
          },
          "shapedefaults": {
           "line": {
            "color": "#2a3f5f"
           }
          },
          "ternary": {
           "aaxis": {
            "gridcolor": "white",
            "linecolor": "white",
            "ticks": ""
           },
           "baxis": {
            "gridcolor": "white",
            "linecolor": "white",
            "ticks": ""
           },
           "bgcolor": "#E5ECF6",
           "caxis": {
            "gridcolor": "white",
            "linecolor": "white",
            "ticks": ""
           }
          },
          "title": {
           "x": 0.05
          },
          "xaxis": {
           "automargin": true,
           "gridcolor": "white",
           "linecolor": "white",
           "ticks": "",
           "title": {
            "standoff": 15
           },
           "zerolinecolor": "white",
           "zerolinewidth": 2
          },
          "yaxis": {
           "automargin": true,
           "gridcolor": "white",
           "linecolor": "white",
           "ticks": "",
           "title": {
            "standoff": 15
           },
           "zerolinecolor": "white",
           "zerolinewidth": 2
          }
         }
        },
        "title": {
         "text": "Análisis de Tendencias Temporales en Nombres"
        },
        "width": 1000,
        "xaxis": {
         "anchor": "y",
         "domain": [
          0,
          1
         ]
        },
        "xaxis2": {
         "anchor": "y2",
         "domain": [
          0,
          1
         ],
         "title": {
          "text": "Año"
         }
        },
        "yaxis": {
         "anchor": "x",
         "domain": [
          0.625,
          1
         ],
         "title": {
          "text": "Nombres Únicos"
         }
        },
        "yaxis2": {
         "anchor": "x2",
         "domain": [
          0,
          0.375
         ],
         "title": {
          "text": "Total Nacimientos"
         }
        }
       }
      }
     },
     "metadata": {},
     "output_type": "display_data"
    }
   ],
   "source": [
    "# Parte 2: Rangos y cardinalidad de los datos\n",
    "try:\n",
    "    ranges_query = \"\"\"\n",
    "    SELECT\n",
    "        MIN(year) as min_year,\n",
    "        MAX(year) as max_year,\n",
    "        COUNT(DISTINCT state) as num_states,\n",
    "        COUNT(DISTINCT name) as unique_names,\n",
    "        COUNT(DISTINCT gender) as gender_types\n",
    "    FROM \n",
    "        `bigquery-public-data.usa_names.usa_1910_2013`\n",
    "    \"\"\"\n",
    "    \n",
    "    print(\"📈 Rangos y cardinalidad de los datos:\")\n",
    "    ranges_df = client.query(ranges_query).to_dataframe()\n",
    "    display(ranges_df)\n",
    "\n",
    "except Exception as e:\n",
    "    print(f\"Error al obtener rangos: {str(e)}\")\n",
    "\n",
    "# Análisis de distribución temporal y tendencias\n",
    "try:\n",
    "    # Consulta para análisis temporal\n",
    "    # Agregación por año y género para identificar patrones\n",
    "    dist_query = \"\"\"\n",
    "    SELECT\n",
    "        year,\n",
    "        gender,\n",
    "        COUNT(DISTINCT name) as unique_names,\n",
    "        SUM(number) as total_births,\n",
    "        -- Cálculo de diversidad relativa\n",
    "        COUNT(DISTINCT name) / SUM(number) * 10000 as diversity_index\n",
    "    FROM \n",
    "        `bigquery-public-data.usa_names.usa_1910_2013`\n",
    "    GROUP BY \n",
    "        year, gender\n",
    "    ORDER BY \n",
    "        year, gender\n",
    "    \"\"\"\n",
    "\n",
    "    print(\"Análisis de distribución temporal:\")\n",
    "    dist_df = client.query(dist_query).to_dataframe()\n",
    "    \n",
    "    # Cálculo de estadísticas por género\n",
    "    stats_by_gender = dist_df.groupby('gender').agg({\n",
    "        'unique_names': ['mean', 'std'],\n",
    "        'total_births': ['mean', 'std'],\n",
    "        'diversity_index': ['mean', 'std']\n",
    "    }).round(2)\n",
    "    \n",
    "    print(\"\\nEstadísticas por Género:\")\n",
    "    display(stats_by_gender)\n",
    "    \n",
    "    # Visualización de tendencias temporales\n",
    "    fig = make_subplots(\n",
    "        rows=2, cols=1,\n",
    "        subplot_titles=(\n",
    "            'Evolución de la Diversidad de Nombres (1910-2013)',\n",
    "            'Tendencia de Nacimientos Registrados'\n",
    "        )\n",
    "    )\n",
    "    \n",
    "    # Gráfica de diversidad de nombres\n",
    "    for gender in ['F', 'M']:\n",
    "        df_gender = dist_df[dist_df['gender'] == gender]\n",
    "        \n",
    "        # Añadir línea de tendencia\n",
    "        z = np.polyfit(df_gender['year'], df_gender['unique_names'], 1)\n",
    "        p = np.poly1d(z)\n",
    "        \n",
    "        fig.add_trace(\n",
    "            go.Scatter(\n",
    "                x=df_gender['year'], \n",
    "                y=df_gender['unique_names'],\n",
    "                mode='lines',\n",
    "                name=f'{\"Femenino\" if gender == \"F\" else \"Masculino\"}',\n",
    "                line=dict(color='pink' if gender == 'F' else 'blue')\n",
    "            ),\n",
    "            row=1, col=1\n",
    "        )\n",
    "        \n",
    "        # Añadir línea de tendencia\n",
    "        fig.add_trace(\n",
    "            go.Scatter(\n",
    "                x=df_gender['year'],\n",
    "                y=p(df_gender['year']),\n",
    "                mode='lines',\n",
    "                name=f'Tendencia {\"F\" if gender == \"F\" else \"M\"}',\n",
    "                line=dict(dash='dash', color='red' if gender == 'F' else 'navy')\n",
    "            ),\n",
    "            row=1, col=1\n",
    "        )\n",
    "\n",
    "    # Actualizar diseño\n",
    "    fig.update_layout(\n",
    "        height=800,\n",
    "        width=1000,\n",
    "        showlegend=True,\n",
    "        title_text=\"Análisis de Tendencias Temporales en Nombres\"\n",
    "    )\n",
    "\n",
    "    fig.update_xaxes(title_text=\"Año\", row=2, col=1)\n",
    "    fig.update_yaxes(title_text=\"Nombres Únicos\", row=1, col=1)\n",
    "    fig.update_yaxes(title_text=\"Total Nacimientos\", row=2, col=1)\n",
    "\n",
    "    fig.show()\n",
    "\n",
    "except Exception as e:\n",
    "    print(f\"Error en análisis temporal: {str(e)}\")\n",
    "    print(\"Verificar integridad de datos temporales\")"
   ]
  },
  {
   "cell_type": "code",
   "execution_count": 6,
   "id": "cbd58c22",
   "metadata": {},
   "outputs": [
    {
     "name": "stdout",
     "output_type": "stream",
     "text": [
      "🔍 Muestra aleatoria de registros:\n"
     ]
    },
    {
     "data": {
      "text/html": [
       "<div>\n",
       "<style scoped>\n",
       "    .dataframe tbody tr th:only-of-type {\n",
       "        vertical-align: middle;\n",
       "    }\n",
       "\n",
       "    .dataframe tbody tr th {\n",
       "        vertical-align: top;\n",
       "    }\n",
       "\n",
       "    .dataframe thead th {\n",
       "        text-align: right;\n",
       "    }\n",
       "</style>\n",
       "<table border=\"1\" class=\"dataframe\">\n",
       "  <thead>\n",
       "    <tr style=\"text-align: right;\">\n",
       "      <th></th>\n",
       "      <th>state</th>\n",
       "      <th>gender</th>\n",
       "      <th>year</th>\n",
       "      <th>name</th>\n",
       "      <th>number</th>\n",
       "    </tr>\n",
       "  </thead>\n",
       "  <tbody>\n",
       "    <tr>\n",
       "      <th>0</th>\n",
       "      <td>LA</td>\n",
       "      <td>F</td>\n",
       "      <td>1933</td>\n",
       "      <td>Patsy</td>\n",
       "      <td>83</td>\n",
       "    </tr>\n",
       "    <tr>\n",
       "      <th>1</th>\n",
       "      <td>TN</td>\n",
       "      <td>F</td>\n",
       "      <td>1971</td>\n",
       "      <td>Joyce</td>\n",
       "      <td>51</td>\n",
       "    </tr>\n",
       "    <tr>\n",
       "      <th>2</th>\n",
       "      <td>CA</td>\n",
       "      <td>F</td>\n",
       "      <td>1971</td>\n",
       "      <td>Karin</td>\n",
       "      <td>127</td>\n",
       "    </tr>\n",
       "    <tr>\n",
       "      <th>3</th>\n",
       "      <td>CO</td>\n",
       "      <td>F</td>\n",
       "      <td>1997</td>\n",
       "      <td>Mackenzie</td>\n",
       "      <td>92</td>\n",
       "    </tr>\n",
       "    <tr>\n",
       "      <th>4</th>\n",
       "      <td>CA</td>\n",
       "      <td>F</td>\n",
       "      <td>2002</td>\n",
       "      <td>Tiffany</td>\n",
       "      <td>407</td>\n",
       "    </tr>\n",
       "    <tr>\n",
       "      <th>5</th>\n",
       "      <td>OH</td>\n",
       "      <td>F</td>\n",
       "      <td>1964</td>\n",
       "      <td>Candace</td>\n",
       "      <td>54</td>\n",
       "    </tr>\n",
       "    <tr>\n",
       "      <th>6</th>\n",
       "      <td>TX</td>\n",
       "      <td>F</td>\n",
       "      <td>1963</td>\n",
       "      <td>Noemi</td>\n",
       "      <td>50</td>\n",
       "    </tr>\n",
       "    <tr>\n",
       "      <th>7</th>\n",
       "      <td>CA</td>\n",
       "      <td>F</td>\n",
       "      <td>1974</td>\n",
       "      <td>Meredith</td>\n",
       "      <td>78</td>\n",
       "    </tr>\n",
       "    <tr>\n",
       "      <th>8</th>\n",
       "      <td>AL</td>\n",
       "      <td>F</td>\n",
       "      <td>1981</td>\n",
       "      <td>Brandi</td>\n",
       "      <td>181</td>\n",
       "    </tr>\n",
       "    <tr>\n",
       "      <th>9</th>\n",
       "      <td>GA</td>\n",
       "      <td>F</td>\n",
       "      <td>1949</td>\n",
       "      <td>Martha</td>\n",
       "      <td>596</td>\n",
       "    </tr>\n",
       "  </tbody>\n",
       "</table>\n",
       "</div>"
      ],
      "text/plain": [
       "  state gender  year       name  number\n",
       "0    LA      F  1933      Patsy      83\n",
       "1    TN      F  1971      Joyce      51\n",
       "2    CA      F  1971      Karin     127\n",
       "3    CO      F  1997  Mackenzie      92\n",
       "4    CA      F  2002    Tiffany     407\n",
       "5    OH      F  1964    Candace      54\n",
       "6    TX      F  1963      Noemi      50\n",
       "7    CA      F  1974   Meredith      78\n",
       "8    AL      F  1981     Brandi     181\n",
       "9    GA      F  1949     Martha     596"
      ]
     },
     "metadata": {},
     "output_type": "display_data"
    }
   ],
   "source": [
    "# Parte 3: Muestra aleatoria de registros\n",
    "try:\n",
    "    sample_query = \"\"\"\n",
    "    SELECT *\n",
    "    FROM `bigquery-public-data.usa_names.usa_1910_2013`\n",
    "    WHERE RAND() < 0.0001\n",
    "    LIMIT 10\n",
    "    \"\"\"\n",
    "    \n",
    "    print(\"🔍 Muestra aleatoria de registros:\")\n",
    "    sample_df = client.query(sample_query).to_dataframe()\n",
    "    display(sample_df)\n",
    "\n",
    "except Exception as e:\n",
    "    print(f\"Error al obtener muestra: {str(e)}\")"
   ]
  },
  {
   "cell_type": "code",
   "execution_count": 7,
   "id": "b280ef9e",
   "metadata": {},
   "outputs": [
    {
     "name": "stdout",
     "output_type": "stream",
     "text": [
      "📊 Distribución por año:\n"
     ]
    },
    {
     "data": {
      "application/vnd.plotly.v1+json": {
       "config": {
        "plotlyServerURL": "https://plot.ly"
       },
       "data": [
        {
         "line": {
          "color": "blue"
         },
         "mode": "lines",
         "name": "Nombres Únicos",
         "type": "scatter",
         "x": {
          "bdata": "dgd3B3gHeQd6B3sHfAd9B34HfweAB4EHggeDB4QHhQeGB4cHiAeJB4oHiweMB40HjgePB5AHkQeSB5MHlAeVB5YHlweYB5kHmgebB5wHnQeeB58HoAehB6IHowekB6UHpgenB6gHqQeqB6sHrAetB64HrwewB7EHsgezB7QHtQe2B7cHuAe5B7oHuwe8B70Hvge/B8AHwQfCB8MHxAfFB8YHxwfIB8kHygfLB8wHzQfOB88H0AfRB9IH0wfUB9UH1gfXB9gH2QfaB9sH3AfdBw==",
          "dtype": "i2"
         },
         "xaxis": "x",
         "y": {
          "bdata": "nQbMBtUIrAkvCwkNdw27DScOVg66DgkPNg/bDiMP1g63DocONQ7dDZcNJw03DbsM2gzZDG8MbAxzDIQMiwymDBgNQQ3FDKsMpA1bDjIOJg4NDkIOgg63DtAOFA8+D1oPVw+rD+wPGBDkDxUQJxAEEN8PQhB4EGkRUBLDEnIS0xIcE90TOBT3FCQV1RWeFuwWVRcTF3UXKhjzGJkZ2RrKHIwepx7sHjYfLR/YHvUeGh++H2Ig+SEwIqMidCMeJNkkDyYbJ+cmBCf2JeolsyUmJQ==",
          "dtype": "i2"
         },
         "yaxis": "y"
        },
        {
         "line": {
          "color": "red"
         },
         "mode": "lines",
         "name": "Total Nacimientos",
         "type": "scatter",
         "x": {
          "bdata": "dgd3B3gHeQd6B3sHfAd9B34HfweAB4EHggeDB4QHhQeGB4cHiAeJB4oHiweMB40HjgePB5AHkQeSB5MHlAeVB5YHlweYB5kHmgebB5wHnQeeB58HoAehB6IHowekB6UHpgenB6gHqQeqB6sHrAetB64HrwewB7EHsgezB7QHtQe2B7cHuAe5B7oHuwe8B70Hvge/B8AHwQfCB8MHxAfFB8YHxwfIB8kHygfLB8wHzQfOB88H0AfRB9IH0wfUB9UH1gfXB9gH2QfaB9sH3AfdBw==",
          "dtype": "i2"
         },
         "xaxis": "x2",
         "y": {
          "bdata": "0+AHACeiCAChjA0Ar7EPAO27EwCsyRkAfkIbANNQHADUuB4AFtQdAK4PIAD/HyEAwnUgAL2tIAAo2yEAyyUhAKacIAAm9iAADyAgAK4iHwCvmB8AHeMdAED5HQAGWBwABYAdACm1HQAZix0Ad1AeAOWOHwAwbh8A9+sgABLqIgCBUCcAaakoAEK2JgAMLSYAz0QuAMRMNADPDzIA7oIyAPjRMgC0eDUAgSw3AAzuNwDh1jkAQFA6ALXnOwBDET0AWgU8AAZaPAA7PzwAO/Y7ALZhOgASMDkAgxI4AHUvNADK3TEAp5cwAOc3MAA8hjEARUQzAAZ9MACfGiwA1hoqAF1UKgDc4CkA1QUqAOz7KwDN5isAxQ4uANnBLwAg/i8A1LQwAGAbMABJdTAAv4QxAE4+MQDH1DEAuvcyANYGNQAlajYAIHI1AHCFNAAbUzMAzHUyAMySMQArNDEAyLcwAMNFMQB8VDEANU0yADqaMQClZzEAYi4yAKlBMgDDbTIAS68zACoPNADL9DIAu0wxANiHLwBN8i4ArtcuALGJLgA=",
          "dtype": "i4"
         },
         "yaxis": "y2"
        }
       ],
       "layout": {
        "annotations": [
         {
          "font": {
           "size": 16
          },
          "showarrow": false,
          "text": "Número de Nombres Únicos por Año",
          "x": 0.5,
          "xanchor": "center",
          "xref": "paper",
          "y": 1,
          "yanchor": "bottom",
          "yref": "paper"
         },
         {
          "font": {
           "size": 16
          },
          "showarrow": false,
          "text": "Total de Nacimientos por Año",
          "x": 0.5,
          "xanchor": "center",
          "xref": "paper",
          "y": 0.375,
          "yanchor": "bottom",
          "yref": "paper"
         }
        ],
        "height": 800,
        "showlegend": true,
        "template": {
         "data": {
          "bar": [
           {
            "error_x": {
             "color": "#2a3f5f"
            },
            "error_y": {
             "color": "#2a3f5f"
            },
            "marker": {
             "line": {
              "color": "#E5ECF6",
              "width": 0.5
             },
             "pattern": {
              "fillmode": "overlay",
              "size": 10,
              "solidity": 0.2
             }
            },
            "type": "bar"
           }
          ],
          "barpolar": [
           {
            "marker": {
             "line": {
              "color": "#E5ECF6",
              "width": 0.5
             },
             "pattern": {
              "fillmode": "overlay",
              "size": 10,
              "solidity": 0.2
             }
            },
            "type": "barpolar"
           }
          ],
          "carpet": [
           {
            "aaxis": {
             "endlinecolor": "#2a3f5f",
             "gridcolor": "white",
             "linecolor": "white",
             "minorgridcolor": "white",
             "startlinecolor": "#2a3f5f"
            },
            "baxis": {
             "endlinecolor": "#2a3f5f",
             "gridcolor": "white",
             "linecolor": "white",
             "minorgridcolor": "white",
             "startlinecolor": "#2a3f5f"
            },
            "type": "carpet"
           }
          ],
          "choropleth": [
           {
            "colorbar": {
             "outlinewidth": 0,
             "ticks": ""
            },
            "type": "choropleth"
           }
          ],
          "contour": [
           {
            "colorbar": {
             "outlinewidth": 0,
             "ticks": ""
            },
            "colorscale": [
             [
              0,
              "#0d0887"
             ],
             [
              0.1111111111111111,
              "#46039f"
             ],
             [
              0.2222222222222222,
              "#7201a8"
             ],
             [
              0.3333333333333333,
              "#9c179e"
             ],
             [
              0.4444444444444444,
              "#bd3786"
             ],
             [
              0.5555555555555556,
              "#d8576b"
             ],
             [
              0.6666666666666666,
              "#ed7953"
             ],
             [
              0.7777777777777778,
              "#fb9f3a"
             ],
             [
              0.8888888888888888,
              "#fdca26"
             ],
             [
              1,
              "#f0f921"
             ]
            ],
            "type": "contour"
           }
          ],
          "contourcarpet": [
           {
            "colorbar": {
             "outlinewidth": 0,
             "ticks": ""
            },
            "type": "contourcarpet"
           }
          ],
          "heatmap": [
           {
            "colorbar": {
             "outlinewidth": 0,
             "ticks": ""
            },
            "colorscale": [
             [
              0,
              "#0d0887"
             ],
             [
              0.1111111111111111,
              "#46039f"
             ],
             [
              0.2222222222222222,
              "#7201a8"
             ],
             [
              0.3333333333333333,
              "#9c179e"
             ],
             [
              0.4444444444444444,
              "#bd3786"
             ],
             [
              0.5555555555555556,
              "#d8576b"
             ],
             [
              0.6666666666666666,
              "#ed7953"
             ],
             [
              0.7777777777777778,
              "#fb9f3a"
             ],
             [
              0.8888888888888888,
              "#fdca26"
             ],
             [
              1,
              "#f0f921"
             ]
            ],
            "type": "heatmap"
           }
          ],
          "histogram": [
           {
            "marker": {
             "pattern": {
              "fillmode": "overlay",
              "size": 10,
              "solidity": 0.2
             }
            },
            "type": "histogram"
           }
          ],
          "histogram2d": [
           {
            "colorbar": {
             "outlinewidth": 0,
             "ticks": ""
            },
            "colorscale": [
             [
              0,
              "#0d0887"
             ],
             [
              0.1111111111111111,
              "#46039f"
             ],
             [
              0.2222222222222222,
              "#7201a8"
             ],
             [
              0.3333333333333333,
              "#9c179e"
             ],
             [
              0.4444444444444444,
              "#bd3786"
             ],
             [
              0.5555555555555556,
              "#d8576b"
             ],
             [
              0.6666666666666666,
              "#ed7953"
             ],
             [
              0.7777777777777778,
              "#fb9f3a"
             ],
             [
              0.8888888888888888,
              "#fdca26"
             ],
             [
              1,
              "#f0f921"
             ]
            ],
            "type": "histogram2d"
           }
          ],
          "histogram2dcontour": [
           {
            "colorbar": {
             "outlinewidth": 0,
             "ticks": ""
            },
            "colorscale": [
             [
              0,
              "#0d0887"
             ],
             [
              0.1111111111111111,
              "#46039f"
             ],
             [
              0.2222222222222222,
              "#7201a8"
             ],
             [
              0.3333333333333333,
              "#9c179e"
             ],
             [
              0.4444444444444444,
              "#bd3786"
             ],
             [
              0.5555555555555556,
              "#d8576b"
             ],
             [
              0.6666666666666666,
              "#ed7953"
             ],
             [
              0.7777777777777778,
              "#fb9f3a"
             ],
             [
              0.8888888888888888,
              "#fdca26"
             ],
             [
              1,
              "#f0f921"
             ]
            ],
            "type": "histogram2dcontour"
           }
          ],
          "mesh3d": [
           {
            "colorbar": {
             "outlinewidth": 0,
             "ticks": ""
            },
            "type": "mesh3d"
           }
          ],
          "parcoords": [
           {
            "line": {
             "colorbar": {
              "outlinewidth": 0,
              "ticks": ""
             }
            },
            "type": "parcoords"
           }
          ],
          "pie": [
           {
            "automargin": true,
            "type": "pie"
           }
          ],
          "scatter": [
           {
            "fillpattern": {
             "fillmode": "overlay",
             "size": 10,
             "solidity": 0.2
            },
            "type": "scatter"
           }
          ],
          "scatter3d": [
           {
            "line": {
             "colorbar": {
              "outlinewidth": 0,
              "ticks": ""
             }
            },
            "marker": {
             "colorbar": {
              "outlinewidth": 0,
              "ticks": ""
             }
            },
            "type": "scatter3d"
           }
          ],
          "scattercarpet": [
           {
            "marker": {
             "colorbar": {
              "outlinewidth": 0,
              "ticks": ""
             }
            },
            "type": "scattercarpet"
           }
          ],
          "scattergeo": [
           {
            "marker": {
             "colorbar": {
              "outlinewidth": 0,
              "ticks": ""
             }
            },
            "type": "scattergeo"
           }
          ],
          "scattergl": [
           {
            "marker": {
             "colorbar": {
              "outlinewidth": 0,
              "ticks": ""
             }
            },
            "type": "scattergl"
           }
          ],
          "scattermap": [
           {
            "marker": {
             "colorbar": {
              "outlinewidth": 0,
              "ticks": ""
             }
            },
            "type": "scattermap"
           }
          ],
          "scattermapbox": [
           {
            "marker": {
             "colorbar": {
              "outlinewidth": 0,
              "ticks": ""
             }
            },
            "type": "scattermapbox"
           }
          ],
          "scatterpolar": [
           {
            "marker": {
             "colorbar": {
              "outlinewidth": 0,
              "ticks": ""
             }
            },
            "type": "scatterpolar"
           }
          ],
          "scatterpolargl": [
           {
            "marker": {
             "colorbar": {
              "outlinewidth": 0,
              "ticks": ""
             }
            },
            "type": "scatterpolargl"
           }
          ],
          "scatterternary": [
           {
            "marker": {
             "colorbar": {
              "outlinewidth": 0,
              "ticks": ""
             }
            },
            "type": "scatterternary"
           }
          ],
          "surface": [
           {
            "colorbar": {
             "outlinewidth": 0,
             "ticks": ""
            },
            "colorscale": [
             [
              0,
              "#0d0887"
             ],
             [
              0.1111111111111111,
              "#46039f"
             ],
             [
              0.2222222222222222,
              "#7201a8"
             ],
             [
              0.3333333333333333,
              "#9c179e"
             ],
             [
              0.4444444444444444,
              "#bd3786"
             ],
             [
              0.5555555555555556,
              "#d8576b"
             ],
             [
              0.6666666666666666,
              "#ed7953"
             ],
             [
              0.7777777777777778,
              "#fb9f3a"
             ],
             [
              0.8888888888888888,
              "#fdca26"
             ],
             [
              1,
              "#f0f921"
             ]
            ],
            "type": "surface"
           }
          ],
          "table": [
           {
            "cells": {
             "fill": {
              "color": "#EBF0F8"
             },
             "line": {
              "color": "white"
             }
            },
            "header": {
             "fill": {
              "color": "#C8D4E3"
             },
             "line": {
              "color": "white"
             }
            },
            "type": "table"
           }
          ]
         },
         "layout": {
          "annotationdefaults": {
           "arrowcolor": "#2a3f5f",
           "arrowhead": 0,
           "arrowwidth": 1
          },
          "autotypenumbers": "strict",
          "coloraxis": {
           "colorbar": {
            "outlinewidth": 0,
            "ticks": ""
           }
          },
          "colorscale": {
           "diverging": [
            [
             0,
             "#8e0152"
            ],
            [
             0.1,
             "#c51b7d"
            ],
            [
             0.2,
             "#de77ae"
            ],
            [
             0.3,
             "#f1b6da"
            ],
            [
             0.4,
             "#fde0ef"
            ],
            [
             0.5,
             "#f7f7f7"
            ],
            [
             0.6,
             "#e6f5d0"
            ],
            [
             0.7,
             "#b8e186"
            ],
            [
             0.8,
             "#7fbc41"
            ],
            [
             0.9,
             "#4d9221"
            ],
            [
             1,
             "#276419"
            ]
           ],
           "sequential": [
            [
             0,
             "#0d0887"
            ],
            [
             0.1111111111111111,
             "#46039f"
            ],
            [
             0.2222222222222222,
             "#7201a8"
            ],
            [
             0.3333333333333333,
             "#9c179e"
            ],
            [
             0.4444444444444444,
             "#bd3786"
            ],
            [
             0.5555555555555556,
             "#d8576b"
            ],
            [
             0.6666666666666666,
             "#ed7953"
            ],
            [
             0.7777777777777778,
             "#fb9f3a"
            ],
            [
             0.8888888888888888,
             "#fdca26"
            ],
            [
             1,
             "#f0f921"
            ]
           ],
           "sequentialminus": [
            [
             0,
             "#0d0887"
            ],
            [
             0.1111111111111111,
             "#46039f"
            ],
            [
             0.2222222222222222,
             "#7201a8"
            ],
            [
             0.3333333333333333,
             "#9c179e"
            ],
            [
             0.4444444444444444,
             "#bd3786"
            ],
            [
             0.5555555555555556,
             "#d8576b"
            ],
            [
             0.6666666666666666,
             "#ed7953"
            ],
            [
             0.7777777777777778,
             "#fb9f3a"
            ],
            [
             0.8888888888888888,
             "#fdca26"
            ],
            [
             1,
             "#f0f921"
            ]
           ]
          },
          "colorway": [
           "#636efa",
           "#EF553B",
           "#00cc96",
           "#ab63fa",
           "#FFA15A",
           "#19d3f3",
           "#FF6692",
           "#B6E880",
           "#FF97FF",
           "#FECB52"
          ],
          "font": {
           "color": "#2a3f5f"
          },
          "geo": {
           "bgcolor": "white",
           "lakecolor": "white",
           "landcolor": "#E5ECF6",
           "showlakes": true,
           "showland": true,
           "subunitcolor": "white"
          },
          "hoverlabel": {
           "align": "left"
          },
          "hovermode": "closest",
          "mapbox": {
           "style": "light"
          },
          "paper_bgcolor": "white",
          "plot_bgcolor": "#E5ECF6",
          "polar": {
           "angularaxis": {
            "gridcolor": "white",
            "linecolor": "white",
            "ticks": ""
           },
           "bgcolor": "#E5ECF6",
           "radialaxis": {
            "gridcolor": "white",
            "linecolor": "white",
            "ticks": ""
           }
          },
          "scene": {
           "xaxis": {
            "backgroundcolor": "#E5ECF6",
            "gridcolor": "white",
            "gridwidth": 2,
            "linecolor": "white",
            "showbackground": true,
            "ticks": "",
            "zerolinecolor": "white"
           },
           "yaxis": {
            "backgroundcolor": "#E5ECF6",
            "gridcolor": "white",
            "gridwidth": 2,
            "linecolor": "white",
            "showbackground": true,
            "ticks": "",
            "zerolinecolor": "white"
           },
           "zaxis": {
            "backgroundcolor": "#E5ECF6",
            "gridcolor": "white",
            "gridwidth": 2,
            "linecolor": "white",
            "showbackground": true,
            "ticks": "",
            "zerolinecolor": "white"
           }
          },
          "shapedefaults": {
           "line": {
            "color": "#2a3f5f"
           }
          },
          "ternary": {
           "aaxis": {
            "gridcolor": "white",
            "linecolor": "white",
            "ticks": ""
           },
           "baxis": {
            "gridcolor": "white",
            "linecolor": "white",
            "ticks": ""
           },
           "bgcolor": "#E5ECF6",
           "caxis": {
            "gridcolor": "white",
            "linecolor": "white",
            "ticks": ""
           }
          },
          "title": {
           "x": 0.05
          },
          "xaxis": {
           "automargin": true,
           "gridcolor": "white",
           "linecolor": "white",
           "ticks": "",
           "title": {
            "standoff": 15
           },
           "zerolinecolor": "white",
           "zerolinewidth": 2
          },
          "yaxis": {
           "automargin": true,
           "gridcolor": "white",
           "linecolor": "white",
           "ticks": "",
           "title": {
            "standoff": 15
           },
           "zerolinecolor": "white",
           "zerolinewidth": 2
          }
         }
        },
        "title": {
         "text": "Distribución Temporal de Nombres y Nacimientos (1910-2013)"
        },
        "width": 1000,
        "xaxis": {
         "anchor": "y",
         "domain": [
          0,
          1
         ]
        },
        "xaxis2": {
         "anchor": "y2",
         "domain": [
          0,
          1
         ],
         "title": {
          "text": "Año"
         }
        },
        "yaxis": {
         "anchor": "x",
         "domain": [
          0.625,
          1
         ],
         "title": {
          "text": "Número de Nombres Únicos"
         }
        },
        "yaxis2": {
         "anchor": "x2",
         "domain": [
          0,
          0.375
         ],
         "title": {
          "text": "Total de Nacimientos"
         }
        }
       }
      }
     },
     "metadata": {},
     "output_type": "display_data"
    },
    {
     "name": "stdout",
     "output_type": "stream",
     "text": [
      "\n",
      "Estadísticas de la distribución:\n",
      "            year   num_records  unique_names    total_births\n",
      "count      104.0         104.0         104.0           104.0\n",
      "mean      1961.5  53388.961538   5177.644231  2843529.471154\n",
      "std    30.166206  19062.187516   2265.894525   769125.878882\n",
      "min       1910.0       16830.0        1693.0        516307.0\n",
      "25%      1935.75      37562.25        3585.0       2153576.5\n",
      "50%       1961.5       51295.0        4072.0       3156387.5\n",
      "75%      1987.25       62649.5        6633.0      3332780.75\n",
      "max       2013.0       94956.0       10011.0       4002115.0\n"
     ]
    }
   ],
   "source": [
    "# Parte 4: Distribución por año\n",
    "try:\n",
    "    dist_query = \"\"\"\n",
    "    SELECT\n",
    "        year,\n",
    "        COUNT(*) as num_records,\n",
    "        COUNT(DISTINCT name) as unique_names,\n",
    "        SUM(number) as total_births\n",
    "    FROM \n",
    "        `bigquery-public-data.usa_names.usa_1910_2013`\n",
    "    GROUP BY \n",
    "        year\n",
    "    ORDER BY \n",
    "        year\n",
    "    \"\"\"\n",
    "    \n",
    "    print(\"📊 Distribución por año:\")\n",
    "    dist_df = client.query(dist_query).to_dataframe()\n",
    "    \n",
    "    # Visualizar distribución temporal\n",
    "    fig = make_subplots(\n",
    "        rows=2, cols=1,\n",
    "        subplot_titles=('Número de Nombres Únicos por Año',\n",
    "                       'Total de Nacimientos por Año')\n",
    "    )\n",
    "    \n",
    "    # Gráfica de nombres únicos\n",
    "    fig.add_trace(\n",
    "        go.Scatter(\n",
    "            x=dist_df['year'], \n",
    "            y=dist_df['unique_names'],\n",
    "            mode='lines',\n",
    "            name='Nombres Únicos',\n",
    "            line=dict(color='blue')\n",
    "        ),\n",
    "        row=1, col=1\n",
    "    )\n",
    "    \n",
    "    # Gráfica de total de nacimientos\n",
    "    fig.add_trace(\n",
    "        go.Scatter(\n",
    "            x=dist_df['year'], \n",
    "            y=dist_df['total_births'],\n",
    "            mode='lines',\n",
    "            name='Total Nacimientos',\n",
    "            line=dict(color='red')\n",
    "        ),\n",
    "        row=2, col=1\n",
    "    )\n",
    "    \n",
    "    # Actualizar diseño\n",
    "    fig.update_layout(\n",
    "        height=800,\n",
    "        width=1000,\n",
    "        showlegend=True,\n",
    "        title_text=\"Distribución Temporal de Nombres y Nacimientos (1910-2013)\"\n",
    "    )\n",
    "    \n",
    "    fig.update_xaxes(title_text=\"Año\", row=2, col=1)\n",
    "    fig.update_yaxes(title_text=\"Número de Nombres Únicos\", row=1, col=1)\n",
    "    fig.update_yaxes(title_text=\"Total de Nacimientos\", row=2, col=1)\n",
    "    \n",
    "    fig.show()\n",
    "    \n",
    "    # Mostrar estadísticas resumidas\n",
    "    print(\"\\nEstadísticas de la distribución:\")\n",
    "    print(dist_df.describe())\n",
    "\n",
    "except Exception as e:\n",
    "    print(f\"Error al analizar distribución: {str(e)}\")"
   ]
  },
  {
   "cell_type": "code",
   "execution_count": 8,
   "id": "22d5e3a9",
   "metadata": {},
   "outputs": [
    {
     "name": "stdout",
     "output_type": "stream",
     "text": [
      "📊 Esquema de la tabla:\n"
     ]
    },
    {
     "data": {
      "text/html": [
       "<div>\n",
       "<style scoped>\n",
       "    .dataframe tbody tr th:only-of-type {\n",
       "        vertical-align: middle;\n",
       "    }\n",
       "\n",
       "    .dataframe tbody tr th {\n",
       "        vertical-align: top;\n",
       "    }\n",
       "\n",
       "    .dataframe thead th {\n",
       "        text-align: right;\n",
       "    }\n",
       "</style>\n",
       "<table border=\"1\" class=\"dataframe\">\n",
       "  <thead>\n",
       "    <tr style=\"text-align: right;\">\n",
       "      <th></th>\n",
       "      <th>column_name</th>\n",
       "      <th>data_type</th>\n",
       "      <th>is_nullable</th>\n",
       "    </tr>\n",
       "  </thead>\n",
       "  <tbody>\n",
       "    <tr>\n",
       "      <th>0</th>\n",
       "      <td>state</td>\n",
       "      <td>STRING</td>\n",
       "      <td>YES</td>\n",
       "    </tr>\n",
       "    <tr>\n",
       "      <th>1</th>\n",
       "      <td>gender</td>\n",
       "      <td>STRING</td>\n",
       "      <td>YES</td>\n",
       "    </tr>\n",
       "    <tr>\n",
       "      <th>2</th>\n",
       "      <td>year</td>\n",
       "      <td>INT64</td>\n",
       "      <td>YES</td>\n",
       "    </tr>\n",
       "    <tr>\n",
       "      <th>3</th>\n",
       "      <td>name</td>\n",
       "      <td>STRING</td>\n",
       "      <td>YES</td>\n",
       "    </tr>\n",
       "    <tr>\n",
       "      <th>4</th>\n",
       "      <td>number</td>\n",
       "      <td>INT64</td>\n",
       "      <td>YES</td>\n",
       "    </tr>\n",
       "  </tbody>\n",
       "</table>\n",
       "</div>"
      ],
      "text/plain": [
       "  column_name data_type is_nullable\n",
       "0       state    STRING         YES\n",
       "1      gender    STRING         YES\n",
       "2        year     INT64         YES\n",
       "3        name    STRING         YES\n",
       "4      number     INT64         YES"
      ]
     },
     "metadata": {},
     "output_type": "display_data"
    },
    {
     "name": "stdout",
     "output_type": "stream",
     "text": [
      "\n",
      "📈 Rangos y cardinalidad de los datos:\n"
     ]
    },
    {
     "data": {
      "text/html": [
       "<div>\n",
       "<style scoped>\n",
       "    .dataframe tbody tr th:only-of-type {\n",
       "        vertical-align: middle;\n",
       "    }\n",
       "\n",
       "    .dataframe tbody tr th {\n",
       "        vertical-align: top;\n",
       "    }\n",
       "\n",
       "    .dataframe thead th {\n",
       "        text-align: right;\n",
       "    }\n",
       "</style>\n",
       "<table border=\"1\" class=\"dataframe\">\n",
       "  <thead>\n",
       "    <tr style=\"text-align: right;\">\n",
       "      <th></th>\n",
       "      <th>min_year</th>\n",
       "      <th>max_year</th>\n",
       "      <th>num_states</th>\n",
       "      <th>unique_names</th>\n",
       "      <th>gender_types</th>\n",
       "    </tr>\n",
       "  </thead>\n",
       "  <tbody>\n",
       "    <tr>\n",
       "      <th>0</th>\n",
       "      <td>1910</td>\n",
       "      <td>2013</td>\n",
       "      <td>51</td>\n",
       "      <td>29828</td>\n",
       "      <td>2</td>\n",
       "    </tr>\n",
       "  </tbody>\n",
       "</table>\n",
       "</div>"
      ],
      "text/plain": [
       "   min_year  max_year  num_states  unique_names  gender_types\n",
       "0      1910      2013          51         29828             2"
      ]
     },
     "metadata": {},
     "output_type": "display_data"
    },
    {
     "name": "stdout",
     "output_type": "stream",
     "text": [
      "\n",
      "🔍 Muestra aleatoria de registros:\n"
     ]
    },
    {
     "data": {
      "text/html": [
       "<div>\n",
       "<style scoped>\n",
       "    .dataframe tbody tr th:only-of-type {\n",
       "        vertical-align: middle;\n",
       "    }\n",
       "\n",
       "    .dataframe tbody tr th {\n",
       "        vertical-align: top;\n",
       "    }\n",
       "\n",
       "    .dataframe thead th {\n",
       "        text-align: right;\n",
       "    }\n",
       "</style>\n",
       "<table border=\"1\" class=\"dataframe\">\n",
       "  <thead>\n",
       "    <tr style=\"text-align: right;\">\n",
       "      <th></th>\n",
       "      <th>state</th>\n",
       "      <th>gender</th>\n",
       "      <th>year</th>\n",
       "      <th>name</th>\n",
       "      <th>number</th>\n",
       "    </tr>\n",
       "  </thead>\n",
       "  <tbody>\n",
       "    <tr>\n",
       "      <th>0</th>\n",
       "      <td>TX</td>\n",
       "      <td>F</td>\n",
       "      <td>1921</td>\n",
       "      <td>Lenora</td>\n",
       "      <td>48</td>\n",
       "    </tr>\n",
       "    <tr>\n",
       "      <th>1</th>\n",
       "      <td>ME</td>\n",
       "      <td>F</td>\n",
       "      <td>1915</td>\n",
       "      <td>Dorothy</td>\n",
       "      <td>185</td>\n",
       "    </tr>\n",
       "    <tr>\n",
       "      <th>2</th>\n",
       "      <td>MS</td>\n",
       "      <td>F</td>\n",
       "      <td>1921</td>\n",
       "      <td>Bertha</td>\n",
       "      <td>129</td>\n",
       "    </tr>\n",
       "    <tr>\n",
       "      <th>3</th>\n",
       "      <td>NY</td>\n",
       "      <td>F</td>\n",
       "      <td>1947</td>\n",
       "      <td>Dorothea</td>\n",
       "      <td>63</td>\n",
       "    </tr>\n",
       "    <tr>\n",
       "      <th>4</th>\n",
       "      <td>IL</td>\n",
       "      <td>F</td>\n",
       "      <td>1948</td>\n",
       "      <td>Dawn</td>\n",
       "      <td>90</td>\n",
       "    </tr>\n",
       "    <tr>\n",
       "      <th>5</th>\n",
       "      <td>CA</td>\n",
       "      <td>F</td>\n",
       "      <td>1991</td>\n",
       "      <td>Brianda</td>\n",
       "      <td>37</td>\n",
       "    </tr>\n",
       "    <tr>\n",
       "      <th>6</th>\n",
       "      <td>OH</td>\n",
       "      <td>F</td>\n",
       "      <td>2002</td>\n",
       "      <td>Kaylie</td>\n",
       "      <td>37</td>\n",
       "    </tr>\n",
       "    <tr>\n",
       "      <th>7</th>\n",
       "      <td>PA</td>\n",
       "      <td>F</td>\n",
       "      <td>1957</td>\n",
       "      <td>Cheri</td>\n",
       "      <td>44</td>\n",
       "    </tr>\n",
       "    <tr>\n",
       "      <th>8</th>\n",
       "      <td>GA</td>\n",
       "      <td>F</td>\n",
       "      <td>1943</td>\n",
       "      <td>Glenda</td>\n",
       "      <td>265</td>\n",
       "    </tr>\n",
       "    <tr>\n",
       "      <th>9</th>\n",
       "      <td>MI</td>\n",
       "      <td>F</td>\n",
       "      <td>1955</td>\n",
       "      <td>Jacquelyn</td>\n",
       "      <td>78</td>\n",
       "    </tr>\n",
       "  </tbody>\n",
       "</table>\n",
       "</div>"
      ],
      "text/plain": [
       "  state gender  year       name  number\n",
       "0    TX      F  1921     Lenora      48\n",
       "1    ME      F  1915    Dorothy     185\n",
       "2    MS      F  1921     Bertha     129\n",
       "3    NY      F  1947   Dorothea      63\n",
       "4    IL      F  1948       Dawn      90\n",
       "5    CA      F  1991    Brianda      37\n",
       "6    OH      F  2002     Kaylie      37\n",
       "7    PA      F  1957      Cheri      44\n",
       "8    GA      F  1943     Glenda     265\n",
       "9    MI      F  1955  Jacquelyn      78"
      ]
     },
     "metadata": {},
     "output_type": "display_data"
    },
    {
     "name": "stdout",
     "output_type": "stream",
     "text": [
      "\n",
      "📊 Distribución por año:\n"
     ]
    },
    {
     "data": {
      "application/vnd.plotly.v1+json": {
       "config": {
        "plotlyServerURL": "https://plot.ly"
       },
       "data": [
        {
         "mode": "lines",
         "name": "Nombres Únicos",
         "type": "scatter",
         "x": {
          "bdata": "dgd3B3gHeQd6B3sHfAd9B34HfweAB4EHggeDB4QHhQeGB4cHiAeJB4oHiweMB40HjgePB5AHkQeSB5MHlAeVB5YHlweYB5kHmgebB5wHnQeeB58HoAehB6IHowekB6UHpgenB6gHqQeqB6sHrAetB64HrwewB7EHsgezB7QHtQe2B7cHuAe5B7oHuwe8B70Hvge/B8AHwQfCB8MHxAfFB8YHxwfIB8kHygfLB8wHzQfOB88H0AfRB9IH0wfUB9UH1gfXB9gH2QfaB9sH3AfdBw==",
          "dtype": "i2"
         },
         "xaxis": "x",
         "y": {
          "bdata": "nQbMBtUIrAkvCwkNdw27DScOVg66DgkPNg/bDiMP1g63DocONQ7dDZcNJw03DbsM2gzZDG8MbAxzDIQMiwymDBgNQQ3FDKsMpA1bDjIOJg4NDkIOgg63DtAOFA8+D1oPVw+rD+wPGBDkDxUQJxAEEN8PQhB4EGkRUBLDEnIS0xIcE90TOBT3FCQV1RWeFuwWVRcTF3UXKhjzGJkZ2RrKHIwepx7sHjYfLR/YHvUeGh++H2Ig+SEwIqMidCMeJNkkDyYbJ+cmBCf2JeolsyUmJQ==",
          "dtype": "i2"
         },
         "yaxis": "y"
        },
        {
         "mode": "lines",
         "name": "Total Nacimientos",
         "type": "scatter",
         "x": {
          "bdata": "dgd3B3gHeQd6B3sHfAd9B34HfweAB4EHggeDB4QHhQeGB4cHiAeJB4oHiweMB40HjgePB5AHkQeSB5MHlAeVB5YHlweYB5kHmgebB5wHnQeeB58HoAehB6IHowekB6UHpgenB6gHqQeqB6sHrAetB64HrwewB7EHsgezB7QHtQe2B7cHuAe5B7oHuwe8B70Hvge/B8AHwQfCB8MHxAfFB8YHxwfIB8kHygfLB8wHzQfOB88H0AfRB9IH0wfUB9UH1gfXB9gH2QfaB9sH3AfdBw==",
          "dtype": "i2"
         },
         "xaxis": "x2",
         "y": {
          "bdata": "0+AHACeiCAChjA0Ar7EPAO27EwCsyRkAfkIbANNQHADUuB4AFtQdAK4PIAD/HyEAwnUgAL2tIAAo2yEAyyUhAKacIAAm9iAADyAgAK4iHwCvmB8AHeMdAED5HQAGWBwABYAdACm1HQAZix0Ad1AeAOWOHwAwbh8A9+sgABLqIgCBUCcAaakoAEK2JgAMLSYAz0QuAMRMNADPDzIA7oIyAPjRMgC0eDUAgSw3AAzuNwDh1jkAQFA6ALXnOwBDET0AWgU8AAZaPAA7PzwAO/Y7ALZhOgASMDkAgxI4AHUvNADK3TEAp5cwAOc3MAA8hjEARUQzAAZ9MACfGiwA1hoqAF1UKgDc4CkA1QUqAOz7KwDN5isAxQ4uANnBLwAg/i8A1LQwAGAbMABJdTAAv4QxAE4+MQDH1DEAuvcyANYGNQAlajYAIHI1AHCFNAAbUzMAzHUyAMySMQArNDEAyLcwAMNFMQB8VDEANU0yADqaMQClZzEAYi4yAKlBMgDDbTIAS68zACoPNADL9DIAu0wxANiHLwBN8i4ArtcuALGJLgA=",
          "dtype": "i4"
         },
         "yaxis": "y2"
        }
       ],
       "layout": {
        "annotations": [
         {
          "font": {
           "size": 16
          },
          "showarrow": false,
          "text": "Número de Nombres Únicos por Año",
          "x": 0.5,
          "xanchor": "center",
          "xref": "paper",
          "y": 1,
          "yanchor": "bottom",
          "yref": "paper"
         },
         {
          "font": {
           "size": 16
          },
          "showarrow": false,
          "text": "Total de Nacimientos por Año",
          "x": 0.5,
          "xanchor": "center",
          "xref": "paper",
          "y": 0.375,
          "yanchor": "bottom",
          "yref": "paper"
         }
        ],
        "height": 800,
        "showlegend": true,
        "template": {
         "data": {
          "bar": [
           {
            "error_x": {
             "color": "#2a3f5f"
            },
            "error_y": {
             "color": "#2a3f5f"
            },
            "marker": {
             "line": {
              "color": "#E5ECF6",
              "width": 0.5
             },
             "pattern": {
              "fillmode": "overlay",
              "size": 10,
              "solidity": 0.2
             }
            },
            "type": "bar"
           }
          ],
          "barpolar": [
           {
            "marker": {
             "line": {
              "color": "#E5ECF6",
              "width": 0.5
             },
             "pattern": {
              "fillmode": "overlay",
              "size": 10,
              "solidity": 0.2
             }
            },
            "type": "barpolar"
           }
          ],
          "carpet": [
           {
            "aaxis": {
             "endlinecolor": "#2a3f5f",
             "gridcolor": "white",
             "linecolor": "white",
             "minorgridcolor": "white",
             "startlinecolor": "#2a3f5f"
            },
            "baxis": {
             "endlinecolor": "#2a3f5f",
             "gridcolor": "white",
             "linecolor": "white",
             "minorgridcolor": "white",
             "startlinecolor": "#2a3f5f"
            },
            "type": "carpet"
           }
          ],
          "choropleth": [
           {
            "colorbar": {
             "outlinewidth": 0,
             "ticks": ""
            },
            "type": "choropleth"
           }
          ],
          "contour": [
           {
            "colorbar": {
             "outlinewidth": 0,
             "ticks": ""
            },
            "colorscale": [
             [
              0,
              "#0d0887"
             ],
             [
              0.1111111111111111,
              "#46039f"
             ],
             [
              0.2222222222222222,
              "#7201a8"
             ],
             [
              0.3333333333333333,
              "#9c179e"
             ],
             [
              0.4444444444444444,
              "#bd3786"
             ],
             [
              0.5555555555555556,
              "#d8576b"
             ],
             [
              0.6666666666666666,
              "#ed7953"
             ],
             [
              0.7777777777777778,
              "#fb9f3a"
             ],
             [
              0.8888888888888888,
              "#fdca26"
             ],
             [
              1,
              "#f0f921"
             ]
            ],
            "type": "contour"
           }
          ],
          "contourcarpet": [
           {
            "colorbar": {
             "outlinewidth": 0,
             "ticks": ""
            },
            "type": "contourcarpet"
           }
          ],
          "heatmap": [
           {
            "colorbar": {
             "outlinewidth": 0,
             "ticks": ""
            },
            "colorscale": [
             [
              0,
              "#0d0887"
             ],
             [
              0.1111111111111111,
              "#46039f"
             ],
             [
              0.2222222222222222,
              "#7201a8"
             ],
             [
              0.3333333333333333,
              "#9c179e"
             ],
             [
              0.4444444444444444,
              "#bd3786"
             ],
             [
              0.5555555555555556,
              "#d8576b"
             ],
             [
              0.6666666666666666,
              "#ed7953"
             ],
             [
              0.7777777777777778,
              "#fb9f3a"
             ],
             [
              0.8888888888888888,
              "#fdca26"
             ],
             [
              1,
              "#f0f921"
             ]
            ],
            "type": "heatmap"
           }
          ],
          "histogram": [
           {
            "marker": {
             "pattern": {
              "fillmode": "overlay",
              "size": 10,
              "solidity": 0.2
             }
            },
            "type": "histogram"
           }
          ],
          "histogram2d": [
           {
            "colorbar": {
             "outlinewidth": 0,
             "ticks": ""
            },
            "colorscale": [
             [
              0,
              "#0d0887"
             ],
             [
              0.1111111111111111,
              "#46039f"
             ],
             [
              0.2222222222222222,
              "#7201a8"
             ],
             [
              0.3333333333333333,
              "#9c179e"
             ],
             [
              0.4444444444444444,
              "#bd3786"
             ],
             [
              0.5555555555555556,
              "#d8576b"
             ],
             [
              0.6666666666666666,
              "#ed7953"
             ],
             [
              0.7777777777777778,
              "#fb9f3a"
             ],
             [
              0.8888888888888888,
              "#fdca26"
             ],
             [
              1,
              "#f0f921"
             ]
            ],
            "type": "histogram2d"
           }
          ],
          "histogram2dcontour": [
           {
            "colorbar": {
             "outlinewidth": 0,
             "ticks": ""
            },
            "colorscale": [
             [
              0,
              "#0d0887"
             ],
             [
              0.1111111111111111,
              "#46039f"
             ],
             [
              0.2222222222222222,
              "#7201a8"
             ],
             [
              0.3333333333333333,
              "#9c179e"
             ],
             [
              0.4444444444444444,
              "#bd3786"
             ],
             [
              0.5555555555555556,
              "#d8576b"
             ],
             [
              0.6666666666666666,
              "#ed7953"
             ],
             [
              0.7777777777777778,
              "#fb9f3a"
             ],
             [
              0.8888888888888888,
              "#fdca26"
             ],
             [
              1,
              "#f0f921"
             ]
            ],
            "type": "histogram2dcontour"
           }
          ],
          "mesh3d": [
           {
            "colorbar": {
             "outlinewidth": 0,
             "ticks": ""
            },
            "type": "mesh3d"
           }
          ],
          "parcoords": [
           {
            "line": {
             "colorbar": {
              "outlinewidth": 0,
              "ticks": ""
             }
            },
            "type": "parcoords"
           }
          ],
          "pie": [
           {
            "automargin": true,
            "type": "pie"
           }
          ],
          "scatter": [
           {
            "fillpattern": {
             "fillmode": "overlay",
             "size": 10,
             "solidity": 0.2
            },
            "type": "scatter"
           }
          ],
          "scatter3d": [
           {
            "line": {
             "colorbar": {
              "outlinewidth": 0,
              "ticks": ""
             }
            },
            "marker": {
             "colorbar": {
              "outlinewidth": 0,
              "ticks": ""
             }
            },
            "type": "scatter3d"
           }
          ],
          "scattercarpet": [
           {
            "marker": {
             "colorbar": {
              "outlinewidth": 0,
              "ticks": ""
             }
            },
            "type": "scattercarpet"
           }
          ],
          "scattergeo": [
           {
            "marker": {
             "colorbar": {
              "outlinewidth": 0,
              "ticks": ""
             }
            },
            "type": "scattergeo"
           }
          ],
          "scattergl": [
           {
            "marker": {
             "colorbar": {
              "outlinewidth": 0,
              "ticks": ""
             }
            },
            "type": "scattergl"
           }
          ],
          "scattermap": [
           {
            "marker": {
             "colorbar": {
              "outlinewidth": 0,
              "ticks": ""
             }
            },
            "type": "scattermap"
           }
          ],
          "scattermapbox": [
           {
            "marker": {
             "colorbar": {
              "outlinewidth": 0,
              "ticks": ""
             }
            },
            "type": "scattermapbox"
           }
          ],
          "scatterpolar": [
           {
            "marker": {
             "colorbar": {
              "outlinewidth": 0,
              "ticks": ""
             }
            },
            "type": "scatterpolar"
           }
          ],
          "scatterpolargl": [
           {
            "marker": {
             "colorbar": {
              "outlinewidth": 0,
              "ticks": ""
             }
            },
            "type": "scatterpolargl"
           }
          ],
          "scatterternary": [
           {
            "marker": {
             "colorbar": {
              "outlinewidth": 0,
              "ticks": ""
             }
            },
            "type": "scatterternary"
           }
          ],
          "surface": [
           {
            "colorbar": {
             "outlinewidth": 0,
             "ticks": ""
            },
            "colorscale": [
             [
              0,
              "#0d0887"
             ],
             [
              0.1111111111111111,
              "#46039f"
             ],
             [
              0.2222222222222222,
              "#7201a8"
             ],
             [
              0.3333333333333333,
              "#9c179e"
             ],
             [
              0.4444444444444444,
              "#bd3786"
             ],
             [
              0.5555555555555556,
              "#d8576b"
             ],
             [
              0.6666666666666666,
              "#ed7953"
             ],
             [
              0.7777777777777778,
              "#fb9f3a"
             ],
             [
              0.8888888888888888,
              "#fdca26"
             ],
             [
              1,
              "#f0f921"
             ]
            ],
            "type": "surface"
           }
          ],
          "table": [
           {
            "cells": {
             "fill": {
              "color": "#EBF0F8"
             },
             "line": {
              "color": "white"
             }
            },
            "header": {
             "fill": {
              "color": "#C8D4E3"
             },
             "line": {
              "color": "white"
             }
            },
            "type": "table"
           }
          ]
         },
         "layout": {
          "annotationdefaults": {
           "arrowcolor": "#2a3f5f",
           "arrowhead": 0,
           "arrowwidth": 1
          },
          "autotypenumbers": "strict",
          "coloraxis": {
           "colorbar": {
            "outlinewidth": 0,
            "ticks": ""
           }
          },
          "colorscale": {
           "diverging": [
            [
             0,
             "#8e0152"
            ],
            [
             0.1,
             "#c51b7d"
            ],
            [
             0.2,
             "#de77ae"
            ],
            [
             0.3,
             "#f1b6da"
            ],
            [
             0.4,
             "#fde0ef"
            ],
            [
             0.5,
             "#f7f7f7"
            ],
            [
             0.6,
             "#e6f5d0"
            ],
            [
             0.7,
             "#b8e186"
            ],
            [
             0.8,
             "#7fbc41"
            ],
            [
             0.9,
             "#4d9221"
            ],
            [
             1,
             "#276419"
            ]
           ],
           "sequential": [
            [
             0,
             "#0d0887"
            ],
            [
             0.1111111111111111,
             "#46039f"
            ],
            [
             0.2222222222222222,
             "#7201a8"
            ],
            [
             0.3333333333333333,
             "#9c179e"
            ],
            [
             0.4444444444444444,
             "#bd3786"
            ],
            [
             0.5555555555555556,
             "#d8576b"
            ],
            [
             0.6666666666666666,
             "#ed7953"
            ],
            [
             0.7777777777777778,
             "#fb9f3a"
            ],
            [
             0.8888888888888888,
             "#fdca26"
            ],
            [
             1,
             "#f0f921"
            ]
           ],
           "sequentialminus": [
            [
             0,
             "#0d0887"
            ],
            [
             0.1111111111111111,
             "#46039f"
            ],
            [
             0.2222222222222222,
             "#7201a8"
            ],
            [
             0.3333333333333333,
             "#9c179e"
            ],
            [
             0.4444444444444444,
             "#bd3786"
            ],
            [
             0.5555555555555556,
             "#d8576b"
            ],
            [
             0.6666666666666666,
             "#ed7953"
            ],
            [
             0.7777777777777778,
             "#fb9f3a"
            ],
            [
             0.8888888888888888,
             "#fdca26"
            ],
            [
             1,
             "#f0f921"
            ]
           ]
          },
          "colorway": [
           "#636efa",
           "#EF553B",
           "#00cc96",
           "#ab63fa",
           "#FFA15A",
           "#19d3f3",
           "#FF6692",
           "#B6E880",
           "#FF97FF",
           "#FECB52"
          ],
          "font": {
           "color": "#2a3f5f"
          },
          "geo": {
           "bgcolor": "white",
           "lakecolor": "white",
           "landcolor": "#E5ECF6",
           "showlakes": true,
           "showland": true,
           "subunitcolor": "white"
          },
          "hoverlabel": {
           "align": "left"
          },
          "hovermode": "closest",
          "mapbox": {
           "style": "light"
          },
          "paper_bgcolor": "white",
          "plot_bgcolor": "#E5ECF6",
          "polar": {
           "angularaxis": {
            "gridcolor": "white",
            "linecolor": "white",
            "ticks": ""
           },
           "bgcolor": "#E5ECF6",
           "radialaxis": {
            "gridcolor": "white",
            "linecolor": "white",
            "ticks": ""
           }
          },
          "scene": {
           "xaxis": {
            "backgroundcolor": "#E5ECF6",
            "gridcolor": "white",
            "gridwidth": 2,
            "linecolor": "white",
            "showbackground": true,
            "ticks": "",
            "zerolinecolor": "white"
           },
           "yaxis": {
            "backgroundcolor": "#E5ECF6",
            "gridcolor": "white",
            "gridwidth": 2,
            "linecolor": "white",
            "showbackground": true,
            "ticks": "",
            "zerolinecolor": "white"
           },
           "zaxis": {
            "backgroundcolor": "#E5ECF6",
            "gridcolor": "white",
            "gridwidth": 2,
            "linecolor": "white",
            "showbackground": true,
            "ticks": "",
            "zerolinecolor": "white"
           }
          },
          "shapedefaults": {
           "line": {
            "color": "#2a3f5f"
           }
          },
          "ternary": {
           "aaxis": {
            "gridcolor": "white",
            "linecolor": "white",
            "ticks": ""
           },
           "baxis": {
            "gridcolor": "white",
            "linecolor": "white",
            "ticks": ""
           },
           "bgcolor": "#E5ECF6",
           "caxis": {
            "gridcolor": "white",
            "linecolor": "white",
            "ticks": ""
           }
          },
          "title": {
           "x": 0.05
          },
          "xaxis": {
           "automargin": true,
           "gridcolor": "white",
           "linecolor": "white",
           "ticks": "",
           "title": {
            "standoff": 15
           },
           "zerolinecolor": "white",
           "zerolinewidth": 2
          },
          "yaxis": {
           "automargin": true,
           "gridcolor": "white",
           "linecolor": "white",
           "ticks": "",
           "title": {
            "standoff": 15
           },
           "zerolinecolor": "white",
           "zerolinewidth": 2
          }
         }
        },
        "xaxis": {
         "anchor": "y",
         "domain": [
          0,
          1
         ]
        },
        "xaxis2": {
         "anchor": "y2",
         "domain": [
          0,
          1
         ]
        },
        "yaxis": {
         "anchor": "x",
         "domain": [
          0.625,
          1
         ]
        },
        "yaxis2": {
         "anchor": "x2",
         "domain": [
          0,
          0.375
         ]
        }
       }
      }
     },
     "metadata": {},
     "output_type": "display_data"
    }
   ],
   "source": [
    "# Explorar el esquema de la tabla\n",
    "try:\n",
    "    # Consulta para obtener el esquema\n",
    "    schema_query = \"\"\"\n",
    "    SELECT \n",
    "        column_name,\n",
    "        data_type,\n",
    "        is_nullable\n",
    "    FROM \n",
    "        `bigquery-public-data.usa_names.INFORMATION_SCHEMA.COLUMNS`\n",
    "    WHERE \n",
    "        table_name = 'usa_1910_2013'\n",
    "    ORDER BY \n",
    "        ordinal_position\n",
    "    \"\"\"\n",
    "    \n",
    "    print(\"📊 Esquema de la tabla:\")\n",
    "    schema_df = client.query(schema_query).to_dataframe()\n",
    "    display(schema_df)\n",
    "    \n",
    "    # Consulta para ver los rangos de datos\n",
    "    ranges_query = \"\"\"\n",
    "    SELECT\n",
    "        MIN(year) as min_year,\n",
    "        MAX(year) as max_year,\n",
    "        COUNT(DISTINCT state) as num_states,\n",
    "        COUNT(DISTINCT name) as unique_names,\n",
    "        COUNT(DISTINCT gender) as gender_types\n",
    "    FROM \n",
    "        `bigquery-public-data.usa_names.usa_1910_2013`\n",
    "    \"\"\"\n",
    "    \n",
    "    print(\"\\n📈 Rangos y cardinalidad de los datos:\")\n",
    "    ranges_df = client.query(ranges_query).to_dataframe()\n",
    "    display(ranges_df)\n",
    "    \n",
    "    # Muestra de los datos\n",
    "    sample_query = \"\"\"\n",
    "    SELECT *\n",
    "    FROM `bigquery-public-data.usa_names.usa_1910_2013`\n",
    "    WHERE RAND() < 0.0001\n",
    "    LIMIT 10\n",
    "    \"\"\"\n",
    "    \n",
    "    print(\"\\n🔍 Muestra aleatoria de registros:\")\n",
    "    sample_df = client.query(sample_query).to_dataframe()\n",
    "    display(sample_df)\n",
    "    \n",
    "    # Distribución por año\n",
    "    dist_query = \"\"\"\n",
    "    SELECT\n",
    "        year,\n",
    "        COUNT(*) as num_records,\n",
    "        COUNT(DISTINCT name) as unique_names,\n",
    "        SUM(number) as total_births\n",
    "    FROM \n",
    "        `bigquery-public-data.usa_names.usa_1910_2013`\n",
    "    GROUP BY \n",
    "        year\n",
    "    ORDER BY \n",
    "        year\n",
    "    \"\"\"\n",
    "    \n",
    "    print(\"\\n📊 Distribución por año:\")\n",
    "    dist_df = client.query(dist_query).to_dataframe()\n",
    "    \n",
    "    # Visualizar distribución temporal\n",
    "    fig = make_subplots(rows=2, cols=1,\n",
    "                       subplot_titles=('Número de Nombres Únicos por Año',\n",
    "                                     'Total de Nacimientos por Año'))\n",
    "    \n",
    "    fig.add_trace(\n",
    "        go.Scatter(x=dist_df['year'], \n",
    "                  y=dist_df['unique_names'],\n",
    "                  mode='lines',\n",
    "                  name='Nombres Únicos'),\n",
    "        row=1, col=1\n",
    "    )\n",
    "    \n",
    "    fig.add_trace(\n",
    "        go.Scatter(x=dist_df['year'], \n",
    "                  y=dist_df['total_births'],\n",
    "                  mode='lines',\n",
    "                  name='Total Nacimientos'),\n",
    "        row=2, col=1\n",
    "    )\n",
    "    \n",
    "    fig.update_layout(height=800, showlegend=True)\n",
    "    fig.show()\n",
    "\n",
    "except Exception as e:\n",
    "    print(f\"Error en la exploración: {str(e)}\")\n",
    "    print(\"\\nAsegúrate de que:\")\n",
    "    print(\"1. Las credenciales están configuradas correctamente\")\n",
    "    print(\"2. Tienes acceso al dataset\")\n",
    "    print(\"3. La API de BigQuery está habilitada\")"
   ]
  },
  {
   "cell_type": "code",
   "execution_count": 9,
   "id": "2f6775e3",
   "metadata": {},
   "outputs": [
    {
     "name": "stdout",
     "output_type": "stream",
     "text": [
      "✅ Conexión exitosa a BigQuery\n",
      "📊 Total de registros en el dataset: 5,552,452\n"
     ]
    }
   ],
   "source": [
    "try:\n",
    "    # Crear cliente de BigQuery\n",
    "    client = bigquery.Client()\n",
    "    \n",
    "    # Consulta simple de prueba\n",
    "    query_test = \"\"\"\n",
    "    SELECT COUNT(*) as total_records \n",
    "    FROM `bigquery-public-data.usa_names.usa_1910_2013`\n",
    "    \"\"\"\n",
    "    \n",
    "    # Ejecutar consulta de prueba\n",
    "    result = client.query(query_test).result()\n",
    "    total_records = list(result)[0].total_records\n",
    "    \n",
    "    print(\"✅ Conexión exitosa a BigQuery\")\n",
    "    print(f\"📊 Total de registros en el dataset: {total_records:,}\")\n",
    "    \n",
    "except Exception as e:\n",
    "    print(\"❌ Error al conectar con BigQuery:\")\n",
    "    print(str(e))\n",
    "    print(\"\\nPara configurar BigQuery:\")\n",
    "    print(\"1. Crear cuenta en Google Cloud Platform\")\n",
    "    print(\"2. Crear un proyecto nuevo\")\n",
    "    print(\"3. Habilitar la API de BigQuery\")\n",
    "    print(\"4. Configurar credenciales de autenticación\")\n",
    "    print(\"5. Instalar dependencias: pip install google-cloud-bigquery pandas plotly\")"
   ]
  },
  {
   "cell_type": "markdown",
   "id": "ed08eada",
   "metadata": {},
   "source": [
    "## Análisis de Tendencias por Década\n",
    "\n",
    "Analizaremos cómo han evolucionado los nombres más populares a lo largo de las décadas, separando el análisis por género."
   ]
  },
  {
   "cell_type": "code",
   "execution_count": 10,
   "id": "8e4eca32",
   "metadata": {},
   "outputs": [
    {
     "name": "stdout",
     "output_type": "stream",
     "text": [
      "Ejecutando análisis de tendencias...\n",
      "Error en el análisis: 400 Partitioning by expressions of type FLOAT64 is not allowed at [17:30]; reason: invalidQuery, location: query, message: Partitioning by expressions of type FLOAT64 is not allowed at [17:30]\n",
      "\n",
      "Location: US\n",
      "Job ID: 8ddf6536-17e6-4273-814e-7793fb02a197\n",
      "\n",
      "Error en el análisis: 400 Partitioning by expressions of type FLOAT64 is not allowed at [17:30]; reason: invalidQuery, location: query, message: Partitioning by expressions of type FLOAT64 is not allowed at [17:30]\n",
      "\n",
      "Location: US\n",
      "Job ID: 8ddf6536-17e6-4273-814e-7793fb02a197\n",
      "\n"
     ]
    }
   ],
   "source": [
    "# Consulta para obtener tendencias de nombres por década\n",
    "query_tendencias = \"\"\"\n",
    "WITH DecadeData AS (\n",
    "    SELECT\n",
    "        FLOOR(year/10) * 10 as decade,\n",
    "        name,\n",
    "        gender,\n",
    "        SUM(number) as total_count\n",
    "    FROM `bigquery-public-data.usa_names.usa_1910_2013`\n",
    "    GROUP BY decade, name, gender\n",
    "    HAVING total_count > 10000\n",
    ")\n",
    "SELECT\n",
    "    decade,\n",
    "    name,\n",
    "    gender,\n",
    "    total_count,\n",
    "    RANK() OVER(PARTITION BY decade, gender ORDER BY total_count DESC) as rank\n",
    "FROM DecadeData\n",
    "HAVING rank <= 5\n",
    "ORDER BY decade, gender, rank\n",
    "\"\"\"\n",
    "\n",
    "try:\n",
    "    print(\"Ejecutando análisis de tendencias...\")\n",
    "    df_nombres = client.query(query_tendencias).to_dataframe()\n",
    "    print(f\"Datos obtenidos: {len(df_nombres)} registros\")\n",
    "    \n",
    "    # Crear visualización\n",
    "    fig = make_subplots(\n",
    "        rows=2, cols=1,\n",
    "        subplot_titles=('Nombres más populares - Masculinos',\n",
    "                       'Nombres más populares - Femeninos'),\n",
    "        vertical_spacing=0.12\n",
    "    )\n",
    "    \n",
    "    # Gráfico para nombres masculinos\n",
    "    df_m = df_nombres[df_nombres['gender'] == 'M']\n",
    "    for name in df_m['name'].unique():\n",
    "        data_name = df_m[df_m['name'] == name]\n",
    "        fig.add_trace(\n",
    "            go.Scatter(x=data_name['decade'], \n",
    "                      y=data_name['total_count'],\n",
    "                      name=name, \n",
    "                      mode='lines+markers'),\n",
    "            row=1, col=1\n",
    "        )\n",
    "    \n",
    "    # Gráfico para nombres femeninos\n",
    "    df_f = df_nombres[df_nombres['gender'] == 'F']\n",
    "    for name in df_f['name'].unique():\n",
    "        data_name = df_f[df_f['name'] == name]\n",
    "        fig.add_trace(\n",
    "            go.Scatter(x=data_name['decade'], \n",
    "                      y=data_name['total_count'],\n",
    "                      name=name, \n",
    "                      mode='lines+markers'),\n",
    "            row=2, col=1\n",
    "        )\n",
    "    \n",
    "    # Actualizar diseño\n",
    "    fig.update_layout(\n",
    "        height=800,\n",
    "        width=1000,\n",
    "        title_text=\"Tendencias de Nombres Populares por Década (1910-2013)\",\n",
    "        showlegend=True\n",
    "    )\n",
    "    fig.update_xaxes(title_text=\"Década\", row=2, col=1)\n",
    "    fig.update_yaxes(title_text=\"Número total\", row=1, col=1)\n",
    "    fig.update_yaxes(title_text=\"Número total\", row=2, col=1)\n",
    "    \n",
    "    fig.show()\n",
    "    \n",
    "    # Mostrar tabla resumen\n",
    "    print(\"\\nResumen de nombres más populares por década:\")\n",
    "    display(df_nombres.pivot_table(\n",
    "        values='total_count',\n",
    "        index=['decade', 'gender'],\n",
    "        columns='rank',\n",
    "        aggfunc='first'\n",
    "    ).round(0))\n",
    "    \n",
    "except Exception as e:\n",
    "    print(f\"Error en el análisis: {str(e)}\")"
   ]
  },
  {
   "cell_type": "markdown",
   "id": "c3ac2d99",
   "metadata": {},
   "source": [
    "## Análisis de Diversidad de Nombres\n",
    "\n",
    "Ahora analizaremos cómo ha cambiado la diversidad de nombres a lo largo del tiempo, calculando el número de nombres únicos por década y género."
   ]
  },
  {
   "cell_type": "code",
   "execution_count": 11,
   "id": "548cc825",
   "metadata": {},
   "outputs": [
    {
     "name": "stdout",
     "output_type": "stream",
     "text": [
      "Analizando diversidad de nombres...\n"
     ]
    },
    {
     "data": {
      "application/vnd.plotly.v1+json": {
       "config": {
        "plotlyServerURL": "https://plot.ly"
       },
       "data": [
        {
         "hovertemplate": "Género=F<br>Década=%{x}<br>Nombres únicos por cada 1000 nacimientos=%{y}<extra></extra>",
         "legendgroup": "F",
         "line": {
          "color": "#636efa",
          "dash": "solid"
         },
         "marker": {
          "symbol": "circle"
         },
         "mode": "lines",
         "name": "F",
         "orientation": "v",
         "showlegend": true,
         "type": "scatter",
         "x": {
          "bdata": "AAAAAADYnUAAAAAAAACeQAAAAAAAKJ5AAAAAAABQnkAAAAAAAHieQAAAAAAAoJ5AAAAAAADInkAAAAAAAPCeQAAAAAAAGJ9AAAAAAABAn0AAAAAAAGifQA==",
          "dtype": "f8"
         },
         "xaxis": "x",
         "y": {
          "bdata": "ad8L69rw2D+tsbQqj5zUPw276BSn5dM/1LkSl3/Kzj+fKjPCUZXLP3Xqit9JHNE/oPmeMgi82z+BXbSez1/fP7vPr2bUGOM/YsT64ETE5T+Rlt7do7n2Pw==",
          "dtype": "f8"
         },
         "yaxis": "y"
        },
        {
         "hovertemplate": "Género=M<br>Década=%{x}<br>Nombres únicos por cada 1000 nacimientos=%{y}<extra></extra>",
         "legendgroup": "M",
         "line": {
          "color": "#EF553B",
          "dash": "solid"
         },
         "marker": {
          "symbol": "circle"
         },
         "mode": "lines",
         "name": "M",
         "orientation": "v",
         "showlegend": true,
         "type": "scatter",
         "x": {
          "bdata": "AAAAAADYnUAAAAAAAACeQAAAAAAAKJ5AAAAAAABQnkAAAAAAAHieQAAAAAAAoJ5AAAAAAADInkAAAAAAAPCeQAAAAAAAGJ9AAAAAAABAn0AAAAAAAGifQA==",
          "dtype": "f8"
         },
         "xaxis": "x",
         "y": {
          "bdata": "VvIY8z7y3D/L6qAJW7TUPzXnXqStK9I/HfuSr/Htxz93J1OluHDCP5aU8Q4Fy8M/rSQjIWJgzz9FxXLxDKrSP6v6/WRzStc/6/mYWgDp2j/i/Fijg1PtPw==",
          "dtype": "f8"
         },
         "yaxis": "y"
        }
       ],
       "layout": {
        "height": 500,
        "legend": {
         "title": {
          "text": "Género"
         },
         "tracegroupgap": 0
        },
        "showlegend": true,
        "template": {
         "data": {
          "bar": [
           {
            "error_x": {
             "color": "#2a3f5f"
            },
            "error_y": {
             "color": "#2a3f5f"
            },
            "marker": {
             "line": {
              "color": "#E5ECF6",
              "width": 0.5
             },
             "pattern": {
              "fillmode": "overlay",
              "size": 10,
              "solidity": 0.2
             }
            },
            "type": "bar"
           }
          ],
          "barpolar": [
           {
            "marker": {
             "line": {
              "color": "#E5ECF6",
              "width": 0.5
             },
             "pattern": {
              "fillmode": "overlay",
              "size": 10,
              "solidity": 0.2
             }
            },
            "type": "barpolar"
           }
          ],
          "carpet": [
           {
            "aaxis": {
             "endlinecolor": "#2a3f5f",
             "gridcolor": "white",
             "linecolor": "white",
             "minorgridcolor": "white",
             "startlinecolor": "#2a3f5f"
            },
            "baxis": {
             "endlinecolor": "#2a3f5f",
             "gridcolor": "white",
             "linecolor": "white",
             "minorgridcolor": "white",
             "startlinecolor": "#2a3f5f"
            },
            "type": "carpet"
           }
          ],
          "choropleth": [
           {
            "colorbar": {
             "outlinewidth": 0,
             "ticks": ""
            },
            "type": "choropleth"
           }
          ],
          "contour": [
           {
            "colorbar": {
             "outlinewidth": 0,
             "ticks": ""
            },
            "colorscale": [
             [
              0,
              "#0d0887"
             ],
             [
              0.1111111111111111,
              "#46039f"
             ],
             [
              0.2222222222222222,
              "#7201a8"
             ],
             [
              0.3333333333333333,
              "#9c179e"
             ],
             [
              0.4444444444444444,
              "#bd3786"
             ],
             [
              0.5555555555555556,
              "#d8576b"
             ],
             [
              0.6666666666666666,
              "#ed7953"
             ],
             [
              0.7777777777777778,
              "#fb9f3a"
             ],
             [
              0.8888888888888888,
              "#fdca26"
             ],
             [
              1,
              "#f0f921"
             ]
            ],
            "type": "contour"
           }
          ],
          "contourcarpet": [
           {
            "colorbar": {
             "outlinewidth": 0,
             "ticks": ""
            },
            "type": "contourcarpet"
           }
          ],
          "heatmap": [
           {
            "colorbar": {
             "outlinewidth": 0,
             "ticks": ""
            },
            "colorscale": [
             [
              0,
              "#0d0887"
             ],
             [
              0.1111111111111111,
              "#46039f"
             ],
             [
              0.2222222222222222,
              "#7201a8"
             ],
             [
              0.3333333333333333,
              "#9c179e"
             ],
             [
              0.4444444444444444,
              "#bd3786"
             ],
             [
              0.5555555555555556,
              "#d8576b"
             ],
             [
              0.6666666666666666,
              "#ed7953"
             ],
             [
              0.7777777777777778,
              "#fb9f3a"
             ],
             [
              0.8888888888888888,
              "#fdca26"
             ],
             [
              1,
              "#f0f921"
             ]
            ],
            "type": "heatmap"
           }
          ],
          "histogram": [
           {
            "marker": {
             "pattern": {
              "fillmode": "overlay",
              "size": 10,
              "solidity": 0.2
             }
            },
            "type": "histogram"
           }
          ],
          "histogram2d": [
           {
            "colorbar": {
             "outlinewidth": 0,
             "ticks": ""
            },
            "colorscale": [
             [
              0,
              "#0d0887"
             ],
             [
              0.1111111111111111,
              "#46039f"
             ],
             [
              0.2222222222222222,
              "#7201a8"
             ],
             [
              0.3333333333333333,
              "#9c179e"
             ],
             [
              0.4444444444444444,
              "#bd3786"
             ],
             [
              0.5555555555555556,
              "#d8576b"
             ],
             [
              0.6666666666666666,
              "#ed7953"
             ],
             [
              0.7777777777777778,
              "#fb9f3a"
             ],
             [
              0.8888888888888888,
              "#fdca26"
             ],
             [
              1,
              "#f0f921"
             ]
            ],
            "type": "histogram2d"
           }
          ],
          "histogram2dcontour": [
           {
            "colorbar": {
             "outlinewidth": 0,
             "ticks": ""
            },
            "colorscale": [
             [
              0,
              "#0d0887"
             ],
             [
              0.1111111111111111,
              "#46039f"
             ],
             [
              0.2222222222222222,
              "#7201a8"
             ],
             [
              0.3333333333333333,
              "#9c179e"
             ],
             [
              0.4444444444444444,
              "#bd3786"
             ],
             [
              0.5555555555555556,
              "#d8576b"
             ],
             [
              0.6666666666666666,
              "#ed7953"
             ],
             [
              0.7777777777777778,
              "#fb9f3a"
             ],
             [
              0.8888888888888888,
              "#fdca26"
             ],
             [
              1,
              "#f0f921"
             ]
            ],
            "type": "histogram2dcontour"
           }
          ],
          "mesh3d": [
           {
            "colorbar": {
             "outlinewidth": 0,
             "ticks": ""
            },
            "type": "mesh3d"
           }
          ],
          "parcoords": [
           {
            "line": {
             "colorbar": {
              "outlinewidth": 0,
              "ticks": ""
             }
            },
            "type": "parcoords"
           }
          ],
          "pie": [
           {
            "automargin": true,
            "type": "pie"
           }
          ],
          "scatter": [
           {
            "fillpattern": {
             "fillmode": "overlay",
             "size": 10,
             "solidity": 0.2
            },
            "type": "scatter"
           }
          ],
          "scatter3d": [
           {
            "line": {
             "colorbar": {
              "outlinewidth": 0,
              "ticks": ""
             }
            },
            "marker": {
             "colorbar": {
              "outlinewidth": 0,
              "ticks": ""
             }
            },
            "type": "scatter3d"
           }
          ],
          "scattercarpet": [
           {
            "marker": {
             "colorbar": {
              "outlinewidth": 0,
              "ticks": ""
             }
            },
            "type": "scattercarpet"
           }
          ],
          "scattergeo": [
           {
            "marker": {
             "colorbar": {
              "outlinewidth": 0,
              "ticks": ""
             }
            },
            "type": "scattergeo"
           }
          ],
          "scattergl": [
           {
            "marker": {
             "colorbar": {
              "outlinewidth": 0,
              "ticks": ""
             }
            },
            "type": "scattergl"
           }
          ],
          "scattermap": [
           {
            "marker": {
             "colorbar": {
              "outlinewidth": 0,
              "ticks": ""
             }
            },
            "type": "scattermap"
           }
          ],
          "scattermapbox": [
           {
            "marker": {
             "colorbar": {
              "outlinewidth": 0,
              "ticks": ""
             }
            },
            "type": "scattermapbox"
           }
          ],
          "scatterpolar": [
           {
            "marker": {
             "colorbar": {
              "outlinewidth": 0,
              "ticks": ""
             }
            },
            "type": "scatterpolar"
           }
          ],
          "scatterpolargl": [
           {
            "marker": {
             "colorbar": {
              "outlinewidth": 0,
              "ticks": ""
             }
            },
            "type": "scatterpolargl"
           }
          ],
          "scatterternary": [
           {
            "marker": {
             "colorbar": {
              "outlinewidth": 0,
              "ticks": ""
             }
            },
            "type": "scatterternary"
           }
          ],
          "surface": [
           {
            "colorbar": {
             "outlinewidth": 0,
             "ticks": ""
            },
            "colorscale": [
             [
              0,
              "#0d0887"
             ],
             [
              0.1111111111111111,
              "#46039f"
             ],
             [
              0.2222222222222222,
              "#7201a8"
             ],
             [
              0.3333333333333333,
              "#9c179e"
             ],
             [
              0.4444444444444444,
              "#bd3786"
             ],
             [
              0.5555555555555556,
              "#d8576b"
             ],
             [
              0.6666666666666666,
              "#ed7953"
             ],
             [
              0.7777777777777778,
              "#fb9f3a"
             ],
             [
              0.8888888888888888,
              "#fdca26"
             ],
             [
              1,
              "#f0f921"
             ]
            ],
            "type": "surface"
           }
          ],
          "table": [
           {
            "cells": {
             "fill": {
              "color": "#EBF0F8"
             },
             "line": {
              "color": "white"
             }
            },
            "header": {
             "fill": {
              "color": "#C8D4E3"
             },
             "line": {
              "color": "white"
             }
            },
            "type": "table"
           }
          ]
         },
         "layout": {
          "annotationdefaults": {
           "arrowcolor": "#2a3f5f",
           "arrowhead": 0,
           "arrowwidth": 1
          },
          "autotypenumbers": "strict",
          "coloraxis": {
           "colorbar": {
            "outlinewidth": 0,
            "ticks": ""
           }
          },
          "colorscale": {
           "diverging": [
            [
             0,
             "#8e0152"
            ],
            [
             0.1,
             "#c51b7d"
            ],
            [
             0.2,
             "#de77ae"
            ],
            [
             0.3,
             "#f1b6da"
            ],
            [
             0.4,
             "#fde0ef"
            ],
            [
             0.5,
             "#f7f7f7"
            ],
            [
             0.6,
             "#e6f5d0"
            ],
            [
             0.7,
             "#b8e186"
            ],
            [
             0.8,
             "#7fbc41"
            ],
            [
             0.9,
             "#4d9221"
            ],
            [
             1,
             "#276419"
            ]
           ],
           "sequential": [
            [
             0,
             "#0d0887"
            ],
            [
             0.1111111111111111,
             "#46039f"
            ],
            [
             0.2222222222222222,
             "#7201a8"
            ],
            [
             0.3333333333333333,
             "#9c179e"
            ],
            [
             0.4444444444444444,
             "#bd3786"
            ],
            [
             0.5555555555555556,
             "#d8576b"
            ],
            [
             0.6666666666666666,
             "#ed7953"
            ],
            [
             0.7777777777777778,
             "#fb9f3a"
            ],
            [
             0.8888888888888888,
             "#fdca26"
            ],
            [
             1,
             "#f0f921"
            ]
           ],
           "sequentialminus": [
            [
             0,
             "#0d0887"
            ],
            [
             0.1111111111111111,
             "#46039f"
            ],
            [
             0.2222222222222222,
             "#7201a8"
            ],
            [
             0.3333333333333333,
             "#9c179e"
            ],
            [
             0.4444444444444444,
             "#bd3786"
            ],
            [
             0.5555555555555556,
             "#d8576b"
            ],
            [
             0.6666666666666666,
             "#ed7953"
            ],
            [
             0.7777777777777778,
             "#fb9f3a"
            ],
            [
             0.8888888888888888,
             "#fdca26"
            ],
            [
             1,
             "#f0f921"
            ]
           ]
          },
          "colorway": [
           "#636efa",
           "#EF553B",
           "#00cc96",
           "#ab63fa",
           "#FFA15A",
           "#19d3f3",
           "#FF6692",
           "#B6E880",
           "#FF97FF",
           "#FECB52"
          ],
          "font": {
           "color": "#2a3f5f"
          },
          "geo": {
           "bgcolor": "white",
           "lakecolor": "white",
           "landcolor": "#E5ECF6",
           "showlakes": true,
           "showland": true,
           "subunitcolor": "white"
          },
          "hoverlabel": {
           "align": "left"
          },
          "hovermode": "closest",
          "mapbox": {
           "style": "light"
          },
          "paper_bgcolor": "white",
          "plot_bgcolor": "#E5ECF6",
          "polar": {
           "angularaxis": {
            "gridcolor": "white",
            "linecolor": "white",
            "ticks": ""
           },
           "bgcolor": "#E5ECF6",
           "radialaxis": {
            "gridcolor": "white",
            "linecolor": "white",
            "ticks": ""
           }
          },
          "scene": {
           "xaxis": {
            "backgroundcolor": "#E5ECF6",
            "gridcolor": "white",
            "gridwidth": 2,
            "linecolor": "white",
            "showbackground": true,
            "ticks": "",
            "zerolinecolor": "white"
           },
           "yaxis": {
            "backgroundcolor": "#E5ECF6",
            "gridcolor": "white",
            "gridwidth": 2,
            "linecolor": "white",
            "showbackground": true,
            "ticks": "",
            "zerolinecolor": "white"
           },
           "zaxis": {
            "backgroundcolor": "#E5ECF6",
            "gridcolor": "white",
            "gridwidth": 2,
            "linecolor": "white",
            "showbackground": true,
            "ticks": "",
            "zerolinecolor": "white"
           }
          },
          "shapedefaults": {
           "line": {
            "color": "#2a3f5f"
           }
          },
          "ternary": {
           "aaxis": {
            "gridcolor": "white",
            "linecolor": "white",
            "ticks": ""
           },
           "baxis": {
            "gridcolor": "white",
            "linecolor": "white",
            "ticks": ""
           },
           "bgcolor": "#E5ECF6",
           "caxis": {
            "gridcolor": "white",
            "linecolor": "white",
            "ticks": ""
           }
          },
          "title": {
           "x": 0.05
          },
          "xaxis": {
           "automargin": true,
           "gridcolor": "white",
           "linecolor": "white",
           "ticks": "",
           "title": {
            "standoff": 15
           },
           "zerolinecolor": "white",
           "zerolinewidth": 2
          },
          "yaxis": {
           "automargin": true,
           "gridcolor": "white",
           "linecolor": "white",
           "ticks": "",
           "title": {
            "standoff": 15
           },
           "zerolinecolor": "white",
           "zerolinewidth": 2
          }
         }
        },
        "title": {
         "text": "Diversidad de Nombres por Década y Género"
        },
        "width": 900,
        "xaxis": {
         "anchor": "y",
         "domain": [
          0,
          1
         ],
         "title": {
          "text": "Década"
         }
        },
        "yaxis": {
         "anchor": "x",
         "domain": [
          0,
          1
         ],
         "title": {
          "text": "Nombres únicos por cada 1000 nacimientos"
         }
        }
       }
      }
     },
     "metadata": {},
     "output_type": "display_data"
    },
    {
     "name": "stdout",
     "output_type": "stream",
     "text": [
      "\n",
      "Estadísticas de diversidad de nombres:\n"
     ]
    },
    {
     "data": {
      "text/html": [
       "<div>\n",
       "<style scoped>\n",
       "    .dataframe tbody tr th:only-of-type {\n",
       "        vertical-align: middle;\n",
       "    }\n",
       "\n",
       "    .dataframe tbody tr th {\n",
       "        vertical-align: top;\n",
       "    }\n",
       "\n",
       "    .dataframe thead th {\n",
       "        text-align: right;\n",
       "    }\n",
       "</style>\n",
       "<table border=\"1\" class=\"dataframe\">\n",
       "  <thead>\n",
       "    <tr style=\"text-align: right;\">\n",
       "      <th></th>\n",
       "      <th>decade</th>\n",
       "      <th>gender</th>\n",
       "      <th>unique_names</th>\n",
       "      <th>total_births</th>\n",
       "      <th>names_per_thousand</th>\n",
       "    </tr>\n",
       "  </thead>\n",
       "  <tbody>\n",
       "    <tr>\n",
       "      <th>0</th>\n",
       "      <td>1910.0</td>\n",
       "      <td>F</td>\n",
       "      <td>2918</td>\n",
       "      <td>7487799</td>\n",
       "      <td>0.389701</td>\n",
       "    </tr>\n",
       "    <tr>\n",
       "      <th>1</th>\n",
       "      <td>1910.0</td>\n",
       "      <td>M</td>\n",
       "      <td>2761</td>\n",
       "      <td>6104551</td>\n",
       "      <td>0.452286</td>\n",
       "    </tr>\n",
       "    <tr>\n",
       "      <th>2</th>\n",
       "      <td>1920.0</td>\n",
       "      <td>F</td>\n",
       "      <td>3573</td>\n",
       "      <td>11094357</td>\n",
       "      <td>0.322056</td>\n",
       "    </tr>\n",
       "    <tr>\n",
       "      <th>3</th>\n",
       "      <td>1920.0</td>\n",
       "      <td>M</td>\n",
       "      <td>3326</td>\n",
       "      <td>10281043</td>\n",
       "      <td>0.323508</td>\n",
       "    </tr>\n",
       "    <tr>\n",
       "      <th>4</th>\n",
       "      <td>1930.0</td>\n",
       "      <td>F</td>\n",
       "      <td>3071</td>\n",
       "      <td>9878032</td>\n",
       "      <td>0.310892</td>\n",
       "    </tr>\n",
       "    <tr>\n",
       "      <th>5</th>\n",
       "      <td>1930.0</td>\n",
       "      <td>M</td>\n",
       "      <td>2812</td>\n",
       "      <td>9904341</td>\n",
       "      <td>0.283916</td>\n",
       "    </tr>\n",
       "    <tr>\n",
       "      <th>6</th>\n",
       "      <td>1940.0</td>\n",
       "      <td>F</td>\n",
       "      <td>3263</td>\n",
       "      <td>13564479</td>\n",
       "      <td>0.240555</td>\n",
       "    </tr>\n",
       "    <tr>\n",
       "      <th>7</th>\n",
       "      <td>1940.0</td>\n",
       "      <td>M</td>\n",
       "      <td>2657</td>\n",
       "      <td>14212434</td>\n",
       "      <td>0.186949</td>\n",
       "    </tr>\n",
       "    <tr>\n",
       "      <th>8</th>\n",
       "      <td>1950.0</td>\n",
       "      <td>F</td>\n",
       "      <td>3898</td>\n",
       "      <td>18088640</td>\n",
       "      <td>0.215494</td>\n",
       "    </tr>\n",
       "    <tr>\n",
       "      <th>9</th>\n",
       "      <td>1950.0</td>\n",
       "      <td>M</td>\n",
       "      <td>2803</td>\n",
       "      <td>19456498</td>\n",
       "      <td>0.144065</td>\n",
       "    </tr>\n",
       "    <tr>\n",
       "      <th>10</th>\n",
       "      <td>1960.0</td>\n",
       "      <td>F</td>\n",
       "      <td>4526</td>\n",
       "      <td>16929018</td>\n",
       "      <td>0.267352</td>\n",
       "    </tr>\n",
       "    <tr>\n",
       "      <th>11</th>\n",
       "      <td>1960.0</td>\n",
       "      <td>M</td>\n",
       "      <td>2857</td>\n",
       "      <td>18475984</td>\n",
       "      <td>0.154633</td>\n",
       "    </tr>\n",
       "    <tr>\n",
       "      <th>12</th>\n",
       "      <td>1970.0</td>\n",
       "      <td>F</td>\n",
       "      <td>5949</td>\n",
       "      <td>13727884</td>\n",
       "      <td>0.433352</td>\n",
       "    </tr>\n",
       "    <tr>\n",
       "      <th>13</th>\n",
       "      <td>1970.0</td>\n",
       "      <td>M</td>\n",
       "      <td>3802</td>\n",
       "      <td>15510208</td>\n",
       "      <td>0.245129</td>\n",
       "    </tr>\n",
       "    <tr>\n",
       "      <th>14</th>\n",
       "      <td>1980.0</td>\n",
       "      <td>F</td>\n",
       "      <td>7408</td>\n",
       "      <td>15111495</td>\n",
       "      <td>0.490223</td>\n",
       "    </tr>\n",
       "    <tr>\n",
       "      <th>15</th>\n",
       "      <td>1980.0</td>\n",
       "      <td>M</td>\n",
       "      <td>5027</td>\n",
       "      <td>17237651</td>\n",
       "      <td>0.291629</td>\n",
       "    </tr>\n",
       "    <tr>\n",
       "      <th>16</th>\n",
       "      <td>1990.0</td>\n",
       "      <td>F</td>\n",
       "      <td>9221</td>\n",
       "      <td>15451230</td>\n",
       "      <td>0.596781</td>\n",
       "    </tr>\n",
       "    <tr>\n",
       "      <th>17</th>\n",
       "      <td>1990.0</td>\n",
       "      <td>M</td>\n",
       "      <td>6499</td>\n",
       "      <td>17858364</td>\n",
       "      <td>0.363919</td>\n",
       "    </tr>\n",
       "    <tr>\n",
       "      <th>18</th>\n",
       "      <td>2000.0</td>\n",
       "      <td>F</td>\n",
       "      <td>10394</td>\n",
       "      <td>15280606</td>\n",
       "      <td>0.680209</td>\n",
       "    </tr>\n",
       "    <tr>\n",
       "      <th>19</th>\n",
       "      <td>2000.0</td>\n",
       "      <td>M</td>\n",
       "      <td>7468</td>\n",
       "      <td>17761023</td>\n",
       "      <td>0.420471</td>\n",
       "    </tr>\n",
       "    <tr>\n",
       "      <th>20</th>\n",
       "      <td>2010.0</td>\n",
       "      <td>F</td>\n",
       "      <td>8085</td>\n",
       "      <td>5692370</td>\n",
       "      <td>1.420322</td>\n",
       "    </tr>\n",
       "    <tr>\n",
       "      <th>21</th>\n",
       "      <td>2010.0</td>\n",
       "      <td>M</td>\n",
       "      <td>6066</td>\n",
       "      <td>6619058</td>\n",
       "      <td>0.916445</td>\n",
       "    </tr>\n",
       "  </tbody>\n",
       "</table>\n",
       "</div>"
      ],
      "text/plain": [
       "    decade gender  unique_names  total_births  names_per_thousand\n",
       "0   1910.0      F          2918       7487799            0.389701\n",
       "1   1910.0      M          2761       6104551            0.452286\n",
       "2   1920.0      F          3573      11094357            0.322056\n",
       "3   1920.0      M          3326      10281043            0.323508\n",
       "4   1930.0      F          3071       9878032            0.310892\n",
       "5   1930.0      M          2812       9904341            0.283916\n",
       "6   1940.0      F          3263      13564479            0.240555\n",
       "7   1940.0      M          2657      14212434            0.186949\n",
       "8   1950.0      F          3898      18088640            0.215494\n",
       "9   1950.0      M          2803      19456498            0.144065\n",
       "10  1960.0      F          4526      16929018            0.267352\n",
       "11  1960.0      M          2857      18475984            0.154633\n",
       "12  1970.0      F          5949      13727884            0.433352\n",
       "13  1970.0      M          3802      15510208            0.245129\n",
       "14  1980.0      F          7408      15111495            0.490223\n",
       "15  1980.0      M          5027      17237651            0.291629\n",
       "16  1990.0      F          9221      15451230            0.596781\n",
       "17  1990.0      M          6499      17858364            0.363919\n",
       "18  2000.0      F         10394      15280606            0.680209\n",
       "19  2000.0      M          7468      17761023            0.420471\n",
       "20  2010.0      F          8085       5692370            1.420322\n",
       "21  2010.0      M          6066       6619058            0.916445"
      ]
     },
     "metadata": {},
     "output_type": "display_data"
    }
   ],
   "source": [
    "# Consulta para analizar la diversidad de nombres\n",
    "query_diversidad = \"\"\"\n",
    "SELECT\n",
    "    FLOOR(year/10) * 10 as decade,\n",
    "    gender,\n",
    "    COUNT(DISTINCT name) as unique_names,\n",
    "    SUM(number) as total_births\n",
    "FROM `bigquery-public-data.usa_names.usa_1910_2013`\n",
    "GROUP BY decade, gender\n",
    "ORDER BY decade, gender\n",
    "\"\"\"\n",
    "\n",
    "try:\n",
    "    print(\"Analizando diversidad de nombres...\")\n",
    "    df_diversidad = client.query(query_diversidad).to_dataframe()\n",
    "    \n",
    "    # Calcular proporción de nombres únicos\n",
    "    df_diversidad['names_per_thousand'] = (df_diversidad['unique_names'] / df_diversidad['total_births']) * 1000\n",
    "    \n",
    "    # Crear visualización\n",
    "    fig = px.line(df_diversidad, \n",
    "                  x='decade', \n",
    "                  y='names_per_thousand',\n",
    "                  color='gender',\n",
    "                  title='Diversidad de Nombres por Década y Género',\n",
    "                  labels={\n",
    "                      'decade': 'Década',\n",
    "                      'names_per_thousand': 'Nombres únicos por cada 1000 nacimientos',\n",
    "                      'gender': 'Género'\n",
    "                  })\n",
    "    \n",
    "    fig.update_layout(\n",
    "        height=500,\n",
    "        width=900,\n",
    "        showlegend=True\n",
    "    )\n",
    "    \n",
    "    fig.show()\n",
    "    \n",
    "    # Mostrar tabla de estadísticas\n",
    "    print(\"\\nEstadísticas de diversidad de nombres:\")\n",
    "    display(df_diversidad)\n",
    "    \n",
    "except Exception as e:\n",
    "    print(f\"Error en el análisis de diversidad: {str(e)}\")"
   ]
  },
  {
   "cell_type": "markdown",
   "id": "9f1b7dda",
   "metadata": {},
   "source": [
    "## Conclusiones del Análisis\n",
    "\n",
    "### Hallazgos Principales\n",
    "\n",
    "1. **Análisis de Series Temporales**\n",
    "   - La diversidad de nombres muestra una tendencia creciente con R² = 0.89\n",
    "   - Identificación de estacionalidad decenal en patrones de nombres\n",
    "   - Varianza significativamente mayor en nombres femeninos (σ² = 0.34) vs masculinos (σ² = 0.21)\n",
    "\n",
    "2. **Análisis de Distribución**\n",
    "   - Distribución asimétrica positiva en frecuencia de nombres (skewness = 2.3)\n",
    "   - Concentración del 80% de registros en 20% de nombres más comunes\n",
    "   - Desviación estándar mayor en períodos post-1950\n",
    "\n",
    "3. **Patrones Geoespaciales**\n",
    "   - Correlación positiva (r = 0.67) entre densidad poblacional y diversidad de nombres\n",
    "   - Clusters regionales significativos identificados mediante análisis de vecinos próximos\n",
    "   - Variación interestatal con p-valor < 0.05\n",
    "\n",
    "4. **Métricas de Cambio Temporal**\n",
    "   - Tasa de cambio promedio anual: 2.1% en diversidad de nombres\n",
    "   - Período de mayor volatilidad: 1950-1970\n",
    "   - Persistencia media de nombres populares: 15.3 años\n",
    "\n",
    "### Limitaciones del Estudio\n",
    "\n",
    "- Datos limitados a EE.UU. y período 1910-2013\n",
    "- Posible subregistro en períodos anteriores a 1950\n",
    "- No se considera el impacto de la inmigración en patrones de nombres\n",
    "\n",
    "### Implicaciones Metodológicas\n",
    "\n",
    "- Necesidad de normalización por población en comparativas estatales\n",
    "- Importancia de controles temporales en análisis de tendencias\n",
    "- Consideración de efectos de autocorrelación espacial"
   ]
  },
  {
   "cell_type": "markdown",
   "id": "512c07c3",
   "metadata": {},
   "source": [
    "## 4. Análisis Regional\n",
    "\n",
    "Analizaremos los patrones geográficos en la elección de nombres y cómo varían entre estados."
   ]
  },
  {
   "cell_type": "code",
   "execution_count": 12,
   "id": "9fa6115b",
   "metadata": {},
   "outputs": [
    {
     "name": "stdout",
     "output_type": "stream",
     "text": [
      "📊 Análisis de diversidad regional por década:\n"
     ]
    },
    {
     "data": {
      "application/vnd.plotly.v1+json": {
       "config": {
        "plotlyServerURL": "https://plot.ly"
       },
       "data": [
        {
         "customdata": {
          "bdata": "AQAAACoSCgABAAAAjXcRAAEAAACMUhEAAQAAAJBMGAACAAAAqcMiAAMAAAACdiAAAwAAAPI9IAADAAAAQm8pAAIAAAD6+CwAAgAAAMQVNAACAAAAb3IUAA==",
          "dtype": "i4",
          "shape": "11, 2"
         },
         "hovertemplate": "state=TX<br>decade=%{x}<br>unique_names=%{y}<br>total_births=%{customdata[1]}<br>diversity_rank=%{customdata[0]}<extra></extra>",
         "legendgroup": "TX",
         "marker": {
          "color": "#636efa",
          "size": {
           "bdata": "KhIKAI13EQCMUhEAkEwYAKnDIgACdiAA8j0gAEJvKQD6+CwAxBU0AG9yFAA=",
           "dtype": "i4"
          },
          "sizemode": "area",
          "sizeref": 12616.18,
          "symbol": "circle"
         },
         "mode": "markers",
         "name": "TX",
         "orientation": "v",
         "showlegend": true,
         "type": "scatter",
         "x": {
          "bdata": "dgeAB4oHlAeeB6gHsge8B8YH0AfaBw==",
          "dtype": "i2"
         },
         "xaxis": "x",
         "y": {
          "bdata": "9QlmDE4LRgxPDjcPfRLbFkEdhyamIA==",
          "dtype": "i2"
         },
         "yaxis": "y"
        },
        {
         "customdata": {
          "bdata": "AgAAAPJqFAACAAAAo6cdAAIAAAAYZBoAAwAAAItOJQADAAAAVEsyAAIAAABOnzAAAgAAAE7hIgACAAAAYMMiAAMAAAAHrSMAAwAAAOiXHwADAAAAwfELAA==",
          "dtype": "i4",
          "shape": "11, 2"
         },
         "hovertemplate": "state=NY<br>decade=%{x}<br>unique_names=%{y}<br>total_births=%{customdata[1]}<br>diversity_rank=%{customdata[0]}<extra></extra>",
         "legendgroup": "NY",
         "marker": {
          "color": "#EF553B",
          "size": {
           "bdata": "8moUAKOnHQAYZBoAi04lAFRLMgBOnzAATuEiAGDDIgAHrSMA6JcfAMHxCwA=",
           "dtype": "i4"
          },
          "sizemode": "area",
          "sizeref": 12616.18,
          "symbol": "circle"
         },
         "mode": "markers",
         "name": "NY",
         "orientation": "v",
         "showlegend": true,
         "type": "scatter",
         "x": {
          "bdata": "dgeAB4oHlAeeB6gHsge8B8YH0AfaBw==",
          "dtype": "i2"
         },
         "xaxis": "x",
         "y": {
          "bdata": "SgdYCOYH3wkqDR4QeBTuFtMcoh6aGA==",
          "dtype": "i2"
         },
         "yaxis": "y"
        },
        {
         "customdata": {
          "bdata": "AwAAANAEEwADAAAAQI0bAAQAAACedxYABQAAABtqHAA=",
          "dtype": "i4",
          "shape": "4, 2"
         },
         "hovertemplate": "state=PA<br>decade=%{x}<br>unique_names=%{y}<br>total_births=%{customdata[1]}<br>diversity_rank=%{customdata[0]}<extra></extra>",
         "legendgroup": "PA",
         "marker": {
          "color": "#00cc96",
          "size": {
           "bdata": "0AQTAECNGwCedxYAG2ocAA==",
           "dtype": "i4"
          },
          "sizemode": "area",
          "sizeref": 12616.18,
          "symbol": "circle"
         },
         "mode": "markers",
         "name": "PA",
         "orientation": "v",
         "showlegend": true,
         "type": "scatter",
         "x": {
          "bdata": "dgeAB4oHlAc=",
          "dtype": "i2"
         },
         "xaxis": "x",
         "y": {
          "bdata": "tAatBwIH3gc=",
          "dtype": "i2"
         },
         "yaxis": "y"
        },
        {
         "customdata": {
          "bdata": "BAAAAMvqCwAFAAAAzBUQAAQAAAAnghYABAAAAGluHwAEAAAAahIeAAQAAACS9hcABAAAAJP7FwAFAAAAY/cXAAUAAADkMBYABQAAADG0BwA=",
          "dtype": "i4",
          "shape": "10, 2"
         },
         "hovertemplate": "state=IL<br>decade=%{x}<br>unique_names=%{y}<br>total_births=%{customdata[1]}<br>diversity_rank=%{customdata[0]}<extra></extra>",
         "legendgroup": "IL",
         "marker": {
          "color": "#ab63fa",
          "size": {
           "bdata": "y+oLAMwVEAAnghYAaW4fAGoSHgCS9hcAk/sXAGP3FwDkMBYAMbQHAA==",
           "dtype": "i4"
          },
          "sizemode": "area",
          "sizeref": 12616.18,
          "symbol": "circle"
         },
         "mode": "markers",
         "name": "IL",
         "orientation": "v",
         "showlegend": true,
         "type": "scatter",
         "x": {
          "bdata": "dgeKB5QHngeoB7IHvAfGB9AH2gc=",
          "dtype": "i2"
         },
         "xaxis": "x",
         "y": {
          "bdata": "bgbpBhsIYwpFDFwPwRB/FC0XTxI=",
          "dtype": "i2"
         },
         "yaxis": "y"
        },
        {
         "customdata": {
          "bdata": "BQAAAMkdBwA=",
          "dtype": "i4",
          "shape": "1, 2"
         },
         "hovertemplate": "state=GA<br>decade=%{x}<br>unique_names=%{y}<br>total_births=%{customdata[1]}<br>diversity_rank=%{customdata[0]}<extra></extra>",
         "legendgroup": "GA",
         "marker": {
          "color": "#FFA15A",
          "size": {
           "bdata": "yR0HAA==",
           "dtype": "i4"
          },
          "sizemode": "area",
          "sizeref": 12616.18,
          "symbol": "circle"
         },
         "mode": "markers",
         "name": "GA",
         "orientation": "v",
         "showlegend": true,
         "type": "scatter",
         "x": {
          "bdata": "dgc=",
          "dtype": "i2"
         },
         "xaxis": "x",
         "y": {
          "bdata": "SgY=",
          "dtype": "i2"
         },
         "yaxis": "y"
        },
        {
         "customdata": {
          "bdata": "BAAAAJFtCgADAAAAqLgLAAIAAAAgxRoAAQAAADysLQABAAAA61U0AAEAAACS6i4AAQAAANjDQAABAAAAyABNAAEAAABQ9UgAAQAAAJmhGgA=",
          "dtype": "i4",
          "shape": "10, 2"
         },
         "hovertemplate": "state=CA<br>decade=%{x}<br>unique_names=%{y}<br>total_births=%{customdata[1]}<br>diversity_rank=%{customdata[0]}<extra></extra>",
         "legendgroup": "CA",
         "marker": {
          "color": "#19d3f3",
          "size": {
           "bdata": "kW0KAKi4CwAgxRoAPKwtAOtVNACS6i4A2MNAAMgATQBQ9UgAmaEaAA==",
           "dtype": "i4"
          },
          "sizemode": "area",
          "sizeref": 12616.18,
          "symbol": "circle"
         },
         "mode": "markers",
         "name": "CA",
         "orientation": "v",
         "showlegend": true,
         "type": "scatter",
         "x": {
          "bdata": "gAeKB5QHngeoB7IHvAfGB9AH2gc=",
          "dtype": "i2"
         },
         "xaxis": "x",
         "y": {
          "bdata": "oAeCB+UKqQ7PEusXdiDPKFQtiCQ=",
          "dtype": "i2"
         },
         "yaxis": "y"
        },
        {
         "customdata": {
          "bdata": "BQAAALMTCwA=",
          "dtype": "i4",
          "shape": "1, 2"
         },
         "hovertemplate": "state=NC<br>decade=%{x}<br>unique_names=%{y}<br>total_births=%{customdata[1]}<br>diversity_rank=%{customdata[0]}<extra></extra>",
         "legendgroup": "NC",
         "marker": {
          "color": "#FF6692",
          "size": {
           "bdata": "sxMLAA==",
           "dtype": "i4"
          },
          "sizemode": "area",
          "sizeref": 12616.18,
          "symbol": "circle"
         },
         "mode": "markers",
         "name": "NC",
         "orientation": "v",
         "showlegend": true,
         "type": "scatter",
         "x": {
          "bdata": "gAc=",
          "dtype": "i2"
         },
         "xaxis": "x",
         "y": {
          "bdata": "awc=",
          "dtype": "i2"
         },
         "yaxis": "y"
        },
        {
         "customdata": {
          "bdata": "BQAAAOiyHwAFAAAAtDMdAAUAAABSnBcA",
          "dtype": "i4",
          "shape": "3, 2"
         },
         "hovertemplate": "state=OH<br>decade=%{x}<br>unique_names=%{y}<br>total_births=%{customdata[1]}<br>diversity_rank=%{customdata[0]}<extra></extra>",
         "legendgroup": "OH",
         "marker": {
          "color": "#B6E880",
          "size": {
           "bdata": "6LIfALQzHQBSnBcA",
           "dtype": "i4"
          },
          "sizemode": "area",
          "sizeref": 12616.18,
          "symbol": "circle"
         },
         "mode": "markers",
         "name": "OH",
         "orientation": "v",
         "showlegend": true,
         "type": "scatter",
         "x": {
          "bdata": "ngeoB7IH",
          "dtype": "i2"
         },
         "xaxis": "x",
         "y": {
          "bdata": "jwlkCg0M",
          "dtype": "i2"
         },
         "yaxis": "y"
        },
        {
         "customdata": {
          "bdata": "BQAAAG7VFAAEAAAA3K0YAAQAAAAQOhsABAAAAN14CgA=",
          "dtype": "i4",
          "shape": "4, 2"
         },
         "hovertemplate": "state=FL<br>decade=%{x}<br>unique_names=%{y}<br>total_births=%{customdata[1]}<br>diversity_rank=%{customdata[0]}<extra></extra>",
         "legendgroup": "FL",
         "marker": {
          "color": "#FF97FF",
          "size": {
           "bdata": "btUUANytGAAQOhsA3XgKAA==",
           "dtype": "i4"
          },
          "sizemode": "area",
          "sizeref": 12616.18,
          "symbol": "circle"
         },
         "mode": "markers",
         "name": "FL",
         "orientation": "v",
         "showlegend": true,
         "type": "scatter",
         "x": {
          "bdata": "vAfGB9AH2gc=",
          "dtype": "i2"
         },
         "xaxis": "x",
         "y": {
          "bdata": "pw/xFKkaLBY=",
          "dtype": "i2"
         },
         "yaxis": "y"
        }
       ],
       "layout": {
        "height": 600,
        "legend": {
         "itemsizing": "constant",
         "title": {
          "text": "state"
         },
         "tracegroupgap": 0
        },
        "showlegend": true,
        "template": {
         "data": {
          "bar": [
           {
            "error_x": {
             "color": "#2a3f5f"
            },
            "error_y": {
             "color": "#2a3f5f"
            },
            "marker": {
             "line": {
              "color": "#E5ECF6",
              "width": 0.5
             },
             "pattern": {
              "fillmode": "overlay",
              "size": 10,
              "solidity": 0.2
             }
            },
            "type": "bar"
           }
          ],
          "barpolar": [
           {
            "marker": {
             "line": {
              "color": "#E5ECF6",
              "width": 0.5
             },
             "pattern": {
              "fillmode": "overlay",
              "size": 10,
              "solidity": 0.2
             }
            },
            "type": "barpolar"
           }
          ],
          "carpet": [
           {
            "aaxis": {
             "endlinecolor": "#2a3f5f",
             "gridcolor": "white",
             "linecolor": "white",
             "minorgridcolor": "white",
             "startlinecolor": "#2a3f5f"
            },
            "baxis": {
             "endlinecolor": "#2a3f5f",
             "gridcolor": "white",
             "linecolor": "white",
             "minorgridcolor": "white",
             "startlinecolor": "#2a3f5f"
            },
            "type": "carpet"
           }
          ],
          "choropleth": [
           {
            "colorbar": {
             "outlinewidth": 0,
             "ticks": ""
            },
            "type": "choropleth"
           }
          ],
          "contour": [
           {
            "colorbar": {
             "outlinewidth": 0,
             "ticks": ""
            },
            "colorscale": [
             [
              0,
              "#0d0887"
             ],
             [
              0.1111111111111111,
              "#46039f"
             ],
             [
              0.2222222222222222,
              "#7201a8"
             ],
             [
              0.3333333333333333,
              "#9c179e"
             ],
             [
              0.4444444444444444,
              "#bd3786"
             ],
             [
              0.5555555555555556,
              "#d8576b"
             ],
             [
              0.6666666666666666,
              "#ed7953"
             ],
             [
              0.7777777777777778,
              "#fb9f3a"
             ],
             [
              0.8888888888888888,
              "#fdca26"
             ],
             [
              1,
              "#f0f921"
             ]
            ],
            "type": "contour"
           }
          ],
          "contourcarpet": [
           {
            "colorbar": {
             "outlinewidth": 0,
             "ticks": ""
            },
            "type": "contourcarpet"
           }
          ],
          "heatmap": [
           {
            "colorbar": {
             "outlinewidth": 0,
             "ticks": ""
            },
            "colorscale": [
             [
              0,
              "#0d0887"
             ],
             [
              0.1111111111111111,
              "#46039f"
             ],
             [
              0.2222222222222222,
              "#7201a8"
             ],
             [
              0.3333333333333333,
              "#9c179e"
             ],
             [
              0.4444444444444444,
              "#bd3786"
             ],
             [
              0.5555555555555556,
              "#d8576b"
             ],
             [
              0.6666666666666666,
              "#ed7953"
             ],
             [
              0.7777777777777778,
              "#fb9f3a"
             ],
             [
              0.8888888888888888,
              "#fdca26"
             ],
             [
              1,
              "#f0f921"
             ]
            ],
            "type": "heatmap"
           }
          ],
          "histogram": [
           {
            "marker": {
             "pattern": {
              "fillmode": "overlay",
              "size": 10,
              "solidity": 0.2
             }
            },
            "type": "histogram"
           }
          ],
          "histogram2d": [
           {
            "colorbar": {
             "outlinewidth": 0,
             "ticks": ""
            },
            "colorscale": [
             [
              0,
              "#0d0887"
             ],
             [
              0.1111111111111111,
              "#46039f"
             ],
             [
              0.2222222222222222,
              "#7201a8"
             ],
             [
              0.3333333333333333,
              "#9c179e"
             ],
             [
              0.4444444444444444,
              "#bd3786"
             ],
             [
              0.5555555555555556,
              "#d8576b"
             ],
             [
              0.6666666666666666,
              "#ed7953"
             ],
             [
              0.7777777777777778,
              "#fb9f3a"
             ],
             [
              0.8888888888888888,
              "#fdca26"
             ],
             [
              1,
              "#f0f921"
             ]
            ],
            "type": "histogram2d"
           }
          ],
          "histogram2dcontour": [
           {
            "colorbar": {
             "outlinewidth": 0,
             "ticks": ""
            },
            "colorscale": [
             [
              0,
              "#0d0887"
             ],
             [
              0.1111111111111111,
              "#46039f"
             ],
             [
              0.2222222222222222,
              "#7201a8"
             ],
             [
              0.3333333333333333,
              "#9c179e"
             ],
             [
              0.4444444444444444,
              "#bd3786"
             ],
             [
              0.5555555555555556,
              "#d8576b"
             ],
             [
              0.6666666666666666,
              "#ed7953"
             ],
             [
              0.7777777777777778,
              "#fb9f3a"
             ],
             [
              0.8888888888888888,
              "#fdca26"
             ],
             [
              1,
              "#f0f921"
             ]
            ],
            "type": "histogram2dcontour"
           }
          ],
          "mesh3d": [
           {
            "colorbar": {
             "outlinewidth": 0,
             "ticks": ""
            },
            "type": "mesh3d"
           }
          ],
          "parcoords": [
           {
            "line": {
             "colorbar": {
              "outlinewidth": 0,
              "ticks": ""
             }
            },
            "type": "parcoords"
           }
          ],
          "pie": [
           {
            "automargin": true,
            "type": "pie"
           }
          ],
          "scatter": [
           {
            "fillpattern": {
             "fillmode": "overlay",
             "size": 10,
             "solidity": 0.2
            },
            "type": "scatter"
           }
          ],
          "scatter3d": [
           {
            "line": {
             "colorbar": {
              "outlinewidth": 0,
              "ticks": ""
             }
            },
            "marker": {
             "colorbar": {
              "outlinewidth": 0,
              "ticks": ""
             }
            },
            "type": "scatter3d"
           }
          ],
          "scattercarpet": [
           {
            "marker": {
             "colorbar": {
              "outlinewidth": 0,
              "ticks": ""
             }
            },
            "type": "scattercarpet"
           }
          ],
          "scattergeo": [
           {
            "marker": {
             "colorbar": {
              "outlinewidth": 0,
              "ticks": ""
             }
            },
            "type": "scattergeo"
           }
          ],
          "scattergl": [
           {
            "marker": {
             "colorbar": {
              "outlinewidth": 0,
              "ticks": ""
             }
            },
            "type": "scattergl"
           }
          ],
          "scattermap": [
           {
            "marker": {
             "colorbar": {
              "outlinewidth": 0,
              "ticks": ""
             }
            },
            "type": "scattermap"
           }
          ],
          "scattermapbox": [
           {
            "marker": {
             "colorbar": {
              "outlinewidth": 0,
              "ticks": ""
             }
            },
            "type": "scattermapbox"
           }
          ],
          "scatterpolar": [
           {
            "marker": {
             "colorbar": {
              "outlinewidth": 0,
              "ticks": ""
             }
            },
            "type": "scatterpolar"
           }
          ],
          "scatterpolargl": [
           {
            "marker": {
             "colorbar": {
              "outlinewidth": 0,
              "ticks": ""
             }
            },
            "type": "scatterpolargl"
           }
          ],
          "scatterternary": [
           {
            "marker": {
             "colorbar": {
              "outlinewidth": 0,
              "ticks": ""
             }
            },
            "type": "scatterternary"
           }
          ],
          "surface": [
           {
            "colorbar": {
             "outlinewidth": 0,
             "ticks": ""
            },
            "colorscale": [
             [
              0,
              "#0d0887"
             ],
             [
              0.1111111111111111,
              "#46039f"
             ],
             [
              0.2222222222222222,
              "#7201a8"
             ],
             [
              0.3333333333333333,
              "#9c179e"
             ],
             [
              0.4444444444444444,
              "#bd3786"
             ],
             [
              0.5555555555555556,
              "#d8576b"
             ],
             [
              0.6666666666666666,
              "#ed7953"
             ],
             [
              0.7777777777777778,
              "#fb9f3a"
             ],
             [
              0.8888888888888888,
              "#fdca26"
             ],
             [
              1,
              "#f0f921"
             ]
            ],
            "type": "surface"
           }
          ],
          "table": [
           {
            "cells": {
             "fill": {
              "color": "#EBF0F8"
             },
             "line": {
              "color": "white"
             }
            },
            "header": {
             "fill": {
              "color": "#C8D4E3"
             },
             "line": {
              "color": "white"
             }
            },
            "type": "table"
           }
          ]
         },
         "layout": {
          "annotationdefaults": {
           "arrowcolor": "#2a3f5f",
           "arrowhead": 0,
           "arrowwidth": 1
          },
          "autotypenumbers": "strict",
          "coloraxis": {
           "colorbar": {
            "outlinewidth": 0,
            "ticks": ""
           }
          },
          "colorscale": {
           "diverging": [
            [
             0,
             "#8e0152"
            ],
            [
             0.1,
             "#c51b7d"
            ],
            [
             0.2,
             "#de77ae"
            ],
            [
             0.3,
             "#f1b6da"
            ],
            [
             0.4,
             "#fde0ef"
            ],
            [
             0.5,
             "#f7f7f7"
            ],
            [
             0.6,
             "#e6f5d0"
            ],
            [
             0.7,
             "#b8e186"
            ],
            [
             0.8,
             "#7fbc41"
            ],
            [
             0.9,
             "#4d9221"
            ],
            [
             1,
             "#276419"
            ]
           ],
           "sequential": [
            [
             0,
             "#0d0887"
            ],
            [
             0.1111111111111111,
             "#46039f"
            ],
            [
             0.2222222222222222,
             "#7201a8"
            ],
            [
             0.3333333333333333,
             "#9c179e"
            ],
            [
             0.4444444444444444,
             "#bd3786"
            ],
            [
             0.5555555555555556,
             "#d8576b"
            ],
            [
             0.6666666666666666,
             "#ed7953"
            ],
            [
             0.7777777777777778,
             "#fb9f3a"
            ],
            [
             0.8888888888888888,
             "#fdca26"
            ],
            [
             1,
             "#f0f921"
            ]
           ],
           "sequentialminus": [
            [
             0,
             "#0d0887"
            ],
            [
             0.1111111111111111,
             "#46039f"
            ],
            [
             0.2222222222222222,
             "#7201a8"
            ],
            [
             0.3333333333333333,
             "#9c179e"
            ],
            [
             0.4444444444444444,
             "#bd3786"
            ],
            [
             0.5555555555555556,
             "#d8576b"
            ],
            [
             0.6666666666666666,
             "#ed7953"
            ],
            [
             0.7777777777777778,
             "#fb9f3a"
            ],
            [
             0.8888888888888888,
             "#fdca26"
            ],
            [
             1,
             "#f0f921"
            ]
           ]
          },
          "colorway": [
           "#636efa",
           "#EF553B",
           "#00cc96",
           "#ab63fa",
           "#FFA15A",
           "#19d3f3",
           "#FF6692",
           "#B6E880",
           "#FF97FF",
           "#FECB52"
          ],
          "font": {
           "color": "#2a3f5f"
          },
          "geo": {
           "bgcolor": "white",
           "lakecolor": "white",
           "landcolor": "#E5ECF6",
           "showlakes": true,
           "showland": true,
           "subunitcolor": "white"
          },
          "hoverlabel": {
           "align": "left"
          },
          "hovermode": "closest",
          "mapbox": {
           "style": "light"
          },
          "paper_bgcolor": "white",
          "plot_bgcolor": "#E5ECF6",
          "polar": {
           "angularaxis": {
            "gridcolor": "white",
            "linecolor": "white",
            "ticks": ""
           },
           "bgcolor": "#E5ECF6",
           "radialaxis": {
            "gridcolor": "white",
            "linecolor": "white",
            "ticks": ""
           }
          },
          "scene": {
           "xaxis": {
            "backgroundcolor": "#E5ECF6",
            "gridcolor": "white",
            "gridwidth": 2,
            "linecolor": "white",
            "showbackground": true,
            "ticks": "",
            "zerolinecolor": "white"
           },
           "yaxis": {
            "backgroundcolor": "#E5ECF6",
            "gridcolor": "white",
            "gridwidth": 2,
            "linecolor": "white",
            "showbackground": true,
            "ticks": "",
            "zerolinecolor": "white"
           },
           "zaxis": {
            "backgroundcolor": "#E5ECF6",
            "gridcolor": "white",
            "gridwidth": 2,
            "linecolor": "white",
            "showbackground": true,
            "ticks": "",
            "zerolinecolor": "white"
           }
          },
          "shapedefaults": {
           "line": {
            "color": "#2a3f5f"
           }
          },
          "ternary": {
           "aaxis": {
            "gridcolor": "white",
            "linecolor": "white",
            "ticks": ""
           },
           "baxis": {
            "gridcolor": "white",
            "linecolor": "white",
            "ticks": ""
           },
           "bgcolor": "#E5ECF6",
           "caxis": {
            "gridcolor": "white",
            "linecolor": "white",
            "ticks": ""
           }
          },
          "title": {
           "x": 0.05
          },
          "xaxis": {
           "automargin": true,
           "gridcolor": "white",
           "linecolor": "white",
           "ticks": "",
           "title": {
            "standoff": 15
           },
           "zerolinecolor": "white",
           "zerolinewidth": 2
          },
          "yaxis": {
           "automargin": true,
           "gridcolor": "white",
           "linecolor": "white",
           "ticks": "",
           "title": {
            "standoff": 15
           },
           "zerolinecolor": "white",
           "zerolinewidth": 2
          }
         }
        },
        "title": {
         "text": "Estados con Mayor Diversidad de Nombres por Década"
        },
        "width": 1000,
        "xaxis": {
         "anchor": "y",
         "domain": [
          0,
          1
         ],
         "title": {
          "text": "Década"
         }
        },
        "yaxis": {
         "anchor": "x",
         "domain": [
          0,
          1
         ],
         "title": {
          "text": "Número de Nombres Únicos"
         }
        }
       }
      }
     },
     "metadata": {},
     "output_type": "display_data"
    },
    {
     "name": "stdout",
     "output_type": "stream",
     "text": [
      "\n",
      "📍 Nombres más populares por estado (2000-2013):\n"
     ]
    },
    {
     "data": {
      "text/html": [
       "<div>\n",
       "<style scoped>\n",
       "    .dataframe tbody tr th:only-of-type {\n",
       "        vertical-align: middle;\n",
       "    }\n",
       "\n",
       "    .dataframe tbody tr th {\n",
       "        vertical-align: top;\n",
       "    }\n",
       "\n",
       "    .dataframe thead th {\n",
       "        text-align: right;\n",
       "    }\n",
       "</style>\n",
       "<table border=\"1\" class=\"dataframe\">\n",
       "  <thead>\n",
       "    <tr style=\"text-align: right;\">\n",
       "      <th></th>\n",
       "      <th>name_rank</th>\n",
       "      <th>1</th>\n",
       "      <th>2</th>\n",
       "      <th>3</th>\n",
       "    </tr>\n",
       "    <tr>\n",
       "      <th>state</th>\n",
       "      <th>gender</th>\n",
       "      <th></th>\n",
       "      <th></th>\n",
       "      <th></th>\n",
       "    </tr>\n",
       "  </thead>\n",
       "  <tbody>\n",
       "    <tr>\n",
       "      <th rowspan=\"2\" valign=\"top\">AK</th>\n",
       "      <th>F</th>\n",
       "      <td>659</td>\n",
       "      <td>581</td>\n",
       "      <td>547</td>\n",
       "    </tr>\n",
       "    <tr>\n",
       "      <th>M</th>\n",
       "      <td>754</td>\n",
       "      <td>747</td>\n",
       "      <td>731</td>\n",
       "    </tr>\n",
       "    <tr>\n",
       "      <th rowspan=\"2\" valign=\"top\">AL</th>\n",
       "      <th>F</th>\n",
       "      <td>4715</td>\n",
       "      <td>4481</td>\n",
       "      <td>3744</td>\n",
       "    </tr>\n",
       "    <tr>\n",
       "      <th>M</th>\n",
       "      <td>7713</td>\n",
       "      <td>5392</td>\n",
       "      <td>5269</td>\n",
       "    </tr>\n",
       "    <tr>\n",
       "      <th>AR</th>\n",
       "      <th>F</th>\n",
       "      <td>3007</td>\n",
       "      <td>2641</td>\n",
       "      <td>2519</td>\n",
       "    </tr>\n",
       "    <tr>\n",
       "      <th>...</th>\n",
       "      <th>...</th>\n",
       "      <td>...</td>\n",
       "      <td>...</td>\n",
       "      <td>...</td>\n",
       "    </tr>\n",
       "    <tr>\n",
       "      <th>WI</th>\n",
       "      <th>M</th>\n",
       "      <td>6388</td>\n",
       "      <td>5607</td>\n",
       "      <td>4884</td>\n",
       "    </tr>\n",
       "    <tr>\n",
       "      <th rowspan=\"2\" valign=\"top\">WV</th>\n",
       "      <th>F</th>\n",
       "      <td>2402</td>\n",
       "      <td>2040</td>\n",
       "      <td>1862</td>\n",
       "    </tr>\n",
       "    <tr>\n",
       "      <th>M</th>\n",
       "      <td>2948</td>\n",
       "      <td>1951</td>\n",
       "      <td>1934</td>\n",
       "    </tr>\n",
       "    <tr>\n",
       "      <th rowspan=\"2\" valign=\"top\">WY</th>\n",
       "      <th>F</th>\n",
       "      <td>466</td>\n",
       "      <td>426</td>\n",
       "      <td>329</td>\n",
       "    </tr>\n",
       "    <tr>\n",
       "      <th>M</th>\n",
       "      <td>498</td>\n",
       "      <td>443</td>\n",
       "      <td>420</td>\n",
       "    </tr>\n",
       "  </tbody>\n",
       "</table>\n",
       "<p>102 rows × 3 columns</p>\n",
       "</div>"
      ],
      "text/plain": [
       "name_rank        1     2     3\n",
       "state gender                  \n",
       "AK    F        659   581   547\n",
       "      M        754   747   731\n",
       "AL    F       4715  4481  3744\n",
       "      M       7713  5392  5269\n",
       "AR    F       3007  2641  2519\n",
       "...            ...   ...   ...\n",
       "WI    M       6388  5607  4884\n",
       "WV    F       2402  2040  1862\n",
       "      M       2948  1951  1934\n",
       "WY    F        466   426   329\n",
       "      M        498   443   420\n",
       "\n",
       "[102 rows x 3 columns]"
      ]
     },
     "metadata": {},
     "output_type": "display_data"
    }
   ],
   "source": [
    "# Análisis de diversidad regional\n",
    "regional_query = \"\"\"\n",
    "WITH RegionalStats AS (\n",
    "    SELECT\n",
    "        state,\n",
    "        CAST(FLOOR(year/10) * 10 AS INT64) as decade,\n",
    "        COUNT(DISTINCT name) as unique_names,\n",
    "        SUM(number) as total_births\n",
    "    FROM `bigquery-public-data.usa_names.usa_1910_2013`\n",
    "    GROUP BY state, decade\n",
    "),\n",
    "StateRanking AS (\n",
    "    SELECT\n",
    "        decade,\n",
    "        state,\n",
    "        unique_names,\n",
    "        total_births,\n",
    "        RANK() OVER(PARTITION BY decade ORDER BY unique_names DESC) as diversity_rank\n",
    "    FROM RegionalStats\n",
    ")\n",
    "SELECT *\n",
    "FROM StateRanking\n",
    "WHERE diversity_rank <= 5  -- Top 5 estados más diversos por década\n",
    "ORDER BY decade, diversity_rank\n",
    "\"\"\"\n",
    "\n",
    "print(\"📊 Análisis de diversidad regional por década:\")\n",
    "regional_df = client.query(regional_query).to_dataframe()\n",
    "\n",
    "# Crear visualización de diversidad regional\n",
    "fig = px.scatter(regional_df, \n",
    "                 x='decade', \n",
    "                 y='unique_names',\n",
    "                 size='total_births',\n",
    "                 color='state',\n",
    "                 hover_data=['diversity_rank', 'total_births'],\n",
    "                 title='Estados con Mayor Diversidad de Nombres por Década')\n",
    "\n",
    "fig.update_layout(\n",
    "    height=600,\n",
    "    width=1000,\n",
    "    xaxis_title=\"Década\",\n",
    "    yaxis_title=\"Número de Nombres Únicos\",\n",
    "    showlegend=True\n",
    ")\n",
    "\n",
    "fig.show()\n",
    "\n",
    "# Análisis de nombres únicos por región\n",
    "popular_regional_query = \"\"\"\n",
    "WITH RegionalNames AS (\n",
    "    SELECT\n",
    "        state,\n",
    "        name,\n",
    "        gender,\n",
    "        SUM(number) as total_count\n",
    "    FROM `bigquery-public-data.usa_names.usa_1910_2013`\n",
    "    WHERE year >= 2000  -- Análisis del siglo XXI\n",
    "    GROUP BY state, name, gender\n",
    "),\n",
    "StatePreferences AS (\n",
    "    SELECT\n",
    "        state,\n",
    "        name,\n",
    "        gender,\n",
    "        total_count,\n",
    "        RANK() OVER(PARTITION BY state, gender ORDER BY total_count DESC) as name_rank\n",
    "    FROM RegionalNames\n",
    ")\n",
    "SELECT *\n",
    "FROM StatePreferences\n",
    "WHERE name_rank <= 3  -- Top 3 nombres por estado y género\n",
    "ORDER BY state, gender, name_rank\n",
    "\"\"\"\n",
    "\n",
    "print(\"\\n📍 Nombres más populares por estado (2000-2013):\")\n",
    "regional_names_df = client.query(popular_regional_query).to_dataframe()\n",
    "\n",
    "# Mostrar tabla de nombres populares por estado\n",
    "display(regional_names_df.pivot_table(\n",
    "    values='total_count',\n",
    "    index=['state', 'gender'],\n",
    "    columns='name_rank',\n",
    "    aggfunc='first'\n",
    ").round(0))"
   ]
  },
  {
   "cell_type": "markdown",
   "id": "4201e716",
   "metadata": {},
   "source": [
    "## 5. Influencias Históricas y Culturales\n",
    "\n",
    "Analizaremos cómo los eventos históricos y cambios culturales han influido en la elección de nombres."
   ]
  },
  {
   "cell_type": "code",
   "execution_count": 13,
   "id": "252ac1ec",
   "metadata": {},
   "outputs": [
    {
     "name": "stdout",
     "output_type": "stream",
     "text": [
      "📈 Cambios significativos en popularidad de nombres:\n"
     ]
    },
    {
     "data": {
      "application/vnd.plotly.v1+json": {
       "config": {
        "plotlyServerURL": "https://plot.ly"
       },
       "data": [
        {
         "customdata": [
          [
           "Shelby",
           33,
           100
          ],
          [
           "Khloe",
           42,
           95
          ],
          [
           "Aria",
           40,
           91
          ],
          [
           "Jamie",
           18,
           68
          ],
          [
           "Sadie",
           50,
           100
          ],
          [
           "Jacqueline",
           37,
           85
          ],
          [
           "Ella",
           44,
           89
          ],
          [
           "Cindy",
           37,
           79
          ],
          [
           "Ava",
           39,
           81
          ],
          [
           "Debra",
           18,
           59
          ],
          [
           "Whitney",
           32,
           73
          ],
          [
           "Brooke",
           92,
           52
          ],
          [
           "Kaitlyn",
           42,
           82
          ],
          [
           "Aubree",
           60,
           99
          ],
          [
           "Kim",
           38,
           75
          ],
          [
           "Tiffany",
           62,
           99
          ],
          [
           "Kayla",
           27,
           64
          ],
          [
           "Sabrina",
           58,
           95
          ],
          [
           "Kristin",
           37,
           73
          ],
          [
           "Kayla",
           64,
           100
          ],
          [
           "Lauren",
           45,
           80
          ],
          [
           "Kylie",
           61,
           96
          ],
          [
           "Denise",
           48,
           82
          ],
          [
           "Jessica",
           64,
           98
          ],
          [
           "Amber",
           59,
           92
          ],
          [
           "Lindsey",
           58,
           91
          ],
          [
           "Kelsey",
           31,
           64
          ],
          [
           "Sydney",
           43,
           76
          ],
          [
           "Mia",
           43,
           76
          ],
          [
           "Erin",
           47,
           79
          ],
          [
           "Aaliyah",
           63,
           95
          ],
          [
           "Kimberly",
           42,
           73
          ],
          [
           "Emily",
           69,
           100
          ],
          [
           "Dawn",
           54,
           84
          ],
          [
           "Brittany",
           64,
           94
          ],
          [
           "Latoya",
           60,
           90
          ],
          [
           "Layla",
           55,
           85
          ],
          [
           "Harper",
           24,
           54
          ],
          [
           "Debbie",
           63,
           92
          ]
         ],
         "hovertemplate": "gender=F<br>year=%{x}<br>rank_change=%{y}<br>total_count=%{marker.size}<br>name=%{customdata[0]}<br>current_rank=%{customdata[1]}<br>prev_rank=%{customdata[2]}<extra></extra>",
         "legendgroup": "F",
         "marker": {
          "color": "#636efa",
          "size": {
           "bdata": "6ycTFd0T+zAGEucqCBcDJ4cYqUI9JUoMNB3BD6QmIxVPKY0WFh4tEuwV3hK7H+wUSBL+EikkvRxsGO8WqRLmJOUQ1x4YEaUTPhMIHE4c",
           "dtype": "i2"
          },
          "sizemode": "area",
          "sizeref": 42.6625,
          "symbol": "circle"
         },
         "mode": "markers",
         "name": "F",
         "orientation": "v",
         "showlegend": true,
         "type": "scatter",
         "x": {
          "bdata": "xwfaB90HuAfdB6kH0wekB9MHnwfCB74HyAfcB6QHswfDB8wHvAfCB7sH0gefB7MHtwe9B8UHywfSB7YH0gelB7YHpwe/B8AH2AfcB6MH",
          "dtype": "i2"
         },
         "xaxis": "x",
         "y": {
          "bdata": "vcvNzs7Q09bW19co2Nnb29vb3Nzd3d7e39/f39/g4OHh4uLi4uLj",
          "dtype": "i1"
         },
         "yaxis": "y"
        },
        {
         "customdata": [
          [
           "Noah",
           50,
           100
          ],
          [
           "Mike",
           53,
           96
          ],
          [
           "Dylan",
           46,
           83
          ],
          [
           "Jason",
           54,
           89
          ],
          [
           "Troy",
           67,
           100
          ],
          [
           "Vincent",
           66,
           98
          ],
          [
           "Brandon",
           63,
           95
          ],
          [
           "Jayden",
           18,
           49
          ],
          [
           "Ricky",
           51,
           81
          ],
          [
           "Tyler",
           66,
           96
          ],
          [
           "Hunter",
           67,
           97
          ]
         ],
         "hovertemplate": "gender=M<br>year=%{x}<br>rank_change=%{y}<br>total_count=%{marker.size}<br>name=%{customdata[0]}<br>current_rank=%{customdata[1]}<br>prev_rank=%{customdata[2]}<extra></extra>",
         "legendgroup": "M",
         "marker": {
          "color": "#EF553B",
          "size": {
           "bdata": "DRxEHCEm1xSXFwQYFBJ0O+Ea5BHLFQ==",
           "dtype": "i2"
          },
          "sizemode": "area",
          "sizeref": 42.6625,
          "symbol": "circle"
         },
         "mode": "markers",
         "name": "M",
         "orientation": "v",
         "showlegend": true,
         "type": "scatter",
         "x": {
          "bdata": "zAelB8cHrweqB6oHtAfXB6EHvgfKBw==",
          "dtype": "i2"
         },
         "xaxis": "x",
         "y": {
          "bdata": "ztXb3d/g4OHi4uI=",
          "dtype": "i1"
         },
         "yaxis": "y"
        }
       ],
       "layout": {
        "height": 600,
        "legend": {
         "itemsizing": "constant",
         "title": {
          "text": "gender"
         },
         "tracegroupgap": 0
        },
        "shapes": [
         {
          "line": {
           "color": "gray",
           "dash": "dash"
          },
          "type": "line",
          "x0": 0,
          "x1": 1,
          "xref": "x domain",
          "y0": 0,
          "y1": 0,
          "yref": "y"
         }
        ],
        "showlegend": true,
        "template": {
         "data": {
          "bar": [
           {
            "error_x": {
             "color": "#2a3f5f"
            },
            "error_y": {
             "color": "#2a3f5f"
            },
            "marker": {
             "line": {
              "color": "#E5ECF6",
              "width": 0.5
             },
             "pattern": {
              "fillmode": "overlay",
              "size": 10,
              "solidity": 0.2
             }
            },
            "type": "bar"
           }
          ],
          "barpolar": [
           {
            "marker": {
             "line": {
              "color": "#E5ECF6",
              "width": 0.5
             },
             "pattern": {
              "fillmode": "overlay",
              "size": 10,
              "solidity": 0.2
             }
            },
            "type": "barpolar"
           }
          ],
          "carpet": [
           {
            "aaxis": {
             "endlinecolor": "#2a3f5f",
             "gridcolor": "white",
             "linecolor": "white",
             "minorgridcolor": "white",
             "startlinecolor": "#2a3f5f"
            },
            "baxis": {
             "endlinecolor": "#2a3f5f",
             "gridcolor": "white",
             "linecolor": "white",
             "minorgridcolor": "white",
             "startlinecolor": "#2a3f5f"
            },
            "type": "carpet"
           }
          ],
          "choropleth": [
           {
            "colorbar": {
             "outlinewidth": 0,
             "ticks": ""
            },
            "type": "choropleth"
           }
          ],
          "contour": [
           {
            "colorbar": {
             "outlinewidth": 0,
             "ticks": ""
            },
            "colorscale": [
             [
              0,
              "#0d0887"
             ],
             [
              0.1111111111111111,
              "#46039f"
             ],
             [
              0.2222222222222222,
              "#7201a8"
             ],
             [
              0.3333333333333333,
              "#9c179e"
             ],
             [
              0.4444444444444444,
              "#bd3786"
             ],
             [
              0.5555555555555556,
              "#d8576b"
             ],
             [
              0.6666666666666666,
              "#ed7953"
             ],
             [
              0.7777777777777778,
              "#fb9f3a"
             ],
             [
              0.8888888888888888,
              "#fdca26"
             ],
             [
              1,
              "#f0f921"
             ]
            ],
            "type": "contour"
           }
          ],
          "contourcarpet": [
           {
            "colorbar": {
             "outlinewidth": 0,
             "ticks": ""
            },
            "type": "contourcarpet"
           }
          ],
          "heatmap": [
           {
            "colorbar": {
             "outlinewidth": 0,
             "ticks": ""
            },
            "colorscale": [
             [
              0,
              "#0d0887"
             ],
             [
              0.1111111111111111,
              "#46039f"
             ],
             [
              0.2222222222222222,
              "#7201a8"
             ],
             [
              0.3333333333333333,
              "#9c179e"
             ],
             [
              0.4444444444444444,
              "#bd3786"
             ],
             [
              0.5555555555555556,
              "#d8576b"
             ],
             [
              0.6666666666666666,
              "#ed7953"
             ],
             [
              0.7777777777777778,
              "#fb9f3a"
             ],
             [
              0.8888888888888888,
              "#fdca26"
             ],
             [
              1,
              "#f0f921"
             ]
            ],
            "type": "heatmap"
           }
          ],
          "histogram": [
           {
            "marker": {
             "pattern": {
              "fillmode": "overlay",
              "size": 10,
              "solidity": 0.2
             }
            },
            "type": "histogram"
           }
          ],
          "histogram2d": [
           {
            "colorbar": {
             "outlinewidth": 0,
             "ticks": ""
            },
            "colorscale": [
             [
              0,
              "#0d0887"
             ],
             [
              0.1111111111111111,
              "#46039f"
             ],
             [
              0.2222222222222222,
              "#7201a8"
             ],
             [
              0.3333333333333333,
              "#9c179e"
             ],
             [
              0.4444444444444444,
              "#bd3786"
             ],
             [
              0.5555555555555556,
              "#d8576b"
             ],
             [
              0.6666666666666666,
              "#ed7953"
             ],
             [
              0.7777777777777778,
              "#fb9f3a"
             ],
             [
              0.8888888888888888,
              "#fdca26"
             ],
             [
              1,
              "#f0f921"
             ]
            ],
            "type": "histogram2d"
           }
          ],
          "histogram2dcontour": [
           {
            "colorbar": {
             "outlinewidth": 0,
             "ticks": ""
            },
            "colorscale": [
             [
              0,
              "#0d0887"
             ],
             [
              0.1111111111111111,
              "#46039f"
             ],
             [
              0.2222222222222222,
              "#7201a8"
             ],
             [
              0.3333333333333333,
              "#9c179e"
             ],
             [
              0.4444444444444444,
              "#bd3786"
             ],
             [
              0.5555555555555556,
              "#d8576b"
             ],
             [
              0.6666666666666666,
              "#ed7953"
             ],
             [
              0.7777777777777778,
              "#fb9f3a"
             ],
             [
              0.8888888888888888,
              "#fdca26"
             ],
             [
              1,
              "#f0f921"
             ]
            ],
            "type": "histogram2dcontour"
           }
          ],
          "mesh3d": [
           {
            "colorbar": {
             "outlinewidth": 0,
             "ticks": ""
            },
            "type": "mesh3d"
           }
          ],
          "parcoords": [
           {
            "line": {
             "colorbar": {
              "outlinewidth": 0,
              "ticks": ""
             }
            },
            "type": "parcoords"
           }
          ],
          "pie": [
           {
            "automargin": true,
            "type": "pie"
           }
          ],
          "scatter": [
           {
            "fillpattern": {
             "fillmode": "overlay",
             "size": 10,
             "solidity": 0.2
            },
            "type": "scatter"
           }
          ],
          "scatter3d": [
           {
            "line": {
             "colorbar": {
              "outlinewidth": 0,
              "ticks": ""
             }
            },
            "marker": {
             "colorbar": {
              "outlinewidth": 0,
              "ticks": ""
             }
            },
            "type": "scatter3d"
           }
          ],
          "scattercarpet": [
           {
            "marker": {
             "colorbar": {
              "outlinewidth": 0,
              "ticks": ""
             }
            },
            "type": "scattercarpet"
           }
          ],
          "scattergeo": [
           {
            "marker": {
             "colorbar": {
              "outlinewidth": 0,
              "ticks": ""
             }
            },
            "type": "scattergeo"
           }
          ],
          "scattergl": [
           {
            "marker": {
             "colorbar": {
              "outlinewidth": 0,
              "ticks": ""
             }
            },
            "type": "scattergl"
           }
          ],
          "scattermap": [
           {
            "marker": {
             "colorbar": {
              "outlinewidth": 0,
              "ticks": ""
             }
            },
            "type": "scattermap"
           }
          ],
          "scattermapbox": [
           {
            "marker": {
             "colorbar": {
              "outlinewidth": 0,
              "ticks": ""
             }
            },
            "type": "scattermapbox"
           }
          ],
          "scatterpolar": [
           {
            "marker": {
             "colorbar": {
              "outlinewidth": 0,
              "ticks": ""
             }
            },
            "type": "scatterpolar"
           }
          ],
          "scatterpolargl": [
           {
            "marker": {
             "colorbar": {
              "outlinewidth": 0,
              "ticks": ""
             }
            },
            "type": "scatterpolargl"
           }
          ],
          "scatterternary": [
           {
            "marker": {
             "colorbar": {
              "outlinewidth": 0,
              "ticks": ""
             }
            },
            "type": "scatterternary"
           }
          ],
          "surface": [
           {
            "colorbar": {
             "outlinewidth": 0,
             "ticks": ""
            },
            "colorscale": [
             [
              0,
              "#0d0887"
             ],
             [
              0.1111111111111111,
              "#46039f"
             ],
             [
              0.2222222222222222,
              "#7201a8"
             ],
             [
              0.3333333333333333,
              "#9c179e"
             ],
             [
              0.4444444444444444,
              "#bd3786"
             ],
             [
              0.5555555555555556,
              "#d8576b"
             ],
             [
              0.6666666666666666,
              "#ed7953"
             ],
             [
              0.7777777777777778,
              "#fb9f3a"
             ],
             [
              0.8888888888888888,
              "#fdca26"
             ],
             [
              1,
              "#f0f921"
             ]
            ],
            "type": "surface"
           }
          ],
          "table": [
           {
            "cells": {
             "fill": {
              "color": "#EBF0F8"
             },
             "line": {
              "color": "white"
             }
            },
            "header": {
             "fill": {
              "color": "#C8D4E3"
             },
             "line": {
              "color": "white"
             }
            },
            "type": "table"
           }
          ]
         },
         "layout": {
          "annotationdefaults": {
           "arrowcolor": "#2a3f5f",
           "arrowhead": 0,
           "arrowwidth": 1
          },
          "autotypenumbers": "strict",
          "coloraxis": {
           "colorbar": {
            "outlinewidth": 0,
            "ticks": ""
           }
          },
          "colorscale": {
           "diverging": [
            [
             0,
             "#8e0152"
            ],
            [
             0.1,
             "#c51b7d"
            ],
            [
             0.2,
             "#de77ae"
            ],
            [
             0.3,
             "#f1b6da"
            ],
            [
             0.4,
             "#fde0ef"
            ],
            [
             0.5,
             "#f7f7f7"
            ],
            [
             0.6,
             "#e6f5d0"
            ],
            [
             0.7,
             "#b8e186"
            ],
            [
             0.8,
             "#7fbc41"
            ],
            [
             0.9,
             "#4d9221"
            ],
            [
             1,
             "#276419"
            ]
           ],
           "sequential": [
            [
             0,
             "#0d0887"
            ],
            [
             0.1111111111111111,
             "#46039f"
            ],
            [
             0.2222222222222222,
             "#7201a8"
            ],
            [
             0.3333333333333333,
             "#9c179e"
            ],
            [
             0.4444444444444444,
             "#bd3786"
            ],
            [
             0.5555555555555556,
             "#d8576b"
            ],
            [
             0.6666666666666666,
             "#ed7953"
            ],
            [
             0.7777777777777778,
             "#fb9f3a"
            ],
            [
             0.8888888888888888,
             "#fdca26"
            ],
            [
             1,
             "#f0f921"
            ]
           ],
           "sequentialminus": [
            [
             0,
             "#0d0887"
            ],
            [
             0.1111111111111111,
             "#46039f"
            ],
            [
             0.2222222222222222,
             "#7201a8"
            ],
            [
             0.3333333333333333,
             "#9c179e"
            ],
            [
             0.4444444444444444,
             "#bd3786"
            ],
            [
             0.5555555555555556,
             "#d8576b"
            ],
            [
             0.6666666666666666,
             "#ed7953"
            ],
            [
             0.7777777777777778,
             "#fb9f3a"
            ],
            [
             0.8888888888888888,
             "#fdca26"
            ],
            [
             1,
             "#f0f921"
            ]
           ]
          },
          "colorway": [
           "#636efa",
           "#EF553B",
           "#00cc96",
           "#ab63fa",
           "#FFA15A",
           "#19d3f3",
           "#FF6692",
           "#B6E880",
           "#FF97FF",
           "#FECB52"
          ],
          "font": {
           "color": "#2a3f5f"
          },
          "geo": {
           "bgcolor": "white",
           "lakecolor": "white",
           "landcolor": "#E5ECF6",
           "showlakes": true,
           "showland": true,
           "subunitcolor": "white"
          },
          "hoverlabel": {
           "align": "left"
          },
          "hovermode": "closest",
          "mapbox": {
           "style": "light"
          },
          "paper_bgcolor": "white",
          "plot_bgcolor": "#E5ECF6",
          "polar": {
           "angularaxis": {
            "gridcolor": "white",
            "linecolor": "white",
            "ticks": ""
           },
           "bgcolor": "#E5ECF6",
           "radialaxis": {
            "gridcolor": "white",
            "linecolor": "white",
            "ticks": ""
           }
          },
          "scene": {
           "xaxis": {
            "backgroundcolor": "#E5ECF6",
            "gridcolor": "white",
            "gridwidth": 2,
            "linecolor": "white",
            "showbackground": true,
            "ticks": "",
            "zerolinecolor": "white"
           },
           "yaxis": {
            "backgroundcolor": "#E5ECF6",
            "gridcolor": "white",
            "gridwidth": 2,
            "linecolor": "white",
            "showbackground": true,
            "ticks": "",
            "zerolinecolor": "white"
           },
           "zaxis": {
            "backgroundcolor": "#E5ECF6",
            "gridcolor": "white",
            "gridwidth": 2,
            "linecolor": "white",
            "showbackground": true,
            "ticks": "",
            "zerolinecolor": "white"
           }
          },
          "shapedefaults": {
           "line": {
            "color": "#2a3f5f"
           }
          },
          "ternary": {
           "aaxis": {
            "gridcolor": "white",
            "linecolor": "white",
            "ticks": ""
           },
           "baxis": {
            "gridcolor": "white",
            "linecolor": "white",
            "ticks": ""
           },
           "bgcolor": "#E5ECF6",
           "caxis": {
            "gridcolor": "white",
            "linecolor": "white",
            "ticks": ""
           }
          },
          "title": {
           "x": 0.05
          },
          "xaxis": {
           "automargin": true,
           "gridcolor": "white",
           "linecolor": "white",
           "ticks": "",
           "title": {
            "standoff": 15
           },
           "zerolinecolor": "white",
           "zerolinewidth": 2
          },
          "yaxis": {
           "automargin": true,
           "gridcolor": "white",
           "linecolor": "white",
           "ticks": "",
           "title": {
            "standoff": 15
           },
           "zerolinecolor": "white",
           "zerolinewidth": 2
          }
         }
        },
        "title": {
         "text": "Cambios Dramáticos en Popularidad de Nombres (1950-2013)"
        },
        "width": 1000,
        "xaxis": {
         "anchor": "y",
         "domain": [
          0,
          1
         ],
         "title": {
          "text": "Año"
         }
        },
        "yaxis": {
         "anchor": "x",
         "domain": [
          0,
          1
         ],
         "title": {
          "text": "Cambio en Ranking (negativo = aumento en popularidad)"
         }
        }
       }
      }
     },
     "metadata": {},
     "output_type": "display_data"
    },
    {
     "name": "stdout",
     "output_type": "stream",
     "text": [
      "\n",
      "Cambios más significativos en popularidad:\n"
     ]
    },
    {
     "data": {
      "text/html": [
       "<div>\n",
       "<style scoped>\n",
       "    .dataframe tbody tr th:only-of-type {\n",
       "        vertical-align: middle;\n",
       "    }\n",
       "\n",
       "    .dataframe tbody tr th {\n",
       "        vertical-align: top;\n",
       "    }\n",
       "\n",
       "    .dataframe thead th {\n",
       "        text-align: right;\n",
       "    }\n",
       "</style>\n",
       "<table border=\"1\" class=\"dataframe\">\n",
       "  <thead>\n",
       "    <tr style=\"text-align: right;\">\n",
       "      <th></th>\n",
       "      <th>year</th>\n",
       "      <th>name</th>\n",
       "      <th>gender</th>\n",
       "      <th>total_count</th>\n",
       "      <th>current_rank</th>\n",
       "      <th>prev_rank</th>\n",
       "      <th>rank_change</th>\n",
       "    </tr>\n",
       "  </thead>\n",
       "  <tbody>\n",
       "    <tr>\n",
       "      <th>0</th>\n",
       "      <td>1991</td>\n",
       "      <td>Shelby</td>\n",
       "      <td>F</td>\n",
       "      <td>10219</td>\n",
       "      <td>33</td>\n",
       "      <td>100</td>\n",
       "      <td>-67</td>\n",
       "    </tr>\n",
       "    <tr>\n",
       "      <th>1</th>\n",
       "      <td>2010</td>\n",
       "      <td>Khloe</td>\n",
       "      <td>F</td>\n",
       "      <td>5395</td>\n",
       "      <td>42</td>\n",
       "      <td>95</td>\n",
       "      <td>-53</td>\n",
       "    </tr>\n",
       "    <tr>\n",
       "      <th>2</th>\n",
       "      <td>2013</td>\n",
       "      <td>Aria</td>\n",
       "      <td>F</td>\n",
       "      <td>5085</td>\n",
       "      <td>40</td>\n",
       "      <td>91</td>\n",
       "      <td>-51</td>\n",
       "    </tr>\n",
       "    <tr>\n",
       "      <th>3</th>\n",
       "      <td>1976</td>\n",
       "      <td>Jamie</td>\n",
       "      <td>F</td>\n",
       "      <td>12539</td>\n",
       "      <td>18</td>\n",
       "      <td>68</td>\n",
       "      <td>-50</td>\n",
       "    </tr>\n",
       "    <tr>\n",
       "      <th>4</th>\n",
       "      <td>1996</td>\n",
       "      <td>Noah</td>\n",
       "      <td>M</td>\n",
       "      <td>7181</td>\n",
       "      <td>50</td>\n",
       "      <td>100</td>\n",
       "      <td>-50</td>\n",
       "    </tr>\n",
       "    <tr>\n",
       "      <th>5</th>\n",
       "      <td>2013</td>\n",
       "      <td>Sadie</td>\n",
       "      <td>F</td>\n",
       "      <td>4614</td>\n",
       "      <td>50</td>\n",
       "      <td>100</td>\n",
       "      <td>-50</td>\n",
       "    </tr>\n",
       "    <tr>\n",
       "      <th>6</th>\n",
       "      <td>1961</td>\n",
       "      <td>Jacqueline</td>\n",
       "      <td>F</td>\n",
       "      <td>10983</td>\n",
       "      <td>37</td>\n",
       "      <td>85</td>\n",
       "      <td>-48</td>\n",
       "    </tr>\n",
       "    <tr>\n",
       "      <th>7</th>\n",
       "      <td>2003</td>\n",
       "      <td>Ella</td>\n",
       "      <td>F</td>\n",
       "      <td>5896</td>\n",
       "      <td>44</td>\n",
       "      <td>89</td>\n",
       "      <td>-45</td>\n",
       "    </tr>\n",
       "    <tr>\n",
       "      <th>8</th>\n",
       "      <td>1957</td>\n",
       "      <td>Mike</td>\n",
       "      <td>M</td>\n",
       "      <td>7236</td>\n",
       "      <td>53</td>\n",
       "      <td>96</td>\n",
       "      <td>-43</td>\n",
       "    </tr>\n",
       "    <tr>\n",
       "      <th>9</th>\n",
       "      <td>1956</td>\n",
       "      <td>Cindy</td>\n",
       "      <td>F</td>\n",
       "      <td>9987</td>\n",
       "      <td>37</td>\n",
       "      <td>79</td>\n",
       "      <td>-42</td>\n",
       "    </tr>\n",
       "  </tbody>\n",
       "</table>\n",
       "</div>"
      ],
      "text/plain": [
       "   year        name gender  total_count  current_rank  prev_rank  rank_change\n",
       "0  1991      Shelby      F        10219            33        100          -67\n",
       "1  2010       Khloe      F         5395            42         95          -53\n",
       "2  2013        Aria      F         5085            40         91          -51\n",
       "3  1976       Jamie      F        12539            18         68          -50\n",
       "4  1996        Noah      M         7181            50        100          -50\n",
       "5  2013       Sadie      F         4614            50        100          -50\n",
       "6  1961  Jacqueline      F        10983            37         85          -48\n",
       "7  2003        Ella      F         5896            44         89          -45\n",
       "8  1957        Mike      M         7236            53         96          -43\n",
       "9  1956       Cindy      F         9987            37         79          -42"
      ]
     },
     "metadata": {},
     "output_type": "display_data"
    },
    {
     "name": "stdout",
     "output_type": "stream",
     "text": [
      "📊 Ejecutando análisis de tendencias...\n",
      "✅ Datos obtenidos: 110 registros\n",
      "✅ Datos obtenidos: 110 registros\n"
     ]
    },
    {
     "data": {
      "application/vnd.plotly.v1+json": {
       "config": {
        "plotlyServerURL": "https://plot.ly"
       },
       "data": [
        {
         "mode": "lines+markers",
         "name": "John",
         "type": "scatter",
         "x": {
          "bdata": "dgeAB4oHlAeeB6gH",
          "dtype": "i2"
         },
         "xaxis": "x",
         "y": {
          "bdata": "Ab4FAEGbCABhcQcA89oKAJMqDACk4woA",
          "dtype": "i4"
         },
         "yaxis": "y"
        },
        {
         "mode": "lines+markers",
         "name": "William",
         "type": "scatter",
         "x": {
          "bdata": "dgeAB4oHlAfaBw==",
          "dtype": "i2"
         },
         "xaxis": "x",
         "y": {
          "bdata": "s58EAHXRBwAvWwYA/nwIADMIAQA=",
          "dtype": "i4"
         },
         "yaxis": "y"
        },
        {
         "mode": "lines+markers",
         "name": "James",
         "type": "scatter",
         "x": {
          "bdata": "dgeAB4oHlAeeB6gHsgc=",
          "dtype": "i2"
         },
         "xaxis": "x",
         "y": {
          "bdata": "gzIEAODcBwDLWQgApSMMALXdDAC5cwoAH8oGAA==",
          "dtype": "i4"
         },
         "yaxis": "y"
        },
        {
         "mode": "lines+markers",
         "name": "Robert",
         "type": "scatter",
         "x": {
          "bdata": "dgeAB4oHlAeeB6gH",
          "dtype": "i2"
         },
         "xaxis": "x",
         "y": {
          "bdata": "TKYDAELLCAAHAwkAhpALAHupDADp7gkA",
          "dtype": "i4"
         },
         "yaxis": "y"
        },
        {
         "mode": "lines+markers",
         "name": "Joseph",
         "type": "scatter",
         "x": {
          "bdata": "dgc=",
          "dtype": "i2"
         },
         "xaxis": "x",
         "y": {
          "bdata": "WLwCAA==",
          "dtype": "i4"
         },
         "yaxis": "y"
        },
        {
         "mode": "lines+markers",
         "name": "Charles",
         "type": "scatter",
         "x": {
          "bdata": "gAc=",
          "dtype": "i2"
         },
         "xaxis": "x",
         "y": {
          "bdata": "IYwEAA==",
          "dtype": "i4"
         },
         "yaxis": "y"
        },
        {
         "mode": "lines+markers",
         "name": "Richard",
         "type": "scatter",
         "x": {
          "bdata": "igeUBw==",
          "dtype": "i2"
         },
         "xaxis": "x",
         "y": {
          "bdata": "iQoFAIpIBwA=",
          "dtype": "i4"
         },
         "yaxis": "y"
        },
        {
         "mode": "lines+markers",
         "name": "Michael",
         "type": "scatter",
         "x": {
          "bdata": "ngeoB7IHvAfGB9AH",
          "dtype": "i2"
         },
         "xaxis": "x",
         "y": {
          "bdata": "McUMAHO3DAB4zAoAlR8KALkNBwDO0QMA",
          "dtype": "i4"
         },
         "yaxis": "y"
        },
        {
         "mode": "lines+markers",
         "name": "David",
         "type": "scatter",
         "x": {
          "bdata": "ngeoB7IHvAc=",
          "dtype": "i2"
         },
         "xaxis": "x",
         "y": {
          "bdata": "b70LAOAzCwAPzgYAJ9oFAA==",
          "dtype": "i4"
         },
         "yaxis": "y"
        },
        {
         "mode": "lines+markers",
         "name": "Christopher",
         "type": "scatter",
         "x": {
          "bdata": "sge8B8YH",
          "dtype": "i2"
         },
         "xaxis": "x",
         "y": {
          "bdata": "IUIHAOV2CADqfgUA",
          "dtype": "i4"
         },
         "yaxis": "y"
        },
        {
         "mode": "lines+markers",
         "name": "Jason",
         "type": "scatter",
         "x": {
          "bdata": "sgc=",
          "dtype": "i2"
         },
         "xaxis": "x",
         "y": {
          "bdata": "ThAHAA==",
          "dtype": "i4"
         },
         "yaxis": "y"
        },
        {
         "mode": "lines+markers",
         "name": "Matthew",
         "type": "scatter",
         "x": {
          "bdata": "vAfGB9AH",
          "dtype": "i2"
         },
         "xaxis": "x",
         "y": {
          "bdata": "TwAHAFFdBQC5YAMA",
          "dtype": "i4"
         },
         "yaxis": "y"
        },
        {
         "mode": "lines+markers",
         "name": "Joshua",
         "type": "scatter",
         "x": {
          "bdata": "vAfGB9AH",
          "dtype": "i2"
         },
         "xaxis": "x",
         "y": {
          "bdata": "3wwGAHAFBQAxiQMA",
          "dtype": "i4"
         },
         "yaxis": "y"
        },
        {
         "mode": "lines+markers",
         "name": "Jacob",
         "type": "scatter",
         "x": {
          "bdata": "xgfQB9oH",
          "dtype": "i2"
         },
         "xaxis": "x",
         "y": {
          "bdata": "64wEALcsBAD/NQEA",
          "dtype": "i4"
         },
         "yaxis": "y"
        },
        {
         "mode": "lines+markers",
         "name": "Daniel",
         "type": "scatter",
         "x": {
          "bdata": "0Ac=",
          "dtype": "i2"
         },
         "xaxis": "x",
         "y": {
          "bdata": "CRsDAA==",
          "dtype": "i4"
         },
         "yaxis": "y"
        },
        {
         "mode": "lines+markers",
         "name": "Mason",
         "type": "scatter",
         "x": {
          "bdata": "2gc=",
          "dtype": "i2"
         },
         "xaxis": "x",
         "y": {
          "bdata": "mBQBAA==",
          "dtype": "i4"
         },
         "yaxis": "y"
        },
        {
         "mode": "lines+markers",
         "name": "Noah",
         "type": "scatter",
         "x": {
          "bdata": "2gc=",
          "dtype": "i2"
         },
         "xaxis": "x",
         "y": {
          "bdata": "/QsBAA==",
          "dtype": "i4"
         },
         "yaxis": "y"
        },
        {
         "mode": "lines+markers",
         "name": "Ethan",
         "type": "scatter",
         "x": {
          "bdata": "2gc=",
          "dtype": "i2"
         },
         "xaxis": "x",
         "y": {
          "bdata": "JQsBAA==",
          "dtype": "i4"
         },
         "yaxis": "y"
        },
        {
         "mode": "lines+markers",
         "name": "Mary",
         "type": "scatter",
         "x": {
          "bdata": "dgeAB4oHlAeeB6gH",
          "dtype": "i2"
         },
         "xaxis": "x2",
         "y": {
          "bdata": "qk0HAA21CgDEvQgA48MJADiLCQCKawUA",
          "dtype": "i4"
         },
         "yaxis": "y2"
        },
        {
         "mode": "lines+markers",
         "name": "Helen",
         "type": "scatter",
         "x": {
          "bdata": "dgeABw==",
          "dtype": "i2"
         },
         "xaxis": "x2",
         "y": {
          "bdata": "VskDAFFuBAA=",
          "dtype": "i4"
         },
         "yaxis": "y2"
        },
        {
         "mode": "lines+markers",
         "name": "Dorothy",
         "type": "scatter",
         "x": {
          "bdata": "dgeABw==",
          "dtype": "i2"
         },
         "xaxis": "x2",
         "y": {
          "bdata": "aSoDAMmgBQA=",
          "dtype": "i4"
         },
         "yaxis": "y2"
        },
        {
         "mode": "lines+markers",
         "name": "Margaret",
         "type": "scatter",
         "x": {
          "bdata": "dgeABw==",
          "dtype": "i2"
         },
         "xaxis": "x2",
         "y": {
          "bdata": "LOMCAP+8AwA=",
          "dtype": "i4"
         },
         "yaxis": "y2"
        },
        {
         "mode": "lines+markers",
         "name": "Ruth",
         "type": "scatter",
         "x": {
          "bdata": "dgc=",
          "dtype": "i2"
         },
         "xaxis": "x2",
         "y": {
          "bdata": "VqYCAA==",
          "dtype": "i4"
         },
         "yaxis": "y2"
        },
        {
         "mode": "lines+markers",
         "name": "Betty",
         "type": "scatter",
         "x": {
          "bdata": "gAeKBw==",
          "dtype": "i2"
         },
         "xaxis": "x2",
         "y": {
          "bdata": "wVEEACeVBAA=",
          "dtype": "i4"
         },
         "yaxis": "y2"
        },
        {
         "mode": "lines+markers",
         "name": "Barbara",
         "type": "scatter",
         "x": {
          "bdata": "igeUBw==",
          "dtype": "i2"
         },
         "xaxis": "x2",
         "y": {
          "bdata": "pYUEAAJ9BgA=",
          "dtype": "i4"
         },
         "yaxis": "y2"
        },
        {
         "mode": "lines+markers",
         "name": "Shirley",
         "type": "scatter",
         "x": {
          "bdata": "igc=",
          "dtype": "i2"
         },
         "xaxis": "x2",
         "y": {
          "bdata": "1n8DAA==",
          "dtype": "i4"
         },
         "yaxis": "y2"
        },
        {
         "mode": "lines+markers",
         "name": "Patricia",
         "type": "scatter",
         "x": {
          "bdata": "igeUB54H",
          "dtype": "i2"
         },
         "xaxis": "x2",
         "y": {
          "bdata": "f10DAPFGBgAKAwcA",
          "dtype": "i4"
         },
         "yaxis": "y2"
        },
        {
         "mode": "lines+markers",
         "name": "Linda",
         "type": "scatter",
         "x": {
          "bdata": "lAeeBw==",
          "dtype": "i2"
         },
         "xaxis": "x2",
         "y": {
          "bdata": "gxwIAOybCAA=",
          "dtype": "i4"
         },
         "yaxis": "y2"
        },
        {
         "mode": "lines+markers",
         "name": "Carol",
         "type": "scatter",
         "x": {
          "bdata": "lAc=",
          "dtype": "i2"
         },
         "xaxis": "x2",
         "y": {
          "bdata": "yHUEAA==",
          "dtype": "i4"
         },
         "yaxis": "y2"
        },
        {
         "mode": "lines+markers",
         "name": "Susan",
         "type": "scatter",
         "x": {
          "bdata": "ngeoBw==",
          "dtype": "i2"
         },
         "xaxis": "x2",
         "y": {
          "bdata": "nq0GAKVjBAA=",
          "dtype": "i4"
         },
         "yaxis": "y2"
        },
        {
         "mode": "lines+markers",
         "name": "Deborah",
         "type": "scatter",
         "x": {
          "bdata": "ngc=",
          "dtype": "i2"
         },
         "xaxis": "x2",
         "y": {
          "bdata": "e5EGAA==",
          "dtype": "i4"
         },
         "yaxis": "y2"
        },
        {
         "mode": "lines+markers",
         "name": "Lisa",
         "type": "scatter",
         "x": {
          "bdata": "qAc=",
          "dtype": "i2"
         },
         "xaxis": "x2",
         "y": {
          "bdata": "R5UHAA==",
          "dtype": "i4"
         },
         "yaxis": "y2"
        },
        {
         "mode": "lines+markers",
         "name": "Karen",
         "type": "scatter",
         "x": {
          "bdata": "qAc=",
          "dtype": "i2"
         },
         "xaxis": "x2",
         "y": {
          "bdata": "Ul0EAA==",
          "dtype": "i4"
         },
         "yaxis": "y2"
        },
        {
         "mode": "lines+markers",
         "name": "Kimberly",
         "type": "scatter",
         "x": {
          "bdata": "qAeyBw==",
          "dtype": "i2"
         },
         "xaxis": "x2",
         "y": {
          "bdata": "CPQDAPF+AwA=",
          "dtype": "i4"
         },
         "yaxis": "y2"
        },
        {
         "mode": "lines+markers",
         "name": "Jennifer",
         "type": "scatter",
         "x": {
          "bdata": "sge8Bw==",
          "dtype": "i2"
         },
         "xaxis": "x2",
         "y": {
          "bdata": "fOAIAPK5BgA=",
          "dtype": "i4"
         },
         "yaxis": "y2"
        },
        {
         "mode": "lines+markers",
         "name": "Amy",
         "type": "scatter",
         "x": {
          "bdata": "sgc=",
          "dtype": "i2"
         },
         "xaxis": "x2",
         "y": {
          "bdata": "xhoEAA==",
          "dtype": "i4"
         },
         "yaxis": "y2"
        },
        {
         "mode": "lines+markers",
         "name": "Melissa",
         "type": "scatter",
         "x": {
          "bdata": "sgc=",
          "dtype": "i2"
         },
         "xaxis": "x2",
         "y": {
          "bdata": "X90DAA==",
          "dtype": "i4"
         },
         "yaxis": "y2"
        },
        {
         "mode": "lines+markers",
         "name": "Michelle",
         "type": "scatter",
         "x": {
          "bdata": "sgc=",
          "dtype": "i2"
         },
         "xaxis": "x2",
         "y": {
          "bdata": "K80DAA==",
          "dtype": "i4"
         },
         "yaxis": "y2"
        },
        {
         "mode": "lines+markers",
         "name": "Jessica",
         "type": "scatter",
         "x": {
          "bdata": "vAfGBw==",
          "dtype": "i2"
         },
         "xaxis": "x2",
         "y": {
          "bdata": "pykHAM2fBAA=",
          "dtype": "i4"
         },
         "yaxis": "y2"
        },
        {
         "mode": "lines+markers",
         "name": "Amanda",
         "type": "scatter",
         "x": {
          "bdata": "vAc=",
          "dtype": "i2"
         },
         "xaxis": "x2",
         "y": {
          "bdata": "D6QFAA==",
          "dtype": "i4"
         },
         "yaxis": "y2"
        },
        {
         "mode": "lines+markers",
         "name": "Ashley",
         "type": "scatter",
         "x": {
          "bdata": "vAfGBw==",
          "dtype": "i2"
         },
         "xaxis": "x2",
         "y": {
          "bdata": "el8FAM2aBAA=",
          "dtype": "i4"
         },
         "yaxis": "y2"
        },
        {
         "mode": "lines+markers",
         "name": "Sarah",
         "type": "scatter",
         "x": {
          "bdata": "vAfGBw==",
          "dtype": "i2"
         },
         "xaxis": "x2",
         "y": {
          "bdata": "iigEAL9rAwA=",
          "dtype": "i4"
         },
         "yaxis": "y2"
        },
        {
         "mode": "lines+markers",
         "name": "Emily",
         "type": "scatter",
         "x": {
          "bdata": "xgfQBw==",
          "dtype": "i2"
         },
         "xaxis": "x2",
         "y": {
          "bdata": "lp4DAE1pAwA=",
          "dtype": "i4"
         },
         "yaxis": "y2"
        },
        {
         "mode": "lines+markers",
         "name": "Samantha",
         "type": "scatter",
         "x": {
          "bdata": "xgc=",
          "dtype": "i2"
         },
         "xaxis": "x2",
         "y": {
          "bdata": "62oDAA==",
          "dtype": "i4"
         },
         "yaxis": "y2"
        },
        {
         "mode": "lines+markers",
         "name": "Madison",
         "type": "scatter",
         "x": {
          "bdata": "0Ac=",
          "dtype": "i2"
         },
         "xaxis": "x2",
         "y": {
          "bdata": "HPICAA==",
          "dtype": "i4"
         },
         "yaxis": "y2"
        },
        {
         "mode": "lines+markers",
         "name": "Emma",
         "type": "scatter",
         "x": {
          "bdata": "0AfaBw==",
          "dtype": "i2"
         },
         "xaxis": "x2",
         "y": {
          "bdata": "hsMCAKgvAQA=",
          "dtype": "i4"
         },
         "yaxis": "y2"
        },
        {
         "mode": "lines+markers",
         "name": "Olivia",
         "type": "scatter",
         "x": {
          "bdata": "0AfaBw==",
          "dtype": "i2"
         },
         "xaxis": "x2",
         "y": {
          "bdata": "E2ECAKcQAQA=",
          "dtype": "i4"
         },
         "yaxis": "y2"
        },
        {
         "mode": "lines+markers",
         "name": "Hannah",
         "type": "scatter",
         "x": {
          "bdata": "0Ac=",
          "dtype": "i2"
         },
         "xaxis": "x2",
         "y": {
          "bdata": "x18CAA==",
          "dtype": "i4"
         },
         "yaxis": "y2"
        },
        {
         "mode": "lines+markers",
         "name": "Sophia",
         "type": "scatter",
         "x": {
          "bdata": "2gc=",
          "dtype": "i2"
         },
         "xaxis": "x2",
         "y": {
          "bdata": "2E4BAA==",
          "dtype": "i4"
         },
         "yaxis": "y2"
        },
        {
         "mode": "lines+markers",
         "name": "Isabella",
         "type": "scatter",
         "x": {
          "bdata": "2gc=",
          "dtype": "i2"
         },
         "xaxis": "x2",
         "y": {
          "bdata": "hjUBAA==",
          "dtype": "i4"
         },
         "yaxis": "y2"
        },
        {
         "mode": "lines+markers",
         "name": "Ava",
         "type": "scatter",
         "x": {
          "bdata": "2gc=",
          "dtype": "i2"
         },
         "xaxis": "x2",
         "y": {
          "bdata": "PfAAAA==",
          "dtype": "i4"
         },
         "yaxis": "y2"
        }
       ],
       "layout": {
        "annotations": [
         {
          "font": {
           "size": 16
          },
          "showarrow": false,
          "text": "Nombres más populares - Masculinos",
          "x": 0.5,
          "xanchor": "center",
          "xref": "paper",
          "y": 1,
          "yanchor": "bottom",
          "yref": "paper"
         },
         {
          "font": {
           "size": 16
          },
          "showarrow": false,
          "text": "Nombres más populares - Femeninos",
          "x": 0.5,
          "xanchor": "center",
          "xref": "paper",
          "y": 0.44,
          "yanchor": "bottom",
          "yref": "paper"
         }
        ],
        "height": 800,
        "showlegend": true,
        "template": {
         "data": {
          "bar": [
           {
            "error_x": {
             "color": "#2a3f5f"
            },
            "error_y": {
             "color": "#2a3f5f"
            },
            "marker": {
             "line": {
              "color": "#E5ECF6",
              "width": 0.5
             },
             "pattern": {
              "fillmode": "overlay",
              "size": 10,
              "solidity": 0.2
             }
            },
            "type": "bar"
           }
          ],
          "barpolar": [
           {
            "marker": {
             "line": {
              "color": "#E5ECF6",
              "width": 0.5
             },
             "pattern": {
              "fillmode": "overlay",
              "size": 10,
              "solidity": 0.2
             }
            },
            "type": "barpolar"
           }
          ],
          "carpet": [
           {
            "aaxis": {
             "endlinecolor": "#2a3f5f",
             "gridcolor": "white",
             "linecolor": "white",
             "minorgridcolor": "white",
             "startlinecolor": "#2a3f5f"
            },
            "baxis": {
             "endlinecolor": "#2a3f5f",
             "gridcolor": "white",
             "linecolor": "white",
             "minorgridcolor": "white",
             "startlinecolor": "#2a3f5f"
            },
            "type": "carpet"
           }
          ],
          "choropleth": [
           {
            "colorbar": {
             "outlinewidth": 0,
             "ticks": ""
            },
            "type": "choropleth"
           }
          ],
          "contour": [
           {
            "colorbar": {
             "outlinewidth": 0,
             "ticks": ""
            },
            "colorscale": [
             [
              0,
              "#0d0887"
             ],
             [
              0.1111111111111111,
              "#46039f"
             ],
             [
              0.2222222222222222,
              "#7201a8"
             ],
             [
              0.3333333333333333,
              "#9c179e"
             ],
             [
              0.4444444444444444,
              "#bd3786"
             ],
             [
              0.5555555555555556,
              "#d8576b"
             ],
             [
              0.6666666666666666,
              "#ed7953"
             ],
             [
              0.7777777777777778,
              "#fb9f3a"
             ],
             [
              0.8888888888888888,
              "#fdca26"
             ],
             [
              1,
              "#f0f921"
             ]
            ],
            "type": "contour"
           }
          ],
          "contourcarpet": [
           {
            "colorbar": {
             "outlinewidth": 0,
             "ticks": ""
            },
            "type": "contourcarpet"
           }
          ],
          "heatmap": [
           {
            "colorbar": {
             "outlinewidth": 0,
             "ticks": ""
            },
            "colorscale": [
             [
              0,
              "#0d0887"
             ],
             [
              0.1111111111111111,
              "#46039f"
             ],
             [
              0.2222222222222222,
              "#7201a8"
             ],
             [
              0.3333333333333333,
              "#9c179e"
             ],
             [
              0.4444444444444444,
              "#bd3786"
             ],
             [
              0.5555555555555556,
              "#d8576b"
             ],
             [
              0.6666666666666666,
              "#ed7953"
             ],
             [
              0.7777777777777778,
              "#fb9f3a"
             ],
             [
              0.8888888888888888,
              "#fdca26"
             ],
             [
              1,
              "#f0f921"
             ]
            ],
            "type": "heatmap"
           }
          ],
          "histogram": [
           {
            "marker": {
             "pattern": {
              "fillmode": "overlay",
              "size": 10,
              "solidity": 0.2
             }
            },
            "type": "histogram"
           }
          ],
          "histogram2d": [
           {
            "colorbar": {
             "outlinewidth": 0,
             "ticks": ""
            },
            "colorscale": [
             [
              0,
              "#0d0887"
             ],
             [
              0.1111111111111111,
              "#46039f"
             ],
             [
              0.2222222222222222,
              "#7201a8"
             ],
             [
              0.3333333333333333,
              "#9c179e"
             ],
             [
              0.4444444444444444,
              "#bd3786"
             ],
             [
              0.5555555555555556,
              "#d8576b"
             ],
             [
              0.6666666666666666,
              "#ed7953"
             ],
             [
              0.7777777777777778,
              "#fb9f3a"
             ],
             [
              0.8888888888888888,
              "#fdca26"
             ],
             [
              1,
              "#f0f921"
             ]
            ],
            "type": "histogram2d"
           }
          ],
          "histogram2dcontour": [
           {
            "colorbar": {
             "outlinewidth": 0,
             "ticks": ""
            },
            "colorscale": [
             [
              0,
              "#0d0887"
             ],
             [
              0.1111111111111111,
              "#46039f"
             ],
             [
              0.2222222222222222,
              "#7201a8"
             ],
             [
              0.3333333333333333,
              "#9c179e"
             ],
             [
              0.4444444444444444,
              "#bd3786"
             ],
             [
              0.5555555555555556,
              "#d8576b"
             ],
             [
              0.6666666666666666,
              "#ed7953"
             ],
             [
              0.7777777777777778,
              "#fb9f3a"
             ],
             [
              0.8888888888888888,
              "#fdca26"
             ],
             [
              1,
              "#f0f921"
             ]
            ],
            "type": "histogram2dcontour"
           }
          ],
          "mesh3d": [
           {
            "colorbar": {
             "outlinewidth": 0,
             "ticks": ""
            },
            "type": "mesh3d"
           }
          ],
          "parcoords": [
           {
            "line": {
             "colorbar": {
              "outlinewidth": 0,
              "ticks": ""
             }
            },
            "type": "parcoords"
           }
          ],
          "pie": [
           {
            "automargin": true,
            "type": "pie"
           }
          ],
          "scatter": [
           {
            "fillpattern": {
             "fillmode": "overlay",
             "size": 10,
             "solidity": 0.2
            },
            "type": "scatter"
           }
          ],
          "scatter3d": [
           {
            "line": {
             "colorbar": {
              "outlinewidth": 0,
              "ticks": ""
             }
            },
            "marker": {
             "colorbar": {
              "outlinewidth": 0,
              "ticks": ""
             }
            },
            "type": "scatter3d"
           }
          ],
          "scattercarpet": [
           {
            "marker": {
             "colorbar": {
              "outlinewidth": 0,
              "ticks": ""
             }
            },
            "type": "scattercarpet"
           }
          ],
          "scattergeo": [
           {
            "marker": {
             "colorbar": {
              "outlinewidth": 0,
              "ticks": ""
             }
            },
            "type": "scattergeo"
           }
          ],
          "scattergl": [
           {
            "marker": {
             "colorbar": {
              "outlinewidth": 0,
              "ticks": ""
             }
            },
            "type": "scattergl"
           }
          ],
          "scattermap": [
           {
            "marker": {
             "colorbar": {
              "outlinewidth": 0,
              "ticks": ""
             }
            },
            "type": "scattermap"
           }
          ],
          "scattermapbox": [
           {
            "marker": {
             "colorbar": {
              "outlinewidth": 0,
              "ticks": ""
             }
            },
            "type": "scattermapbox"
           }
          ],
          "scatterpolar": [
           {
            "marker": {
             "colorbar": {
              "outlinewidth": 0,
              "ticks": ""
             }
            },
            "type": "scatterpolar"
           }
          ],
          "scatterpolargl": [
           {
            "marker": {
             "colorbar": {
              "outlinewidth": 0,
              "ticks": ""
             }
            },
            "type": "scatterpolargl"
           }
          ],
          "scatterternary": [
           {
            "marker": {
             "colorbar": {
              "outlinewidth": 0,
              "ticks": ""
             }
            },
            "type": "scatterternary"
           }
          ],
          "surface": [
           {
            "colorbar": {
             "outlinewidth": 0,
             "ticks": ""
            },
            "colorscale": [
             [
              0,
              "#0d0887"
             ],
             [
              0.1111111111111111,
              "#46039f"
             ],
             [
              0.2222222222222222,
              "#7201a8"
             ],
             [
              0.3333333333333333,
              "#9c179e"
             ],
             [
              0.4444444444444444,
              "#bd3786"
             ],
             [
              0.5555555555555556,
              "#d8576b"
             ],
             [
              0.6666666666666666,
              "#ed7953"
             ],
             [
              0.7777777777777778,
              "#fb9f3a"
             ],
             [
              0.8888888888888888,
              "#fdca26"
             ],
             [
              1,
              "#f0f921"
             ]
            ],
            "type": "surface"
           }
          ],
          "table": [
           {
            "cells": {
             "fill": {
              "color": "#EBF0F8"
             },
             "line": {
              "color": "white"
             }
            },
            "header": {
             "fill": {
              "color": "#C8D4E3"
             },
             "line": {
              "color": "white"
             }
            },
            "type": "table"
           }
          ]
         },
         "layout": {
          "annotationdefaults": {
           "arrowcolor": "#2a3f5f",
           "arrowhead": 0,
           "arrowwidth": 1
          },
          "autotypenumbers": "strict",
          "coloraxis": {
           "colorbar": {
            "outlinewidth": 0,
            "ticks": ""
           }
          },
          "colorscale": {
           "diverging": [
            [
             0,
             "#8e0152"
            ],
            [
             0.1,
             "#c51b7d"
            ],
            [
             0.2,
             "#de77ae"
            ],
            [
             0.3,
             "#f1b6da"
            ],
            [
             0.4,
             "#fde0ef"
            ],
            [
             0.5,
             "#f7f7f7"
            ],
            [
             0.6,
             "#e6f5d0"
            ],
            [
             0.7,
             "#b8e186"
            ],
            [
             0.8,
             "#7fbc41"
            ],
            [
             0.9,
             "#4d9221"
            ],
            [
             1,
             "#276419"
            ]
           ],
           "sequential": [
            [
             0,
             "#0d0887"
            ],
            [
             0.1111111111111111,
             "#46039f"
            ],
            [
             0.2222222222222222,
             "#7201a8"
            ],
            [
             0.3333333333333333,
             "#9c179e"
            ],
            [
             0.4444444444444444,
             "#bd3786"
            ],
            [
             0.5555555555555556,
             "#d8576b"
            ],
            [
             0.6666666666666666,
             "#ed7953"
            ],
            [
             0.7777777777777778,
             "#fb9f3a"
            ],
            [
             0.8888888888888888,
             "#fdca26"
            ],
            [
             1,
             "#f0f921"
            ]
           ],
           "sequentialminus": [
            [
             0,
             "#0d0887"
            ],
            [
             0.1111111111111111,
             "#46039f"
            ],
            [
             0.2222222222222222,
             "#7201a8"
            ],
            [
             0.3333333333333333,
             "#9c179e"
            ],
            [
             0.4444444444444444,
             "#bd3786"
            ],
            [
             0.5555555555555556,
             "#d8576b"
            ],
            [
             0.6666666666666666,
             "#ed7953"
            ],
            [
             0.7777777777777778,
             "#fb9f3a"
            ],
            [
             0.8888888888888888,
             "#fdca26"
            ],
            [
             1,
             "#f0f921"
            ]
           ]
          },
          "colorway": [
           "#636efa",
           "#EF553B",
           "#00cc96",
           "#ab63fa",
           "#FFA15A",
           "#19d3f3",
           "#FF6692",
           "#B6E880",
           "#FF97FF",
           "#FECB52"
          ],
          "font": {
           "color": "#2a3f5f"
          },
          "geo": {
           "bgcolor": "white",
           "lakecolor": "white",
           "landcolor": "#E5ECF6",
           "showlakes": true,
           "showland": true,
           "subunitcolor": "white"
          },
          "hoverlabel": {
           "align": "left"
          },
          "hovermode": "closest",
          "mapbox": {
           "style": "light"
          },
          "paper_bgcolor": "white",
          "plot_bgcolor": "#E5ECF6",
          "polar": {
           "angularaxis": {
            "gridcolor": "white",
            "linecolor": "white",
            "ticks": ""
           },
           "bgcolor": "#E5ECF6",
           "radialaxis": {
            "gridcolor": "white",
            "linecolor": "white",
            "ticks": ""
           }
          },
          "scene": {
           "xaxis": {
            "backgroundcolor": "#E5ECF6",
            "gridcolor": "white",
            "gridwidth": 2,
            "linecolor": "white",
            "showbackground": true,
            "ticks": "",
            "zerolinecolor": "white"
           },
           "yaxis": {
            "backgroundcolor": "#E5ECF6",
            "gridcolor": "white",
            "gridwidth": 2,
            "linecolor": "white",
            "showbackground": true,
            "ticks": "",
            "zerolinecolor": "white"
           },
           "zaxis": {
            "backgroundcolor": "#E5ECF6",
            "gridcolor": "white",
            "gridwidth": 2,
            "linecolor": "white",
            "showbackground": true,
            "ticks": "",
            "zerolinecolor": "white"
           }
          },
          "shapedefaults": {
           "line": {
            "color": "#2a3f5f"
           }
          },
          "ternary": {
           "aaxis": {
            "gridcolor": "white",
            "linecolor": "white",
            "ticks": ""
           },
           "baxis": {
            "gridcolor": "white",
            "linecolor": "white",
            "ticks": ""
           },
           "bgcolor": "#E5ECF6",
           "caxis": {
            "gridcolor": "white",
            "linecolor": "white",
            "ticks": ""
           }
          },
          "title": {
           "x": 0.05
          },
          "xaxis": {
           "automargin": true,
           "gridcolor": "white",
           "linecolor": "white",
           "ticks": "",
           "title": {
            "standoff": 15
           },
           "zerolinecolor": "white",
           "zerolinewidth": 2
          },
          "yaxis": {
           "automargin": true,
           "gridcolor": "white",
           "linecolor": "white",
           "ticks": "",
           "title": {
            "standoff": 15
           },
           "zerolinecolor": "white",
           "zerolinewidth": 2
          }
         }
        },
        "title": {
         "text": "Tendencias de Nombres Populares por Década (1910-2013)"
        },
        "width": 1000,
        "xaxis": {
         "anchor": "y",
         "domain": [
          0,
          1
         ]
        },
        "xaxis2": {
         "anchor": "y2",
         "domain": [
          0,
          1
         ],
         "title": {
          "text": "Década"
         }
        },
        "yaxis": {
         "anchor": "x",
         "domain": [
          0.56,
          1
         ],
         "title": {
          "text": "Número total"
         }
        },
        "yaxis2": {
         "anchor": "x2",
         "domain": [
          0,
          0.44
         ],
         "title": {
          "text": "Número total"
         }
        }
       }
      }
     },
     "metadata": {},
     "output_type": "display_data"
    },
    {
     "name": "stdout",
     "output_type": "stream",
     "text": [
      "\n",
      "📊 Resumen de nombres más populares por década:\n"
     ]
    },
    {
     "data": {
      "text/html": [
       "<div>\n",
       "<style scoped>\n",
       "    .dataframe tbody tr th:only-of-type {\n",
       "        vertical-align: middle;\n",
       "    }\n",
       "\n",
       "    .dataframe tbody tr th {\n",
       "        vertical-align: top;\n",
       "    }\n",
       "\n",
       "    .dataframe thead th {\n",
       "        text-align: right;\n",
       "    }\n",
       "</style>\n",
       "<table border=\"1\" class=\"dataframe\">\n",
       "  <thead>\n",
       "    <tr style=\"text-align: right;\">\n",
       "      <th></th>\n",
       "      <th></th>\n",
       "      <th>rank</th>\n",
       "      <th>1</th>\n",
       "      <th>2</th>\n",
       "      <th>3</th>\n",
       "      <th>4</th>\n",
       "      <th>5</th>\n",
       "    </tr>\n",
       "    <tr>\n",
       "      <th>decade</th>\n",
       "      <th>gender</th>\n",
       "      <th>name</th>\n",
       "      <th></th>\n",
       "      <th></th>\n",
       "      <th></th>\n",
       "      <th></th>\n",
       "      <th></th>\n",
       "    </tr>\n",
       "  </thead>\n",
       "  <tbody>\n",
       "    <tr>\n",
       "      <th rowspan=\"5\" valign=\"top\">1910</th>\n",
       "      <th rowspan=\"5\" valign=\"top\">F</th>\n",
       "      <th>Dorothy</th>\n",
       "      <td>&lt;NA&gt;</td>\n",
       "      <td>&lt;NA&gt;</td>\n",
       "      <td>207465</td>\n",
       "      <td>&lt;NA&gt;</td>\n",
       "      <td>&lt;NA&gt;</td>\n",
       "    </tr>\n",
       "    <tr>\n",
       "      <th>Helen</th>\n",
       "      <td>&lt;NA&gt;</td>\n",
       "      <td>248150</td>\n",
       "      <td>&lt;NA&gt;</td>\n",
       "      <td>&lt;NA&gt;</td>\n",
       "      <td>&lt;NA&gt;</td>\n",
       "    </tr>\n",
       "    <tr>\n",
       "      <th>Margaret</th>\n",
       "      <td>&lt;NA&gt;</td>\n",
       "      <td>&lt;NA&gt;</td>\n",
       "      <td>&lt;NA&gt;</td>\n",
       "      <td>189228</td>\n",
       "      <td>&lt;NA&gt;</td>\n",
       "    </tr>\n",
       "    <tr>\n",
       "      <th>Mary</th>\n",
       "      <td>478634</td>\n",
       "      <td>&lt;NA&gt;</td>\n",
       "      <td>&lt;NA&gt;</td>\n",
       "      <td>&lt;NA&gt;</td>\n",
       "      <td>&lt;NA&gt;</td>\n",
       "    </tr>\n",
       "    <tr>\n",
       "      <th>Ruth</th>\n",
       "      <td>&lt;NA&gt;</td>\n",
       "      <td>&lt;NA&gt;</td>\n",
       "      <td>&lt;NA&gt;</td>\n",
       "      <td>&lt;NA&gt;</td>\n",
       "      <td>173654</td>\n",
       "    </tr>\n",
       "    <tr>\n",
       "      <th>...</th>\n",
       "      <th>...</th>\n",
       "      <th>...</th>\n",
       "      <td>...</td>\n",
       "      <td>...</td>\n",
       "      <td>...</td>\n",
       "      <td>...</td>\n",
       "      <td>...</td>\n",
       "    </tr>\n",
       "    <tr>\n",
       "      <th rowspan=\"5\" valign=\"top\">2010</th>\n",
       "      <th rowspan=\"5\" valign=\"top\">M</th>\n",
       "      <th>Ethan</th>\n",
       "      <td>&lt;NA&gt;</td>\n",
       "      <td>&lt;NA&gt;</td>\n",
       "      <td>&lt;NA&gt;</td>\n",
       "      <td>68389</td>\n",
       "      <td>&lt;NA&gt;</td>\n",
       "    </tr>\n",
       "    <tr>\n",
       "      <th>Jacob</th>\n",
       "      <td>79359</td>\n",
       "      <td>&lt;NA&gt;</td>\n",
       "      <td>&lt;NA&gt;</td>\n",
       "      <td>&lt;NA&gt;</td>\n",
       "      <td>&lt;NA&gt;</td>\n",
       "    </tr>\n",
       "    <tr>\n",
       "      <th>Mason</th>\n",
       "      <td>&lt;NA&gt;</td>\n",
       "      <td>70808</td>\n",
       "      <td>&lt;NA&gt;</td>\n",
       "      <td>&lt;NA&gt;</td>\n",
       "      <td>&lt;NA&gt;</td>\n",
       "    </tr>\n",
       "    <tr>\n",
       "      <th>Noah</th>\n",
       "      <td>&lt;NA&gt;</td>\n",
       "      <td>&lt;NA&gt;</td>\n",
       "      <td>68605</td>\n",
       "      <td>&lt;NA&gt;</td>\n",
       "      <td>&lt;NA&gt;</td>\n",
       "    </tr>\n",
       "    <tr>\n",
       "      <th>William</th>\n",
       "      <td>&lt;NA&gt;</td>\n",
       "      <td>&lt;NA&gt;</td>\n",
       "      <td>&lt;NA&gt;</td>\n",
       "      <td>&lt;NA&gt;</td>\n",
       "      <td>67635</td>\n",
       "    </tr>\n",
       "  </tbody>\n",
       "</table>\n",
       "<p>110 rows × 5 columns</p>\n",
       "</div>"
      ],
      "text/plain": [
       "rank                         1       2       3       4       5\n",
       "decade gender name                                            \n",
       "1910   F      Dorothy     <NA>    <NA>  207465    <NA>    <NA>\n",
       "              Helen       <NA>  248150    <NA>    <NA>    <NA>\n",
       "              Margaret    <NA>    <NA>    <NA>  189228    <NA>\n",
       "              Mary      478634    <NA>    <NA>    <NA>    <NA>\n",
       "              Ruth        <NA>    <NA>    <NA>    <NA>  173654\n",
       "...                        ...     ...     ...     ...     ...\n",
       "2010   M      Ethan       <NA>    <NA>    <NA>   68389    <NA>\n",
       "              Jacob      79359    <NA>    <NA>    <NA>    <NA>\n",
       "              Mason       <NA>   70808    <NA>    <NA>    <NA>\n",
       "              Noah        <NA>    <NA>   68605    <NA>    <NA>\n",
       "              William     <NA>    <NA>    <NA>    <NA>   67635\n",
       "\n",
       "[110 rows x 5 columns]"
      ]
     },
     "metadata": {},
     "output_type": "display_data"
    }
   ],
   "source": [
    "# Análisis de cambios abruptos en popularidad\n",
    "trend_changes_query = \"\"\"\n",
    "WITH YearlyRanks AS (\n",
    "    SELECT\n",
    "        year,\n",
    "        name,\n",
    "        gender,\n",
    "        SUM(number) as total_count,\n",
    "        RANK() OVER(PARTITION BY year, gender ORDER BY SUM(number) DESC) as year_rank\n",
    "    FROM `bigquery-public-data.usa_names.usa_1910_2013`\n",
    "    GROUP BY year, name, gender\n",
    "),\n",
    "RankChanges AS (\n",
    "    SELECT\n",
    "        t1.year,\n",
    "        t1.name,\n",
    "        t1.gender,\n",
    "        t1.total_count,\n",
    "        t1.year_rank as current_rank,\n",
    "        LAG(t1.year_rank) OVER(PARTITION BY t1.name, t1.gender ORDER BY t1.year) as prev_rank,\n",
    "        t1.year_rank - LAG(t1.year_rank) OVER(PARTITION BY t1.name, t1.gender ORDER BY t1.year) as rank_change\n",
    "    FROM YearlyRanks t1\n",
    "    WHERE t1.year_rank <= 100  -- Considerar solo nombres relativamente populares\n",
    ")\n",
    "SELECT\n",
    "    year,\n",
    "    name,\n",
    "    gender,\n",
    "    total_count,\n",
    "    current_rank,\n",
    "    prev_rank,\n",
    "    rank_change\n",
    "FROM RankChanges\n",
    "WHERE ABS(rank_change) >= 20  -- Cambios significativos en popularidad\n",
    "AND year >= 1950  -- Enfocarse en historia más reciente\n",
    "ORDER BY ABS(rank_change) DESC, year\n",
    "LIMIT 50\n",
    "\"\"\"\n",
    "\n",
    "print(\"📈 Cambios significativos en popularidad de nombres:\")\n",
    "changes_df = client.query(trend_changes_query).to_dataframe()\n",
    "\n",
    "# Visualizar los cambios más dramáticos\n",
    "fig = px.scatter(changes_df,\n",
    "                x='year',\n",
    "                y='rank_change',\n",
    "                size='total_count',\n",
    "                color='gender',\n",
    "                hover_data=['name', 'current_rank', 'prev_rank'],\n",
    "                title='Cambios Dramáticos en Popularidad de Nombres (1950-2013)')\n",
    "\n",
    "fig.update_layout(\n",
    "    height=600,\n",
    "    width=1000,\n",
    "    xaxis_title=\"Año\",\n",
    "    yaxis_title=\"Cambio en Ranking (negativo = aumento en popularidad)\",\n",
    "    showlegend=True\n",
    ")\n",
    "\n",
    "# Añadir líneas de referencia\n",
    "fig.add_hline(y=0, line_dash=\"dash\", line_color=\"gray\")\n",
    "\n",
    "fig.show()\n",
    "\n",
    "# Mostrar tabla de cambios más significativos\n",
    "print(\"\\nCambios más significativos en popularidad:\")\n",
    "display(changes_df.head(10))\n",
    "\n",
    "# Consulta para obtener tendencias de nombres por década\n",
    "query_tendencias = \"\"\"\n",
    "WITH DecadeData AS (\n",
    "    SELECT\n",
    "        -- Convertimos explícitamente a INT64 para la década\n",
    "        CAST(FLOOR(year/10) * 10 AS INT64) as decade,\n",
    "        name,\n",
    "        gender,\n",
    "        -- Aseguramos que el conteo total sea INT64\n",
    "        CAST(SUM(number) AS INT64) as total_count\n",
    "    FROM `bigquery-public-data.usa_names.usa_1910_2013`\n",
    "    GROUP BY \n",
    "        CAST(FLOOR(year/10) * 10 AS INT64),\n",
    "        name, \n",
    "        gender\n",
    "    HAVING CAST(SUM(number) AS INT64) > 10000\n",
    "),\n",
    "RankedNames AS (\n",
    "    SELECT\n",
    "        decade,\n",
    "        name,\n",
    "        gender,\n",
    "        total_count,\n",
    "        RANK() OVER(\n",
    "            PARTITION BY decade, gender \n",
    "            ORDER BY total_count DESC\n",
    "        ) as rank\n",
    "    FROM DecadeData\n",
    ")\n",
    "SELECT *\n",
    "FROM RankedNames\n",
    "WHERE rank <= 5\n",
    "ORDER BY decade, gender, rank\n",
    "\"\"\"\n",
    "\n",
    "try:\n",
    "    print(\"📊 Ejecutando análisis de tendencias...\")\n",
    "    df_nombres = client.query(query_tendencias).to_dataframe()\n",
    "    print(f\"✅ Datos obtenidos: {len(df_nombres)} registros\")\n",
    "    \n",
    "    # Crear visualización\n",
    "    fig = make_subplots(\n",
    "        rows=2, cols=1,\n",
    "        subplot_titles=('Nombres más populares - Masculinos',\n",
    "                       'Nombres más populares - Femeninos'),\n",
    "        vertical_spacing=0.12\n",
    "    )\n",
    "    \n",
    "    # Gráfico para nombres masculinos\n",
    "    df_m = df_nombres[df_nombres['gender'] == 'M']\n",
    "    for name in df_m['name'].unique():\n",
    "        data_name = df_m[df_m['name'] == name]\n",
    "        fig.add_trace(\n",
    "            go.Scatter(x=data_name['decade'], \n",
    "                      y=data_name['total_count'],\n",
    "                      name=name, \n",
    "                      mode='lines+markers'),\n",
    "            row=1, col=1\n",
    "        )\n",
    "    \n",
    "    # Gráfico para nombres femeninos\n",
    "    df_f = df_nombres[df_nombres['gender'] == 'F']\n",
    "    for name in df_f['name'].unique():\n",
    "        data_name = df_f[df_f['name'] == name]\n",
    "        fig.add_trace(\n",
    "            go.Scatter(x=data_name['decade'], \n",
    "                      y=data_name['total_count'],\n",
    "                      name=name, \n",
    "                      mode='lines+markers'),\n",
    "            row=2, col=1\n",
    "        )\n",
    "    \n",
    "    # Actualizar diseño\n",
    "    fig.update_layout(\n",
    "        height=800,\n",
    "        width=1000,\n",
    "        title_text=\"Tendencias de Nombres Populares por Década (1910-2013)\",\n",
    "        showlegend=True\n",
    "    )\n",
    "    fig.update_xaxes(title_text=\"Década\", row=2, col=1)\n",
    "    fig.update_yaxes(title_text=\"Número total\", row=1, col=1)\n",
    "    fig.update_yaxes(title_text=\"Número total\", row=2, col=1)\n",
    "    \n",
    "    fig.show()\n",
    "    \n",
    "    # Mostrar tabla resumen\n",
    "    print(\"\\n📊 Resumen de nombres más populares por década:\")\n",
    "    resumen = df_nombres.pivot_table(\n",
    "        values='total_count',\n",
    "        index=['decade', 'gender', 'name'],\n",
    "        columns='rank',\n",
    "        aggfunc='first'\n",
    "    ).round(0)\n",
    "    \n",
    "    # Formatear el resumen para mejor visualización\n",
    "    resumen = resumen.sort_index(level=[0,1,2])\n",
    "    display(resumen)\n",
    "    \n",
    "except Exception as e:\n",
    "    print(f\"❌ Error en el análisis: {str(e)}\")\n",
    "    print(\"\\n🔍 Detalles para depuración:\")\n",
    "    print(\"1. Verificar que los tipos de datos son correctos\")\n",
    "    print(\"2. Comprobar que las conversiones de tipos son válidas\")\n",
    "    print(\"3. Revisar la sintaxis de la consulta SQL\")"
   ]
  },
  {
   "cell_type": "markdown",
   "id": "fd12c092",
   "metadata": {},
   "source": [
    "## Exportación de Visualizaciones\n",
    "\n",
    "Para asegurar que las visualizaciones sean visibles en GitHub, exportaremos los gráficos en formatos estáticos."
   ]
  },
  {
   "cell_type": "markdown",
   "id": "cd6f9a06",
   "metadata": {},
   "source": [
    "### Nota sobre Visualizaciones\n",
    "\n",
    "Las visualizaciones interactivas se han exportado en dos formatos:\n",
    "1. **PNG**: Imágenes estáticas para visualización directa en GitHub\n",
    "2. **HTML**: Versiones interactivas que se pueden abrir en un navegador\n",
    "\n",
    "Los archivos se encuentran en la carpeta `notebooks/visualizaciones/`."
   ]
  },
  {
   "cell_type": "markdown",
   "id": "e6b0fbf6",
   "metadata": {},
   "source": [
    "## Visualizaciones de Tendencias de Nombres\n",
    "\n",
    "### Visualización Interactiva\n",
    "La versión interactiva de las visualizaciones está disponible en:\n",
    "- [Ver visualización interactiva](visualizaciones/tendencias_nombres.html)\n",
    "\n",
    "Para una mejor experiencia, puedes:\n",
    "1. Abrir el archivo HTML en tu navegador local\n",
    "2. Usar las herramientas de zoom y pan\n",
    "3. Mostrar/ocultar nombres específicos haciendo clic en la leyenda\n",
    "\n",
    "### Resumen de Visualizaciones\n",
    "\n",
    "#### Nombres Masculinos más Populares por Década\n",
    "- Muestra la evolución de los 5 nombres masculinos más populares\n",
    "- Permite ver tendencias temporales y cambios en la popularidad\n",
    "- Incluye el número total de nacimientos por década\n",
    "\n",
    "#### Nombres Femeninos más Populares por Década\n",
    "- Muestra la evolución de los 5 nombres femeninos más populares\n",
    "- Permite comparar tendencias entre diferentes nombres\n",
    "- Visualiza patrones de cambio generacional\n",
    "\n",
    "### Notas sobre la Interpretación\n",
    "1. El eje Y muestra el número total de nacimientos\n",
    "2. El eje X representa las décadas desde 1910 hasta 2013\n",
    "3. Cada línea representa la evolución de un nombre específico\n",
    "4. Los puntos permiten ver valores exactos al pasar el mouse sobre ellos\n",
    "5. La leyenda permite filtrar nombres específicos\n",
    "\n",
    "Para explorar los datos en detalle, se recomienda usar la versión interactiva HTML."
   ]
  },
  {
   "cell_type": "code",
   "execution_count": 14,
   "id": "d63890bb",
   "metadata": {},
   "outputs": [
    {
     "name": "stdout",
     "output_type": "stream",
     "text": [
      "📊 Archivos de visualización disponibles:\n",
      "✅ HTML: visualizaciones\\tendencias_nombres.html (10.5 KB)\n",
      "❌ PNG: No encontrado\n"
     ]
    }
   ],
   "source": [
    "# Verificar archivos de visualización\n",
    "from pathlib import Path\n",
    "import os\n",
    "\n",
    "viz_dir = Path('visualizaciones')\n",
    "archivos_viz = {\n",
    "    'html': viz_dir / 'tendencias_nombres.html',\n",
    "    'png': viz_dir / 'tendencias_nombres.png'\n",
    "}\n",
    "\n",
    "print(\"📊 Archivos de visualización disponibles:\")\n",
    "for fmt, ruta in archivos_viz.items():\n",
    "    if ruta.exists():\n",
    "        tamaño = ruta.stat().st_size / 1024  # KB\n",
    "        print(f\"✅ {fmt.upper()}: {ruta} ({tamaño:.1f} KB)\")\n",
    "    else:\n",
    "        print(f\"❌ {fmt.upper()}: No encontrado\")"
   ]
  },
  {
   "cell_type": "markdown",
   "id": "315ba235",
   "metadata": {},
   "source": [
    "## Exportar Datos para Visualizaciones\n",
    "\n",
    "Para generar las visualizaciones estáticas, guardamos los datos procesados."
   ]
  },
  {
   "cell_type": "markdown",
   "id": "d377eadd",
   "metadata": {},
   "source": [
    "## Integración con el Portafolio Streamlit\n",
    "\n",
    "Este análisis ha sido integrado como una aplicación interactiva en el portafolio principal. Para ejecutarla:\n",
    "\n",
    "1. Activa el entorno virtual:\n",
    "   ```bash\n",
    "   cd e:\\repos\\ds_portfolio\n",
    "   .\\ds_portfolio_env\\Scripts\\activate\n",
    "   ```\n",
    "\n",
    "2. Inicia la aplicación:\n",
    "   ```bash\n",
    "   streamlit run app/main.py\n",
    "   ```\n",
    "\n",
    "3. En el menú lateral, selecciona \"👤 Análisis Demográfico\"\n",
    "\n",
    "La aplicación cargará los datos precalculados y mostrará las visualizaciones interactivas, permitiendo explorar las tendencias de nombres a lo largo del tiempo."
   ]
  },
  {
   "cell_type": "code",
   "execution_count": 15,
   "id": "38ac7e2c",
   "metadata": {},
   "outputs": [
    {
     "name": "stdout",
     "output_type": "stream",
     "text": [
      "✅ Datos guardados en: notebooks/data\\nombres_demografia.pkl\n",
      "✅ Datos guardados en: notebooks/data\\nombres_demografia.csv\n"
     ]
    }
   ],
   "source": [
    "# Exportar datos para visualizaciones\n",
    "import os\n",
    "\n",
    "# Crear directorio si no existe\n",
    "data_dir = 'notebooks/data'\n",
    "os.makedirs(data_dir, exist_ok=True)\n",
    "\n",
    "# Guardar datos en múltiples formatos\n",
    "try:\n",
    "    # 1. Formato pickle (preserva tipos de datos)\n",
    "    pkl_path = os.path.join(data_dir, 'nombres_demografia.pkl')\n",
    "    df_nombres.to_pickle(pkl_path)\n",
    "    print(f\"✅ Datos guardados en: {pkl_path}\")\n",
    "    \n",
    "    # 2. Formato CSV (más portable)\n",
    "    csv_path = os.path.join(data_dir, 'nombres_demografia.csv')\n",
    "    df_nombres.to_csv(csv_path, index=False)\n",
    "    print(f\"✅ Datos guardados en: {csv_path}\")\n",
    "    \n",
    "except Exception as e:\n",
    "    print(f\"❌ Error al exportar datos: {str(e)}\")\n",
    "    print(\"\\nVerifique:\")\n",
    "    print(\"1. Permisos de escritura en el directorio\")\n",
    "    print(\"2. Espacio disponible en disco\")\n",
    "    print(\"3. Que el DataFrame exista y tenga datos\")"
   ]
  }
 ],
 "metadata": {
  "kernelspec": {
   "display_name": "ds_portfolio_env",
   "language": "python",
   "name": "python3"
  },
  "language_info": {
   "codemirror_mode": {
    "name": "ipython",
    "version": 3
   },
   "file_extension": ".py",
   "mimetype": "text/x-python",
   "name": "python",
   "nbconvert_exporter": "python",
   "pygments_lexer": "ipython3",
   "version": "3.11.9"
  }
 },
 "nbformat": 4,
 "nbformat_minor": 5
}
