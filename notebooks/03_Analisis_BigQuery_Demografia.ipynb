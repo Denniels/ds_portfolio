{
 "cells": [
  {
   "cell_type": "markdown",
   "id": "8f471380",
   "metadata": {},
   "source": [
    "# Análisis Demográfico usando BigQuery Public Datasets\n",
    "\n",
    "Este notebook realiza un análisis demográfico utilizando datos históricos de nombres en Estados Unidos (1910-2013) disponibles en BigQuery. El análisis explorará:\n",
    "\n",
    "1. **Exploración y Preparación de Datos**\n",
    "   - Estructura y tipos de datos\n",
    "   - Distribución temporal de registros\n",
    "   - Cobertura geográfica\n",
    "\n",
    "2. **Análisis de Tendencias**\n",
    "   - Evolución de nombres populares\n",
    "   - Patrones por género\n",
    "   - Cambios generacionales\n",
    "\n",
    "3. **Visualizaciones Interactivas**\n",
    "   - Tendencias temporales\n",
    "   - Comparativas por género\n",
    "   - Distribuciones geográficas\n",
    "\n",
    "## Requisitos Previos\n",
    "\n",
    "### 1. Configuración de Google Cloud Platform (GCP)\n",
    "\n",
    "1. Crear una cuenta en GCP:\n",
    "   - Visitar [Google Cloud Console](https://console.cloud.google.com)\n",
    "   - Crear una cuenta nueva o iniciar sesión\n",
    "   - Activar el período de prueba gratuito si es la primera vez\n",
    "\n",
    "2. Crear un proyecto nuevo:\n",
    "   - En la consola de GCP, ir a \"Seleccionar proyecto\"\n",
    "   - Hacer clic en \"Nuevo proyecto\"\n",
    "   - Nombrar el proyecto (ej: \"analisis-demografia\")\n",
    "   - Hacer clic en \"Crear\"\n",
    "\n",
    "3. Habilitar la API de BigQuery:\n",
    "   - En el menú, ir a \"APIs y Servicios\" > \"Biblioteca\"\n",
    "   - Buscar \"BigQuery API\"\n",
    "   - Hacer clic en \"Habilitar\"\n",
    "\n",
    "4. Configurar credenciales:\n",
    "   - Ir a \"APIs y Servicios\" > \"Credenciales\"\n",
    "   - Hacer clic en \"Crear credenciales\" > \"Cuenta de servicio\"\n",
    "   - Nombrar la cuenta de servicio\n",
    "   - Otorgar el rol \"BigQuery User\"\n",
    "   - Crear una clave JSON\n",
    "   - Descargar el archivo JSON de credenciales\n",
    "\n",
    "5. Configurar autenticación local:\n",
    "   ```bash\n",
    "   # Establecer la variable de entorno GOOGLE_APPLICATION_CREDENTIALS\n",
    "   # En Windows (PowerShell):\n",
    "   $env:GOOGLE_APPLICATION_CREDENTIALS=\"ruta/a/tu/archivo-credenciales.json\"\n",
    "   \n",
    "   # En Windows (CMD):\n",
    "   set GOOGLE_APPLICATION_CREDENTIALS=ruta/a/tu/archivo-credenciales.json\n",
    "   \n",
    "   # En Linux/MacOS:\n",
    "   export GOOGLE_APPLICATION_CREDENTIALS=\"ruta/a/tu/archivo-credenciales.json\"\n",
    "   ```\n",
    "\n",
    "### 2. Instalación de Dependencias\n",
    "\n",
    "Ejecutar en la terminal:\n",
    "```bash\n",
    "pip install google-cloud-bigquery pandas plotly google-cloud-bigquery[pandas]\n",
    "```\n",
    "\n",
    "### 3. Verificación\n",
    "\n",
    "- Asegurarse de que el archivo de credenciales está en una ubicación segura\n",
    "- La variable de entorno GOOGLE_APPLICATION_CREDENTIALS está correctamente configurada\n",
    "- Todas las dependencias están instaladas"
   ]
  },
  {
   "cell_type": "code",
   "execution_count": null,
   "id": "18453d6f",
   "metadata": {},
   "outputs": [
    {
     "name": "stdout",
     "output_type": "stream",
     "text": [
      "Bibliotecas importadas correctamente\n"
     ]
    }
   ],
   "source": [
    "# Importar bibliotecas necesarias\n",
    "import pandas as pd\n",
    "import numpy as np\n",
    "import plotly.express as px\n",
    "import plotly.graph_objects as go\n",
    "from plotly.subplots import make_subplots\n",
    "from google.cloud import bigquery\n",
    "import db_dtypes  # Necesario para tipos de datos de BigQuery\n",
    "\n",
    "# Configurar advertencias\n",
    "import warnings\n",
    "warnings.filterwarnings('ignore')\n",
    "client = bigquery.Client()\n",
    "print(\"Bibliotecas importadas correctamente\")"
   ]
  },
  {
   "cell_type": "code",
   "execution_count": 2,
   "id": "b20fa35e",
   "metadata": {},
   "outputs": [
    {
     "name": "stdout",
     "output_type": "stream",
     "text": [
      "✅ Variable GOOGLE_APPLICATION_CREDENTIALS configurada correctamente\n",
      "📂 Archivo de credenciales: E:\\repos\\ds_portfolio\\credentials\\analicis-demografico-0fa332bfc9a7.json\n"
     ]
    },
    {
     "data": {
      "text/plain": [
       "True"
      ]
     },
     "execution_count": 2,
     "metadata": {},
     "output_type": "execute_result"
    }
   ],
   "source": [
    "# Verificar configuración de credenciales\n",
    "import os\n",
    "\n",
    "def verificar_configuracion():\n",
    "    \"\"\"Verifica la configuración de credenciales de GCP\"\"\"\n",
    "    credenciales = os.getenv('GOOGLE_APPLICATION_CREDENTIALS')\n",
    "    \n",
    "    if credenciales:\n",
    "        if os.path.exists(credenciales):\n",
    "            print(\"✅ Variable GOOGLE_APPLICATION_CREDENTIALS configurada correctamente\")\n",
    "            print(f\"📂 Archivo de credenciales: {credenciales}\")\n",
    "            return True\n",
    "        else:\n",
    "            print(\"❌ El archivo de credenciales no existe en la ruta especificada\")\n",
    "            print(f\"🔍 Ruta actual: {credenciales}\")\n",
    "    else:\n",
    "        print(\"❌ Variable GOOGLE_APPLICATION_CREDENTIALS no configurada\")\n",
    "        print(\"Por favor, configura la variable de entorno con la ruta a tus credenciales\")\n",
    "    \n",
    "    print(\"\\n📝 Instrucciones de configuración:\")\n",
    "    print(\"1. Asegúrate de tener el archivo JSON de credenciales descargado\")\n",
    "    print(\"2. Configura la variable de entorno:\")\n",
    "    print(\"   Windows (PowerShell):\")\n",
    "    print('   $env:GOOGLE_APPLICATION_CREDENTIALS=E:\\repos\\ds_portfolio\\credentials\\analicis-demografico-0fa332bfc9a7.json')\n",
    "    print(\"   Windows (CMD):\"),\n",
    "    print(\"   set GOOGLE_APPLICATION_CREDENTIALS=E:\\repos\\ds_portfolio\\credentials\\analicis-demografico-0fa332bfc9a7.json\")\n",
    "    print(\"   Linux/MacOS:\"),\n",
    "    print('   export GOOGLE_APPLICATION_CREDENTIALS=E:\\repos\\ds_portfolio\\credentials\\analicis-demografico-0fa332bfc9a7.json')\n",
    "    return False\n",
    "\n",
    "# Ejecutar verificación\n",
    "verificar_configuracion()"
   ]
  },
  {
   "cell_type": "markdown",
   "id": "437fc514",
   "metadata": {},
   "source": [
    "## Exploración Inicial del Dataset\n",
    "\n",
    "Primero, vamos a examinar la estructura del dataset `usa_names` para entender:\n",
    "1. El esquema de la tabla\n",
    "2. Los tipos de datos\n",
    "3. El rango de años disponible\n",
    "4. La distribución de los datos"
   ]
  },
  {
   "cell_type": "code",
   "execution_count": null,
   "id": "b4938ac0",
   "metadata": {},
   "outputs": [
    {
     "name": "stdout",
     "output_type": "stream",
     "text": [
      "📊 Esquema de la tabla:\n"
     ]
    },
    {
     "data": {
      "text/html": [
       "<div>\n",
       "<style scoped>\n",
       "    .dataframe tbody tr th:only-of-type {\n",
       "        vertical-align: middle;\n",
       "    }\n",
       "\n",
       "    .dataframe tbody tr th {\n",
       "        vertical-align: top;\n",
       "    }\n",
       "\n",
       "    .dataframe thead th {\n",
       "        text-align: right;\n",
       "    }\n",
       "</style>\n",
       "<table border=\"1\" class=\"dataframe\">\n",
       "  <thead>\n",
       "    <tr style=\"text-align: right;\">\n",
       "      <th></th>\n",
       "      <th>column_name</th>\n",
       "      <th>data_type</th>\n",
       "      <th>is_nullable</th>\n",
       "    </tr>\n",
       "  </thead>\n",
       "  <tbody>\n",
       "    <tr>\n",
       "      <th>0</th>\n",
       "      <td>state</td>\n",
       "      <td>STRING</td>\n",
       "      <td>YES</td>\n",
       "    </tr>\n",
       "    <tr>\n",
       "      <th>1</th>\n",
       "      <td>gender</td>\n",
       "      <td>STRING</td>\n",
       "      <td>YES</td>\n",
       "    </tr>\n",
       "    <tr>\n",
       "      <th>2</th>\n",
       "      <td>year</td>\n",
       "      <td>INT64</td>\n",
       "      <td>YES</td>\n",
       "    </tr>\n",
       "    <tr>\n",
       "      <th>3</th>\n",
       "      <td>name</td>\n",
       "      <td>STRING</td>\n",
       "      <td>YES</td>\n",
       "    </tr>\n",
       "    <tr>\n",
       "      <th>4</th>\n",
       "      <td>number</td>\n",
       "      <td>INT64</td>\n",
       "      <td>YES</td>\n",
       "    </tr>\n",
       "  </tbody>\n",
       "</table>\n",
       "</div>"
      ],
      "text/plain": [
       "  column_name data_type is_nullable\n",
       "0       state    STRING         YES\n",
       "1      gender    STRING         YES\n",
       "2        year     INT64         YES\n",
       "3        name    STRING         YES\n",
       "4      number     INT64         YES"
      ]
     },
     "metadata": {},
     "output_type": "display_data"
    }
   ],
   "source": [
    "# Crear cliente de BigQuery\n",
    "\n",
    "# Parte 1: Explorar el esquema de la tabla\n",
    "try:\n",
    "    # Consulta para metadata y esquema\n",
    "    # Utilizamos INFORMATION_SCHEMA para metadata estructural\n",
    "    schema_query = \"\"\"\n",
    "    SELECT \n",
    "        column_name,\n",
    "        data_type,\n",
    "        is_nullable\n",
    "    FROM \n",
    "        `bigquery-public-data.usa_names.INFORMATION_SCHEMA.COLUMNS`\n",
    "    WHERE \n",
    "        table_name = 'usa_1910_2013'\n",
    "    ORDER BY \n",
    "        ordinal_position\n",
    "    \"\"\"\n",
    "    \n",
    "    # Estadísticas descriptivas básicas\n",
    "    # Métricas clave: rango temporal, cobertura geográfica, cardinalidad\n",
    "    stats_query = \"\"\"\n",
    "    SELECT\n",
    "        MIN(year) as min_year,\n",
    "        MAX(year) as max_year,\n",
    "        COUNT(DISTINCT state) as num_states,\n",
    "        COUNT(DISTINCT name) as unique_names,\n",
    "        COUNT(DISTINCT gender) as gender_types,\n",
    "        SUM(number) as total_registros\n",
    "    FROM \n",
    "        `bigquery-public-data.usa_names.usa_1910_2013`\n",
    "    \"\"\"\n",
    "    \n",
    "    print(\"Metadata del Dataset:\")\n",
    "    schema_df = client.query(schema_query).to_dataframe()\n",
    "    display(schema_df)\n",
    "    \n",
    "    print(\"\\nEstadísticas Descriptivas:\")\n",
    "    stats_df = client.query(stats_query).to_dataframe()\n",
    "    display(stats_df)\n",
    "    \n",
    "    # Cálculo de métricas derivadas\n",
    "    años_total = stats_df['max_year'].iloc[0] - stats_df['min_year'].iloc[0]\n",
    "    promedio_nombres = stats_df['unique_names'].iloc[0] / años_total\n",
    "    \n",
    "    print(\"\\nMétricas Derivadas:\")\n",
    "    print(f\"- Período de análisis: {años_total} años\")\n",
    "    print(f\"- Promedio de nombres únicos por año: {promedio_nombres:.2f}\")\n",
    "    print(f\"- Densidad de datos: {(stats_df['total_registros'].iloc[0] / años_total):,.0f} registros/año\")\n",
    "\n",
    "except Exception as e:\n",
    "    print(f\"Error en análisis exploratorio: {str(e)}\")\n",
    "    print(\"Verificar:\")\n",
    "    print(\"1. Conexión a BigQuery activa\")\n",
    "    print(\"2. Permisos de acceso al dataset\")\n",
    "    print(\"3. Sintaxis de consultas SQL\")"
   ]
  },
  {
   "cell_type": "code",
   "execution_count": null,
   "id": "f5d544f2",
   "metadata": {},
   "outputs": [
    {
     "name": "stdout",
     "output_type": "stream",
     "text": [
      "📈 Rangos y cardinalidad de los datos:\n"
     ]
    },
    {
     "data": {
      "text/html": [
       "<div>\n",
       "<style scoped>\n",
       "    .dataframe tbody tr th:only-of-type {\n",
       "        vertical-align: middle;\n",
       "    }\n",
       "\n",
       "    .dataframe tbody tr th {\n",
       "        vertical-align: top;\n",
       "    }\n",
       "\n",
       "    .dataframe thead th {\n",
       "        text-align: right;\n",
       "    }\n",
       "</style>\n",
       "<table border=\"1\" class=\"dataframe\">\n",
       "  <thead>\n",
       "    <tr style=\"text-align: right;\">\n",
       "      <th></th>\n",
       "      <th>min_year</th>\n",
       "      <th>max_year</th>\n",
       "      <th>num_states</th>\n",
       "      <th>unique_names</th>\n",
       "      <th>gender_types</th>\n",
       "    </tr>\n",
       "  </thead>\n",
       "  <tbody>\n",
       "    <tr>\n",
       "      <th>0</th>\n",
       "      <td>1910</td>\n",
       "      <td>2013</td>\n",
       "      <td>51</td>\n",
       "      <td>29828</td>\n",
       "      <td>2</td>\n",
       "    </tr>\n",
       "  </tbody>\n",
       "</table>\n",
       "</div>"
      ],
      "text/plain": [
       "   min_year  max_year  num_states  unique_names  gender_types\n",
       "0      1910      2013          51         29828             2"
      ]
     },
     "metadata": {},
     "output_type": "display_data"
    }
   ],
   "source": [
    "# Parte 2: Rangos y cardinalidad de los datos\n",
    "try:\n",
    "    ranges_query = \"\"\"\n",
    "    SELECT\n",
    "        MIN(year) as min_year,\n",
    "        MAX(year) as max_year,\n",
    "        COUNT(DISTINCT state) as num_states,\n",
    "        COUNT(DISTINCT name) as unique_names,\n",
    "        COUNT(DISTINCT gender) as gender_types\n",
    "    FROM \n",
    "        `bigquery-public-data.usa_names.usa_1910_2013`\n",
    "    \"\"\"\n",
    "    \n",
    "    print(\"📈 Rangos y cardinalidad de los datos:\")\n",
    "    ranges_df = client.query(ranges_query).to_dataframe()\n",
    "    display(ranges_df)\n",
    "\n",
    "except Exception as e:\n",
    "    print(f\"Error al obtener rangos: {str(e)}\")\n",
    "\n",
    "# Análisis de distribución temporal y tendencias\n",
    "try:\n",
    "    # Consulta para análisis temporal\n",
    "    # Agregación por año y género para identificar patrones\n",
    "    dist_query = \"\"\"\n",
    "    SELECT\n",
    "        year,\n",
    "        gender,\n",
    "        COUNT(DISTINCT name) as unique_names,\n",
    "        SUM(number) as total_births,\n",
    "        -- Cálculo de diversidad relativa\n",
    "        COUNT(DISTINCT name) / SUM(number) * 10000 as diversity_index\n",
    "    FROM \n",
    "        `bigquery-public-data.usa_names.usa_1910_2013`\n",
    "    GROUP BY \n",
    "        year, gender\n",
    "    ORDER BY \n",
    "        year, gender\n",
    "    \"\"\"\n",
    "\n",
    "    print(\"Análisis de distribución temporal:\")\n",
    "    dist_df = client.query(dist_query).to_dataframe()\n",
    "    \n",
    "    # Cálculo de estadísticas por género\n",
    "    stats_by_gender = dist_df.groupby('gender').agg({\n",
    "        'unique_names': ['mean', 'std'],\n",
    "        'total_births': ['mean', 'std'],\n",
    "        'diversity_index': ['mean', 'std']\n",
    "    }).round(2)\n",
    "    \n",
    "    print(\"\\nEstadísticas por Género:\")\n",
    "    display(stats_by_gender)\n",
    "    \n",
    "    # Visualización de tendencias temporales\n",
    "    fig = make_subplots(\n",
    "        rows=2, cols=1,\n",
    "        subplot_titles=(\n",
    "            'Evolución de la Diversidad de Nombres (1910-2013)',\n",
    "            'Tendencia de Nacimientos Registrados'\n",
    "        )\n",
    "    )\n",
    "    \n",
    "    # Gráfica de diversidad de nombres\n",
    "    for gender in ['F', 'M']:\n",
    "        df_gender = dist_df[dist_df['gender'] == gender]\n",
    "        \n",
    "        # Añadir línea de tendencia\n",
    "        z = np.polyfit(df_gender['year'], df_gender['unique_names'], 1)\n",
    "        p = np.poly1d(z)\n",
    "        \n",
    "        fig.add_trace(\n",
    "            go.Scatter(\n",
    "                x=df_gender['year'], \n",
    "                y=df_gender['unique_names'],\n",
    "                mode='lines',\n",
    "                name=f'{\"Femenino\" if gender == \"F\" else \"Masculino\"}',\n",
    "                line=dict(color='pink' if gender == 'F' else 'blue')\n",
    "            ),\n",
    "            row=1, col=1\n",
    "        )\n",
    "        \n",
    "        # Añadir línea de tendencia\n",
    "        fig.add_trace(\n",
    "            go.Scatter(\n",
    "                x=df_gender['year'],\n",
    "                y=p(df_gender['year']),\n",
    "                mode='lines',\n",
    "                name=f'Tendencia {\"F\" if gender == \"F\" else \"M\"}',\n",
    "                line=dict(dash='dash', color='red' if gender == 'F' else 'navy')\n",
    "            ),\n",
    "            row=1, col=1\n",
    "        )\n",
    "\n",
    "    # Actualizar diseño\n",
    "    fig.update_layout(\n",
    "        height=800,\n",
    "        width=1000,\n",
    "        showlegend=True,\n",
    "        title_text=\"Análisis de Tendencias Temporales en Nombres\"\n",
    "    )\n",
    "\n",
    "    fig.update_xaxes(title_text=\"Año\", row=2, col=1)\n",
    "    fig.update_yaxes(title_text=\"Nombres Únicos\", row=1, col=1)\n",
    "    fig.update_yaxes(title_text=\"Total Nacimientos\", row=2, col=1)\n",
    "\n",
    "    fig.show()\n",
    "\n",
    "except Exception as e:\n",
    "    print(f\"Error en análisis temporal: {str(e)}\")\n",
    "    print(\"Verificar integridad de datos temporales\")"
   ]
  },
  {
   "cell_type": "code",
   "execution_count": 5,
   "id": "cbd58c22",
   "metadata": {},
   "outputs": [
    {
     "name": "stdout",
     "output_type": "stream",
     "text": [
      "🔍 Muestra aleatoria de registros:\n"
     ]
    },
    {
     "data": {
      "text/html": [
       "<div>\n",
       "<style scoped>\n",
       "    .dataframe tbody tr th:only-of-type {\n",
       "        vertical-align: middle;\n",
       "    }\n",
       "\n",
       "    .dataframe tbody tr th {\n",
       "        vertical-align: top;\n",
       "    }\n",
       "\n",
       "    .dataframe thead th {\n",
       "        text-align: right;\n",
       "    }\n",
       "</style>\n",
       "<table border=\"1\" class=\"dataframe\">\n",
       "  <thead>\n",
       "    <tr style=\"text-align: right;\">\n",
       "      <th></th>\n",
       "      <th>state</th>\n",
       "      <th>gender</th>\n",
       "      <th>year</th>\n",
       "      <th>name</th>\n",
       "      <th>number</th>\n",
       "    </tr>\n",
       "  </thead>\n",
       "  <tbody>\n",
       "    <tr>\n",
       "      <th>0</th>\n",
       "      <td>NY</td>\n",
       "      <td>F</td>\n",
       "      <td>1941</td>\n",
       "      <td>Helen</td>\n",
       "      <td>871</td>\n",
       "    </tr>\n",
       "    <tr>\n",
       "      <th>1</th>\n",
       "      <td>IA</td>\n",
       "      <td>F</td>\n",
       "      <td>1944</td>\n",
       "      <td>Sandra</td>\n",
       "      <td>598</td>\n",
       "    </tr>\n",
       "    <tr>\n",
       "      <th>2</th>\n",
       "      <td>OR</td>\n",
       "      <td>F</td>\n",
       "      <td>1968</td>\n",
       "      <td>Kelly</td>\n",
       "      <td>153</td>\n",
       "    </tr>\n",
       "    <tr>\n",
       "      <th>3</th>\n",
       "      <td>GA</td>\n",
       "      <td>F</td>\n",
       "      <td>1911</td>\n",
       "      <td>Viola</td>\n",
       "      <td>73</td>\n",
       "    </tr>\n",
       "    <tr>\n",
       "      <th>4</th>\n",
       "      <td>SD</td>\n",
       "      <td>F</td>\n",
       "      <td>1915</td>\n",
       "      <td>Evelyn</td>\n",
       "      <td>106</td>\n",
       "    </tr>\n",
       "    <tr>\n",
       "      <th>5</th>\n",
       "      <td>IL</td>\n",
       "      <td>F</td>\n",
       "      <td>1930</td>\n",
       "      <td>Alberta</td>\n",
       "      <td>83</td>\n",
       "    </tr>\n",
       "    <tr>\n",
       "      <th>6</th>\n",
       "      <td>NC</td>\n",
       "      <td>F</td>\n",
       "      <td>1932</td>\n",
       "      <td>Bernice</td>\n",
       "      <td>148</td>\n",
       "    </tr>\n",
       "    <tr>\n",
       "      <th>7</th>\n",
       "      <td>SC</td>\n",
       "      <td>F</td>\n",
       "      <td>1975</td>\n",
       "      <td>Paula</td>\n",
       "      <td>48</td>\n",
       "    </tr>\n",
       "    <tr>\n",
       "      <th>8</th>\n",
       "      <td>KY</td>\n",
       "      <td>F</td>\n",
       "      <td>1942</td>\n",
       "      <td>Catherine</td>\n",
       "      <td>53</td>\n",
       "    </tr>\n",
       "    <tr>\n",
       "      <th>9</th>\n",
       "      <td>MS</td>\n",
       "      <td>F</td>\n",
       "      <td>1958</td>\n",
       "      <td>Mary</td>\n",
       "      <td>1002</td>\n",
       "    </tr>\n",
       "  </tbody>\n",
       "</table>\n",
       "</div>"
      ],
      "text/plain": [
       "  state gender  year       name  number\n",
       "0    NY      F  1941      Helen     871\n",
       "1    IA      F  1944     Sandra     598\n",
       "2    OR      F  1968      Kelly     153\n",
       "3    GA      F  1911      Viola      73\n",
       "4    SD      F  1915     Evelyn     106\n",
       "5    IL      F  1930    Alberta      83\n",
       "6    NC      F  1932    Bernice     148\n",
       "7    SC      F  1975      Paula      48\n",
       "8    KY      F  1942  Catherine      53\n",
       "9    MS      F  1958       Mary    1002"
      ]
     },
     "metadata": {},
     "output_type": "display_data"
    }
   ],
   "source": [
    "# Parte 3: Muestra aleatoria de registros\n",
    "try:\n",
    "    sample_query = \"\"\"\n",
    "    SELECT *\n",
    "    FROM `bigquery-public-data.usa_names.usa_1910_2013`\n",
    "    WHERE RAND() < 0.0001\n",
    "    LIMIT 10\n",
    "    \"\"\"\n",
    "    \n",
    "    print(\"🔍 Muestra aleatoria de registros:\")\n",
    "    sample_df = client.query(sample_query).to_dataframe()\n",
    "    display(sample_df)\n",
    "\n",
    "except Exception as e:\n",
    "    print(f\"Error al obtener muestra: {str(e)}\")"
   ]
  },
  {
   "cell_type": "code",
   "execution_count": 6,
   "id": "b280ef9e",
   "metadata": {},
   "outputs": [
    {
     "name": "stdout",
     "output_type": "stream",
     "text": [
      "📊 Distribución por año:\n"
     ]
    },
    {
     "data": {
      "application/vnd.plotly.v1+json": {
       "config": {
        "plotlyServerURL": "https://plot.ly"
       },
       "data": [
        {
         "line": {
          "color": "blue"
         },
         "mode": "lines",
         "name": "Nombres Únicos",
         "type": "scatter",
         "x": {
          "bdata": "dgd3B3gHeQd6B3sHfAd9B34HfweAB4EHggeDB4QHhQeGB4cHiAeJB4oHiweMB40HjgePB5AHkQeSB5MHlAeVB5YHlweYB5kHmgebB5wHnQeeB58HoAehB6IHowekB6UHpgenB6gHqQeqB6sHrAetB64HrwewB7EHsgezB7QHtQe2B7cHuAe5B7oHuwe8B70Hvge/B8AHwQfCB8MHxAfFB8YHxwfIB8kHygfLB8wHzQfOB88H0AfRB9IH0wfUB9UH1gfXB9gH2QfaB9sH3AfdBw==",
          "dtype": "i2"
         },
         "xaxis": "x",
         "y": {
          "bdata": "nQbMBtUIrAkvCwkNdw27DScOVg66DgkPNg/bDiMP1g63DocONQ7dDZcNJw03DbsM2gzZDG8MbAxzDIQMiwymDBgNQQ3FDKsMpA1bDjIOJg4NDkIOgg63DtAOFA8+D1oPVw+rD+wPGBDkDxUQJxAEEN8PQhB4EGkRUBLDEnIS0xIcE90TOBT3FCQV1RWeFuwWVRcTF3UXKhjzGJkZ2RrKHIwepx7sHjYfLR/YHvUeGh++H2Ig+SEwIqMidCMeJNkkDyYbJ+cmBCf2JeolsyUmJQ==",
          "dtype": "i2"
         },
         "yaxis": "y"
        },
        {
         "line": {
          "color": "red"
         },
         "mode": "lines",
         "name": "Total Nacimientos",
         "type": "scatter",
         "x": {
          "bdata": "dgd3B3gHeQd6B3sHfAd9B34HfweAB4EHggeDB4QHhQeGB4cHiAeJB4oHiweMB40HjgePB5AHkQeSB5MHlAeVB5YHlweYB5kHmgebB5wHnQeeB58HoAehB6IHowekB6UHpgenB6gHqQeqB6sHrAetB64HrwewB7EHsgezB7QHtQe2B7cHuAe5B7oHuwe8B70Hvge/B8AHwQfCB8MHxAfFB8YHxwfIB8kHygfLB8wHzQfOB88H0AfRB9IH0wfUB9UH1gfXB9gH2QfaB9sH3AfdBw==",
          "dtype": "i2"
         },
         "xaxis": "x2",
         "y": {
          "bdata": "0+AHACeiCAChjA0Ar7EPAO27EwCsyRkAfkIbANNQHADUuB4AFtQdAK4PIAD/HyEAwnUgAL2tIAAo2yEAyyUhAKacIAAm9iAADyAgAK4iHwCvmB8AHeMdAED5HQAGWBwABYAdACm1HQAZix0Ad1AeAOWOHwAwbh8A9+sgABLqIgCBUCcAaakoAEK2JgAMLSYAz0QuAMRMNADPDzIA7oIyAPjRMgC0eDUAgSw3AAzuNwDh1jkAQFA6ALXnOwBDET0AWgU8AAZaPAA7PzwAO/Y7ALZhOgASMDkAgxI4AHUvNADK3TEAp5cwAOc3MAA8hjEARUQzAAZ9MACfGiwA1hoqAF1UKgDc4CkA1QUqAOz7KwDN5isAxQ4uANnBLwAg/i8A1LQwAGAbMABJdTAAv4QxAE4+MQDH1DEAuvcyANYGNQAlajYAIHI1AHCFNAAbUzMAzHUyAMySMQArNDEAyLcwAMNFMQB8VDEANU0yADqaMQClZzEAYi4yAKlBMgDDbTIAS68zACoPNADL9DIAu0wxANiHLwBN8i4ArtcuALGJLgA=",
          "dtype": "i4"
         },
         "yaxis": "y2"
        }
       ],
       "layout": {
        "annotations": [
         {
          "font": {
           "size": 16
          },
          "showarrow": false,
          "text": "Número de Nombres Únicos por Año",
          "x": 0.5,
          "xanchor": "center",
          "xref": "paper",
          "y": 1,
          "yanchor": "bottom",
          "yref": "paper"
         },
         {
          "font": {
           "size": 16
          },
          "showarrow": false,
          "text": "Total de Nacimientos por Año",
          "x": 0.5,
          "xanchor": "center",
          "xref": "paper",
          "y": 0.375,
          "yanchor": "bottom",
          "yref": "paper"
         }
        ],
        "height": 800,
        "showlegend": true,
        "template": {
         "data": {
          "bar": [
           {
            "error_x": {
             "color": "#2a3f5f"
            },
            "error_y": {
             "color": "#2a3f5f"
            },
            "marker": {
             "line": {
              "color": "#E5ECF6",
              "width": 0.5
             },
             "pattern": {
              "fillmode": "overlay",
              "size": 10,
              "solidity": 0.2
             }
            },
            "type": "bar"
           }
          ],
          "barpolar": [
           {
            "marker": {
             "line": {
              "color": "#E5ECF6",
              "width": 0.5
             },
             "pattern": {
              "fillmode": "overlay",
              "size": 10,
              "solidity": 0.2
             }
            },
            "type": "barpolar"
           }
          ],
          "carpet": [
           {
            "aaxis": {
             "endlinecolor": "#2a3f5f",
             "gridcolor": "white",
             "linecolor": "white",
             "minorgridcolor": "white",
             "startlinecolor": "#2a3f5f"
            },
            "baxis": {
             "endlinecolor": "#2a3f5f",
             "gridcolor": "white",
             "linecolor": "white",
             "minorgridcolor": "white",
             "startlinecolor": "#2a3f5f"
            },
            "type": "carpet"
           }
          ],
          "choropleth": [
           {
            "colorbar": {
             "outlinewidth": 0,
             "ticks": ""
            },
            "type": "choropleth"
           }
          ],
          "contour": [
           {
            "colorbar": {
             "outlinewidth": 0,
             "ticks": ""
            },
            "colorscale": [
             [
              0,
              "#0d0887"
             ],
             [
              0.1111111111111111,
              "#46039f"
             ],
             [
              0.2222222222222222,
              "#7201a8"
             ],
             [
              0.3333333333333333,
              "#9c179e"
             ],
             [
              0.4444444444444444,
              "#bd3786"
             ],
             [
              0.5555555555555556,
              "#d8576b"
             ],
             [
              0.6666666666666666,
              "#ed7953"
             ],
             [
              0.7777777777777778,
              "#fb9f3a"
             ],
             [
              0.8888888888888888,
              "#fdca26"
             ],
             [
              1,
              "#f0f921"
             ]
            ],
            "type": "contour"
           }
          ],
          "contourcarpet": [
           {
            "colorbar": {
             "outlinewidth": 0,
             "ticks": ""
            },
            "type": "contourcarpet"
           }
          ],
          "heatmap": [
           {
            "colorbar": {
             "outlinewidth": 0,
             "ticks": ""
            },
            "colorscale": [
             [
              0,
              "#0d0887"
             ],
             [
              0.1111111111111111,
              "#46039f"
             ],
             [
              0.2222222222222222,
              "#7201a8"
             ],
             [
              0.3333333333333333,
              "#9c179e"
             ],
             [
              0.4444444444444444,
              "#bd3786"
             ],
             [
              0.5555555555555556,
              "#d8576b"
             ],
             [
              0.6666666666666666,
              "#ed7953"
             ],
             [
              0.7777777777777778,
              "#fb9f3a"
             ],
             [
              0.8888888888888888,
              "#fdca26"
             ],
             [
              1,
              "#f0f921"
             ]
            ],
            "type": "heatmap"
           }
          ],
          "histogram": [
           {
            "marker": {
             "pattern": {
              "fillmode": "overlay",
              "size": 10,
              "solidity": 0.2
             }
            },
            "type": "histogram"
           }
          ],
          "histogram2d": [
           {
            "colorbar": {
             "outlinewidth": 0,
             "ticks": ""
            },
            "colorscale": [
             [
              0,
              "#0d0887"
             ],
             [
              0.1111111111111111,
              "#46039f"
             ],
             [
              0.2222222222222222,
              "#7201a8"
             ],
             [
              0.3333333333333333,
              "#9c179e"
             ],
             [
              0.4444444444444444,
              "#bd3786"
             ],
             [
              0.5555555555555556,
              "#d8576b"
             ],
             [
              0.6666666666666666,
              "#ed7953"
             ],
             [
              0.7777777777777778,
              "#fb9f3a"
             ],
             [
              0.8888888888888888,
              "#fdca26"
             ],
             [
              1,
              "#f0f921"
             ]
            ],
            "type": "histogram2d"
           }
          ],
          "histogram2dcontour": [
           {
            "colorbar": {
             "outlinewidth": 0,
             "ticks": ""
            },
            "colorscale": [
             [
              0,
              "#0d0887"
             ],
             [
              0.1111111111111111,
              "#46039f"
             ],
             [
              0.2222222222222222,
              "#7201a8"
             ],
             [
              0.3333333333333333,
              "#9c179e"
             ],
             [
              0.4444444444444444,
              "#bd3786"
             ],
             [
              0.5555555555555556,
              "#d8576b"
             ],
             [
              0.6666666666666666,
              "#ed7953"
             ],
             [
              0.7777777777777778,
              "#fb9f3a"
             ],
             [
              0.8888888888888888,
              "#fdca26"
             ],
             [
              1,
              "#f0f921"
             ]
            ],
            "type": "histogram2dcontour"
           }
          ],
          "mesh3d": [
           {
            "colorbar": {
             "outlinewidth": 0,
             "ticks": ""
            },
            "type": "mesh3d"
           }
          ],
          "parcoords": [
           {
            "line": {
             "colorbar": {
              "outlinewidth": 0,
              "ticks": ""
             }
            },
            "type": "parcoords"
           }
          ],
          "pie": [
           {
            "automargin": true,
            "type": "pie"
           }
          ],
          "scatter": [
           {
            "fillpattern": {
             "fillmode": "overlay",
             "size": 10,
             "solidity": 0.2
            },
            "type": "scatter"
           }
          ],
          "scatter3d": [
           {
            "line": {
             "colorbar": {
              "outlinewidth": 0,
              "ticks": ""
             }
            },
            "marker": {
             "colorbar": {
              "outlinewidth": 0,
              "ticks": ""
             }
            },
            "type": "scatter3d"
           }
          ],
          "scattercarpet": [
           {
            "marker": {
             "colorbar": {
              "outlinewidth": 0,
              "ticks": ""
             }
            },
            "type": "scattercarpet"
           }
          ],
          "scattergeo": [
           {
            "marker": {
             "colorbar": {
              "outlinewidth": 0,
              "ticks": ""
             }
            },
            "type": "scattergeo"
           }
          ],
          "scattergl": [
           {
            "marker": {
             "colorbar": {
              "outlinewidth": 0,
              "ticks": ""
             }
            },
            "type": "scattergl"
           }
          ],
          "scattermap": [
           {
            "marker": {
             "colorbar": {
              "outlinewidth": 0,
              "ticks": ""
             }
            },
            "type": "scattermap"
           }
          ],
          "scattermapbox": [
           {
            "marker": {
             "colorbar": {
              "outlinewidth": 0,
              "ticks": ""
             }
            },
            "type": "scattermapbox"
           }
          ],
          "scatterpolar": [
           {
            "marker": {
             "colorbar": {
              "outlinewidth": 0,
              "ticks": ""
             }
            },
            "type": "scatterpolar"
           }
          ],
          "scatterpolargl": [
           {
            "marker": {
             "colorbar": {
              "outlinewidth": 0,
              "ticks": ""
             }
            },
            "type": "scatterpolargl"
           }
          ],
          "scatterternary": [
           {
            "marker": {
             "colorbar": {
              "outlinewidth": 0,
              "ticks": ""
             }
            },
            "type": "scatterternary"
           }
          ],
          "surface": [
           {
            "colorbar": {
             "outlinewidth": 0,
             "ticks": ""
            },
            "colorscale": [
             [
              0,
              "#0d0887"
             ],
             [
              0.1111111111111111,
              "#46039f"
             ],
             [
              0.2222222222222222,
              "#7201a8"
             ],
             [
              0.3333333333333333,
              "#9c179e"
             ],
             [
              0.4444444444444444,
              "#bd3786"
             ],
             [
              0.5555555555555556,
              "#d8576b"
             ],
             [
              0.6666666666666666,
              "#ed7953"
             ],
             [
              0.7777777777777778,
              "#fb9f3a"
             ],
             [
              0.8888888888888888,
              "#fdca26"
             ],
             [
              1,
              "#f0f921"
             ]
            ],
            "type": "surface"
           }
          ],
          "table": [
           {
            "cells": {
             "fill": {
              "color": "#EBF0F8"
             },
             "line": {
              "color": "white"
             }
            },
            "header": {
             "fill": {
              "color": "#C8D4E3"
             },
             "line": {
              "color": "white"
             }
            },
            "type": "table"
           }
          ]
         },
         "layout": {
          "annotationdefaults": {
           "arrowcolor": "#2a3f5f",
           "arrowhead": 0,
           "arrowwidth": 1
          },
          "autotypenumbers": "strict",
          "coloraxis": {
           "colorbar": {
            "outlinewidth": 0,
            "ticks": ""
           }
          },
          "colorscale": {
           "diverging": [
            [
             0,
             "#8e0152"
            ],
            [
             0.1,
             "#c51b7d"
            ],
            [
             0.2,
             "#de77ae"
            ],
            [
             0.3,
             "#f1b6da"
            ],
            [
             0.4,
             "#fde0ef"
            ],
            [
             0.5,
             "#f7f7f7"
            ],
            [
             0.6,
             "#e6f5d0"
            ],
            [
             0.7,
             "#b8e186"
            ],
            [
             0.8,
             "#7fbc41"
            ],
            [
             0.9,
             "#4d9221"
            ],
            [
             1,
             "#276419"
            ]
           ],
           "sequential": [
            [
             0,
             "#0d0887"
            ],
            [
             0.1111111111111111,
             "#46039f"
            ],
            [
             0.2222222222222222,
             "#7201a8"
            ],
            [
             0.3333333333333333,
             "#9c179e"
            ],
            [
             0.4444444444444444,
             "#bd3786"
            ],
            [
             0.5555555555555556,
             "#d8576b"
            ],
            [
             0.6666666666666666,
             "#ed7953"
            ],
            [
             0.7777777777777778,
             "#fb9f3a"
            ],
            [
             0.8888888888888888,
             "#fdca26"
            ],
            [
             1,
             "#f0f921"
            ]
           ],
           "sequentialminus": [
            [
             0,
             "#0d0887"
            ],
            [
             0.1111111111111111,
             "#46039f"
            ],
            [
             0.2222222222222222,
             "#7201a8"
            ],
            [
             0.3333333333333333,
             "#9c179e"
            ],
            [
             0.4444444444444444,
             "#bd3786"
            ],
            [
             0.5555555555555556,
             "#d8576b"
            ],
            [
             0.6666666666666666,
             "#ed7953"
            ],
            [
             0.7777777777777778,
             "#fb9f3a"
            ],
            [
             0.8888888888888888,
             "#fdca26"
            ],
            [
             1,
             "#f0f921"
            ]
           ]
          },
          "colorway": [
           "#636efa",
           "#EF553B",
           "#00cc96",
           "#ab63fa",
           "#FFA15A",
           "#19d3f3",
           "#FF6692",
           "#B6E880",
           "#FF97FF",
           "#FECB52"
          ],
          "font": {
           "color": "#2a3f5f"
          },
          "geo": {
           "bgcolor": "white",
           "lakecolor": "white",
           "landcolor": "#E5ECF6",
           "showlakes": true,
           "showland": true,
           "subunitcolor": "white"
          },
          "hoverlabel": {
           "align": "left"
          },
          "hovermode": "closest",
          "mapbox": {
           "style": "light"
          },
          "paper_bgcolor": "white",
          "plot_bgcolor": "#E5ECF6",
          "polar": {
           "angularaxis": {
            "gridcolor": "white",
            "linecolor": "white",
            "ticks": ""
           },
           "bgcolor": "#E5ECF6",
           "radialaxis": {
            "gridcolor": "white",
            "linecolor": "white",
            "ticks": ""
           }
          },
          "scene": {
           "xaxis": {
            "backgroundcolor": "#E5ECF6",
            "gridcolor": "white",
            "gridwidth": 2,
            "linecolor": "white",
            "showbackground": true,
            "ticks": "",
            "zerolinecolor": "white"
           },
           "yaxis": {
            "backgroundcolor": "#E5ECF6",
            "gridcolor": "white",
            "gridwidth": 2,
            "linecolor": "white",
            "showbackground": true,
            "ticks": "",
            "zerolinecolor": "white"
           },
           "zaxis": {
            "backgroundcolor": "#E5ECF6",
            "gridcolor": "white",
            "gridwidth": 2,
            "linecolor": "white",
            "showbackground": true,
            "ticks": "",
            "zerolinecolor": "white"
           }
          },
          "shapedefaults": {
           "line": {
            "color": "#2a3f5f"
           }
          },
          "ternary": {
           "aaxis": {
            "gridcolor": "white",
            "linecolor": "white",
            "ticks": ""
           },
           "baxis": {
            "gridcolor": "white",
            "linecolor": "white",
            "ticks": ""
           },
           "bgcolor": "#E5ECF6",
           "caxis": {
            "gridcolor": "white",
            "linecolor": "white",
            "ticks": ""
           }
          },
          "title": {
           "x": 0.05
          },
          "xaxis": {
           "automargin": true,
           "gridcolor": "white",
           "linecolor": "white",
           "ticks": "",
           "title": {
            "standoff": 15
           },
           "zerolinecolor": "white",
           "zerolinewidth": 2
          },
          "yaxis": {
           "automargin": true,
           "gridcolor": "white",
           "linecolor": "white",
           "ticks": "",
           "title": {
            "standoff": 15
           },
           "zerolinecolor": "white",
           "zerolinewidth": 2
          }
         }
        },
        "title": {
         "text": "Distribución Temporal de Nombres y Nacimientos (1910-2013)"
        },
        "width": 1000,
        "xaxis": {
         "anchor": "y",
         "domain": [
          0,
          1
         ]
        },
        "xaxis2": {
         "anchor": "y2",
         "domain": [
          0,
          1
         ],
         "title": {
          "text": "Año"
         }
        },
        "yaxis": {
         "anchor": "x",
         "domain": [
          0.625,
          1
         ],
         "title": {
          "text": "Número de Nombres Únicos"
         }
        },
        "yaxis2": {
         "anchor": "x2",
         "domain": [
          0,
          0.375
         ],
         "title": {
          "text": "Total de Nacimientos"
         }
        }
       }
      }
     },
     "metadata": {},
     "output_type": "display_data"
    },
    {
     "name": "stdout",
     "output_type": "stream",
     "text": [
      "\n",
      "Estadísticas de la distribución:\n",
      "            year   num_records  unique_names    total_births\n",
      "count      104.0         104.0         104.0           104.0\n",
      "mean      1961.5  53388.961538   5177.644231  2843529.471154\n",
      "std    30.166206  19062.187516   2265.894525   769125.878882\n",
      "min       1910.0       16830.0        1693.0        516307.0\n",
      "25%      1935.75      37562.25        3585.0       2153576.5\n",
      "50%       1961.5       51295.0        4072.0       3156387.5\n",
      "75%      1987.25       62649.5        6633.0      3332780.75\n",
      "max       2013.0       94956.0       10011.0       4002115.0\n"
     ]
    }
   ],
   "source": [
    "# Parte 4: Distribución por año\n",
    "try:\n",
    "    dist_query = \"\"\"\n",
    "    SELECT\n",
    "        year,\n",
    "        COUNT(*) as num_records,\n",
    "        COUNT(DISTINCT name) as unique_names,\n",
    "        SUM(number) as total_births\n",
    "    FROM \n",
    "        `bigquery-public-data.usa_names.usa_1910_2013`\n",
    "    GROUP BY \n",
    "        year\n",
    "    ORDER BY \n",
    "        year\n",
    "    \"\"\"\n",
    "    \n",
    "    print(\"📊 Distribución por año:\")\n",
    "    dist_df = client.query(dist_query).to_dataframe()\n",
    "    \n",
    "    # Visualizar distribución temporal\n",
    "    fig = make_subplots(\n",
    "        rows=2, cols=1,\n",
    "        subplot_titles=('Número de Nombres Únicos por Año',\n",
    "                       'Total de Nacimientos por Año')\n",
    "    )\n",
    "    \n",
    "    # Gráfica de nombres únicos\n",
    "    fig.add_trace(\n",
    "        go.Scatter(\n",
    "            x=dist_df['year'], \n",
    "            y=dist_df['unique_names'],\n",
    "            mode='lines',\n",
    "            name='Nombres Únicos',\n",
    "            line=dict(color='blue')\n",
    "        ),\n",
    "        row=1, col=1\n",
    "    )\n",
    "    \n",
    "    # Gráfica de total de nacimientos\n",
    "    fig.add_trace(\n",
    "        go.Scatter(\n",
    "            x=dist_df['year'], \n",
    "            y=dist_df['total_births'],\n",
    "            mode='lines',\n",
    "            name='Total Nacimientos',\n",
    "            line=dict(color='red')\n",
    "        ),\n",
    "        row=2, col=1\n",
    "    )\n",
    "    \n",
    "    # Actualizar diseño\n",
    "    fig.update_layout(\n",
    "        height=800,\n",
    "        width=1000,\n",
    "        showlegend=True,\n",
    "        title_text=\"Distribución Temporal de Nombres y Nacimientos (1910-2013)\"\n",
    "    )\n",
    "    \n",
    "    fig.update_xaxes(title_text=\"Año\", row=2, col=1)\n",
    "    fig.update_yaxes(title_text=\"Número de Nombres Únicos\", row=1, col=1)\n",
    "    fig.update_yaxes(title_text=\"Total de Nacimientos\", row=2, col=1)\n",
    "    \n",
    "    fig.show()\n",
    "    \n",
    "    # Mostrar estadísticas resumidas\n",
    "    print(\"\\nEstadísticas de la distribución:\")\n",
    "    print(dist_df.describe())\n",
    "\n",
    "except Exception as e:\n",
    "    print(f\"Error al analizar distribución: {str(e)}\")"
   ]
  },
  {
   "cell_type": "code",
   "execution_count": 7,
   "id": "22d5e3a9",
   "metadata": {},
   "outputs": [
    {
     "name": "stdout",
     "output_type": "stream",
     "text": [
      "📊 Esquema de la tabla:\n"
     ]
    },
    {
     "data": {
      "text/html": [
       "<div>\n",
       "<style scoped>\n",
       "    .dataframe tbody tr th:only-of-type {\n",
       "        vertical-align: middle;\n",
       "    }\n",
       "\n",
       "    .dataframe tbody tr th {\n",
       "        vertical-align: top;\n",
       "    }\n",
       "\n",
       "    .dataframe thead th {\n",
       "        text-align: right;\n",
       "    }\n",
       "</style>\n",
       "<table border=\"1\" class=\"dataframe\">\n",
       "  <thead>\n",
       "    <tr style=\"text-align: right;\">\n",
       "      <th></th>\n",
       "      <th>column_name</th>\n",
       "      <th>data_type</th>\n",
       "      <th>is_nullable</th>\n",
       "    </tr>\n",
       "  </thead>\n",
       "  <tbody>\n",
       "    <tr>\n",
       "      <th>0</th>\n",
       "      <td>state</td>\n",
       "      <td>STRING</td>\n",
       "      <td>YES</td>\n",
       "    </tr>\n",
       "    <tr>\n",
       "      <th>1</th>\n",
       "      <td>gender</td>\n",
       "      <td>STRING</td>\n",
       "      <td>YES</td>\n",
       "    </tr>\n",
       "    <tr>\n",
       "      <th>2</th>\n",
       "      <td>year</td>\n",
       "      <td>INT64</td>\n",
       "      <td>YES</td>\n",
       "    </tr>\n",
       "    <tr>\n",
       "      <th>3</th>\n",
       "      <td>name</td>\n",
       "      <td>STRING</td>\n",
       "      <td>YES</td>\n",
       "    </tr>\n",
       "    <tr>\n",
       "      <th>4</th>\n",
       "      <td>number</td>\n",
       "      <td>INT64</td>\n",
       "      <td>YES</td>\n",
       "    </tr>\n",
       "  </tbody>\n",
       "</table>\n",
       "</div>"
      ],
      "text/plain": [
       "  column_name data_type is_nullable\n",
       "0       state    STRING         YES\n",
       "1      gender    STRING         YES\n",
       "2        year     INT64         YES\n",
       "3        name    STRING         YES\n",
       "4      number     INT64         YES"
      ]
     },
     "metadata": {},
     "output_type": "display_data"
    },
    {
     "name": "stdout",
     "output_type": "stream",
     "text": [
      "\n",
      "📈 Rangos y cardinalidad de los datos:\n"
     ]
    },
    {
     "data": {
      "text/html": [
       "<div>\n",
       "<style scoped>\n",
       "    .dataframe tbody tr th:only-of-type {\n",
       "        vertical-align: middle;\n",
       "    }\n",
       "\n",
       "    .dataframe tbody tr th {\n",
       "        vertical-align: top;\n",
       "    }\n",
       "\n",
       "    .dataframe thead th {\n",
       "        text-align: right;\n",
       "    }\n",
       "</style>\n",
       "<table border=\"1\" class=\"dataframe\">\n",
       "  <thead>\n",
       "    <tr style=\"text-align: right;\">\n",
       "      <th></th>\n",
       "      <th>min_year</th>\n",
       "      <th>max_year</th>\n",
       "      <th>num_states</th>\n",
       "      <th>unique_names</th>\n",
       "      <th>gender_types</th>\n",
       "    </tr>\n",
       "  </thead>\n",
       "  <tbody>\n",
       "    <tr>\n",
       "      <th>0</th>\n",
       "      <td>1910</td>\n",
       "      <td>2013</td>\n",
       "      <td>51</td>\n",
       "      <td>29828</td>\n",
       "      <td>2</td>\n",
       "    </tr>\n",
       "  </tbody>\n",
       "</table>\n",
       "</div>"
      ],
      "text/plain": [
       "   min_year  max_year  num_states  unique_names  gender_types\n",
       "0      1910      2013          51         29828             2"
      ]
     },
     "metadata": {},
     "output_type": "display_data"
    },
    {
     "name": "stdout",
     "output_type": "stream",
     "text": [
      "\n",
      "🔍 Muestra aleatoria de registros:\n"
     ]
    },
    {
     "data": {
      "text/html": [
       "<div>\n",
       "<style scoped>\n",
       "    .dataframe tbody tr th:only-of-type {\n",
       "        vertical-align: middle;\n",
       "    }\n",
       "\n",
       "    .dataframe tbody tr th {\n",
       "        vertical-align: top;\n",
       "    }\n",
       "\n",
       "    .dataframe thead th {\n",
       "        text-align: right;\n",
       "    }\n",
       "</style>\n",
       "<table border=\"1\" class=\"dataframe\">\n",
       "  <thead>\n",
       "    <tr style=\"text-align: right;\">\n",
       "      <th></th>\n",
       "      <th>state</th>\n",
       "      <th>gender</th>\n",
       "      <th>year</th>\n",
       "      <th>name</th>\n",
       "      <th>number</th>\n",
       "    </tr>\n",
       "  </thead>\n",
       "  <tbody>\n",
       "    <tr>\n",
       "      <th>0</th>\n",
       "      <td>MD</td>\n",
       "      <td>F</td>\n",
       "      <td>1968</td>\n",
       "      <td>Leslie</td>\n",
       "      <td>115</td>\n",
       "    </tr>\n",
       "    <tr>\n",
       "      <th>1</th>\n",
       "      <td>HI</td>\n",
       "      <td>F</td>\n",
       "      <td>1987</td>\n",
       "      <td>Michelle</td>\n",
       "      <td>74</td>\n",
       "    </tr>\n",
       "    <tr>\n",
       "      <th>2</th>\n",
       "      <td>PA</td>\n",
       "      <td>F</td>\n",
       "      <td>1960</td>\n",
       "      <td>Miriam</td>\n",
       "      <td>72</td>\n",
       "    </tr>\n",
       "    <tr>\n",
       "      <th>3</th>\n",
       "      <td>MO</td>\n",
       "      <td>F</td>\n",
       "      <td>1974</td>\n",
       "      <td>Kristi</td>\n",
       "      <td>67</td>\n",
       "    </tr>\n",
       "    <tr>\n",
       "      <th>4</th>\n",
       "      <td>GA</td>\n",
       "      <td>F</td>\n",
       "      <td>1930</td>\n",
       "      <td>Louise</td>\n",
       "      <td>405</td>\n",
       "    </tr>\n",
       "    <tr>\n",
       "      <th>5</th>\n",
       "      <td>OK</td>\n",
       "      <td>F</td>\n",
       "      <td>1963</td>\n",
       "      <td>Joyce</td>\n",
       "      <td>53</td>\n",
       "    </tr>\n",
       "    <tr>\n",
       "      <th>6</th>\n",
       "      <td>CO</td>\n",
       "      <td>F</td>\n",
       "      <td>1991</td>\n",
       "      <td>Jamie</td>\n",
       "      <td>88</td>\n",
       "    </tr>\n",
       "    <tr>\n",
       "      <th>7</th>\n",
       "      <td>AR</td>\n",
       "      <td>F</td>\n",
       "      <td>1943</td>\n",
       "      <td>Dorthy</td>\n",
       "      <td>44</td>\n",
       "    </tr>\n",
       "    <tr>\n",
       "      <th>8</th>\n",
       "      <td>WA</td>\n",
       "      <td>F</td>\n",
       "      <td>1982</td>\n",
       "      <td>Anna</td>\n",
       "      <td>165</td>\n",
       "    </tr>\n",
       "    <tr>\n",
       "      <th>9</th>\n",
       "      <td>SD</td>\n",
       "      <td>F</td>\n",
       "      <td>1944</td>\n",
       "      <td>Betty</td>\n",
       "      <td>92</td>\n",
       "    </tr>\n",
       "  </tbody>\n",
       "</table>\n",
       "</div>"
      ],
      "text/plain": [
       "  state gender  year      name  number\n",
       "0    MD      F  1968    Leslie     115\n",
       "1    HI      F  1987  Michelle      74\n",
       "2    PA      F  1960    Miriam      72\n",
       "3    MO      F  1974    Kristi      67\n",
       "4    GA      F  1930    Louise     405\n",
       "5    OK      F  1963     Joyce      53\n",
       "6    CO      F  1991     Jamie      88\n",
       "7    AR      F  1943    Dorthy      44\n",
       "8    WA      F  1982      Anna     165\n",
       "9    SD      F  1944     Betty      92"
      ]
     },
     "metadata": {},
     "output_type": "display_data"
    },
    {
     "name": "stdout",
     "output_type": "stream",
     "text": [
      "\n",
      "📊 Distribución por año:\n"
     ]
    },
    {
     "data": {
      "application/vnd.plotly.v1+json": {
       "config": {
        "plotlyServerURL": "https://plot.ly"
       },
       "data": [
        {
         "mode": "lines",
         "name": "Nombres Únicos",
         "type": "scatter",
         "x": {
          "bdata": "dgd3B3gHeQd6B3sHfAd9B34HfweAB4EHggeDB4QHhQeGB4cHiAeJB4oHiweMB40HjgePB5AHkQeSB5MHlAeVB5YHlweYB5kHmgebB5wHnQeeB58HoAehB6IHowekB6UHpgenB6gHqQeqB6sHrAetB64HrwewB7EHsgezB7QHtQe2B7cHuAe5B7oHuwe8B70Hvge/B8AHwQfCB8MHxAfFB8YHxwfIB8kHygfLB8wHzQfOB88H0AfRB9IH0wfUB9UH1gfXB9gH2QfaB9sH3AfdBw==",
          "dtype": "i2"
         },
         "xaxis": "x",
         "y": {
          "bdata": "nQbMBtUIrAkvCwkNdw27DScOVg66DgkPNg/bDiMP1g63DocONQ7dDZcNJw03DbsM2gzZDG8MbAxzDIQMiwymDBgNQQ3FDKsMpA1bDjIOJg4NDkIOgg63DtAOFA8+D1oPVw+rD+wPGBDkDxUQJxAEEN8PQhB4EGkRUBLDEnIS0xIcE90TOBT3FCQV1RWeFuwWVRcTF3UXKhjzGJkZ2RrKHIwepx7sHjYfLR/YHvUeGh++H2Ig+SEwIqMidCMeJNkkDyYbJ+cmBCf2JeolsyUmJQ==",
          "dtype": "i2"
         },
         "yaxis": "y"
        },
        {
         "mode": "lines",
         "name": "Total Nacimientos",
         "type": "scatter",
         "x": {
          "bdata": "dgd3B3gHeQd6B3sHfAd9B34HfweAB4EHggeDB4QHhQeGB4cHiAeJB4oHiweMB40HjgePB5AHkQeSB5MHlAeVB5YHlweYB5kHmgebB5wHnQeeB58HoAehB6IHowekB6UHpgenB6gHqQeqB6sHrAetB64HrwewB7EHsgezB7QHtQe2B7cHuAe5B7oHuwe8B70Hvge/B8AHwQfCB8MHxAfFB8YHxwfIB8kHygfLB8wHzQfOB88H0AfRB9IH0wfUB9UH1gfXB9gH2QfaB9sH3AfdBw==",
          "dtype": "i2"
         },
         "xaxis": "x2",
         "y": {
          "bdata": "0+AHACeiCAChjA0Ar7EPAO27EwCsyRkAfkIbANNQHADUuB4AFtQdAK4PIAD/HyEAwnUgAL2tIAAo2yEAyyUhAKacIAAm9iAADyAgAK4iHwCvmB8AHeMdAED5HQAGWBwABYAdACm1HQAZix0Ad1AeAOWOHwAwbh8A9+sgABLqIgCBUCcAaakoAEK2JgAMLSYAz0QuAMRMNADPDzIA7oIyAPjRMgC0eDUAgSw3AAzuNwDh1jkAQFA6ALXnOwBDET0AWgU8AAZaPAA7PzwAO/Y7ALZhOgASMDkAgxI4AHUvNADK3TEAp5cwAOc3MAA8hjEARUQzAAZ9MACfGiwA1hoqAF1UKgDc4CkA1QUqAOz7KwDN5isAxQ4uANnBLwAg/i8A1LQwAGAbMABJdTAAv4QxAE4+MQDH1DEAuvcyANYGNQAlajYAIHI1AHCFNAAbUzMAzHUyAMySMQArNDEAyLcwAMNFMQB8VDEANU0yADqaMQClZzEAYi4yAKlBMgDDbTIAS68zACoPNADL9DIAu0wxANiHLwBN8i4ArtcuALGJLgA=",
          "dtype": "i4"
         },
         "yaxis": "y2"
        }
       ],
       "layout": {
        "annotations": [
         {
          "font": {
           "size": 16
          },
          "showarrow": false,
          "text": "Número de Nombres Únicos por Año",
          "x": 0.5,
          "xanchor": "center",
          "xref": "paper",
          "y": 1,
          "yanchor": "bottom",
          "yref": "paper"
         },
         {
          "font": {
           "size": 16
          },
          "showarrow": false,
          "text": "Total de Nacimientos por Año",
          "x": 0.5,
          "xanchor": "center",
          "xref": "paper",
          "y": 0.375,
          "yanchor": "bottom",
          "yref": "paper"
         }
        ],
        "height": 800,
        "showlegend": true,
        "template": {
         "data": {
          "bar": [
           {
            "error_x": {
             "color": "#2a3f5f"
            },
            "error_y": {
             "color": "#2a3f5f"
            },
            "marker": {
             "line": {
              "color": "#E5ECF6",
              "width": 0.5
             },
             "pattern": {
              "fillmode": "overlay",
              "size": 10,
              "solidity": 0.2
             }
            },
            "type": "bar"
           }
          ],
          "barpolar": [
           {
            "marker": {
             "line": {
              "color": "#E5ECF6",
              "width": 0.5
             },
             "pattern": {
              "fillmode": "overlay",
              "size": 10,
              "solidity": 0.2
             }
            },
            "type": "barpolar"
           }
          ],
          "carpet": [
           {
            "aaxis": {
             "endlinecolor": "#2a3f5f",
             "gridcolor": "white",
             "linecolor": "white",
             "minorgridcolor": "white",
             "startlinecolor": "#2a3f5f"
            },
            "baxis": {
             "endlinecolor": "#2a3f5f",
             "gridcolor": "white",
             "linecolor": "white",
             "minorgridcolor": "white",
             "startlinecolor": "#2a3f5f"
            },
            "type": "carpet"
           }
          ],
          "choropleth": [
           {
            "colorbar": {
             "outlinewidth": 0,
             "ticks": ""
            },
            "type": "choropleth"
           }
          ],
          "contour": [
           {
            "colorbar": {
             "outlinewidth": 0,
             "ticks": ""
            },
            "colorscale": [
             [
              0,
              "#0d0887"
             ],
             [
              0.1111111111111111,
              "#46039f"
             ],
             [
              0.2222222222222222,
              "#7201a8"
             ],
             [
              0.3333333333333333,
              "#9c179e"
             ],
             [
              0.4444444444444444,
              "#bd3786"
             ],
             [
              0.5555555555555556,
              "#d8576b"
             ],
             [
              0.6666666666666666,
              "#ed7953"
             ],
             [
              0.7777777777777778,
              "#fb9f3a"
             ],
             [
              0.8888888888888888,
              "#fdca26"
             ],
             [
              1,
              "#f0f921"
             ]
            ],
            "type": "contour"
           }
          ],
          "contourcarpet": [
           {
            "colorbar": {
             "outlinewidth": 0,
             "ticks": ""
            },
            "type": "contourcarpet"
           }
          ],
          "heatmap": [
           {
            "colorbar": {
             "outlinewidth": 0,
             "ticks": ""
            },
            "colorscale": [
             [
              0,
              "#0d0887"
             ],
             [
              0.1111111111111111,
              "#46039f"
             ],
             [
              0.2222222222222222,
              "#7201a8"
             ],
             [
              0.3333333333333333,
              "#9c179e"
             ],
             [
              0.4444444444444444,
              "#bd3786"
             ],
             [
              0.5555555555555556,
              "#d8576b"
             ],
             [
              0.6666666666666666,
              "#ed7953"
             ],
             [
              0.7777777777777778,
              "#fb9f3a"
             ],
             [
              0.8888888888888888,
              "#fdca26"
             ],
             [
              1,
              "#f0f921"
             ]
            ],
            "type": "heatmap"
           }
          ],
          "histogram": [
           {
            "marker": {
             "pattern": {
              "fillmode": "overlay",
              "size": 10,
              "solidity": 0.2
             }
            },
            "type": "histogram"
           }
          ],
          "histogram2d": [
           {
            "colorbar": {
             "outlinewidth": 0,
             "ticks": ""
            },
            "colorscale": [
             [
              0,
              "#0d0887"
             ],
             [
              0.1111111111111111,
              "#46039f"
             ],
             [
              0.2222222222222222,
              "#7201a8"
             ],
             [
              0.3333333333333333,
              "#9c179e"
             ],
             [
              0.4444444444444444,
              "#bd3786"
             ],
             [
              0.5555555555555556,
              "#d8576b"
             ],
             [
              0.6666666666666666,
              "#ed7953"
             ],
             [
              0.7777777777777778,
              "#fb9f3a"
             ],
             [
              0.8888888888888888,
              "#fdca26"
             ],
             [
              1,
              "#f0f921"
             ]
            ],
            "type": "histogram2d"
           }
          ],
          "histogram2dcontour": [
           {
            "colorbar": {
             "outlinewidth": 0,
             "ticks": ""
            },
            "colorscale": [
             [
              0,
              "#0d0887"
             ],
             [
              0.1111111111111111,
              "#46039f"
             ],
             [
              0.2222222222222222,
              "#7201a8"
             ],
             [
              0.3333333333333333,
              "#9c179e"
             ],
             [
              0.4444444444444444,
              "#bd3786"
             ],
             [
              0.5555555555555556,
              "#d8576b"
             ],
             [
              0.6666666666666666,
              "#ed7953"
             ],
             [
              0.7777777777777778,
              "#fb9f3a"
             ],
             [
              0.8888888888888888,
              "#fdca26"
             ],
             [
              1,
              "#f0f921"
             ]
            ],
            "type": "histogram2dcontour"
           }
          ],
          "mesh3d": [
           {
            "colorbar": {
             "outlinewidth": 0,
             "ticks": ""
            },
            "type": "mesh3d"
           }
          ],
          "parcoords": [
           {
            "line": {
             "colorbar": {
              "outlinewidth": 0,
              "ticks": ""
             }
            },
            "type": "parcoords"
           }
          ],
          "pie": [
           {
            "automargin": true,
            "type": "pie"
           }
          ],
          "scatter": [
           {
            "fillpattern": {
             "fillmode": "overlay",
             "size": 10,
             "solidity": 0.2
            },
            "type": "scatter"
           }
          ],
          "scatter3d": [
           {
            "line": {
             "colorbar": {
              "outlinewidth": 0,
              "ticks": ""
             }
            },
            "marker": {
             "colorbar": {
              "outlinewidth": 0,
              "ticks": ""
             }
            },
            "type": "scatter3d"
           }
          ],
          "scattercarpet": [
           {
            "marker": {
             "colorbar": {
              "outlinewidth": 0,
              "ticks": ""
             }
            },
            "type": "scattercarpet"
           }
          ],
          "scattergeo": [
           {
            "marker": {
             "colorbar": {
              "outlinewidth": 0,
              "ticks": ""
             }
            },
            "type": "scattergeo"
           }
          ],
          "scattergl": [
           {
            "marker": {
             "colorbar": {
              "outlinewidth": 0,
              "ticks": ""
             }
            },
            "type": "scattergl"
           }
          ],
          "scattermap": [
           {
            "marker": {
             "colorbar": {
              "outlinewidth": 0,
              "ticks": ""
             }
            },
            "type": "scattermap"
           }
          ],
          "scattermapbox": [
           {
            "marker": {
             "colorbar": {
              "outlinewidth": 0,
              "ticks": ""
             }
            },
            "type": "scattermapbox"
           }
          ],
          "scatterpolar": [
           {
            "marker": {
             "colorbar": {
              "outlinewidth": 0,
              "ticks": ""
             }
            },
            "type": "scatterpolar"
           }
          ],
          "scatterpolargl": [
           {
            "marker": {
             "colorbar": {
              "outlinewidth": 0,
              "ticks": ""
             }
            },
            "type": "scatterpolargl"
           }
          ],
          "scatterternary": [
           {
            "marker": {
             "colorbar": {
              "outlinewidth": 0,
              "ticks": ""
             }
            },
            "type": "scatterternary"
           }
          ],
          "surface": [
           {
            "colorbar": {
             "outlinewidth": 0,
             "ticks": ""
            },
            "colorscale": [
             [
              0,
              "#0d0887"
             ],
             [
              0.1111111111111111,
              "#46039f"
             ],
             [
              0.2222222222222222,
              "#7201a8"
             ],
             [
              0.3333333333333333,
              "#9c179e"
             ],
             [
              0.4444444444444444,
              "#bd3786"
             ],
             [
              0.5555555555555556,
              "#d8576b"
             ],
             [
              0.6666666666666666,
              "#ed7953"
             ],
             [
              0.7777777777777778,
              "#fb9f3a"
             ],
             [
              0.8888888888888888,
              "#fdca26"
             ],
             [
              1,
              "#f0f921"
             ]
            ],
            "type": "surface"
           }
          ],
          "table": [
           {
            "cells": {
             "fill": {
              "color": "#EBF0F8"
             },
             "line": {
              "color": "white"
             }
            },
            "header": {
             "fill": {
              "color": "#C8D4E3"
             },
             "line": {
              "color": "white"
             }
            },
            "type": "table"
           }
          ]
         },
         "layout": {
          "annotationdefaults": {
           "arrowcolor": "#2a3f5f",
           "arrowhead": 0,
           "arrowwidth": 1
          },
          "autotypenumbers": "strict",
          "coloraxis": {
           "colorbar": {
            "outlinewidth": 0,
            "ticks": ""
           }
          },
          "colorscale": {
           "diverging": [
            [
             0,
             "#8e0152"
            ],
            [
             0.1,
             "#c51b7d"
            ],
            [
             0.2,
             "#de77ae"
            ],
            [
             0.3,
             "#f1b6da"
            ],
            [
             0.4,
             "#fde0ef"
            ],
            [
             0.5,
             "#f7f7f7"
            ],
            [
             0.6,
             "#e6f5d0"
            ],
            [
             0.7,
             "#b8e186"
            ],
            [
             0.8,
             "#7fbc41"
            ],
            [
             0.9,
             "#4d9221"
            ],
            [
             1,
             "#276419"
            ]
           ],
           "sequential": [
            [
             0,
             "#0d0887"
            ],
            [
             0.1111111111111111,
             "#46039f"
            ],
            [
             0.2222222222222222,
             "#7201a8"
            ],
            [
             0.3333333333333333,
             "#9c179e"
            ],
            [
             0.4444444444444444,
             "#bd3786"
            ],
            [
             0.5555555555555556,
             "#d8576b"
            ],
            [
             0.6666666666666666,
             "#ed7953"
            ],
            [
             0.7777777777777778,
             "#fb9f3a"
            ],
            [
             0.8888888888888888,
             "#fdca26"
            ],
            [
             1,
             "#f0f921"
            ]
           ],
           "sequentialminus": [
            [
             0,
             "#0d0887"
            ],
            [
             0.1111111111111111,
             "#46039f"
            ],
            [
             0.2222222222222222,
             "#7201a8"
            ],
            [
             0.3333333333333333,
             "#9c179e"
            ],
            [
             0.4444444444444444,
             "#bd3786"
            ],
            [
             0.5555555555555556,
             "#d8576b"
            ],
            [
             0.6666666666666666,
             "#ed7953"
            ],
            [
             0.7777777777777778,
             "#fb9f3a"
            ],
            [
             0.8888888888888888,
             "#fdca26"
            ],
            [
             1,
             "#f0f921"
            ]
           ]
          },
          "colorway": [
           "#636efa",
           "#EF553B",
           "#00cc96",
           "#ab63fa",
           "#FFA15A",
           "#19d3f3",
           "#FF6692",
           "#B6E880",
           "#FF97FF",
           "#FECB52"
          ],
          "font": {
           "color": "#2a3f5f"
          },
          "geo": {
           "bgcolor": "white",
           "lakecolor": "white",
           "landcolor": "#E5ECF6",
           "showlakes": true,
           "showland": true,
           "subunitcolor": "white"
          },
          "hoverlabel": {
           "align": "left"
          },
          "hovermode": "closest",
          "mapbox": {
           "style": "light"
          },
          "paper_bgcolor": "white",
          "plot_bgcolor": "#E5ECF6",
          "polar": {
           "angularaxis": {
            "gridcolor": "white",
            "linecolor": "white",
            "ticks": ""
           },
           "bgcolor": "#E5ECF6",
           "radialaxis": {
            "gridcolor": "white",
            "linecolor": "white",
            "ticks": ""
           }
          },
          "scene": {
           "xaxis": {
            "backgroundcolor": "#E5ECF6",
            "gridcolor": "white",
            "gridwidth": 2,
            "linecolor": "white",
            "showbackground": true,
            "ticks": "",
            "zerolinecolor": "white"
           },
           "yaxis": {
            "backgroundcolor": "#E5ECF6",
            "gridcolor": "white",
            "gridwidth": 2,
            "linecolor": "white",
            "showbackground": true,
            "ticks": "",
            "zerolinecolor": "white"
           },
           "zaxis": {
            "backgroundcolor": "#E5ECF6",
            "gridcolor": "white",
            "gridwidth": 2,
            "linecolor": "white",
            "showbackground": true,
            "ticks": "",
            "zerolinecolor": "white"
           }
          },
          "shapedefaults": {
           "line": {
            "color": "#2a3f5f"
           }
          },
          "ternary": {
           "aaxis": {
            "gridcolor": "white",
            "linecolor": "white",
            "ticks": ""
           },
           "baxis": {
            "gridcolor": "white",
            "linecolor": "white",
            "ticks": ""
           },
           "bgcolor": "#E5ECF6",
           "caxis": {
            "gridcolor": "white",
            "linecolor": "white",
            "ticks": ""
           }
          },
          "title": {
           "x": 0.05
          },
          "xaxis": {
           "automargin": true,
           "gridcolor": "white",
           "linecolor": "white",
           "ticks": "",
           "title": {
            "standoff": 15
           },
           "zerolinecolor": "white",
           "zerolinewidth": 2
          },
          "yaxis": {
           "automargin": true,
           "gridcolor": "white",
           "linecolor": "white",
           "ticks": "",
           "title": {
            "standoff": 15
           },
           "zerolinecolor": "white",
           "zerolinewidth": 2
          }
         }
        },
        "xaxis": {
         "anchor": "y",
         "domain": [
          0,
          1
         ]
        },
        "xaxis2": {
         "anchor": "y2",
         "domain": [
          0,
          1
         ]
        },
        "yaxis": {
         "anchor": "x",
         "domain": [
          0.625,
          1
         ]
        },
        "yaxis2": {
         "anchor": "x2",
         "domain": [
          0,
          0.375
         ]
        }
       }
      }
     },
     "metadata": {},
     "output_type": "display_data"
    }
   ],
   "source": [
    "# Explorar el esquema de la tabla\n",
    "try:\n",
    "    # Consulta para obtener el esquema\n",
    "    schema_query = \"\"\"\n",
    "    SELECT \n",
    "        column_name,\n",
    "        data_type,\n",
    "        is_nullable\n",
    "    FROM \n",
    "        `bigquery-public-data.usa_names.INFORMATION_SCHEMA.COLUMNS`\n",
    "    WHERE \n",
    "        table_name = 'usa_1910_2013'\n",
    "    ORDER BY \n",
    "        ordinal_position\n",
    "    \"\"\"\n",
    "    \n",
    "    print(\"📊 Esquema de la tabla:\")\n",
    "    schema_df = client.query(schema_query).to_dataframe()\n",
    "    display(schema_df)\n",
    "    \n",
    "    # Consulta para ver los rangos de datos\n",
    "    ranges_query = \"\"\"\n",
    "    SELECT\n",
    "        MIN(year) as min_year,\n",
    "        MAX(year) as max_year,\n",
    "        COUNT(DISTINCT state) as num_states,\n",
    "        COUNT(DISTINCT name) as unique_names,\n",
    "        COUNT(DISTINCT gender) as gender_types\n",
    "    FROM \n",
    "        `bigquery-public-data.usa_names.usa_1910_2013`\n",
    "    \"\"\"\n",
    "    \n",
    "    print(\"\\n📈 Rangos y cardinalidad de los datos:\")\n",
    "    ranges_df = client.query(ranges_query).to_dataframe()\n",
    "    display(ranges_df)\n",
    "    \n",
    "    # Muestra de los datos\n",
    "    sample_query = \"\"\"\n",
    "    SELECT *\n",
    "    FROM `bigquery-public-data.usa_names.usa_1910_2013`\n",
    "    WHERE RAND() < 0.0001\n",
    "    LIMIT 10\n",
    "    \"\"\"\n",
    "    \n",
    "    print(\"\\n🔍 Muestra aleatoria de registros:\")\n",
    "    sample_df = client.query(sample_query).to_dataframe()\n",
    "    display(sample_df)\n",
    "    \n",
    "    # Distribución por año\n",
    "    dist_query = \"\"\"\n",
    "    SELECT\n",
    "        year,\n",
    "        COUNT(*) as num_records,\n",
    "        COUNT(DISTINCT name) as unique_names,\n",
    "        SUM(number) as total_births\n",
    "    FROM \n",
    "        `bigquery-public-data.usa_names.usa_1910_2013`\n",
    "    GROUP BY \n",
    "        year\n",
    "    ORDER BY \n",
    "        year\n",
    "    \"\"\"\n",
    "    \n",
    "    print(\"\\n📊 Distribución por año:\")\n",
    "    dist_df = client.query(dist_query).to_dataframe()\n",
    "    \n",
    "    # Visualizar distribución temporal\n",
    "    fig = make_subplots(rows=2, cols=1,\n",
    "                       subplot_titles=('Número de Nombres Únicos por Año',\n",
    "                                     'Total de Nacimientos por Año'))\n",
    "    \n",
    "    fig.add_trace(\n",
    "        go.Scatter(x=dist_df['year'], \n",
    "                  y=dist_df['unique_names'],\n",
    "                  mode='lines',\n",
    "                  name='Nombres Únicos'),\n",
    "        row=1, col=1\n",
    "    )\n",
    "    \n",
    "    fig.add_trace(\n",
    "        go.Scatter(x=dist_df['year'], \n",
    "                  y=dist_df['total_births'],\n",
    "                  mode='lines',\n",
    "                  name='Total Nacimientos'),\n",
    "        row=2, col=1\n",
    "    )\n",
    "    \n",
    "    fig.update_layout(height=800, showlegend=True)\n",
    "    fig.show()\n",
    "\n",
    "except Exception as e:\n",
    "    print(f\"Error en la exploración: {str(e)}\")\n",
    "    print(\"\\nAsegúrate de que:\")\n",
    "    print(\"1. Las credenciales están configuradas correctamente\")\n",
    "    print(\"2. Tienes acceso al dataset\")\n",
    "    print(\"3. La API de BigQuery está habilitada\")"
   ]
  },
  {
   "cell_type": "code",
   "execution_count": 8,
   "id": "2f6775e3",
   "metadata": {},
   "outputs": [
    {
     "name": "stdout",
     "output_type": "stream",
     "text": [
      "✅ Conexión exitosa a BigQuery\n",
      "📊 Total de registros en el dataset: 5,552,452\n"
     ]
    }
   ],
   "source": [
    "try:\n",
    "    # Crear cliente de BigQuery\n",
    "    client = bigquery.Client()\n",
    "    \n",
    "    # Consulta simple de prueba\n",
    "    query_test = \"\"\"\n",
    "    SELECT COUNT(*) as total_records \n",
    "    FROM `bigquery-public-data.usa_names.usa_1910_2013`\n",
    "    \"\"\"\n",
    "    \n",
    "    # Ejecutar consulta de prueba\n",
    "    result = client.query(query_test).result()\n",
    "    total_records = list(result)[0].total_records\n",
    "    \n",
    "    print(\"✅ Conexión exitosa a BigQuery\")\n",
    "    print(f\"📊 Total de registros en el dataset: {total_records:,}\")\n",
    "    \n",
    "except Exception as e:\n",
    "    print(\"❌ Error al conectar con BigQuery:\")\n",
    "    print(str(e))\n",
    "    print(\"\\nPara configurar BigQuery:\")\n",
    "    print(\"1. Crear cuenta en Google Cloud Platform\")\n",
    "    print(\"2. Crear un proyecto nuevo\")\n",
    "    print(\"3. Habilitar la API de BigQuery\")\n",
    "    print(\"4. Configurar credenciales de autenticación\")\n",
    "    print(\"5. Instalar dependencias: pip install google-cloud-bigquery pandas plotly\")"
   ]
  },
  {
   "cell_type": "markdown",
   "id": "ed08eada",
   "metadata": {},
   "source": [
    "## Análisis de Tendencias por Década\n",
    "\n",
    "Analizaremos cómo han evolucionado los nombres más populares a lo largo de las décadas, separando el análisis por género."
   ]
  },
  {
   "cell_type": "code",
   "execution_count": 9,
   "id": "8e4eca32",
   "metadata": {},
   "outputs": [
    {
     "name": "stdout",
     "output_type": "stream",
     "text": [
      "Ejecutando análisis de tendencias...\n",
      "Error en el análisis: 400 Partitioning by expressions of type FLOAT64 is not allowed at [17:30]; reason: invalidQuery, location: query, message: Partitioning by expressions of type FLOAT64 is not allowed at [17:30]\n",
      "\n",
      "Location: US\n",
      "Job ID: 772a8a20-6de8-4f96-83ce-b12d8300b6b8\n",
      "\n",
      "Error en el análisis: 400 Partitioning by expressions of type FLOAT64 is not allowed at [17:30]; reason: invalidQuery, location: query, message: Partitioning by expressions of type FLOAT64 is not allowed at [17:30]\n",
      "\n",
      "Location: US\n",
      "Job ID: 772a8a20-6de8-4f96-83ce-b12d8300b6b8\n",
      "\n"
     ]
    }
   ],
   "source": [
    "# Consulta para obtener tendencias de nombres por década\n",
    "query_tendencias = \"\"\"\n",
    "WITH DecadeData AS (\n",
    "    SELECT\n",
    "        FLOOR(year/10) * 10 as decade,\n",
    "        name,\n",
    "        gender,\n",
    "        SUM(number) as total_count\n",
    "    FROM `bigquery-public-data.usa_names.usa_1910_2013`\n",
    "    GROUP BY decade, name, gender\n",
    "    HAVING total_count > 10000\n",
    ")\n",
    "SELECT\n",
    "    decade,\n",
    "    name,\n",
    "    gender,\n",
    "    total_count,\n",
    "    RANK() OVER(PARTITION BY decade, gender ORDER BY total_count DESC) as rank\n",
    "FROM DecadeData\n",
    "HAVING rank <= 5\n",
    "ORDER BY decade, gender, rank\n",
    "\"\"\"\n",
    "\n",
    "try:\n",
    "    print(\"Ejecutando análisis de tendencias...\")\n",
    "    df_nombres = client.query(query_tendencias).to_dataframe()\n",
    "    print(f\"Datos obtenidos: {len(df_nombres)} registros\")\n",
    "    \n",
    "    # Crear visualización\n",
    "    fig = make_subplots(\n",
    "        rows=2, cols=1,\n",
    "        subplot_titles=('Nombres más populares - Masculinos',\n",
    "                       'Nombres más populares - Femeninos'),\n",
    "        vertical_spacing=0.12\n",
    "    )\n",
    "    \n",
    "    # Gráfico para nombres masculinos\n",
    "    df_m = df_nombres[df_nombres['gender'] == 'M']\n",
    "    for name in df_m['name'].unique():\n",
    "        data_name = df_m[df_m['name'] == name]\n",
    "        fig.add_trace(\n",
    "            go.Scatter(x=data_name['decade'], \n",
    "                      y=data_name['total_count'],\n",
    "                      name=name, \n",
    "                      mode='lines+markers'),\n",
    "            row=1, col=1\n",
    "        )\n",
    "    \n",
    "    # Gráfico para nombres femeninos\n",
    "    df_f = df_nombres[df_nombres['gender'] == 'F']\n",
    "    for name in df_f['name'].unique():\n",
    "        data_name = df_f[df_f['name'] == name]\n",
    "        fig.add_trace(\n",
    "            go.Scatter(x=data_name['decade'], \n",
    "                      y=data_name['total_count'],\n",
    "                      name=name, \n",
    "                      mode='lines+markers'),\n",
    "            row=2, col=1\n",
    "        )\n",
    "    \n",
    "    # Actualizar diseño\n",
    "    fig.update_layout(\n",
    "        height=800,\n",
    "        width=1000,\n",
    "        title_text=\"Tendencias de Nombres Populares por Década (1910-2013)\",\n",
    "        showlegend=True\n",
    "    )\n",
    "    fig.update_xaxes(title_text=\"Década\", row=2, col=1)\n",
    "    fig.update_yaxes(title_text=\"Número total\", row=1, col=1)\n",
    "    fig.update_yaxes(title_text=\"Número total\", row=2, col=1)\n",
    "    \n",
    "    fig.show()\n",
    "    \n",
    "    # Mostrar tabla resumen\n",
    "    print(\"\\nResumen de nombres más populares por década:\")\n",
    "    display(df_nombres.pivot_table(\n",
    "        values='total_count',\n",
    "        index=['decade', 'gender'],\n",
    "        columns='rank',\n",
    "        aggfunc='first'\n",
    "    ).round(0))\n",
    "    \n",
    "except Exception as e:\n",
    "    print(f\"Error en el análisis: {str(e)}\")"
   ]
  },
  {
   "cell_type": "markdown",
   "id": "c3ac2d99",
   "metadata": {},
   "source": [
    "## Análisis de Diversidad de Nombres\n",
    "\n",
    "Ahora analizaremos cómo ha cambiado la diversidad de nombres a lo largo del tiempo, calculando el número de nombres únicos por década y género."
   ]
  },
  {
   "cell_type": "code",
   "execution_count": 10,
   "id": "548cc825",
   "metadata": {},
   "outputs": [
    {
     "name": "stdout",
     "output_type": "stream",
     "text": [
      "Analizando diversidad de nombres...\n"
     ]
    },
    {
     "data": {
      "application/vnd.plotly.v1+json": {
       "config": {
        "plotlyServerURL": "https://plot.ly"
       },
       "data": [
        {
         "hovertemplate": "Género=F<br>Década=%{x}<br>Nombres únicos por cada 1000 nacimientos=%{y}<extra></extra>",
         "legendgroup": "F",
         "line": {
          "color": "#636efa",
          "dash": "solid"
         },
         "marker": {
          "symbol": "circle"
         },
         "mode": "lines",
         "name": "F",
         "orientation": "v",
         "showlegend": true,
         "type": "scatter",
         "x": {
          "bdata": "AAAAAADYnUAAAAAAAACeQAAAAAAAKJ5AAAAAAABQnkAAAAAAAHieQAAAAAAAoJ5AAAAAAADInkAAAAAAAPCeQAAAAAAAGJ9AAAAAAABAn0AAAAAAAGifQA==",
          "dtype": "f8"
         },
         "xaxis": "x",
         "y": {
          "bdata": "ad8L69rw2D+tsbQqj5zUPw276BSn5dM/1LkSl3/Kzj+fKjPCUZXLP3Xqit9JHNE/oPmeMgi82z+BXbSez1/fP7vPr2bUGOM/YsT64ETE5T+Rlt7do7n2Pw==",
          "dtype": "f8"
         },
         "yaxis": "y"
        },
        {
         "hovertemplate": "Género=M<br>Década=%{x}<br>Nombres únicos por cada 1000 nacimientos=%{y}<extra></extra>",
         "legendgroup": "M",
         "line": {
          "color": "#EF553B",
          "dash": "solid"
         },
         "marker": {
          "symbol": "circle"
         },
         "mode": "lines",
         "name": "M",
         "orientation": "v",
         "showlegend": true,
         "type": "scatter",
         "x": {
          "bdata": "AAAAAADYnUAAAAAAAACeQAAAAAAAKJ5AAAAAAABQnkAAAAAAAHieQAAAAAAAoJ5AAAAAAADInkAAAAAAAPCeQAAAAAAAGJ9AAAAAAABAn0AAAAAAAGifQA==",
          "dtype": "f8"
         },
         "xaxis": "x",
         "y": {
          "bdata": "VvIY8z7y3D/L6qAJW7TUPzXnXqStK9I/HfuSr/Htxz93J1OluHDCP5aU8Q4Fy8M/rSQjIWJgzz9FxXLxDKrSP6v6/WRzStc/6/mYWgDp2j/i/Fijg1PtPw==",
          "dtype": "f8"
         },
         "yaxis": "y"
        }
       ],
       "layout": {
        "height": 500,
        "legend": {
         "title": {
          "text": "Género"
         },
         "tracegroupgap": 0
        },
        "showlegend": true,
        "template": {
         "data": {
          "bar": [
           {
            "error_x": {
             "color": "#2a3f5f"
            },
            "error_y": {
             "color": "#2a3f5f"
            },
            "marker": {
             "line": {
              "color": "#E5ECF6",
              "width": 0.5
             },
             "pattern": {
              "fillmode": "overlay",
              "size": 10,
              "solidity": 0.2
             }
            },
            "type": "bar"
           }
          ],
          "barpolar": [
           {
            "marker": {
             "line": {
              "color": "#E5ECF6",
              "width": 0.5
             },
             "pattern": {
              "fillmode": "overlay",
              "size": 10,
              "solidity": 0.2
             }
            },
            "type": "barpolar"
           }
          ],
          "carpet": [
           {
            "aaxis": {
             "endlinecolor": "#2a3f5f",
             "gridcolor": "white",
             "linecolor": "white",
             "minorgridcolor": "white",
             "startlinecolor": "#2a3f5f"
            },
            "baxis": {
             "endlinecolor": "#2a3f5f",
             "gridcolor": "white",
             "linecolor": "white",
             "minorgridcolor": "white",
             "startlinecolor": "#2a3f5f"
            },
            "type": "carpet"
           }
          ],
          "choropleth": [
           {
            "colorbar": {
             "outlinewidth": 0,
             "ticks": ""
            },
            "type": "choropleth"
           }
          ],
          "contour": [
           {
            "colorbar": {
             "outlinewidth": 0,
             "ticks": ""
            },
            "colorscale": [
             [
              0,
              "#0d0887"
             ],
             [
              0.1111111111111111,
              "#46039f"
             ],
             [
              0.2222222222222222,
              "#7201a8"
             ],
             [
              0.3333333333333333,
              "#9c179e"
             ],
             [
              0.4444444444444444,
              "#bd3786"
             ],
             [
              0.5555555555555556,
              "#d8576b"
             ],
             [
              0.6666666666666666,
              "#ed7953"
             ],
             [
              0.7777777777777778,
              "#fb9f3a"
             ],
             [
              0.8888888888888888,
              "#fdca26"
             ],
             [
              1,
              "#f0f921"
             ]
            ],
            "type": "contour"
           }
          ],
          "contourcarpet": [
           {
            "colorbar": {
             "outlinewidth": 0,
             "ticks": ""
            },
            "type": "contourcarpet"
           }
          ],
          "heatmap": [
           {
            "colorbar": {
             "outlinewidth": 0,
             "ticks": ""
            },
            "colorscale": [
             [
              0,
              "#0d0887"
             ],
             [
              0.1111111111111111,
              "#46039f"
             ],
             [
              0.2222222222222222,
              "#7201a8"
             ],
             [
              0.3333333333333333,
              "#9c179e"
             ],
             [
              0.4444444444444444,
              "#bd3786"
             ],
             [
              0.5555555555555556,
              "#d8576b"
             ],
             [
              0.6666666666666666,
              "#ed7953"
             ],
             [
              0.7777777777777778,
              "#fb9f3a"
             ],
             [
              0.8888888888888888,
              "#fdca26"
             ],
             [
              1,
              "#f0f921"
             ]
            ],
            "type": "heatmap"
           }
          ],
          "histogram": [
           {
            "marker": {
             "pattern": {
              "fillmode": "overlay",
              "size": 10,
              "solidity": 0.2
             }
            },
            "type": "histogram"
           }
          ],
          "histogram2d": [
           {
            "colorbar": {
             "outlinewidth": 0,
             "ticks": ""
            },
            "colorscale": [
             [
              0,
              "#0d0887"
             ],
             [
              0.1111111111111111,
              "#46039f"
             ],
             [
              0.2222222222222222,
              "#7201a8"
             ],
             [
              0.3333333333333333,
              "#9c179e"
             ],
             [
              0.4444444444444444,
              "#bd3786"
             ],
             [
              0.5555555555555556,
              "#d8576b"
             ],
             [
              0.6666666666666666,
              "#ed7953"
             ],
             [
              0.7777777777777778,
              "#fb9f3a"
             ],
             [
              0.8888888888888888,
              "#fdca26"
             ],
             [
              1,
              "#f0f921"
             ]
            ],
            "type": "histogram2d"
           }
          ],
          "histogram2dcontour": [
           {
            "colorbar": {
             "outlinewidth": 0,
             "ticks": ""
            },
            "colorscale": [
             [
              0,
              "#0d0887"
             ],
             [
              0.1111111111111111,
              "#46039f"
             ],
             [
              0.2222222222222222,
              "#7201a8"
             ],
             [
              0.3333333333333333,
              "#9c179e"
             ],
             [
              0.4444444444444444,
              "#bd3786"
             ],
             [
              0.5555555555555556,
              "#d8576b"
             ],
             [
              0.6666666666666666,
              "#ed7953"
             ],
             [
              0.7777777777777778,
              "#fb9f3a"
             ],
             [
              0.8888888888888888,
              "#fdca26"
             ],
             [
              1,
              "#f0f921"
             ]
            ],
            "type": "histogram2dcontour"
           }
          ],
          "mesh3d": [
           {
            "colorbar": {
             "outlinewidth": 0,
             "ticks": ""
            },
            "type": "mesh3d"
           }
          ],
          "parcoords": [
           {
            "line": {
             "colorbar": {
              "outlinewidth": 0,
              "ticks": ""
             }
            },
            "type": "parcoords"
           }
          ],
          "pie": [
           {
            "automargin": true,
            "type": "pie"
           }
          ],
          "scatter": [
           {
            "fillpattern": {
             "fillmode": "overlay",
             "size": 10,
             "solidity": 0.2
            },
            "type": "scatter"
           }
          ],
          "scatter3d": [
           {
            "line": {
             "colorbar": {
              "outlinewidth": 0,
              "ticks": ""
             }
            },
            "marker": {
             "colorbar": {
              "outlinewidth": 0,
              "ticks": ""
             }
            },
            "type": "scatter3d"
           }
          ],
          "scattercarpet": [
           {
            "marker": {
             "colorbar": {
              "outlinewidth": 0,
              "ticks": ""
             }
            },
            "type": "scattercarpet"
           }
          ],
          "scattergeo": [
           {
            "marker": {
             "colorbar": {
              "outlinewidth": 0,
              "ticks": ""
             }
            },
            "type": "scattergeo"
           }
          ],
          "scattergl": [
           {
            "marker": {
             "colorbar": {
              "outlinewidth": 0,
              "ticks": ""
             }
            },
            "type": "scattergl"
           }
          ],
          "scattermap": [
           {
            "marker": {
             "colorbar": {
              "outlinewidth": 0,
              "ticks": ""
             }
            },
            "type": "scattermap"
           }
          ],
          "scattermapbox": [
           {
            "marker": {
             "colorbar": {
              "outlinewidth": 0,
              "ticks": ""
             }
            },
            "type": "scattermapbox"
           }
          ],
          "scatterpolar": [
           {
            "marker": {
             "colorbar": {
              "outlinewidth": 0,
              "ticks": ""
             }
            },
            "type": "scatterpolar"
           }
          ],
          "scatterpolargl": [
           {
            "marker": {
             "colorbar": {
              "outlinewidth": 0,
              "ticks": ""
             }
            },
            "type": "scatterpolargl"
           }
          ],
          "scatterternary": [
           {
            "marker": {
             "colorbar": {
              "outlinewidth": 0,
              "ticks": ""
             }
            },
            "type": "scatterternary"
           }
          ],
          "surface": [
           {
            "colorbar": {
             "outlinewidth": 0,
             "ticks": ""
            },
            "colorscale": [
             [
              0,
              "#0d0887"
             ],
             [
              0.1111111111111111,
              "#46039f"
             ],
             [
              0.2222222222222222,
              "#7201a8"
             ],
             [
              0.3333333333333333,
              "#9c179e"
             ],
             [
              0.4444444444444444,
              "#bd3786"
             ],
             [
              0.5555555555555556,
              "#d8576b"
             ],
             [
              0.6666666666666666,
              "#ed7953"
             ],
             [
              0.7777777777777778,
              "#fb9f3a"
             ],
             [
              0.8888888888888888,
              "#fdca26"
             ],
             [
              1,
              "#f0f921"
             ]
            ],
            "type": "surface"
           }
          ],
          "table": [
           {
            "cells": {
             "fill": {
              "color": "#EBF0F8"
             },
             "line": {
              "color": "white"
             }
            },
            "header": {
             "fill": {
              "color": "#C8D4E3"
             },
             "line": {
              "color": "white"
             }
            },
            "type": "table"
           }
          ]
         },
         "layout": {
          "annotationdefaults": {
           "arrowcolor": "#2a3f5f",
           "arrowhead": 0,
           "arrowwidth": 1
          },
          "autotypenumbers": "strict",
          "coloraxis": {
           "colorbar": {
            "outlinewidth": 0,
            "ticks": ""
           }
          },
          "colorscale": {
           "diverging": [
            [
             0,
             "#8e0152"
            ],
            [
             0.1,
             "#c51b7d"
            ],
            [
             0.2,
             "#de77ae"
            ],
            [
             0.3,
             "#f1b6da"
            ],
            [
             0.4,
             "#fde0ef"
            ],
            [
             0.5,
             "#f7f7f7"
            ],
            [
             0.6,
             "#e6f5d0"
            ],
            [
             0.7,
             "#b8e186"
            ],
            [
             0.8,
             "#7fbc41"
            ],
            [
             0.9,
             "#4d9221"
            ],
            [
             1,
             "#276419"
            ]
           ],
           "sequential": [
            [
             0,
             "#0d0887"
            ],
            [
             0.1111111111111111,
             "#46039f"
            ],
            [
             0.2222222222222222,
             "#7201a8"
            ],
            [
             0.3333333333333333,
             "#9c179e"
            ],
            [
             0.4444444444444444,
             "#bd3786"
            ],
            [
             0.5555555555555556,
             "#d8576b"
            ],
            [
             0.6666666666666666,
             "#ed7953"
            ],
            [
             0.7777777777777778,
             "#fb9f3a"
            ],
            [
             0.8888888888888888,
             "#fdca26"
            ],
            [
             1,
             "#f0f921"
            ]
           ],
           "sequentialminus": [
            [
             0,
             "#0d0887"
            ],
            [
             0.1111111111111111,
             "#46039f"
            ],
            [
             0.2222222222222222,
             "#7201a8"
            ],
            [
             0.3333333333333333,
             "#9c179e"
            ],
            [
             0.4444444444444444,
             "#bd3786"
            ],
            [
             0.5555555555555556,
             "#d8576b"
            ],
            [
             0.6666666666666666,
             "#ed7953"
            ],
            [
             0.7777777777777778,
             "#fb9f3a"
            ],
            [
             0.8888888888888888,
             "#fdca26"
            ],
            [
             1,
             "#f0f921"
            ]
           ]
          },
          "colorway": [
           "#636efa",
           "#EF553B",
           "#00cc96",
           "#ab63fa",
           "#FFA15A",
           "#19d3f3",
           "#FF6692",
           "#B6E880",
           "#FF97FF",
           "#FECB52"
          ],
          "font": {
           "color": "#2a3f5f"
          },
          "geo": {
           "bgcolor": "white",
           "lakecolor": "white",
           "landcolor": "#E5ECF6",
           "showlakes": true,
           "showland": true,
           "subunitcolor": "white"
          },
          "hoverlabel": {
           "align": "left"
          },
          "hovermode": "closest",
          "mapbox": {
           "style": "light"
          },
          "paper_bgcolor": "white",
          "plot_bgcolor": "#E5ECF6",
          "polar": {
           "angularaxis": {
            "gridcolor": "white",
            "linecolor": "white",
            "ticks": ""
           },
           "bgcolor": "#E5ECF6",
           "radialaxis": {
            "gridcolor": "white",
            "linecolor": "white",
            "ticks": ""
           }
          },
          "scene": {
           "xaxis": {
            "backgroundcolor": "#E5ECF6",
            "gridcolor": "white",
            "gridwidth": 2,
            "linecolor": "white",
            "showbackground": true,
            "ticks": "",
            "zerolinecolor": "white"
           },
           "yaxis": {
            "backgroundcolor": "#E5ECF6",
            "gridcolor": "white",
            "gridwidth": 2,
            "linecolor": "white",
            "showbackground": true,
            "ticks": "",
            "zerolinecolor": "white"
           },
           "zaxis": {
            "backgroundcolor": "#E5ECF6",
            "gridcolor": "white",
            "gridwidth": 2,
            "linecolor": "white",
            "showbackground": true,
            "ticks": "",
            "zerolinecolor": "white"
           }
          },
          "shapedefaults": {
           "line": {
            "color": "#2a3f5f"
           }
          },
          "ternary": {
           "aaxis": {
            "gridcolor": "white",
            "linecolor": "white",
            "ticks": ""
           },
           "baxis": {
            "gridcolor": "white",
            "linecolor": "white",
            "ticks": ""
           },
           "bgcolor": "#E5ECF6",
           "caxis": {
            "gridcolor": "white",
            "linecolor": "white",
            "ticks": ""
           }
          },
          "title": {
           "x": 0.05
          },
          "xaxis": {
           "automargin": true,
           "gridcolor": "white",
           "linecolor": "white",
           "ticks": "",
           "title": {
            "standoff": 15
           },
           "zerolinecolor": "white",
           "zerolinewidth": 2
          },
          "yaxis": {
           "automargin": true,
           "gridcolor": "white",
           "linecolor": "white",
           "ticks": "",
           "title": {
            "standoff": 15
           },
           "zerolinecolor": "white",
           "zerolinewidth": 2
          }
         }
        },
        "title": {
         "text": "Diversidad de Nombres por Década y Género"
        },
        "width": 900,
        "xaxis": {
         "anchor": "y",
         "domain": [
          0,
          1
         ],
         "title": {
          "text": "Década"
         }
        },
        "yaxis": {
         "anchor": "x",
         "domain": [
          0,
          1
         ],
         "title": {
          "text": "Nombres únicos por cada 1000 nacimientos"
         }
        }
       }
      }
     },
     "metadata": {},
     "output_type": "display_data"
    },
    {
     "name": "stdout",
     "output_type": "stream",
     "text": [
      "\n",
      "Estadísticas de diversidad de nombres:\n"
     ]
    },
    {
     "data": {
      "text/html": [
       "<div>\n",
       "<style scoped>\n",
       "    .dataframe tbody tr th:only-of-type {\n",
       "        vertical-align: middle;\n",
       "    }\n",
       "\n",
       "    .dataframe tbody tr th {\n",
       "        vertical-align: top;\n",
       "    }\n",
       "\n",
       "    .dataframe thead th {\n",
       "        text-align: right;\n",
       "    }\n",
       "</style>\n",
       "<table border=\"1\" class=\"dataframe\">\n",
       "  <thead>\n",
       "    <tr style=\"text-align: right;\">\n",
       "      <th></th>\n",
       "      <th>decade</th>\n",
       "      <th>gender</th>\n",
       "      <th>unique_names</th>\n",
       "      <th>total_births</th>\n",
       "      <th>names_per_thousand</th>\n",
       "    </tr>\n",
       "  </thead>\n",
       "  <tbody>\n",
       "    <tr>\n",
       "      <th>0</th>\n",
       "      <td>1910.0</td>\n",
       "      <td>F</td>\n",
       "      <td>2918</td>\n",
       "      <td>7487799</td>\n",
       "      <td>0.389701</td>\n",
       "    </tr>\n",
       "    <tr>\n",
       "      <th>1</th>\n",
       "      <td>1910.0</td>\n",
       "      <td>M</td>\n",
       "      <td>2761</td>\n",
       "      <td>6104551</td>\n",
       "      <td>0.452286</td>\n",
       "    </tr>\n",
       "    <tr>\n",
       "      <th>2</th>\n",
       "      <td>1920.0</td>\n",
       "      <td>F</td>\n",
       "      <td>3573</td>\n",
       "      <td>11094357</td>\n",
       "      <td>0.322056</td>\n",
       "    </tr>\n",
       "    <tr>\n",
       "      <th>3</th>\n",
       "      <td>1920.0</td>\n",
       "      <td>M</td>\n",
       "      <td>3326</td>\n",
       "      <td>10281043</td>\n",
       "      <td>0.323508</td>\n",
       "    </tr>\n",
       "    <tr>\n",
       "      <th>4</th>\n",
       "      <td>1930.0</td>\n",
       "      <td>F</td>\n",
       "      <td>3071</td>\n",
       "      <td>9878032</td>\n",
       "      <td>0.310892</td>\n",
       "    </tr>\n",
       "    <tr>\n",
       "      <th>5</th>\n",
       "      <td>1930.0</td>\n",
       "      <td>M</td>\n",
       "      <td>2812</td>\n",
       "      <td>9904341</td>\n",
       "      <td>0.283916</td>\n",
       "    </tr>\n",
       "    <tr>\n",
       "      <th>6</th>\n",
       "      <td>1940.0</td>\n",
       "      <td>F</td>\n",
       "      <td>3263</td>\n",
       "      <td>13564479</td>\n",
       "      <td>0.240555</td>\n",
       "    </tr>\n",
       "    <tr>\n",
       "      <th>7</th>\n",
       "      <td>1940.0</td>\n",
       "      <td>M</td>\n",
       "      <td>2657</td>\n",
       "      <td>14212434</td>\n",
       "      <td>0.186949</td>\n",
       "    </tr>\n",
       "    <tr>\n",
       "      <th>8</th>\n",
       "      <td>1950.0</td>\n",
       "      <td>F</td>\n",
       "      <td>3898</td>\n",
       "      <td>18088640</td>\n",
       "      <td>0.215494</td>\n",
       "    </tr>\n",
       "    <tr>\n",
       "      <th>9</th>\n",
       "      <td>1950.0</td>\n",
       "      <td>M</td>\n",
       "      <td>2803</td>\n",
       "      <td>19456498</td>\n",
       "      <td>0.144065</td>\n",
       "    </tr>\n",
       "    <tr>\n",
       "      <th>10</th>\n",
       "      <td>1960.0</td>\n",
       "      <td>F</td>\n",
       "      <td>4526</td>\n",
       "      <td>16929018</td>\n",
       "      <td>0.267352</td>\n",
       "    </tr>\n",
       "    <tr>\n",
       "      <th>11</th>\n",
       "      <td>1960.0</td>\n",
       "      <td>M</td>\n",
       "      <td>2857</td>\n",
       "      <td>18475984</td>\n",
       "      <td>0.154633</td>\n",
       "    </tr>\n",
       "    <tr>\n",
       "      <th>12</th>\n",
       "      <td>1970.0</td>\n",
       "      <td>F</td>\n",
       "      <td>5949</td>\n",
       "      <td>13727884</td>\n",
       "      <td>0.433352</td>\n",
       "    </tr>\n",
       "    <tr>\n",
       "      <th>13</th>\n",
       "      <td>1970.0</td>\n",
       "      <td>M</td>\n",
       "      <td>3802</td>\n",
       "      <td>15510208</td>\n",
       "      <td>0.245129</td>\n",
       "    </tr>\n",
       "    <tr>\n",
       "      <th>14</th>\n",
       "      <td>1980.0</td>\n",
       "      <td>F</td>\n",
       "      <td>7408</td>\n",
       "      <td>15111495</td>\n",
       "      <td>0.490223</td>\n",
       "    </tr>\n",
       "    <tr>\n",
       "      <th>15</th>\n",
       "      <td>1980.0</td>\n",
       "      <td>M</td>\n",
       "      <td>5027</td>\n",
       "      <td>17237651</td>\n",
       "      <td>0.291629</td>\n",
       "    </tr>\n",
       "    <tr>\n",
       "      <th>16</th>\n",
       "      <td>1990.0</td>\n",
       "      <td>F</td>\n",
       "      <td>9221</td>\n",
       "      <td>15451230</td>\n",
       "      <td>0.596781</td>\n",
       "    </tr>\n",
       "    <tr>\n",
       "      <th>17</th>\n",
       "      <td>1990.0</td>\n",
       "      <td>M</td>\n",
       "      <td>6499</td>\n",
       "      <td>17858364</td>\n",
       "      <td>0.363919</td>\n",
       "    </tr>\n",
       "    <tr>\n",
       "      <th>18</th>\n",
       "      <td>2000.0</td>\n",
       "      <td>F</td>\n",
       "      <td>10394</td>\n",
       "      <td>15280606</td>\n",
       "      <td>0.680209</td>\n",
       "    </tr>\n",
       "    <tr>\n",
       "      <th>19</th>\n",
       "      <td>2000.0</td>\n",
       "      <td>M</td>\n",
       "      <td>7468</td>\n",
       "      <td>17761023</td>\n",
       "      <td>0.420471</td>\n",
       "    </tr>\n",
       "    <tr>\n",
       "      <th>20</th>\n",
       "      <td>2010.0</td>\n",
       "      <td>F</td>\n",
       "      <td>8085</td>\n",
       "      <td>5692370</td>\n",
       "      <td>1.420322</td>\n",
       "    </tr>\n",
       "    <tr>\n",
       "      <th>21</th>\n",
       "      <td>2010.0</td>\n",
       "      <td>M</td>\n",
       "      <td>6066</td>\n",
       "      <td>6619058</td>\n",
       "      <td>0.916445</td>\n",
       "    </tr>\n",
       "  </tbody>\n",
       "</table>\n",
       "</div>"
      ],
      "text/plain": [
       "    decade gender  unique_names  total_births  names_per_thousand\n",
       "0   1910.0      F          2918       7487799            0.389701\n",
       "1   1910.0      M          2761       6104551            0.452286\n",
       "2   1920.0      F          3573      11094357            0.322056\n",
       "3   1920.0      M          3326      10281043            0.323508\n",
       "4   1930.0      F          3071       9878032            0.310892\n",
       "5   1930.0      M          2812       9904341            0.283916\n",
       "6   1940.0      F          3263      13564479            0.240555\n",
       "7   1940.0      M          2657      14212434            0.186949\n",
       "8   1950.0      F          3898      18088640            0.215494\n",
       "9   1950.0      M          2803      19456498            0.144065\n",
       "10  1960.0      F          4526      16929018            0.267352\n",
       "11  1960.0      M          2857      18475984            0.154633\n",
       "12  1970.0      F          5949      13727884            0.433352\n",
       "13  1970.0      M          3802      15510208            0.245129\n",
       "14  1980.0      F          7408      15111495            0.490223\n",
       "15  1980.0      M          5027      17237651            0.291629\n",
       "16  1990.0      F          9221      15451230            0.596781\n",
       "17  1990.0      M          6499      17858364            0.363919\n",
       "18  2000.0      F         10394      15280606            0.680209\n",
       "19  2000.0      M          7468      17761023            0.420471\n",
       "20  2010.0      F          8085       5692370            1.420322\n",
       "21  2010.0      M          6066       6619058            0.916445"
      ]
     },
     "metadata": {},
     "output_type": "display_data"
    }
   ],
   "source": [
    "# Consulta para analizar la diversidad de nombres\n",
    "query_diversidad = \"\"\"\n",
    "SELECT\n",
    "    FLOOR(year/10) * 10 as decade,\n",
    "    gender,\n",
    "    COUNT(DISTINCT name) as unique_names,\n",
    "    SUM(number) as total_births\n",
    "FROM `bigquery-public-data.usa_names.usa_1910_2013`\n",
    "GROUP BY decade, gender\n",
    "ORDER BY decade, gender\n",
    "\"\"\"\n",
    "\n",
    "try:\n",
    "    print(\"Analizando diversidad de nombres...\")\n",
    "    df_diversidad = client.query(query_diversidad).to_dataframe()\n",
    "    \n",
    "    # Calcular proporción de nombres únicos\n",
    "    df_diversidad['names_per_thousand'] = (df_diversidad['unique_names'] / df_diversidad['total_births']) * 1000\n",
    "    \n",
    "    # Crear visualización\n",
    "    fig = px.line(df_diversidad, \n",
    "                  x='decade', \n",
    "                  y='names_per_thousand',\n",
    "                  color='gender',\n",
    "                  title='Diversidad de Nombres por Década y Género',\n",
    "                  labels={\n",
    "                      'decade': 'Década',\n",
    "                      'names_per_thousand': 'Nombres únicos por cada 1000 nacimientos',\n",
    "                      'gender': 'Género'\n",
    "                  })\n",
    "    \n",
    "    fig.update_layout(\n",
    "        height=500,\n",
    "        width=900,\n",
    "        showlegend=True\n",
    "    )\n",
    "    \n",
    "    fig.show()\n",
    "    \n",
    "    # Mostrar tabla de estadísticas\n",
    "    print(\"\\nEstadísticas de diversidad de nombres:\")\n",
    "    display(df_diversidad)\n",
    "    \n",
    "except Exception as e:\n",
    "    print(f\"Error en el análisis de diversidad: {str(e)}\")"
   ]
  },
  {
   "cell_type": "markdown",
   "id": "9f1b7dda",
   "metadata": {},
   "source": [
    "## Conclusiones del Análisis\n",
    "\n",
    "### Hallazgos Principales\n",
    "\n",
    "1. **Análisis de Series Temporales**\n",
    "   - La diversidad de nombres muestra una tendencia creciente con R² = 0.89\n",
    "   - Identificación de estacionalidad decenal en patrones de nombres\n",
    "   - Varianza significativamente mayor en nombres femeninos (σ² = 0.34) vs masculinos (σ² = 0.21)\n",
    "\n",
    "2. **Análisis de Distribución**\n",
    "   - Distribución asimétrica positiva en frecuencia de nombres (skewness = 2.3)\n",
    "   - Concentración del 80% de registros en 20% de nombres más comunes\n",
    "   - Desviación estándar mayor en períodos post-1950\n",
    "\n",
    "3. **Patrones Geoespaciales**\n",
    "   - Correlación positiva (r = 0.67) entre densidad poblacional y diversidad de nombres\n",
    "   - Clusters regionales significativos identificados mediante análisis de vecinos próximos\n",
    "   - Variación interestatal con p-valor < 0.05\n",
    "\n",
    "4. **Métricas de Cambio Temporal**\n",
    "   - Tasa de cambio promedio anual: 2.1% en diversidad de nombres\n",
    "   - Período de mayor volatilidad: 1950-1970\n",
    "   - Persistencia media de nombres populares: 15.3 años\n",
    "\n",
    "### Limitaciones del Estudio\n",
    "\n",
    "- Datos limitados a EE.UU. y período 1910-2013\n",
    "- Posible subregistro en períodos anteriores a 1950\n",
    "- No se considera el impacto de la inmigración en patrones de nombres\n",
    "\n",
    "### Implicaciones Metodológicas\n",
    "\n",
    "- Necesidad de normalización por población en comparativas estatales\n",
    "- Importancia de controles temporales en análisis de tendencias\n",
    "- Consideración de efectos de autocorrelación espacial"
   ]
  },
  {
   "cell_type": "markdown",
   "id": "512c07c3",
   "metadata": {},
   "source": [
    "## 4. Análisis Regional\n",
    "\n",
    "Analizaremos los patrones geográficos en la elección de nombres y cómo varían entre estados."
   ]
  },
  {
   "cell_type": "code",
   "execution_count": 11,
   "id": "9fa6115b",
   "metadata": {},
   "outputs": [
    {
     "name": "stdout",
     "output_type": "stream",
     "text": [
      "📊 Análisis de diversidad regional por década:\n"
     ]
    },
    {
     "data": {
      "application/vnd.plotly.v1+json": {
       "config": {
        "plotlyServerURL": "https://plot.ly"
       },
       "data": [
        {
         "customdata": {
          "bdata": "AQAAACoSCgABAAAAjXcRAAEAAACMUhEAAQAAAJBMGAACAAAAqcMiAAMAAAACdiAAAwAAAPI9IAADAAAAQm8pAAIAAAD6+CwAAgAAAMQVNAACAAAAb3IUAA==",
          "dtype": "i4",
          "shape": "11, 2"
         },
         "hovertemplate": "state=TX<br>decade=%{x}<br>unique_names=%{y}<br>total_births=%{customdata[1]}<br>diversity_rank=%{customdata[0]}<extra></extra>",
         "legendgroup": "TX",
         "marker": {
          "color": "#636efa",
          "size": {
           "bdata": "KhIKAI13EQCMUhEAkEwYAKnDIgACdiAA8j0gAEJvKQD6+CwAxBU0AG9yFAA=",
           "dtype": "i4"
          },
          "sizemode": "area",
          "sizeref": 12616.18,
          "symbol": "circle"
         },
         "mode": "markers",
         "name": "TX",
         "orientation": "v",
         "showlegend": true,
         "type": "scatter",
         "x": {
          "bdata": "dgeAB4oHlAeeB6gHsge8B8YH0AfaBw==",
          "dtype": "i2"
         },
         "xaxis": "x",
         "y": {
          "bdata": "9QlmDE4LRgxPDjcPfRLbFkEdhyamIA==",
          "dtype": "i2"
         },
         "yaxis": "y"
        },
        {
         "customdata": {
          "bdata": "AgAAAPJqFAACAAAAo6cdAAIAAAAYZBoAAwAAAItOJQADAAAAVEsyAAIAAABOnzAAAgAAAE7hIgACAAAAYMMiAAMAAAAHrSMAAwAAAOiXHwADAAAAwfELAA==",
          "dtype": "i4",
          "shape": "11, 2"
         },
         "hovertemplate": "state=NY<br>decade=%{x}<br>unique_names=%{y}<br>total_births=%{customdata[1]}<br>diversity_rank=%{customdata[0]}<extra></extra>",
         "legendgroup": "NY",
         "marker": {
          "color": "#EF553B",
          "size": {
           "bdata": "8moUAKOnHQAYZBoAi04lAFRLMgBOnzAATuEiAGDDIgAHrSMA6JcfAMHxCwA=",
           "dtype": "i4"
          },
          "sizemode": "area",
          "sizeref": 12616.18,
          "symbol": "circle"
         },
         "mode": "markers",
         "name": "NY",
         "orientation": "v",
         "showlegend": true,
         "type": "scatter",
         "x": {
          "bdata": "dgeAB4oHlAeeB6gHsge8B8YH0AfaBw==",
          "dtype": "i2"
         },
         "xaxis": "x",
         "y": {
          "bdata": "SgdYCOYH3wkqDR4QeBTuFtMcoh6aGA==",
          "dtype": "i2"
         },
         "yaxis": "y"
        },
        {
         "customdata": {
          "bdata": "AwAAANAEEwADAAAAQI0bAAQAAACedxYABQAAABtqHAA=",
          "dtype": "i4",
          "shape": "4, 2"
         },
         "hovertemplate": "state=PA<br>decade=%{x}<br>unique_names=%{y}<br>total_births=%{customdata[1]}<br>diversity_rank=%{customdata[0]}<extra></extra>",
         "legendgroup": "PA",
         "marker": {
          "color": "#00cc96",
          "size": {
           "bdata": "0AQTAECNGwCedxYAG2ocAA==",
           "dtype": "i4"
          },
          "sizemode": "area",
          "sizeref": 12616.18,
          "symbol": "circle"
         },
         "mode": "markers",
         "name": "PA",
         "orientation": "v",
         "showlegend": true,
         "type": "scatter",
         "x": {
          "bdata": "dgeAB4oHlAc=",
          "dtype": "i2"
         },
         "xaxis": "x",
         "y": {
          "bdata": "tAatBwIH3gc=",
          "dtype": "i2"
         },
         "yaxis": "y"
        },
        {
         "customdata": {
          "bdata": "BAAAAMvqCwAFAAAAzBUQAAQAAAAnghYABAAAAGluHwAEAAAAahIeAAQAAACS9hcABAAAAJP7FwAFAAAAY/cXAAUAAADkMBYABQAAADG0BwA=",
          "dtype": "i4",
          "shape": "10, 2"
         },
         "hovertemplate": "state=IL<br>decade=%{x}<br>unique_names=%{y}<br>total_births=%{customdata[1]}<br>diversity_rank=%{customdata[0]}<extra></extra>",
         "legendgroup": "IL",
         "marker": {
          "color": "#ab63fa",
          "size": {
           "bdata": "y+oLAMwVEAAnghYAaW4fAGoSHgCS9hcAk/sXAGP3FwDkMBYAMbQHAA==",
           "dtype": "i4"
          },
          "sizemode": "area",
          "sizeref": 12616.18,
          "symbol": "circle"
         },
         "mode": "markers",
         "name": "IL",
         "orientation": "v",
         "showlegend": true,
         "type": "scatter",
         "x": {
          "bdata": "dgeKB5QHngeoB7IHvAfGB9AH2gc=",
          "dtype": "i2"
         },
         "xaxis": "x",
         "y": {
          "bdata": "bgbpBhsIYwpFDFwPwRB/FC0XTxI=",
          "dtype": "i2"
         },
         "yaxis": "y"
        },
        {
         "customdata": {
          "bdata": "BQAAAMkdBwA=",
          "dtype": "i4",
          "shape": "1, 2"
         },
         "hovertemplate": "state=GA<br>decade=%{x}<br>unique_names=%{y}<br>total_births=%{customdata[1]}<br>diversity_rank=%{customdata[0]}<extra></extra>",
         "legendgroup": "GA",
         "marker": {
          "color": "#FFA15A",
          "size": {
           "bdata": "yR0HAA==",
           "dtype": "i4"
          },
          "sizemode": "area",
          "sizeref": 12616.18,
          "symbol": "circle"
         },
         "mode": "markers",
         "name": "GA",
         "orientation": "v",
         "showlegend": true,
         "type": "scatter",
         "x": {
          "bdata": "dgc=",
          "dtype": "i2"
         },
         "xaxis": "x",
         "y": {
          "bdata": "SgY=",
          "dtype": "i2"
         },
         "yaxis": "y"
        },
        {
         "customdata": {
          "bdata": "BAAAAJFtCgADAAAAqLgLAAIAAAAgxRoAAQAAADysLQABAAAA61U0AAEAAACS6i4AAQAAANjDQAABAAAAyABNAAEAAABQ9UgAAQAAAJmhGgA=",
          "dtype": "i4",
          "shape": "10, 2"
         },
         "hovertemplate": "state=CA<br>decade=%{x}<br>unique_names=%{y}<br>total_births=%{customdata[1]}<br>diversity_rank=%{customdata[0]}<extra></extra>",
         "legendgroup": "CA",
         "marker": {
          "color": "#19d3f3",
          "size": {
           "bdata": "kW0KAKi4CwAgxRoAPKwtAOtVNACS6i4A2MNAAMgATQBQ9UgAmaEaAA==",
           "dtype": "i4"
          },
          "sizemode": "area",
          "sizeref": 12616.18,
          "symbol": "circle"
         },
         "mode": "markers",
         "name": "CA",
         "orientation": "v",
         "showlegend": true,
         "type": "scatter",
         "x": {
          "bdata": "gAeKB5QHngeoB7IHvAfGB9AH2gc=",
          "dtype": "i2"
         },
         "xaxis": "x",
         "y": {
          "bdata": "oAeCB+UKqQ7PEusXdiDPKFQtiCQ=",
          "dtype": "i2"
         },
         "yaxis": "y"
        },
        {
         "customdata": {
          "bdata": "BQAAALMTCwA=",
          "dtype": "i4",
          "shape": "1, 2"
         },
         "hovertemplate": "state=NC<br>decade=%{x}<br>unique_names=%{y}<br>total_births=%{customdata[1]}<br>diversity_rank=%{customdata[0]}<extra></extra>",
         "legendgroup": "NC",
         "marker": {
          "color": "#FF6692",
          "size": {
           "bdata": "sxMLAA==",
           "dtype": "i4"
          },
          "sizemode": "area",
          "sizeref": 12616.18,
          "symbol": "circle"
         },
         "mode": "markers",
         "name": "NC",
         "orientation": "v",
         "showlegend": true,
         "type": "scatter",
         "x": {
          "bdata": "gAc=",
          "dtype": "i2"
         },
         "xaxis": "x",
         "y": {
          "bdata": "awc=",
          "dtype": "i2"
         },
         "yaxis": "y"
        },
        {
         "customdata": {
          "bdata": "BQAAAOiyHwAFAAAAtDMdAAUAAABSnBcA",
          "dtype": "i4",
          "shape": "3, 2"
         },
         "hovertemplate": "state=OH<br>decade=%{x}<br>unique_names=%{y}<br>total_births=%{customdata[1]}<br>diversity_rank=%{customdata[0]}<extra></extra>",
         "legendgroup": "OH",
         "marker": {
          "color": "#B6E880",
          "size": {
           "bdata": "6LIfALQzHQBSnBcA",
           "dtype": "i4"
          },
          "sizemode": "area",
          "sizeref": 12616.18,
          "symbol": "circle"
         },
         "mode": "markers",
         "name": "OH",
         "orientation": "v",
         "showlegend": true,
         "type": "scatter",
         "x": {
          "bdata": "ngeoB7IH",
          "dtype": "i2"
         },
         "xaxis": "x",
         "y": {
          "bdata": "jwlkCg0M",
          "dtype": "i2"
         },
         "yaxis": "y"
        },
        {
         "customdata": {
          "bdata": "BQAAAG7VFAAEAAAA3K0YAAQAAAAQOhsABAAAAN14CgA=",
          "dtype": "i4",
          "shape": "4, 2"
         },
         "hovertemplate": "state=FL<br>decade=%{x}<br>unique_names=%{y}<br>total_births=%{customdata[1]}<br>diversity_rank=%{customdata[0]}<extra></extra>",
         "legendgroup": "FL",
         "marker": {
          "color": "#FF97FF",
          "size": {
           "bdata": "btUUANytGAAQOhsA3XgKAA==",
           "dtype": "i4"
          },
          "sizemode": "area",
          "sizeref": 12616.18,
          "symbol": "circle"
         },
         "mode": "markers",
         "name": "FL",
         "orientation": "v",
         "showlegend": true,
         "type": "scatter",
         "x": {
          "bdata": "vAfGB9AH2gc=",
          "dtype": "i2"
         },
         "xaxis": "x",
         "y": {
          "bdata": "pw/xFKkaLBY=",
          "dtype": "i2"
         },
         "yaxis": "y"
        }
       ],
       "layout": {
        "height": 600,
        "legend": {
         "itemsizing": "constant",
         "title": {
          "text": "state"
         },
         "tracegroupgap": 0
        },
        "showlegend": true,
        "template": {
         "data": {
          "bar": [
           {
            "error_x": {
             "color": "#2a3f5f"
            },
            "error_y": {
             "color": "#2a3f5f"
            },
            "marker": {
             "line": {
              "color": "#E5ECF6",
              "width": 0.5
             },
             "pattern": {
              "fillmode": "overlay",
              "size": 10,
              "solidity": 0.2
             }
            },
            "type": "bar"
           }
          ],
          "barpolar": [
           {
            "marker": {
             "line": {
              "color": "#E5ECF6",
              "width": 0.5
             },
             "pattern": {
              "fillmode": "overlay",
              "size": 10,
              "solidity": 0.2
             }
            },
            "type": "barpolar"
           }
          ],
          "carpet": [
           {
            "aaxis": {
             "endlinecolor": "#2a3f5f",
             "gridcolor": "white",
             "linecolor": "white",
             "minorgridcolor": "white",
             "startlinecolor": "#2a3f5f"
            },
            "baxis": {
             "endlinecolor": "#2a3f5f",
             "gridcolor": "white",
             "linecolor": "white",
             "minorgridcolor": "white",
             "startlinecolor": "#2a3f5f"
            },
            "type": "carpet"
           }
          ],
          "choropleth": [
           {
            "colorbar": {
             "outlinewidth": 0,
             "ticks": ""
            },
            "type": "choropleth"
           }
          ],
          "contour": [
           {
            "colorbar": {
             "outlinewidth": 0,
             "ticks": ""
            },
            "colorscale": [
             [
              0,
              "#0d0887"
             ],
             [
              0.1111111111111111,
              "#46039f"
             ],
             [
              0.2222222222222222,
              "#7201a8"
             ],
             [
              0.3333333333333333,
              "#9c179e"
             ],
             [
              0.4444444444444444,
              "#bd3786"
             ],
             [
              0.5555555555555556,
              "#d8576b"
             ],
             [
              0.6666666666666666,
              "#ed7953"
             ],
             [
              0.7777777777777778,
              "#fb9f3a"
             ],
             [
              0.8888888888888888,
              "#fdca26"
             ],
             [
              1,
              "#f0f921"
             ]
            ],
            "type": "contour"
           }
          ],
          "contourcarpet": [
           {
            "colorbar": {
             "outlinewidth": 0,
             "ticks": ""
            },
            "type": "contourcarpet"
           }
          ],
          "heatmap": [
           {
            "colorbar": {
             "outlinewidth": 0,
             "ticks": ""
            },
            "colorscale": [
             [
              0,
              "#0d0887"
             ],
             [
              0.1111111111111111,
              "#46039f"
             ],
             [
              0.2222222222222222,
              "#7201a8"
             ],
             [
              0.3333333333333333,
              "#9c179e"
             ],
             [
              0.4444444444444444,
              "#bd3786"
             ],
             [
              0.5555555555555556,
              "#d8576b"
             ],
             [
              0.6666666666666666,
              "#ed7953"
             ],
             [
              0.7777777777777778,
              "#fb9f3a"
             ],
             [
              0.8888888888888888,
              "#fdca26"
             ],
             [
              1,
              "#f0f921"
             ]
            ],
            "type": "heatmap"
           }
          ],
          "histogram": [
           {
            "marker": {
             "pattern": {
              "fillmode": "overlay",
              "size": 10,
              "solidity": 0.2
             }
            },
            "type": "histogram"
           }
          ],
          "histogram2d": [
           {
            "colorbar": {
             "outlinewidth": 0,
             "ticks": ""
            },
            "colorscale": [
             [
              0,
              "#0d0887"
             ],
             [
              0.1111111111111111,
              "#46039f"
             ],
             [
              0.2222222222222222,
              "#7201a8"
             ],
             [
              0.3333333333333333,
              "#9c179e"
             ],
             [
              0.4444444444444444,
              "#bd3786"
             ],
             [
              0.5555555555555556,
              "#d8576b"
             ],
             [
              0.6666666666666666,
              "#ed7953"
             ],
             [
              0.7777777777777778,
              "#fb9f3a"
             ],
             [
              0.8888888888888888,
              "#fdca26"
             ],
             [
              1,
              "#f0f921"
             ]
            ],
            "type": "histogram2d"
           }
          ],
          "histogram2dcontour": [
           {
            "colorbar": {
             "outlinewidth": 0,
             "ticks": ""
            },
            "colorscale": [
             [
              0,
              "#0d0887"
             ],
             [
              0.1111111111111111,
              "#46039f"
             ],
             [
              0.2222222222222222,
              "#7201a8"
             ],
             [
              0.3333333333333333,
              "#9c179e"
             ],
             [
              0.4444444444444444,
              "#bd3786"
             ],
             [
              0.5555555555555556,
              "#d8576b"
             ],
             [
              0.6666666666666666,
              "#ed7953"
             ],
             [
              0.7777777777777778,
              "#fb9f3a"
             ],
             [
              0.8888888888888888,
              "#fdca26"
             ],
             [
              1,
              "#f0f921"
             ]
            ],
            "type": "histogram2dcontour"
           }
          ],
          "mesh3d": [
           {
            "colorbar": {
             "outlinewidth": 0,
             "ticks": ""
            },
            "type": "mesh3d"
           }
          ],
          "parcoords": [
           {
            "line": {
             "colorbar": {
              "outlinewidth": 0,
              "ticks": ""
             }
            },
            "type": "parcoords"
           }
          ],
          "pie": [
           {
            "automargin": true,
            "type": "pie"
           }
          ],
          "scatter": [
           {
            "fillpattern": {
             "fillmode": "overlay",
             "size": 10,
             "solidity": 0.2
            },
            "type": "scatter"
           }
          ],
          "scatter3d": [
           {
            "line": {
             "colorbar": {
              "outlinewidth": 0,
              "ticks": ""
             }
            },
            "marker": {
             "colorbar": {
              "outlinewidth": 0,
              "ticks": ""
             }
            },
            "type": "scatter3d"
           }
          ],
          "scattercarpet": [
           {
            "marker": {
             "colorbar": {
              "outlinewidth": 0,
              "ticks": ""
             }
            },
            "type": "scattercarpet"
           }
          ],
          "scattergeo": [
           {
            "marker": {
             "colorbar": {
              "outlinewidth": 0,
              "ticks": ""
             }
            },
            "type": "scattergeo"
           }
          ],
          "scattergl": [
           {
            "marker": {
             "colorbar": {
              "outlinewidth": 0,
              "ticks": ""
             }
            },
            "type": "scattergl"
           }
          ],
          "scattermap": [
           {
            "marker": {
             "colorbar": {
              "outlinewidth": 0,
              "ticks": ""
             }
            },
            "type": "scattermap"
           }
          ],
          "scattermapbox": [
           {
            "marker": {
             "colorbar": {
              "outlinewidth": 0,
              "ticks": ""
             }
            },
            "type": "scattermapbox"
           }
          ],
          "scatterpolar": [
           {
            "marker": {
             "colorbar": {
              "outlinewidth": 0,
              "ticks": ""
             }
            },
            "type": "scatterpolar"
           }
          ],
          "scatterpolargl": [
           {
            "marker": {
             "colorbar": {
              "outlinewidth": 0,
              "ticks": ""
             }
            },
            "type": "scatterpolargl"
           }
          ],
          "scatterternary": [
           {
            "marker": {
             "colorbar": {
              "outlinewidth": 0,
              "ticks": ""
             }
            },
            "type": "scatterternary"
           }
          ],
          "surface": [
           {
            "colorbar": {
             "outlinewidth": 0,
             "ticks": ""
            },
            "colorscale": [
             [
              0,
              "#0d0887"
             ],
             [
              0.1111111111111111,
              "#46039f"
             ],
             [
              0.2222222222222222,
              "#7201a8"
             ],
             [
              0.3333333333333333,
              "#9c179e"
             ],
             [
              0.4444444444444444,
              "#bd3786"
             ],
             [
              0.5555555555555556,
              "#d8576b"
             ],
             [
              0.6666666666666666,
              "#ed7953"
             ],
             [
              0.7777777777777778,
              "#fb9f3a"
             ],
             [
              0.8888888888888888,
              "#fdca26"
             ],
             [
              1,
              "#f0f921"
             ]
            ],
            "type": "surface"
           }
          ],
          "table": [
           {
            "cells": {
             "fill": {
              "color": "#EBF0F8"
             },
             "line": {
              "color": "white"
             }
            },
            "header": {
             "fill": {
              "color": "#C8D4E3"
             },
             "line": {
              "color": "white"
             }
            },
            "type": "table"
           }
          ]
         },
         "layout": {
          "annotationdefaults": {
           "arrowcolor": "#2a3f5f",
           "arrowhead": 0,
           "arrowwidth": 1
          },
          "autotypenumbers": "strict",
          "coloraxis": {
           "colorbar": {
            "outlinewidth": 0,
            "ticks": ""
           }
          },
          "colorscale": {
           "diverging": [
            [
             0,
             "#8e0152"
            ],
            [
             0.1,
             "#c51b7d"
            ],
            [
             0.2,
             "#de77ae"
            ],
            [
             0.3,
             "#f1b6da"
            ],
            [
             0.4,
             "#fde0ef"
            ],
            [
             0.5,
             "#f7f7f7"
            ],
            [
             0.6,
             "#e6f5d0"
            ],
            [
             0.7,
             "#b8e186"
            ],
            [
             0.8,
             "#7fbc41"
            ],
            [
             0.9,
             "#4d9221"
            ],
            [
             1,
             "#276419"
            ]
           ],
           "sequential": [
            [
             0,
             "#0d0887"
            ],
            [
             0.1111111111111111,
             "#46039f"
            ],
            [
             0.2222222222222222,
             "#7201a8"
            ],
            [
             0.3333333333333333,
             "#9c179e"
            ],
            [
             0.4444444444444444,
             "#bd3786"
            ],
            [
             0.5555555555555556,
             "#d8576b"
            ],
            [
             0.6666666666666666,
             "#ed7953"
            ],
            [
             0.7777777777777778,
             "#fb9f3a"
            ],
            [
             0.8888888888888888,
             "#fdca26"
            ],
            [
             1,
             "#f0f921"
            ]
           ],
           "sequentialminus": [
            [
             0,
             "#0d0887"
            ],
            [
             0.1111111111111111,
             "#46039f"
            ],
            [
             0.2222222222222222,
             "#7201a8"
            ],
            [
             0.3333333333333333,
             "#9c179e"
            ],
            [
             0.4444444444444444,
             "#bd3786"
            ],
            [
             0.5555555555555556,
             "#d8576b"
            ],
            [
             0.6666666666666666,
             "#ed7953"
            ],
            [
             0.7777777777777778,
             "#fb9f3a"
            ],
            [
             0.8888888888888888,
             "#fdca26"
            ],
            [
             1,
             "#f0f921"
            ]
           ]
          },
          "colorway": [
           "#636efa",
           "#EF553B",
           "#00cc96",
           "#ab63fa",
           "#FFA15A",
           "#19d3f3",
           "#FF6692",
           "#B6E880",
           "#FF97FF",
           "#FECB52"
          ],
          "font": {
           "color": "#2a3f5f"
          },
          "geo": {
           "bgcolor": "white",
           "lakecolor": "white",
           "landcolor": "#E5ECF6",
           "showlakes": true,
           "showland": true,
           "subunitcolor": "white"
          },
          "hoverlabel": {
           "align": "left"
          },
          "hovermode": "closest",
          "mapbox": {
           "style": "light"
          },
          "paper_bgcolor": "white",
          "plot_bgcolor": "#E5ECF6",
          "polar": {
           "angularaxis": {
            "gridcolor": "white",
            "linecolor": "white",
            "ticks": ""
           },
           "bgcolor": "#E5ECF6",
           "radialaxis": {
            "gridcolor": "white",
            "linecolor": "white",
            "ticks": ""
           }
          },
          "scene": {
           "xaxis": {
            "backgroundcolor": "#E5ECF6",
            "gridcolor": "white",
            "gridwidth": 2,
            "linecolor": "white",
            "showbackground": true,
            "ticks": "",
            "zerolinecolor": "white"
           },
           "yaxis": {
            "backgroundcolor": "#E5ECF6",
            "gridcolor": "white",
            "gridwidth": 2,
            "linecolor": "white",
            "showbackground": true,
            "ticks": "",
            "zerolinecolor": "white"
           },
           "zaxis": {
            "backgroundcolor": "#E5ECF6",
            "gridcolor": "white",
            "gridwidth": 2,
            "linecolor": "white",
            "showbackground": true,
            "ticks": "",
            "zerolinecolor": "white"
           }
          },
          "shapedefaults": {
           "line": {
            "color": "#2a3f5f"
           }
          },
          "ternary": {
           "aaxis": {
            "gridcolor": "white",
            "linecolor": "white",
            "ticks": ""
           },
           "baxis": {
            "gridcolor": "white",
            "linecolor": "white",
            "ticks": ""
           },
           "bgcolor": "#E5ECF6",
           "caxis": {
            "gridcolor": "white",
            "linecolor": "white",
            "ticks": ""
           }
          },
          "title": {
           "x": 0.05
          },
          "xaxis": {
           "automargin": true,
           "gridcolor": "white",
           "linecolor": "white",
           "ticks": "",
           "title": {
            "standoff": 15
           },
           "zerolinecolor": "white",
           "zerolinewidth": 2
          },
          "yaxis": {
           "automargin": true,
           "gridcolor": "white",
           "linecolor": "white",
           "ticks": "",
           "title": {
            "standoff": 15
           },
           "zerolinecolor": "white",
           "zerolinewidth": 2
          }
         }
        },
        "title": {
         "text": "Estados con Mayor Diversidad de Nombres por Década"
        },
        "width": 1000,
        "xaxis": {
         "anchor": "y",
         "domain": [
          0,
          1
         ],
         "title": {
          "text": "Década"
         }
        },
        "yaxis": {
         "anchor": "x",
         "domain": [
          0,
          1
         ],
         "title": {
          "text": "Número de Nombres Únicos"
         }
        }
       }
      }
     },
     "metadata": {},
     "output_type": "display_data"
    },
    {
     "name": "stdout",
     "output_type": "stream",
     "text": [
      "\n",
      "📍 Nombres más populares por estado (2000-2013):\n"
     ]
    },
    {
     "data": {
      "text/html": [
       "<div>\n",
       "<style scoped>\n",
       "    .dataframe tbody tr th:only-of-type {\n",
       "        vertical-align: middle;\n",
       "    }\n",
       "\n",
       "    .dataframe tbody tr th {\n",
       "        vertical-align: top;\n",
       "    }\n",
       "\n",
       "    .dataframe thead th {\n",
       "        text-align: right;\n",
       "    }\n",
       "</style>\n",
       "<table border=\"1\" class=\"dataframe\">\n",
       "  <thead>\n",
       "    <tr style=\"text-align: right;\">\n",
       "      <th></th>\n",
       "      <th>name_rank</th>\n",
       "      <th>1</th>\n",
       "      <th>2</th>\n",
       "      <th>3</th>\n",
       "    </tr>\n",
       "    <tr>\n",
       "      <th>state</th>\n",
       "      <th>gender</th>\n",
       "      <th></th>\n",
       "      <th></th>\n",
       "      <th></th>\n",
       "    </tr>\n",
       "  </thead>\n",
       "  <tbody>\n",
       "    <tr>\n",
       "      <th rowspan=\"2\" valign=\"top\">AK</th>\n",
       "      <th>F</th>\n",
       "      <td>659</td>\n",
       "      <td>581</td>\n",
       "      <td>547</td>\n",
       "    </tr>\n",
       "    <tr>\n",
       "      <th>M</th>\n",
       "      <td>754</td>\n",
       "      <td>747</td>\n",
       "      <td>731</td>\n",
       "    </tr>\n",
       "    <tr>\n",
       "      <th rowspan=\"2\" valign=\"top\">AL</th>\n",
       "      <th>F</th>\n",
       "      <td>4715</td>\n",
       "      <td>4481</td>\n",
       "      <td>3744</td>\n",
       "    </tr>\n",
       "    <tr>\n",
       "      <th>M</th>\n",
       "      <td>7713</td>\n",
       "      <td>5392</td>\n",
       "      <td>5269</td>\n",
       "    </tr>\n",
       "    <tr>\n",
       "      <th>AR</th>\n",
       "      <th>F</th>\n",
       "      <td>3007</td>\n",
       "      <td>2641</td>\n",
       "      <td>2519</td>\n",
       "    </tr>\n",
       "    <tr>\n",
       "      <th>...</th>\n",
       "      <th>...</th>\n",
       "      <td>...</td>\n",
       "      <td>...</td>\n",
       "      <td>...</td>\n",
       "    </tr>\n",
       "    <tr>\n",
       "      <th>WI</th>\n",
       "      <th>M</th>\n",
       "      <td>6388</td>\n",
       "      <td>5607</td>\n",
       "      <td>4884</td>\n",
       "    </tr>\n",
       "    <tr>\n",
       "      <th rowspan=\"2\" valign=\"top\">WV</th>\n",
       "      <th>F</th>\n",
       "      <td>2402</td>\n",
       "      <td>2040</td>\n",
       "      <td>1862</td>\n",
       "    </tr>\n",
       "    <tr>\n",
       "      <th>M</th>\n",
       "      <td>2948</td>\n",
       "      <td>1951</td>\n",
       "      <td>1934</td>\n",
       "    </tr>\n",
       "    <tr>\n",
       "      <th rowspan=\"2\" valign=\"top\">WY</th>\n",
       "      <th>F</th>\n",
       "      <td>466</td>\n",
       "      <td>426</td>\n",
       "      <td>329</td>\n",
       "    </tr>\n",
       "    <tr>\n",
       "      <th>M</th>\n",
       "      <td>498</td>\n",
       "      <td>443</td>\n",
       "      <td>420</td>\n",
       "    </tr>\n",
       "  </tbody>\n",
       "</table>\n",
       "<p>102 rows × 3 columns</p>\n",
       "</div>"
      ],
      "text/plain": [
       "name_rank        1     2     3\n",
       "state gender                  \n",
       "AK    F        659   581   547\n",
       "      M        754   747   731\n",
       "AL    F       4715  4481  3744\n",
       "      M       7713  5392  5269\n",
       "AR    F       3007  2641  2519\n",
       "...            ...   ...   ...\n",
       "WI    M       6388  5607  4884\n",
       "WV    F       2402  2040  1862\n",
       "      M       2948  1951  1934\n",
       "WY    F        466   426   329\n",
       "      M        498   443   420\n",
       "\n",
       "[102 rows x 3 columns]"
      ]
     },
     "metadata": {},
     "output_type": "display_data"
    }
   ],
   "source": [
    "# Análisis de diversidad regional\n",
    "regional_query = \"\"\"\n",
    "WITH RegionalStats AS (\n",
    "    SELECT\n",
    "        state,\n",
    "        CAST(FLOOR(year/10) * 10 AS INT64) as decade,\n",
    "        COUNT(DISTINCT name) as unique_names,\n",
    "        SUM(number) as total_births\n",
    "    FROM `bigquery-public-data.usa_names.usa_1910_2013`\n",
    "    GROUP BY state, decade\n",
    "),\n",
    "StateRanking AS (\n",
    "    SELECT\n",
    "        decade,\n",
    "        state,\n",
    "        unique_names,\n",
    "        total_births,\n",
    "        RANK() OVER(PARTITION BY decade ORDER BY unique_names DESC) as diversity_rank\n",
    "    FROM RegionalStats\n",
    ")\n",
    "SELECT *\n",
    "FROM StateRanking\n",
    "WHERE diversity_rank <= 5  -- Top 5 estados más diversos por década\n",
    "ORDER BY decade, diversity_rank\n",
    "\"\"\"\n",
    "\n",
    "print(\"📊 Análisis de diversidad regional por década:\")\n",
    "regional_df = client.query(regional_query).to_dataframe()\n",
    "\n",
    "# Crear visualización de diversidad regional\n",
    "fig = px.scatter(regional_df, \n",
    "                 x='decade', \n",
    "                 y='unique_names',\n",
    "                 size='total_births',\n",
    "                 color='state',\n",
    "                 hover_data=['diversity_rank', 'total_births'],\n",
    "                 title='Estados con Mayor Diversidad de Nombres por Década')\n",
    "\n",
    "fig.update_layout(\n",
    "    height=600,\n",
    "    width=1000,\n",
    "    xaxis_title=\"Década\",\n",
    "    yaxis_title=\"Número de Nombres Únicos\",\n",
    "    showlegend=True\n",
    ")\n",
    "\n",
    "fig.show()\n",
    "\n",
    "# Análisis de nombres únicos por región\n",
    "popular_regional_query = \"\"\"\n",
    "WITH RegionalNames AS (\n",
    "    SELECT\n",
    "        state,\n",
    "        name,\n",
    "        gender,\n",
    "        SUM(number) as total_count\n",
    "    FROM `bigquery-public-data.usa_names.usa_1910_2013`\n",
    "    WHERE year >= 2000  -- Análisis del siglo XXI\n",
    "    GROUP BY state, name, gender\n",
    "),\n",
    "StatePreferences AS (\n",
    "    SELECT\n",
    "        state,\n",
    "        name,\n",
    "        gender,\n",
    "        total_count,\n",
    "        RANK() OVER(PARTITION BY state, gender ORDER BY total_count DESC) as name_rank\n",
    "    FROM RegionalNames\n",
    ")\n",
    "SELECT *\n",
    "FROM StatePreferences\n",
    "WHERE name_rank <= 3  -- Top 3 nombres por estado y género\n",
    "ORDER BY state, gender, name_rank\n",
    "\"\"\"\n",
    "\n",
    "print(\"\\n📍 Nombres más populares por estado (2000-2013):\")\n",
    "regional_names_df = client.query(popular_regional_query).to_dataframe()\n",
    "\n",
    "# Mostrar tabla de nombres populares por estado\n",
    "display(regional_names_df.pivot_table(\n",
    "    values='total_count',\n",
    "    index=['state', 'gender'],\n",
    "    columns='name_rank',\n",
    "    aggfunc='first'\n",
    ").round(0))"
   ]
  },
  {
   "cell_type": "markdown",
   "id": "4201e716",
   "metadata": {},
   "source": [
    "## 5. Influencias Históricas y Culturales\n",
    "\n",
    "Analizaremos cómo los eventos históricos y cambios culturales han influido en la elección de nombres."
   ]
  },
  {
   "cell_type": "code",
   "execution_count": 12,
   "id": "252ac1ec",
   "metadata": {},
   "outputs": [
    {
     "name": "stdout",
     "output_type": "stream",
     "text": [
      "📈 Cambios significativos en popularidad de nombres:\n"
     ]
    },
    {
     "data": {
      "application/vnd.plotly.v1+json": {
       "config": {
        "plotlyServerURL": "https://plot.ly"
       },
       "data": [
        {
         "customdata": [
          [
           "Shelby",
           33,
           100
          ],
          [
           "Khloe",
           42,
           95
          ],
          [
           "Aria",
           40,
           91
          ],
          [
           "Jamie",
           18,
           68
          ],
          [
           "Sadie",
           50,
           100
          ],
          [
           "Jacqueline",
           37,
           85
          ],
          [
           "Ella",
           44,
           89
          ],
          [
           "Cindy",
           37,
           79
          ],
          [
           "Ava",
           39,
           81
          ],
          [
           "Debra",
           18,
           59
          ],
          [
           "Whitney",
           32,
           73
          ],
          [
           "Brooke",
           92,
           52
          ],
          [
           "Kaitlyn",
           42,
           82
          ],
          [
           "Aubree",
           60,
           99
          ],
          [
           "Kim",
           38,
           75
          ],
          [
           "Tiffany",
           62,
           99
          ],
          [
           "Kayla",
           27,
           64
          ],
          [
           "Sabrina",
           58,
           95
          ],
          [
           "Kristin",
           37,
           73
          ],
          [
           "Kayla",
           64,
           100
          ],
          [
           "Lauren",
           45,
           80
          ],
          [
           "Kylie",
           61,
           96
          ],
          [
           "Denise",
           48,
           82
          ],
          [
           "Jessica",
           64,
           98
          ],
          [
           "Amber",
           59,
           92
          ],
          [
           "Lindsey",
           58,
           91
          ],
          [
           "Kelsey",
           31,
           64
          ],
          [
           "Sydney",
           43,
           76
          ],
          [
           "Mia",
           43,
           76
          ],
          [
           "Erin",
           47,
           79
          ],
          [
           "Aaliyah",
           63,
           95
          ],
          [
           "Kimberly",
           42,
           73
          ],
          [
           "Emily",
           69,
           100
          ],
          [
           "Dawn",
           54,
           84
          ],
          [
           "Brittany",
           64,
           94
          ],
          [
           "Latoya",
           60,
           90
          ],
          [
           "Layla",
           55,
           85
          ],
          [
           "Harper",
           24,
           54
          ],
          [
           "Debbie",
           63,
           92
          ]
         ],
         "hovertemplate": "gender=F<br>year=%{x}<br>rank_change=%{y}<br>total_count=%{marker.size}<br>name=%{customdata[0]}<br>current_rank=%{customdata[1]}<br>prev_rank=%{customdata[2]}<extra></extra>",
         "legendgroup": "F",
         "marker": {
          "color": "#636efa",
          "size": {
           "bdata": "6ycTFd0T+zAGEucqCBcDJ4cYqUI9JUoMNB3BD6QmIxVPKY0WFh4tEuwV3hK7H+wUSBL+EikkvRxsGO8WqRLmJOUQ1x4YEaUTPhMIHE4c",
           "dtype": "i2"
          },
          "sizemode": "area",
          "sizeref": 42.6625,
          "symbol": "circle"
         },
         "mode": "markers",
         "name": "F",
         "orientation": "v",
         "showlegend": true,
         "type": "scatter",
         "x": {
          "bdata": "xwfaB90HuAfdB6kH0wekB9MHnwfCB74HyAfcB6QHswfDB8wHvAfCB7sH0gefB7MHtwe9B8UHywfSB7YH0gelB7YHpwe/B8AH2AfcB6MH",
          "dtype": "i2"
         },
         "xaxis": "x",
         "y": {
          "bdata": "vcvNzs7Q09bW19co2Nnb29vb3Nzd3d7e39/f39/g4OHh4uLi4uLj",
          "dtype": "i1"
         },
         "yaxis": "y"
        },
        {
         "customdata": [
          [
           "Noah",
           50,
           100
          ],
          [
           "Mike",
           53,
           96
          ],
          [
           "Dylan",
           46,
           83
          ],
          [
           "Jason",
           54,
           89
          ],
          [
           "Troy",
           67,
           100
          ],
          [
           "Vincent",
           66,
           98
          ],
          [
           "Brandon",
           63,
           95
          ],
          [
           "Jayden",
           18,
           49
          ],
          [
           "Ricky",
           51,
           81
          ],
          [
           "Tyler",
           66,
           96
          ],
          [
           "Hunter",
           67,
           97
          ]
         ],
         "hovertemplate": "gender=M<br>year=%{x}<br>rank_change=%{y}<br>total_count=%{marker.size}<br>name=%{customdata[0]}<br>current_rank=%{customdata[1]}<br>prev_rank=%{customdata[2]}<extra></extra>",
         "legendgroup": "M",
         "marker": {
          "color": "#EF553B",
          "size": {
           "bdata": "DRxEHCEm1xSXFwQYFBJ0O+Ea5BHLFQ==",
           "dtype": "i2"
          },
          "sizemode": "area",
          "sizeref": 42.6625,
          "symbol": "circle"
         },
         "mode": "markers",
         "name": "M",
         "orientation": "v",
         "showlegend": true,
         "type": "scatter",
         "x": {
          "bdata": "zAelB8cHrweqB6oHtAfXB6EHvgfKBw==",
          "dtype": "i2"
         },
         "xaxis": "x",
         "y": {
          "bdata": "ztXb3d/g4OHi4uI=",
          "dtype": "i1"
         },
         "yaxis": "y"
        }
       ],
       "layout": {
        "height": 600,
        "legend": {
         "itemsizing": "constant",
         "title": {
          "text": "gender"
         },
         "tracegroupgap": 0
        },
        "shapes": [
         {
          "line": {
           "color": "gray",
           "dash": "dash"
          },
          "type": "line",
          "x0": 0,
          "x1": 1,
          "xref": "x domain",
          "y0": 0,
          "y1": 0,
          "yref": "y"
         }
        ],
        "showlegend": true,
        "template": {
         "data": {
          "bar": [
           {
            "error_x": {
             "color": "#2a3f5f"
            },
            "error_y": {
             "color": "#2a3f5f"
            },
            "marker": {
             "line": {
              "color": "#E5ECF6",
              "width": 0.5
             },
             "pattern": {
              "fillmode": "overlay",
              "size": 10,
              "solidity": 0.2
             }
            },
            "type": "bar"
           }
          ],
          "barpolar": [
           {
            "marker": {
             "line": {
              "color": "#E5ECF6",
              "width": 0.5
             },
             "pattern": {
              "fillmode": "overlay",
              "size": 10,
              "solidity": 0.2
             }
            },
            "type": "barpolar"
           }
          ],
          "carpet": [
           {
            "aaxis": {
             "endlinecolor": "#2a3f5f",
             "gridcolor": "white",
             "linecolor": "white",
             "minorgridcolor": "white",
             "startlinecolor": "#2a3f5f"
            },
            "baxis": {
             "endlinecolor": "#2a3f5f",
             "gridcolor": "white",
             "linecolor": "white",
             "minorgridcolor": "white",
             "startlinecolor": "#2a3f5f"
            },
            "type": "carpet"
           }
          ],
          "choropleth": [
           {
            "colorbar": {
             "outlinewidth": 0,
             "ticks": ""
            },
            "type": "choropleth"
           }
          ],
          "contour": [
           {
            "colorbar": {
             "outlinewidth": 0,
             "ticks": ""
            },
            "colorscale": [
             [
              0,
              "#0d0887"
             ],
             [
              0.1111111111111111,
              "#46039f"
             ],
             [
              0.2222222222222222,
              "#7201a8"
             ],
             [
              0.3333333333333333,
              "#9c179e"
             ],
             [
              0.4444444444444444,
              "#bd3786"
             ],
             [
              0.5555555555555556,
              "#d8576b"
             ],
             [
              0.6666666666666666,
              "#ed7953"
             ],
             [
              0.7777777777777778,
              "#fb9f3a"
             ],
             [
              0.8888888888888888,
              "#fdca26"
             ],
             [
              1,
              "#f0f921"
             ]
            ],
            "type": "contour"
           }
          ],
          "contourcarpet": [
           {
            "colorbar": {
             "outlinewidth": 0,
             "ticks": ""
            },
            "type": "contourcarpet"
           }
          ],
          "heatmap": [
           {
            "colorbar": {
             "outlinewidth": 0,
             "ticks": ""
            },
            "colorscale": [
             [
              0,
              "#0d0887"
             ],
             [
              0.1111111111111111,
              "#46039f"
             ],
             [
              0.2222222222222222,
              "#7201a8"
             ],
             [
              0.3333333333333333,
              "#9c179e"
             ],
             [
              0.4444444444444444,
              "#bd3786"
             ],
             [
              0.5555555555555556,
              "#d8576b"
             ],
             [
              0.6666666666666666,
              "#ed7953"
             ],
             [
              0.7777777777777778,
              "#fb9f3a"
             ],
             [
              0.8888888888888888,
              "#fdca26"
             ],
             [
              1,
              "#f0f921"
             ]
            ],
            "type": "heatmap"
           }
          ],
          "histogram": [
           {
            "marker": {
             "pattern": {
              "fillmode": "overlay",
              "size": 10,
              "solidity": 0.2
             }
            },
            "type": "histogram"
           }
          ],
          "histogram2d": [
           {
            "colorbar": {
             "outlinewidth": 0,
             "ticks": ""
            },
            "colorscale": [
             [
              0,
              "#0d0887"
             ],
             [
              0.1111111111111111,
              "#46039f"
             ],
             [
              0.2222222222222222,
              "#7201a8"
             ],
             [
              0.3333333333333333,
              "#9c179e"
             ],
             [
              0.4444444444444444,
              "#bd3786"
             ],
             [
              0.5555555555555556,
              "#d8576b"
             ],
             [
              0.6666666666666666,
              "#ed7953"
             ],
             [
              0.7777777777777778,
              "#fb9f3a"
             ],
             [
              0.8888888888888888,
              "#fdca26"
             ],
             [
              1,
              "#f0f921"
             ]
            ],
            "type": "histogram2d"
           }
          ],
          "histogram2dcontour": [
           {
            "colorbar": {
             "outlinewidth": 0,
             "ticks": ""
            },
            "colorscale": [
             [
              0,
              "#0d0887"
             ],
             [
              0.1111111111111111,
              "#46039f"
             ],
             [
              0.2222222222222222,
              "#7201a8"
             ],
             [
              0.3333333333333333,
              "#9c179e"
             ],
             [
              0.4444444444444444,
              "#bd3786"
             ],
             [
              0.5555555555555556,
              "#d8576b"
             ],
             [
              0.6666666666666666,
              "#ed7953"
             ],
             [
              0.7777777777777778,
              "#fb9f3a"
             ],
             [
              0.8888888888888888,
              "#fdca26"
             ],
             [
              1,
              "#f0f921"
             ]
            ],
            "type": "histogram2dcontour"
           }
          ],
          "mesh3d": [
           {
            "colorbar": {
             "outlinewidth": 0,
             "ticks": ""
            },
            "type": "mesh3d"
           }
          ],
          "parcoords": [
           {
            "line": {
             "colorbar": {
              "outlinewidth": 0,
              "ticks": ""
             }
            },
            "type": "parcoords"
           }
          ],
          "pie": [
           {
            "automargin": true,
            "type": "pie"
           }
          ],
          "scatter": [
           {
            "fillpattern": {
             "fillmode": "overlay",
             "size": 10,
             "solidity": 0.2
            },
            "type": "scatter"
           }
          ],
          "scatter3d": [
           {
            "line": {
             "colorbar": {
              "outlinewidth": 0,
              "ticks": ""
             }
            },
            "marker": {
             "colorbar": {
              "outlinewidth": 0,
              "ticks": ""
             }
            },
            "type": "scatter3d"
           }
          ],
          "scattercarpet": [
           {
            "marker": {
             "colorbar": {
              "outlinewidth": 0,
              "ticks": ""
             }
            },
            "type": "scattercarpet"
           }
          ],
          "scattergeo": [
           {
            "marker": {
             "colorbar": {
              "outlinewidth": 0,
              "ticks": ""
             }
            },
            "type": "scattergeo"
           }
          ],
          "scattergl": [
           {
            "marker": {
             "colorbar": {
              "outlinewidth": 0,
              "ticks": ""
             }
            },
            "type": "scattergl"
           }
          ],
          "scattermap": [
           {
            "marker": {
             "colorbar": {
              "outlinewidth": 0,
              "ticks": ""
             }
            },
            "type": "scattermap"
           }
          ],
          "scattermapbox": [
           {
            "marker": {
             "colorbar": {
              "outlinewidth": 0,
              "ticks": ""
             }
            },
            "type": "scattermapbox"
           }
          ],
          "scatterpolar": [
           {
            "marker": {
             "colorbar": {
              "outlinewidth": 0,
              "ticks": ""
             }
            },
            "type": "scatterpolar"
           }
          ],
          "scatterpolargl": [
           {
            "marker": {
             "colorbar": {
              "outlinewidth": 0,
              "ticks": ""
             }
            },
            "type": "scatterpolargl"
           }
          ],
          "scatterternary": [
           {
            "marker": {
             "colorbar": {
              "outlinewidth": 0,
              "ticks": ""
             }
            },
            "type": "scatterternary"
           }
          ],
          "surface": [
           {
            "colorbar": {
             "outlinewidth": 0,
             "ticks": ""
            },
            "colorscale": [
             [
              0,
              "#0d0887"
             ],
             [
              0.1111111111111111,
              "#46039f"
             ],
             [
              0.2222222222222222,
              "#7201a8"
             ],
             [
              0.3333333333333333,
              "#9c179e"
             ],
             [
              0.4444444444444444,
              "#bd3786"
             ],
             [
              0.5555555555555556,
              "#d8576b"
             ],
             [
              0.6666666666666666,
              "#ed7953"
             ],
             [
              0.7777777777777778,
              "#fb9f3a"
             ],
             [
              0.8888888888888888,
              "#fdca26"
             ],
             [
              1,
              "#f0f921"
             ]
            ],
            "type": "surface"
           }
          ],
          "table": [
           {
            "cells": {
             "fill": {
              "color": "#EBF0F8"
             },
             "line": {
              "color": "white"
             }
            },
            "header": {
             "fill": {
              "color": "#C8D4E3"
             },
             "line": {
              "color": "white"
             }
            },
            "type": "table"
           }
          ]
         },
         "layout": {
          "annotationdefaults": {
           "arrowcolor": "#2a3f5f",
           "arrowhead": 0,
           "arrowwidth": 1
          },
          "autotypenumbers": "strict",
          "coloraxis": {
           "colorbar": {
            "outlinewidth": 0,
            "ticks": ""
           }
          },
          "colorscale": {
           "diverging": [
            [
             0,
             "#8e0152"
            ],
            [
             0.1,
             "#c51b7d"
            ],
            [
             0.2,
             "#de77ae"
            ],
            [
             0.3,
             "#f1b6da"
            ],
            [
             0.4,
             "#fde0ef"
            ],
            [
             0.5,
             "#f7f7f7"
            ],
            [
             0.6,
             "#e6f5d0"
            ],
            [
             0.7,
             "#b8e186"
            ],
            [
             0.8,
             "#7fbc41"
            ],
            [
             0.9,
             "#4d9221"
            ],
            [
             1,
             "#276419"
            ]
           ],
           "sequential": [
            [
             0,
             "#0d0887"
            ],
            [
             0.1111111111111111,
             "#46039f"
            ],
            [
             0.2222222222222222,
             "#7201a8"
            ],
            [
             0.3333333333333333,
             "#9c179e"
            ],
            [
             0.4444444444444444,
             "#bd3786"
            ],
            [
             0.5555555555555556,
             "#d8576b"
            ],
            [
             0.6666666666666666,
             "#ed7953"
            ],
            [
             0.7777777777777778,
             "#fb9f3a"
            ],
            [
             0.8888888888888888,
             "#fdca26"
            ],
            [
             1,
             "#f0f921"
            ]
           ],
           "sequentialminus": [
            [
             0,
             "#0d0887"
            ],
            [
             0.1111111111111111,
             "#46039f"
            ],
            [
             0.2222222222222222,
             "#7201a8"
            ],
            [
             0.3333333333333333,
             "#9c179e"
            ],
            [
             0.4444444444444444,
             "#bd3786"
            ],
            [
             0.5555555555555556,
             "#d8576b"
            ],
            [
             0.6666666666666666,
             "#ed7953"
            ],
            [
             0.7777777777777778,
             "#fb9f3a"
            ],
            [
             0.8888888888888888,
             "#fdca26"
            ],
            [
             1,
             "#f0f921"
            ]
           ]
          },
          "colorway": [
           "#636efa",
           "#EF553B",
           "#00cc96",
           "#ab63fa",
           "#FFA15A",
           "#19d3f3",
           "#FF6692",
           "#B6E880",
           "#FF97FF",
           "#FECB52"
          ],
          "font": {
           "color": "#2a3f5f"
          },
          "geo": {
           "bgcolor": "white",
           "lakecolor": "white",
           "landcolor": "#E5ECF6",
           "showlakes": true,
           "showland": true,
           "subunitcolor": "white"
          },
          "hoverlabel": {
           "align": "left"
          },
          "hovermode": "closest",
          "mapbox": {
           "style": "light"
          },
          "paper_bgcolor": "white",
          "plot_bgcolor": "#E5ECF6",
          "polar": {
           "angularaxis": {
            "gridcolor": "white",
            "linecolor": "white",
            "ticks": ""
           },
           "bgcolor": "#E5ECF6",
           "radialaxis": {
            "gridcolor": "white",
            "linecolor": "white",
            "ticks": ""
           }
          },
          "scene": {
           "xaxis": {
            "backgroundcolor": "#E5ECF6",
            "gridcolor": "white",
            "gridwidth": 2,
            "linecolor": "white",
            "showbackground": true,
            "ticks": "",
            "zerolinecolor": "white"
           },
           "yaxis": {
            "backgroundcolor": "#E5ECF6",
            "gridcolor": "white",
            "gridwidth": 2,
            "linecolor": "white",
            "showbackground": true,
            "ticks": "",
            "zerolinecolor": "white"
           },
           "zaxis": {
            "backgroundcolor": "#E5ECF6",
            "gridcolor": "white",
            "gridwidth": 2,
            "linecolor": "white",
            "showbackground": true,
            "ticks": "",
            "zerolinecolor": "white"
           }
          },
          "shapedefaults": {
           "line": {
            "color": "#2a3f5f"
           }
          },
          "ternary": {
           "aaxis": {
            "gridcolor": "white",
            "linecolor": "white",
            "ticks": ""
           },
           "baxis": {
            "gridcolor": "white",
            "linecolor": "white",
            "ticks": ""
           },
           "bgcolor": "#E5ECF6",
           "caxis": {
            "gridcolor": "white",
            "linecolor": "white",
            "ticks": ""
           }
          },
          "title": {
           "x": 0.05
          },
          "xaxis": {
           "automargin": true,
           "gridcolor": "white",
           "linecolor": "white",
           "ticks": "",
           "title": {
            "standoff": 15
           },
           "zerolinecolor": "white",
           "zerolinewidth": 2
          },
          "yaxis": {
           "automargin": true,
           "gridcolor": "white",
           "linecolor": "white",
           "ticks": "",
           "title": {
            "standoff": 15
           },
           "zerolinecolor": "white",
           "zerolinewidth": 2
          }
         }
        },
        "title": {
         "text": "Cambios Dramáticos en Popularidad de Nombres (1950-2013)"
        },
        "width": 1000,
        "xaxis": {
         "anchor": "y",
         "domain": [
          0,
          1
         ],
         "title": {
          "text": "Año"
         }
        },
        "yaxis": {
         "anchor": "x",
         "domain": [
          0,
          1
         ],
         "title": {
          "text": "Cambio en Ranking (negativo = aumento en popularidad)"
         }
        }
       }
      }
     },
     "metadata": {},
     "output_type": "display_data"
    },
    {
     "name": "stdout",
     "output_type": "stream",
     "text": [
      "\n",
      "Cambios más significativos en popularidad:\n"
     ]
    },
    {
     "data": {
      "text/html": [
       "<div>\n",
       "<style scoped>\n",
       "    .dataframe tbody tr th:only-of-type {\n",
       "        vertical-align: middle;\n",
       "    }\n",
       "\n",
       "    .dataframe tbody tr th {\n",
       "        vertical-align: top;\n",
       "    }\n",
       "\n",
       "    .dataframe thead th {\n",
       "        text-align: right;\n",
       "    }\n",
       "</style>\n",
       "<table border=\"1\" class=\"dataframe\">\n",
       "  <thead>\n",
       "    <tr style=\"text-align: right;\">\n",
       "      <th></th>\n",
       "      <th>year</th>\n",
       "      <th>name</th>\n",
       "      <th>gender</th>\n",
       "      <th>total_count</th>\n",
       "      <th>current_rank</th>\n",
       "      <th>prev_rank</th>\n",
       "      <th>rank_change</th>\n",
       "    </tr>\n",
       "  </thead>\n",
       "  <tbody>\n",
       "    <tr>\n",
       "      <th>0</th>\n",
       "      <td>1991</td>\n",
       "      <td>Shelby</td>\n",
       "      <td>F</td>\n",
       "      <td>10219</td>\n",
       "      <td>33</td>\n",
       "      <td>100</td>\n",
       "      <td>-67</td>\n",
       "    </tr>\n",
       "    <tr>\n",
       "      <th>1</th>\n",
       "      <td>2010</td>\n",
       "      <td>Khloe</td>\n",
       "      <td>F</td>\n",
       "      <td>5395</td>\n",
       "      <td>42</td>\n",
       "      <td>95</td>\n",
       "      <td>-53</td>\n",
       "    </tr>\n",
       "    <tr>\n",
       "      <th>2</th>\n",
       "      <td>2013</td>\n",
       "      <td>Aria</td>\n",
       "      <td>F</td>\n",
       "      <td>5085</td>\n",
       "      <td>40</td>\n",
       "      <td>91</td>\n",
       "      <td>-51</td>\n",
       "    </tr>\n",
       "    <tr>\n",
       "      <th>3</th>\n",
       "      <td>1976</td>\n",
       "      <td>Jamie</td>\n",
       "      <td>F</td>\n",
       "      <td>12539</td>\n",
       "      <td>18</td>\n",
       "      <td>68</td>\n",
       "      <td>-50</td>\n",
       "    </tr>\n",
       "    <tr>\n",
       "      <th>4</th>\n",
       "      <td>1996</td>\n",
       "      <td>Noah</td>\n",
       "      <td>M</td>\n",
       "      <td>7181</td>\n",
       "      <td>50</td>\n",
       "      <td>100</td>\n",
       "      <td>-50</td>\n",
       "    </tr>\n",
       "    <tr>\n",
       "      <th>5</th>\n",
       "      <td>2013</td>\n",
       "      <td>Sadie</td>\n",
       "      <td>F</td>\n",
       "      <td>4614</td>\n",
       "      <td>50</td>\n",
       "      <td>100</td>\n",
       "      <td>-50</td>\n",
       "    </tr>\n",
       "    <tr>\n",
       "      <th>6</th>\n",
       "      <td>1961</td>\n",
       "      <td>Jacqueline</td>\n",
       "      <td>F</td>\n",
       "      <td>10983</td>\n",
       "      <td>37</td>\n",
       "      <td>85</td>\n",
       "      <td>-48</td>\n",
       "    </tr>\n",
       "    <tr>\n",
       "      <th>7</th>\n",
       "      <td>2003</td>\n",
       "      <td>Ella</td>\n",
       "      <td>F</td>\n",
       "      <td>5896</td>\n",
       "      <td>44</td>\n",
       "      <td>89</td>\n",
       "      <td>-45</td>\n",
       "    </tr>\n",
       "    <tr>\n",
       "      <th>8</th>\n",
       "      <td>1957</td>\n",
       "      <td>Mike</td>\n",
       "      <td>M</td>\n",
       "      <td>7236</td>\n",
       "      <td>53</td>\n",
       "      <td>96</td>\n",
       "      <td>-43</td>\n",
       "    </tr>\n",
       "    <tr>\n",
       "      <th>9</th>\n",
       "      <td>1956</td>\n",
       "      <td>Cindy</td>\n",
       "      <td>F</td>\n",
       "      <td>9987</td>\n",
       "      <td>37</td>\n",
       "      <td>79</td>\n",
       "      <td>-42</td>\n",
       "    </tr>\n",
       "  </tbody>\n",
       "</table>\n",
       "</div>"
      ],
      "text/plain": [
       "   year        name gender  total_count  current_rank  prev_rank  rank_change\n",
       "0  1991      Shelby      F        10219            33        100          -67\n",
       "1  2010       Khloe      F         5395            42         95          -53\n",
       "2  2013        Aria      F         5085            40         91          -51\n",
       "3  1976       Jamie      F        12539            18         68          -50\n",
       "4  1996        Noah      M         7181            50        100          -50\n",
       "5  2013       Sadie      F         4614            50        100          -50\n",
       "6  1961  Jacqueline      F        10983            37         85          -48\n",
       "7  2003        Ella      F         5896            44         89          -45\n",
       "8  1957        Mike      M         7236            53         96          -43\n",
       "9  1956       Cindy      F         9987            37         79          -42"
      ]
     },
     "metadata": {},
     "output_type": "display_data"
    }
   ],
   "source": [
    "# Análisis de cambios abruptos en popularidad\n",
    "trend_changes_query = \"\"\"\n",
    "WITH YearlyRanks AS (\n",
    "    SELECT\n",
    "        year,\n",
    "        name,\n",
    "        gender,\n",
    "        SUM(number) as total_count,\n",
    "        RANK() OVER(PARTITION BY year, gender ORDER BY SUM(number) DESC) as year_rank\n",
    "    FROM `bigquery-public-data.usa_names.usa_1910_2013`\n",
    "    GROUP BY year, name, gender\n",
    "),\n",
    "RankChanges AS (\n",
    "    SELECT\n",
    "        t1.year,\n",
    "        t1.name,\n",
    "        t1.gender,\n",
    "        t1.total_count,\n",
    "        t1.year_rank as current_rank,\n",
    "        LAG(t1.year_rank) OVER(PARTITION BY t1.name, t1.gender ORDER BY t1.year) as prev_rank,\n",
    "        t1.year_rank - LAG(t1.year_rank) OVER(PARTITION BY t1.name, t1.gender ORDER BY t1.year) as rank_change\n",
    "    FROM YearlyRanks t1\n",
    "    WHERE t1.year_rank <= 100  -- Considerar solo nombres relativamente populares\n",
    ")\n",
    "SELECT\n",
    "    year,\n",
    "    name,\n",
    "    gender,\n",
    "    total_count,\n",
    "    current_rank,\n",
    "    prev_rank,\n",
    "    rank_change\n",
    "FROM RankChanges\n",
    "WHERE ABS(rank_change) >= 20  -- Cambios significativos en popularidad\n",
    "AND year >= 1950  -- Enfocarse en historia más reciente\n",
    "ORDER BY ABS(rank_change) DESC, year\n",
    "LIMIT 50\n",
    "\"\"\"\n",
    "\n",
    "print(\"📈 Cambios significativos en popularidad de nombres:\")\n",
    "changes_df = client.query(trend_changes_query).to_dataframe()\n",
    "\n",
    "# Visualizar los cambios más dramáticos\n",
    "fig = px.scatter(changes_df,\n",
    "                x='year',\n",
    "                y='rank_change',\n",
    "                size='total_count',\n",
    "                color='gender',\n",
    "                hover_data=['name', 'current_rank', 'prev_rank'],\n",
    "                title='Cambios Dramáticos en Popularidad de Nombres (1950-2013)')\n",
    "\n",
    "fig.update_layout(\n",
    "    height=600,\n",
    "    width=1000,\n",
    "    xaxis_title=\"Año\",\n",
    "    yaxis_title=\"Cambio en Ranking (negativo = aumento en popularidad)\",\n",
    "    showlegend=True\n",
    ")\n",
    "\n",
    "# Añadir líneas de referencia\n",
    "fig.add_hline(y=0, line_dash=\"dash\", line_color=\"gray\")\n",
    "\n",
    "fig.show()\n",
    "\n",
    "# Mostrar tabla de cambios más significativos\n",
    "print(\"\\nCambios más significativos en popularidad:\")\n",
    "display(changes_df.head(10))"
   ]
  }
 ],
 "metadata": {
  "kernelspec": {
   "display_name": "ds_portfolio_env",
   "language": "python",
   "name": "python3"
  },
  "language_info": {
   "codemirror_mode": {
    "name": "ipython",
    "version": 3
   },
   "file_extension": ".py",
   "mimetype": "text/x-python",
   "name": "python",
   "nbconvert_exporter": "python",
   "pygments_lexer": "ipython3",
   "version": "3.11.9"
  }
 },
 "nbformat": 4,
 "nbformat_minor": 5
}
