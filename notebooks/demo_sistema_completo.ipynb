{
 "cells": [
  {
   "cell_type": "markdown",
   "id": "8f5f2be9",
   "metadata": {},
   "source": [
    "# 🌍 Demostración Completa del Sistema Integrado\n",
    "## Análisis Ambiental de Chile con Geocodificación y Visualizaciones Avanzadas\n",
    "\n",
    "Este notebook demuestra la funcionalidad completa del sistema integrado de análisis ambiental, incluyendo:\n",
    "\n",
    "### 🎯 Características Principales:\n",
    "1. **Sistema de Visualizaciones Unificado** - Compatible con GitHub\n",
    "2. **Geocodificación Inteligente** - Para estaciones de monitoreo\n",
    "3. **Mapas Interactivos** - Distribución geográfica de datos\n",
    "4. **Análisis Espacial** - Correlaciones entre ubicación y calidad ambiental\n",
    "\n",
    "### 📊 Casos de Uso:\n",
    "- Análisis de calidad del agua con ubicaciones geográficas\n",
    "- Mapeo de emisiones de CO2 \n",
    "- Visualizaciones optimizadas para GitHub Pages\n",
    "- Integración de múltiples fuentes de datos ambientales"
   ]
  },
  {
   "cell_type": "code",
   "execution_count": 19,
   "id": "d3656835",
   "metadata": {},
   "outputs": [
    {
     "name": "stdout",
     "output_type": "stream",
     "text": [
      "✅ Sistema inicializado correctamente\n",
      "🗺️ Geocodificador importado\n",
      "📊 Helper de visualizaciones cargado\n"
     ]
    }
   ],
   "source": [
    "# 🔧 Configuración inicial del sistema\n",
    "import sys\n",
    "from pathlib import Path\n",
    "import pandas as pd\n",
    "import numpy as np\n",
    "import plotly.express as px\n",
    "import plotly.graph_objects as go\n",
    "from plotly.subplots import make_subplots\n",
    "import folium\n",
    "\n",
    "# Importar sistema de visualizaciones\n",
    "from visualizaciones_helper import save_plot_with_fallback\n",
    "\n",
    "# Importar geocodificador\n",
    "sys.path.append(str(Path.cwd() / 'utils'))\n",
    "from geocodificador_chile import GeocodificadorChile\n",
    "\n",
    "# Función especializada para demostración\n",
    "def mostrar_grafico_demo(fig, titulo_descriptivo):#, optimizar_github=True\n",
    "    \"\"\"\n",
    "    Función de demostración del sistema de visualizaciones integrado.\n",
    "    \"\"\"\n",
    "    return save_plot_with_fallback(\n",
    "        fig=fig,\n",
    "        filename=f\"demo_{titulo_descriptivo}\",\n",
    "        # title=f\"Demostración Sistema - {titulo_descriptivo}\",\n",
    "        # optimize_for_github=optimizar_github\n",
    "    )\n",
    "\n",
    "print(\"✅ Sistema inicializado correctamente\")\n",
    "print(\"🗺️ Geocodificador importado\")\n",
    "print(\"📊 Helper de visualizaciones cargado\")"
   ]
  },
  {
   "cell_type": "markdown",
   "id": "43ae32ef",
   "metadata": {},
   "source": [
    "## 1. 🗺️ Demostración del Geocodificador\n",
    "\n",
    "Probemos el geocodificador con estaciones reales de monitoreo ambiental en Chile."
   ]
  },
  {
   "cell_type": "code",
   "execution_count": 20,
   "id": "53ccc45f",
   "metadata": {},
   "outputs": [
    {
     "name": "stdout",
     "output_type": "stream",
     "text": [
      "🌍 Inicializando geocodificador para Chile...\n",
      "🗺️ Geocodificador de Chile inicializado correctamente\n",
      "📊 Geocodificando 7 estaciones de demostración...\n",
      "🚀 Iniciando geocodificación de 7 estaciones...\n",
      "📍 Estaciones únicas a geocodificar: 7\n",
      "✅ Geocodificación completada: 6/7 (85.7%) exitosas\n",
      "\n",
      "📈 Resultados de geocodificación:\n"
     ]
    },
    {
     "data": {
      "text/html": [
       "<div>\n",
       "<style scoped>\n",
       "    .dataframe tbody tr th:only-of-type {\n",
       "        vertical-align: middle;\n",
       "    }\n",
       "\n",
       "    .dataframe tbody tr th {\n",
       "        vertical-align: top;\n",
       "    }\n",
       "\n",
       "    .dataframe thead th {\n",
       "        text-align: right;\n",
       "    }\n",
       "</style>\n",
       "<table border=\"1\" class=\"dataframe\">\n",
       "  <thead>\n",
       "    <tr style=\"text-align: right;\">\n",
       "      <th></th>\n",
       "      <th>GLS_ESTACION</th>\n",
       "      <th>latitud_geocodificada</th>\n",
       "      <th>longitud_geocodificada</th>\n",
       "      <th>geocodificacion_exitosa</th>\n",
       "    </tr>\n",
       "  </thead>\n",
       "  <tbody>\n",
       "    <tr>\n",
       "      <th>0</th>\n",
       "      <td>LAGO VILLARRICA EN PELAGIAL VILLARRICA</td>\n",
       "      <td>-39.255332</td>\n",
       "      <td>-72.085733</td>\n",
       "      <td>True</td>\n",
       "    </tr>\n",
       "    <tr>\n",
       "      <th>1</th>\n",
       "      <td>EMBALSE RAPEL EN SECTOR BRAZO ALHUE</td>\n",
       "      <td>-34.041586</td>\n",
       "      <td>-71.588820</td>\n",
       "      <td>True</td>\n",
       "    </tr>\n",
       "    <tr>\n",
       "      <th>2</th>\n",
       "      <td>LAGO RIÑIHUE EN RIÑIHUE</td>\n",
       "      <td>NaN</td>\n",
       "      <td>NaN</td>\n",
       "      <td>False</td>\n",
       "    </tr>\n",
       "    <tr>\n",
       "      <th>3</th>\n",
       "      <td>LAGUNA GRANDE DE SAN PEDRO EN SECTOR SUR</td>\n",
       "      <td>-36.858291</td>\n",
       "      <td>-73.110260</td>\n",
       "      <td>True</td>\n",
       "    </tr>\n",
       "    <tr>\n",
       "      <th>4</th>\n",
       "      <td>LAGO RANCO EN FUTRONO</td>\n",
       "      <td>-40.321671</td>\n",
       "      <td>-72.481350</td>\n",
       "      <td>True</td>\n",
       "    </tr>\n",
       "    <tr>\n",
       "      <th>5</th>\n",
       "      <td>EMBALSE LA PALOMA EN BOCATOMA</td>\n",
       "      <td>-30.738278</td>\n",
       "      <td>-71.020313</td>\n",
       "      <td>True</td>\n",
       "    </tr>\n",
       "    <tr>\n",
       "      <th>6</th>\n",
       "      <td>LAGO LLANQUIHUE EN PUERTO VARAS</td>\n",
       "      <td>-41.142990</td>\n",
       "      <td>-72.806201</td>\n",
       "      <td>True</td>\n",
       "    </tr>\n",
       "  </tbody>\n",
       "</table>\n",
       "</div>"
      ],
      "text/plain": [
       "                               GLS_ESTACION  latitud_geocodificada  \\\n",
       "0    LAGO VILLARRICA EN PELAGIAL VILLARRICA             -39.255332   \n",
       "1       EMBALSE RAPEL EN SECTOR BRAZO ALHUE             -34.041586   \n",
       "2                   LAGO RIÑIHUE EN RIÑIHUE                    NaN   \n",
       "3  LAGUNA GRANDE DE SAN PEDRO EN SECTOR SUR             -36.858291   \n",
       "4                     LAGO RANCO EN FUTRONO             -40.321671   \n",
       "5             EMBALSE LA PALOMA EN BOCATOMA             -30.738278   \n",
       "6           LAGO LLANQUIHUE EN PUERTO VARAS             -41.142990   \n",
       "\n",
       "   longitud_geocodificada  geocodificacion_exitosa  \n",
       "0              -72.085733                     True  \n",
       "1              -71.588820                     True  \n",
       "2                     NaN                    False  \n",
       "3              -73.110260                     True  \n",
       "4              -72.481350                     True  \n",
       "5              -71.020313                     True  \n",
       "6              -72.806201                     True  "
      ]
     },
     "metadata": {},
     "output_type": "display_data"
    },
    {
     "name": "stdout",
     "output_type": "stream",
     "text": [
      "\n",
      "📊 Estadísticas del proceso:\n",
      "  • total_registros: 7\n",
      "  • estaciones_unicas: 7\n",
      "  • estaciones_geocodificadas: 6\n",
      "  • porcentaje_exito: 85.71428571428571\n",
      "  • cobertura_nacional: Alta\n"
     ]
    }
   ],
   "source": [
    "# Crear instancia del geocodificador\n",
    "print(\"🌍 Inicializando geocodificador para Chile...\")\n",
    "geocoder = GeocodificadorChile(cache_file=\"demo_cache_coordenadas.json\")\n",
    "\n",
    "# Datos de ejemplo con estaciones reales\n",
    "estaciones_demo = pd.DataFrame({\n",
    "    'GLS_ESTACION': [\n",
    "        'LAGO VILLARRICA EN PELAGIAL VILLARRICA',\n",
    "        'EMBALSE RAPEL EN SECTOR BRAZO ALHUE',\n",
    "        'LAGO RIÑIHUE EN RIÑIHUE',\n",
    "        'LAGUNA GRANDE DE SAN PEDRO EN SECTOR SUR',\n",
    "        'LAGO RANCO EN FUTRONO',\n",
    "        'EMBALSE LA PALOMA EN BOCATOMA',\n",
    "        'LAGO LLANQUIHUE EN PUERTO VARAS'\n",
    "    ],\n",
    "    'parametro_ejemplo': ['pH', 'Temperatura', 'Conductividad', 'Oxígeno', 'Turbidez', 'pH', 'Temperatura'],\n",
    "    'valor_ejemplo': [7.2, 18.5, 245.0, 8.1, 12.3, 6.9, 16.8]\n",
    "})\n",
    "\n",
    "print(f\"📊 Geocodificando {len(estaciones_demo)} estaciones de demostración...\")\n",
    "\n",
    "# Aplicar geocodificación\n",
    "df_geocodificado = geocoder.geocodificar_dataframe(\n",
    "    estaciones_demo, \n",
    "    columna_nombre='GLS_ESTACION',\n",
    "    mostrar_progreso=True\n",
    ")\n",
    "\n",
    "# Mostrar resultados\n",
    "print(\"\\n📈 Resultados de geocodificación:\")\n",
    "display(df_geocodificado[['GLS_ESTACION', 'latitud_geocodificada', 'longitud_geocodificada', 'geocodificacion_exitosa']])\n",
    "\n",
    "# Generar estadísticas\n",
    "stats = geocoder.generar_estadisticas_geocodificacion(df_geocodificado)\n",
    "print(f\"\\n📊 Estadísticas del proceso:\")\n",
    "for key, value in stats.items():\n",
    "    print(f\"  • {key}: {value}\")"
   ]
  },
  {
   "cell_type": "markdown",
   "id": "67b40d0a",
   "metadata": {},
   "source": [
    "## 2. 🗺️ Generación de Mapa Interactivo\n",
    "\n",
    "Creemos un mapa interactivo que muestre las estaciones geocodificadas."
   ]
  },
  {
   "cell_type": "code",
   "execution_count": 21,
   "id": "d2689254",
   "metadata": {},
   "outputs": [
    {
     "name": "stdout",
     "output_type": "stream",
     "text": [
      "🗺️ Generando mapa interactivo de estaciones...\n",
      "🗺️ Generando mapa con 6 estaciones...\n",
      "💾 Mapa guardado como: demo_mapa_estaciones.html\n",
      "✅ Mapa generado con 6 estaciones\n",
      "📄 Archivo guardado: demo_mapa_estaciones.html\n",
      "\n",
      "📍 Coordenadas de estaciones geocodificadas:\n",
      "  • LAGO VILLARRICA EN PELAGIAL VILLARRICA...\n",
      "    Lat: -39.2553, Lon: -72.0857\n",
      "  • EMBALSE RAPEL EN SECTOR BRAZO ALHUE...\n",
      "    Lat: -34.0416, Lon: -71.5888\n",
      "  • LAGUNA GRANDE DE SAN PEDRO EN SECTOR SUR...\n",
      "    Lat: -36.8583, Lon: -73.1103\n",
      "  • LAGO RANCO EN FUTRONO...\n",
      "    Lat: -40.3217, Lon: -72.4814\n",
      "  • EMBALSE LA PALOMA EN BOCATOMA...\n",
      "    Lat: -30.7383, Lon: -71.0203\n",
      "  • LAGO LLANQUIHUE EN PUERTO VARAS...\n",
      "    Lat: -41.1430, Lon: -72.8062\n"
     ]
    }
   ],
   "source": [
    "# Generar mapa interactivo\n",
    "if df_geocodificado['geocodificacion_exitosa'].any():\n",
    "    print(\"🗺️ Generando mapa interactivo de estaciones...\")\n",
    "    \n",
    "    mapa_demo = geocoder.generar_mapa_estaciones(\n",
    "        df_geocodificado,\n",
    "        guardar_html='demo_mapa_estaciones.html'\n",
    "    )\n",
    "    \n",
    "    # Mostrar estadísticas del mapa\n",
    "    estaciones_mapeadas = df_geocodificado['geocodificacion_exitosa'].sum()\n",
    "    print(f\"✅ Mapa generado con {estaciones_mapeadas} estaciones\")\n",
    "    print(f\"📄 Archivo guardado: demo_mapa_estaciones.html\")\n",
    "    \n",
    "    # Mostrar coordenadas geocodificadas\n",
    "    df_validas = df_geocodificado[df_geocodificado['geocodificacion_exitosa']].copy()\n",
    "    print(f\"\\n📍 Coordenadas de estaciones geocodificadas:\")\n",
    "    for _, row in df_validas.iterrows():\n",
    "        print(f\"  • {row['GLS_ESTACION'][:40]}...\")\n",
    "        print(f\"    Lat: {row['latitud_geocodificada']:.4f}, Lon: {row['longitud_geocodificada']:.4f}\")\n",
    "else:\n",
    "    print(\"❌ No hay estaciones geocodificadas para mapear\")"
   ]
  },
  {
   "cell_type": "markdown",
   "id": "160726e3",
   "metadata": {},
   "source": [
    "## 3. 📊 Demostración del Sistema de Visualizaciones\n",
    "\n",
    "Probemos el sistema de visualizaciones con diferentes tipos de gráficos."
   ]
  },
  {
   "cell_type": "code",
   "execution_count": 22,
   "id": "9b079b3f",
   "metadata": {},
   "outputs": [
    {
     "name": "stdout",
     "output_type": "stream",
     "text": [
      "📊 Creando visualización de resultados de geocodificación...\n",
      "Guardando visualización 'estadisticas_geocodificacion'...\n",
      "- Guardando versión interactiva... ✓ (7.7 KB)\n",
      "- Creando enlace estático para GitHub...\n",
      "✓ Visualización guardada exitosamente:\n",
      "- HTML interactivo: figures\\estadisticas_geocodificacion.html\n",
      "- Referencia GitHub: figures\\estadisticas_geocodificacion_github.html\n",
      "✓ (7.7 KB)\n",
      "- Creando enlace estático para GitHub...\n",
      "✓ Visualización guardada exitosamente:\n",
      "- HTML interactivo: figures\\estadisticas_geocodificacion.html\n",
      "- Referencia GitHub: figures\\estadisticas_geocodificacion_github.html\n"
     ]
    },
    {
     "data": {
      "application/vnd.plotly.v1+json": {
       "config": {
        "plotlyServerURL": "https://plot.ly"
       },
       "data": [
        {
         "domain": {
          "x": [
           0,
           1
          ],
          "y": [
           0,
           1
          ]
         },
         "hovertemplate": "label=%{label}<br>value=%{value}<extra></extra>",
         "labels": [
          "Geocodificadas",
          "No Geocodificadas"
         ],
         "legendgroup": "",
         "name": "",
         "showlegend": true,
         "type": "pie",
         "values": {
          "bdata": "BgE=",
          "dtype": "i1"
         }
        }
       ],
       "layout": {
        "height": 600,
        "legend": {
         "tracegroupgap": 0
        },
        "showlegend": true,
        "template": {
         "data": {
          "bar": [
           {
            "error_x": {
             "color": "#2a3f5f"
            },
            "error_y": {
             "color": "#2a3f5f"
            },
            "marker": {
             "line": {
              "color": "#E5ECF6",
              "width": 0.5
             },
             "pattern": {
              "fillmode": "overlay",
              "size": 10,
              "solidity": 0.2
             }
            },
            "type": "bar"
           }
          ],
          "barpolar": [
           {
            "marker": {
             "line": {
              "color": "#E5ECF6",
              "width": 0.5
             },
             "pattern": {
              "fillmode": "overlay",
              "size": 10,
              "solidity": 0.2
             }
            },
            "type": "barpolar"
           }
          ],
          "carpet": [
           {
            "aaxis": {
             "endlinecolor": "#2a3f5f",
             "gridcolor": "white",
             "linecolor": "white",
             "minorgridcolor": "white",
             "startlinecolor": "#2a3f5f"
            },
            "baxis": {
             "endlinecolor": "#2a3f5f",
             "gridcolor": "white",
             "linecolor": "white",
             "minorgridcolor": "white",
             "startlinecolor": "#2a3f5f"
            },
            "type": "carpet"
           }
          ],
          "choropleth": [
           {
            "colorbar": {
             "outlinewidth": 0,
             "ticks": ""
            },
            "type": "choropleth"
           }
          ],
          "contour": [
           {
            "colorbar": {
             "outlinewidth": 0,
             "ticks": ""
            },
            "colorscale": [
             [
              0,
              "#0d0887"
             ],
             [
              0.1111111111111111,
              "#46039f"
             ],
             [
              0.2222222222222222,
              "#7201a8"
             ],
             [
              0.3333333333333333,
              "#9c179e"
             ],
             [
              0.4444444444444444,
              "#bd3786"
             ],
             [
              0.5555555555555556,
              "#d8576b"
             ],
             [
              0.6666666666666666,
              "#ed7953"
             ],
             [
              0.7777777777777778,
              "#fb9f3a"
             ],
             [
              0.8888888888888888,
              "#fdca26"
             ],
             [
              1,
              "#f0f921"
             ]
            ],
            "type": "contour"
           }
          ],
          "contourcarpet": [
           {
            "colorbar": {
             "outlinewidth": 0,
             "ticks": ""
            },
            "type": "contourcarpet"
           }
          ],
          "heatmap": [
           {
            "colorbar": {
             "outlinewidth": 0,
             "ticks": ""
            },
            "colorscale": [
             [
              0,
              "#0d0887"
             ],
             [
              0.1111111111111111,
              "#46039f"
             ],
             [
              0.2222222222222222,
              "#7201a8"
             ],
             [
              0.3333333333333333,
              "#9c179e"
             ],
             [
              0.4444444444444444,
              "#bd3786"
             ],
             [
              0.5555555555555556,
              "#d8576b"
             ],
             [
              0.6666666666666666,
              "#ed7953"
             ],
             [
              0.7777777777777778,
              "#fb9f3a"
             ],
             [
              0.8888888888888888,
              "#fdca26"
             ],
             [
              1,
              "#f0f921"
             ]
            ],
            "type": "heatmap"
           }
          ],
          "histogram": [
           {
            "marker": {
             "pattern": {
              "fillmode": "overlay",
              "size": 10,
              "solidity": 0.2
             }
            },
            "type": "histogram"
           }
          ],
          "histogram2d": [
           {
            "colorbar": {
             "outlinewidth": 0,
             "ticks": ""
            },
            "colorscale": [
             [
              0,
              "#0d0887"
             ],
             [
              0.1111111111111111,
              "#46039f"
             ],
             [
              0.2222222222222222,
              "#7201a8"
             ],
             [
              0.3333333333333333,
              "#9c179e"
             ],
             [
              0.4444444444444444,
              "#bd3786"
             ],
             [
              0.5555555555555556,
              "#d8576b"
             ],
             [
              0.6666666666666666,
              "#ed7953"
             ],
             [
              0.7777777777777778,
              "#fb9f3a"
             ],
             [
              0.8888888888888888,
              "#fdca26"
             ],
             [
              1,
              "#f0f921"
             ]
            ],
            "type": "histogram2d"
           }
          ],
          "histogram2dcontour": [
           {
            "colorbar": {
             "outlinewidth": 0,
             "ticks": ""
            },
            "colorscale": [
             [
              0,
              "#0d0887"
             ],
             [
              0.1111111111111111,
              "#46039f"
             ],
             [
              0.2222222222222222,
              "#7201a8"
             ],
             [
              0.3333333333333333,
              "#9c179e"
             ],
             [
              0.4444444444444444,
              "#bd3786"
             ],
             [
              0.5555555555555556,
              "#d8576b"
             ],
             [
              0.6666666666666666,
              "#ed7953"
             ],
             [
              0.7777777777777778,
              "#fb9f3a"
             ],
             [
              0.8888888888888888,
              "#fdca26"
             ],
             [
              1,
              "#f0f921"
             ]
            ],
            "type": "histogram2dcontour"
           }
          ],
          "mesh3d": [
           {
            "colorbar": {
             "outlinewidth": 0,
             "ticks": ""
            },
            "type": "mesh3d"
           }
          ],
          "parcoords": [
           {
            "line": {
             "colorbar": {
              "outlinewidth": 0,
              "ticks": ""
             }
            },
            "type": "parcoords"
           }
          ],
          "pie": [
           {
            "automargin": true,
            "type": "pie"
           }
          ],
          "scatter": [
           {
            "fillpattern": {
             "fillmode": "overlay",
             "size": 10,
             "solidity": 0.2
            },
            "type": "scatter"
           }
          ],
          "scatter3d": [
           {
            "line": {
             "colorbar": {
              "outlinewidth": 0,
              "ticks": ""
             }
            },
            "marker": {
             "colorbar": {
              "outlinewidth": 0,
              "ticks": ""
             }
            },
            "type": "scatter3d"
           }
          ],
          "scattercarpet": [
           {
            "marker": {
             "colorbar": {
              "outlinewidth": 0,
              "ticks": ""
             }
            },
            "type": "scattercarpet"
           }
          ],
          "scattergeo": [
           {
            "marker": {
             "colorbar": {
              "outlinewidth": 0,
              "ticks": ""
             }
            },
            "type": "scattergeo"
           }
          ],
          "scattergl": [
           {
            "marker": {
             "colorbar": {
              "outlinewidth": 0,
              "ticks": ""
             }
            },
            "type": "scattergl"
           }
          ],
          "scattermap": [
           {
            "marker": {
             "colorbar": {
              "outlinewidth": 0,
              "ticks": ""
             }
            },
            "type": "scattermap"
           }
          ],
          "scattermapbox": [
           {
            "marker": {
             "colorbar": {
              "outlinewidth": 0,
              "ticks": ""
             }
            },
            "type": "scattermapbox"
           }
          ],
          "scatterpolar": [
           {
            "marker": {
             "colorbar": {
              "outlinewidth": 0,
              "ticks": ""
             }
            },
            "type": "scatterpolar"
           }
          ],
          "scatterpolargl": [
           {
            "marker": {
             "colorbar": {
              "outlinewidth": 0,
              "ticks": ""
             }
            },
            "type": "scatterpolargl"
           }
          ],
          "scatterternary": [
           {
            "marker": {
             "colorbar": {
              "outlinewidth": 0,
              "ticks": ""
             }
            },
            "type": "scatterternary"
           }
          ],
          "surface": [
           {
            "colorbar": {
             "outlinewidth": 0,
             "ticks": ""
            },
            "colorscale": [
             [
              0,
              "#0d0887"
             ],
             [
              0.1111111111111111,
              "#46039f"
             ],
             [
              0.2222222222222222,
              "#7201a8"
             ],
             [
              0.3333333333333333,
              "#9c179e"
             ],
             [
              0.4444444444444444,
              "#bd3786"
             ],
             [
              0.5555555555555556,
              "#d8576b"
             ],
             [
              0.6666666666666666,
              "#ed7953"
             ],
             [
              0.7777777777777778,
              "#fb9f3a"
             ],
             [
              0.8888888888888888,
              "#fdca26"
             ],
             [
              1,
              "#f0f921"
             ]
            ],
            "type": "surface"
           }
          ],
          "table": [
           {
            "cells": {
             "fill": {
              "color": "#EBF0F8"
             },
             "line": {
              "color": "white"
             }
            },
            "header": {
             "fill": {
              "color": "#C8D4E3"
             },
             "line": {
              "color": "white"
             }
            },
            "type": "table"
           }
          ]
         },
         "layout": {
          "annotationdefaults": {
           "arrowcolor": "#2a3f5f",
           "arrowhead": 0,
           "arrowwidth": 1
          },
          "autotypenumbers": "strict",
          "coloraxis": {
           "colorbar": {
            "outlinewidth": 0,
            "ticks": ""
           }
          },
          "colorscale": {
           "diverging": [
            [
             0,
             "#8e0152"
            ],
            [
             0.1,
             "#c51b7d"
            ],
            [
             0.2,
             "#de77ae"
            ],
            [
             0.3,
             "#f1b6da"
            ],
            [
             0.4,
             "#fde0ef"
            ],
            [
             0.5,
             "#f7f7f7"
            ],
            [
             0.6,
             "#e6f5d0"
            ],
            [
             0.7,
             "#b8e186"
            ],
            [
             0.8,
             "#7fbc41"
            ],
            [
             0.9,
             "#4d9221"
            ],
            [
             1,
             "#276419"
            ]
           ],
           "sequential": [
            [
             0,
             "#0d0887"
            ],
            [
             0.1111111111111111,
             "#46039f"
            ],
            [
             0.2222222222222222,
             "#7201a8"
            ],
            [
             0.3333333333333333,
             "#9c179e"
            ],
            [
             0.4444444444444444,
             "#bd3786"
            ],
            [
             0.5555555555555556,
             "#d8576b"
            ],
            [
             0.6666666666666666,
             "#ed7953"
            ],
            [
             0.7777777777777778,
             "#fb9f3a"
            ],
            [
             0.8888888888888888,
             "#fdca26"
            ],
            [
             1,
             "#f0f921"
            ]
           ],
           "sequentialminus": [
            [
             0,
             "#0d0887"
            ],
            [
             0.1111111111111111,
             "#46039f"
            ],
            [
             0.2222222222222222,
             "#7201a8"
            ],
            [
             0.3333333333333333,
             "#9c179e"
            ],
            [
             0.4444444444444444,
             "#bd3786"
            ],
            [
             0.5555555555555556,
             "#d8576b"
            ],
            [
             0.6666666666666666,
             "#ed7953"
            ],
            [
             0.7777777777777778,
             "#fb9f3a"
            ],
            [
             0.8888888888888888,
             "#fdca26"
            ],
            [
             1,
             "#f0f921"
            ]
           ]
          },
          "colorway": [
           "#636efa",
           "#EF553B",
           "#00cc96",
           "#ab63fa",
           "#FFA15A",
           "#19d3f3",
           "#FF6692",
           "#B6E880",
           "#FF97FF",
           "#FECB52"
          ],
          "font": {
           "color": "#2a3f5f"
          },
          "geo": {
           "bgcolor": "white",
           "lakecolor": "white",
           "landcolor": "#E5ECF6",
           "showlakes": true,
           "showland": true,
           "subunitcolor": "white"
          },
          "hoverlabel": {
           "align": "left"
          },
          "hovermode": "closest",
          "mapbox": {
           "style": "light"
          },
          "paper_bgcolor": "white",
          "plot_bgcolor": "#E5ECF6",
          "polar": {
           "angularaxis": {
            "gridcolor": "white",
            "linecolor": "white",
            "ticks": ""
           },
           "bgcolor": "#E5ECF6",
           "radialaxis": {
            "gridcolor": "white",
            "linecolor": "white",
            "ticks": ""
           }
          },
          "scene": {
           "xaxis": {
            "backgroundcolor": "#E5ECF6",
            "gridcolor": "white",
            "gridwidth": 2,
            "linecolor": "white",
            "showbackground": true,
            "ticks": "",
            "zerolinecolor": "white"
           },
           "yaxis": {
            "backgroundcolor": "#E5ECF6",
            "gridcolor": "white",
            "gridwidth": 2,
            "linecolor": "white",
            "showbackground": true,
            "ticks": "",
            "zerolinecolor": "white"
           },
           "zaxis": {
            "backgroundcolor": "#E5ECF6",
            "gridcolor": "white",
            "gridwidth": 2,
            "linecolor": "white",
            "showbackground": true,
            "ticks": "",
            "zerolinecolor": "white"
           }
          },
          "shapedefaults": {
           "line": {
            "color": "#2a3f5f"
           }
          },
          "ternary": {
           "aaxis": {
            "gridcolor": "white",
            "linecolor": "white",
            "ticks": ""
           },
           "baxis": {
            "gridcolor": "white",
            "linecolor": "white",
            "ticks": ""
           },
           "bgcolor": "#E5ECF6",
           "caxis": {
            "gridcolor": "white",
            "linecolor": "white",
            "ticks": ""
           }
          },
          "title": {
           "x": 0.05
          },
          "xaxis": {
           "automargin": true,
           "gridcolor": "white",
           "linecolor": "white",
           "ticks": "",
           "title": {
            "standoff": 15
           },
           "zerolinecolor": "white",
           "zerolinewidth": 2
          },
          "yaxis": {
           "automargin": true,
           "gridcolor": "white",
           "linecolor": "white",
           "ticks": "",
           "title": {
            "standoff": 15
           },
           "zerolinecolor": "white",
           "zerolinewidth": 2
          }
         }
        },
        "title": {
         "font": {
          "size": 16
         },
         "text": "Éxito de Geocodificación de Estaciones de Monitoreo"
        },
        "width": 800
       }
      }
     },
     "metadata": {},
     "output_type": "display_data"
    }
   ],
   "source": [
    "# 1. Gráfico de distribución de estaciones por éxito de geocodificación\n",
    "print(\"📊 Creando visualización de resultados de geocodificación...\")\n",
    "\n",
    "fig_geo_stats = px.pie(\n",
    "    values=[stats['estaciones_geocodificadas'], \n",
    "           stats['estaciones_unicas'] - stats['estaciones_geocodificadas']],\n",
    "    names=['Geocodificadas', 'No Geocodificadas'],\n",
    "    title='Éxito de Geocodificación de Estaciones de Monitoreo',\n",
    "    color_discrete_map={\n",
    "        'Geocodificadas': '#2E8B57',\n",
    "        'No Geocodificadas': '#CD5C5C'\n",
    "    }\n",
    ")\n",
    "\n",
    "fig_geo_stats.update_layout(\n",
    "    title_font_size=16,\n",
    "    showlegend=True,\n",
    "    height=400\n",
    ")\n",
    "\n",
    "# Usar el sistema de visualizaciones\n",
    "save_plot_with_fallback(fig_geo_stats, \"estadisticas_geocodificacion\")"
   ]
  },
  {
   "cell_type": "code",
   "execution_count": 23,
   "id": "e1fa39a2",
   "metadata": {},
   "outputs": [
    {
     "name": "stdout",
     "output_type": "stream",
     "text": [
      "🗺️ Creando mapa de calor con plotly...\n",
      "Guardando visualización 'demo_mapa_distribucion_estaciones'...\n",
      "- Guardando versión interactiva... ✓ (8.6 KB)\n",
      "- Creando enlace estático para GitHub...\n",
      "✓ Visualización guardada exitosamente:\n",
      "- HTML interactivo: figures\\demo_mapa_distribucion_estaciones.html\n",
      "- Referencia GitHub: figures\\demo_mapa_distribucion_estaciones_github.html\n",
      "✓ (8.6 KB)\n",
      "- Creando enlace estático para GitHub...\n",
      "✓ Visualización guardada exitosamente:\n",
      "- HTML interactivo: figures\\demo_mapa_distribucion_estaciones.html\n",
      "- Referencia GitHub: figures\\demo_mapa_distribucion_estaciones_github.html\n"
     ]
    },
    {
     "name": "stderr",
     "output_type": "stream",
     "text": [
      "C:\\Users\\dmard\\AppData\\Local\\Temp\\ipykernel_28760\\389540631.py:10: DeprecationWarning:\n",
      "\n",
      "*scattermapbox* is deprecated! Use *scattermap* instead. Learn more at: https://plotly.com/python/mapbox-to-maplibre/\n",
      "\n"
     ]
    },
    {
     "data": {
      "application/vnd.plotly.v1+json": {
       "config": {
        "plotlyServerURL": "https://plot.ly"
       },
       "data": [
        {
         "hovertemplate": "<b>%{text}</b><br>Lat: %{lat}<br>Lon: %{lon}<br>Valor: %{marker.color}<extra></extra>",
         "lat": {
          "bdata": "6JCKta6gQ8AvffmuUgVBwKd38X7cbULAAQo/giwpRMAG19zR/7w+wK9UYX1NkkTA",
          "dtype": "f8"
         },
         "lon": {
          "bdata": "0iuvpnwFUsAj7lY7r+VRwEZks34OR1LAE7sRcc4eUsBWa7zPTMFRwPOff8yYM1LA",
          "dtype": "f8"
         },
         "marker": {
          "color": {
           "bdata": "zczMzMzMHEAAAAAAAIAyQDMzMzMzMyBAmpmZmZmZKECamZmZmZkbQM3MzMzMzDBA",
           "dtype": "f8"
          },
          "colorbar": {
           "title": {
            "text": "Valor Parámetro"
           }
          },
          "colorscale": [
           [
            0,
            "#440154"
           ],
           [
            0.1111111111111111,
            "#482878"
           ],
           [
            0.2222222222222222,
            "#3e4989"
           ],
           [
            0.3333333333333333,
            "#31688e"
           ],
           [
            0.4444444444444444,
            "#26828e"
           ],
           [
            0.5555555555555556,
            "#1f9e89"
           ],
           [
            0.6666666666666666,
            "#35b779"
           ],
           [
            0.7777777777777778,
            "#6ece58"
           ],
           [
            0.8888888888888888,
            "#b5de2b"
           ],
           [
            1,
            "#fde725"
           ]
          ],
          "showscale": true,
          "size": 15
         },
         "mode": "markers",
         "text": [
          "LAGO VILLARRICA EN PELAGIAL VILLARRICA",
          "EMBALSE RAPEL EN SECTOR BRAZO ALHUE",
          "LAGUNA GRANDE DE SAN PEDRO EN SECTOR SUR",
          "LAGO RANCO EN FUTRONO",
          "EMBALSE LA PALOMA EN BOCATOMA",
          "LAGO LLANQUIHUE EN PUERTO VARAS"
         ],
         "type": "scattermapbox"
        }
       ],
       "layout": {
        "height": 600,
        "mapbox": {
         "center": {
          "lat": -37.05969135,
          "lon": -72.18211293333333
         },
         "style": "open-street-map",
         "zoom": 6
        },
        "margin": {
         "b": 0,
         "l": 0,
         "r": 0,
         "t": 30
        },
        "showlegend": true,
        "template": {
         "data": {
          "bar": [
           {
            "error_x": {
             "color": "#2a3f5f"
            },
            "error_y": {
             "color": "#2a3f5f"
            },
            "marker": {
             "line": {
              "color": "#E5ECF6",
              "width": 0.5
             },
             "pattern": {
              "fillmode": "overlay",
              "size": 10,
              "solidity": 0.2
             }
            },
            "type": "bar"
           }
          ],
          "barpolar": [
           {
            "marker": {
             "line": {
              "color": "#E5ECF6",
              "width": 0.5
             },
             "pattern": {
              "fillmode": "overlay",
              "size": 10,
              "solidity": 0.2
             }
            },
            "type": "barpolar"
           }
          ],
          "carpet": [
           {
            "aaxis": {
             "endlinecolor": "#2a3f5f",
             "gridcolor": "white",
             "linecolor": "white",
             "minorgridcolor": "white",
             "startlinecolor": "#2a3f5f"
            },
            "baxis": {
             "endlinecolor": "#2a3f5f",
             "gridcolor": "white",
             "linecolor": "white",
             "minorgridcolor": "white",
             "startlinecolor": "#2a3f5f"
            },
            "type": "carpet"
           }
          ],
          "choropleth": [
           {
            "colorbar": {
             "outlinewidth": 0,
             "ticks": ""
            },
            "type": "choropleth"
           }
          ],
          "contour": [
           {
            "colorbar": {
             "outlinewidth": 0,
             "ticks": ""
            },
            "colorscale": [
             [
              0,
              "#0d0887"
             ],
             [
              0.1111111111111111,
              "#46039f"
             ],
             [
              0.2222222222222222,
              "#7201a8"
             ],
             [
              0.3333333333333333,
              "#9c179e"
             ],
             [
              0.4444444444444444,
              "#bd3786"
             ],
             [
              0.5555555555555556,
              "#d8576b"
             ],
             [
              0.6666666666666666,
              "#ed7953"
             ],
             [
              0.7777777777777778,
              "#fb9f3a"
             ],
             [
              0.8888888888888888,
              "#fdca26"
             ],
             [
              1,
              "#f0f921"
             ]
            ],
            "type": "contour"
           }
          ],
          "contourcarpet": [
           {
            "colorbar": {
             "outlinewidth": 0,
             "ticks": ""
            },
            "type": "contourcarpet"
           }
          ],
          "heatmap": [
           {
            "colorbar": {
             "outlinewidth": 0,
             "ticks": ""
            },
            "colorscale": [
             [
              0,
              "#0d0887"
             ],
             [
              0.1111111111111111,
              "#46039f"
             ],
             [
              0.2222222222222222,
              "#7201a8"
             ],
             [
              0.3333333333333333,
              "#9c179e"
             ],
             [
              0.4444444444444444,
              "#bd3786"
             ],
             [
              0.5555555555555556,
              "#d8576b"
             ],
             [
              0.6666666666666666,
              "#ed7953"
             ],
             [
              0.7777777777777778,
              "#fb9f3a"
             ],
             [
              0.8888888888888888,
              "#fdca26"
             ],
             [
              1,
              "#f0f921"
             ]
            ],
            "type": "heatmap"
           }
          ],
          "histogram": [
           {
            "marker": {
             "pattern": {
              "fillmode": "overlay",
              "size": 10,
              "solidity": 0.2
             }
            },
            "type": "histogram"
           }
          ],
          "histogram2d": [
           {
            "colorbar": {
             "outlinewidth": 0,
             "ticks": ""
            },
            "colorscale": [
             [
              0,
              "#0d0887"
             ],
             [
              0.1111111111111111,
              "#46039f"
             ],
             [
              0.2222222222222222,
              "#7201a8"
             ],
             [
              0.3333333333333333,
              "#9c179e"
             ],
             [
              0.4444444444444444,
              "#bd3786"
             ],
             [
              0.5555555555555556,
              "#d8576b"
             ],
             [
              0.6666666666666666,
              "#ed7953"
             ],
             [
              0.7777777777777778,
              "#fb9f3a"
             ],
             [
              0.8888888888888888,
              "#fdca26"
             ],
             [
              1,
              "#f0f921"
             ]
            ],
            "type": "histogram2d"
           }
          ],
          "histogram2dcontour": [
           {
            "colorbar": {
             "outlinewidth": 0,
             "ticks": ""
            },
            "colorscale": [
             [
              0,
              "#0d0887"
             ],
             [
              0.1111111111111111,
              "#46039f"
             ],
             [
              0.2222222222222222,
              "#7201a8"
             ],
             [
              0.3333333333333333,
              "#9c179e"
             ],
             [
              0.4444444444444444,
              "#bd3786"
             ],
             [
              0.5555555555555556,
              "#d8576b"
             ],
             [
              0.6666666666666666,
              "#ed7953"
             ],
             [
              0.7777777777777778,
              "#fb9f3a"
             ],
             [
              0.8888888888888888,
              "#fdca26"
             ],
             [
              1,
              "#f0f921"
             ]
            ],
            "type": "histogram2dcontour"
           }
          ],
          "mesh3d": [
           {
            "colorbar": {
             "outlinewidth": 0,
             "ticks": ""
            },
            "type": "mesh3d"
           }
          ],
          "parcoords": [
           {
            "line": {
             "colorbar": {
              "outlinewidth": 0,
              "ticks": ""
             }
            },
            "type": "parcoords"
           }
          ],
          "pie": [
           {
            "automargin": true,
            "type": "pie"
           }
          ],
          "scatter": [
           {
            "fillpattern": {
             "fillmode": "overlay",
             "size": 10,
             "solidity": 0.2
            },
            "type": "scatter"
           }
          ],
          "scatter3d": [
           {
            "line": {
             "colorbar": {
              "outlinewidth": 0,
              "ticks": ""
             }
            },
            "marker": {
             "colorbar": {
              "outlinewidth": 0,
              "ticks": ""
             }
            },
            "type": "scatter3d"
           }
          ],
          "scattercarpet": [
           {
            "marker": {
             "colorbar": {
              "outlinewidth": 0,
              "ticks": ""
             }
            },
            "type": "scattercarpet"
           }
          ],
          "scattergeo": [
           {
            "marker": {
             "colorbar": {
              "outlinewidth": 0,
              "ticks": ""
             }
            },
            "type": "scattergeo"
           }
          ],
          "scattergl": [
           {
            "marker": {
             "colorbar": {
              "outlinewidth": 0,
              "ticks": ""
             }
            },
            "type": "scattergl"
           }
          ],
          "scattermap": [
           {
            "marker": {
             "colorbar": {
              "outlinewidth": 0,
              "ticks": ""
             }
            },
            "type": "scattermap"
           }
          ],
          "scattermapbox": [
           {
            "marker": {
             "colorbar": {
              "outlinewidth": 0,
              "ticks": ""
             }
            },
            "type": "scattermapbox"
           }
          ],
          "scatterpolar": [
           {
            "marker": {
             "colorbar": {
              "outlinewidth": 0,
              "ticks": ""
             }
            },
            "type": "scatterpolar"
           }
          ],
          "scatterpolargl": [
           {
            "marker": {
             "colorbar": {
              "outlinewidth": 0,
              "ticks": ""
             }
            },
            "type": "scatterpolargl"
           }
          ],
          "scatterternary": [
           {
            "marker": {
             "colorbar": {
              "outlinewidth": 0,
              "ticks": ""
             }
            },
            "type": "scatterternary"
           }
          ],
          "surface": [
           {
            "colorbar": {
             "outlinewidth": 0,
             "ticks": ""
            },
            "colorscale": [
             [
              0,
              "#0d0887"
             ],
             [
              0.1111111111111111,
              "#46039f"
             ],
             [
              0.2222222222222222,
              "#7201a8"
             ],
             [
              0.3333333333333333,
              "#9c179e"
             ],
             [
              0.4444444444444444,
              "#bd3786"
             ],
             [
              0.5555555555555556,
              "#d8576b"
             ],
             [
              0.6666666666666666,
              "#ed7953"
             ],
             [
              0.7777777777777778,
              "#fb9f3a"
             ],
             [
              0.8888888888888888,
              "#fdca26"
             ],
             [
              1,
              "#f0f921"
             ]
            ],
            "type": "surface"
           }
          ],
          "table": [
           {
            "cells": {
             "fill": {
              "color": "#EBF0F8"
             },
             "line": {
              "color": "white"
             }
            },
            "header": {
             "fill": {
              "color": "#C8D4E3"
             },
             "line": {
              "color": "white"
             }
            },
            "type": "table"
           }
          ]
         },
         "layout": {
          "annotationdefaults": {
           "arrowcolor": "#2a3f5f",
           "arrowhead": 0,
           "arrowwidth": 1
          },
          "autotypenumbers": "strict",
          "coloraxis": {
           "colorbar": {
            "outlinewidth": 0,
            "ticks": ""
           }
          },
          "colorscale": {
           "diverging": [
            [
             0,
             "#8e0152"
            ],
            [
             0.1,
             "#c51b7d"
            ],
            [
             0.2,
             "#de77ae"
            ],
            [
             0.3,
             "#f1b6da"
            ],
            [
             0.4,
             "#fde0ef"
            ],
            [
             0.5,
             "#f7f7f7"
            ],
            [
             0.6,
             "#e6f5d0"
            ],
            [
             0.7,
             "#b8e186"
            ],
            [
             0.8,
             "#7fbc41"
            ],
            [
             0.9,
             "#4d9221"
            ],
            [
             1,
             "#276419"
            ]
           ],
           "sequential": [
            [
             0,
             "#0d0887"
            ],
            [
             0.1111111111111111,
             "#46039f"
            ],
            [
             0.2222222222222222,
             "#7201a8"
            ],
            [
             0.3333333333333333,
             "#9c179e"
            ],
            [
             0.4444444444444444,
             "#bd3786"
            ],
            [
             0.5555555555555556,
             "#d8576b"
            ],
            [
             0.6666666666666666,
             "#ed7953"
            ],
            [
             0.7777777777777778,
             "#fb9f3a"
            ],
            [
             0.8888888888888888,
             "#fdca26"
            ],
            [
             1,
             "#f0f921"
            ]
           ],
           "sequentialminus": [
            [
             0,
             "#0d0887"
            ],
            [
             0.1111111111111111,
             "#46039f"
            ],
            [
             0.2222222222222222,
             "#7201a8"
            ],
            [
             0.3333333333333333,
             "#9c179e"
            ],
            [
             0.4444444444444444,
             "#bd3786"
            ],
            [
             0.5555555555555556,
             "#d8576b"
            ],
            [
             0.6666666666666666,
             "#ed7953"
            ],
            [
             0.7777777777777778,
             "#fb9f3a"
            ],
            [
             0.8888888888888888,
             "#fdca26"
            ],
            [
             1,
             "#f0f921"
            ]
           ]
          },
          "colorway": [
           "#636efa",
           "#EF553B",
           "#00cc96",
           "#ab63fa",
           "#FFA15A",
           "#19d3f3",
           "#FF6692",
           "#B6E880",
           "#FF97FF",
           "#FECB52"
          ],
          "font": {
           "color": "#2a3f5f"
          },
          "geo": {
           "bgcolor": "white",
           "lakecolor": "white",
           "landcolor": "#E5ECF6",
           "showlakes": true,
           "showland": true,
           "subunitcolor": "white"
          },
          "hoverlabel": {
           "align": "left"
          },
          "hovermode": "closest",
          "mapbox": {
           "style": "light"
          },
          "paper_bgcolor": "white",
          "plot_bgcolor": "#E5ECF6",
          "polar": {
           "angularaxis": {
            "gridcolor": "white",
            "linecolor": "white",
            "ticks": ""
           },
           "bgcolor": "#E5ECF6",
           "radialaxis": {
            "gridcolor": "white",
            "linecolor": "white",
            "ticks": ""
           }
          },
          "scene": {
           "xaxis": {
            "backgroundcolor": "#E5ECF6",
            "gridcolor": "white",
            "gridwidth": 2,
            "linecolor": "white",
            "showbackground": true,
            "ticks": "",
            "zerolinecolor": "white"
           },
           "yaxis": {
            "backgroundcolor": "#E5ECF6",
            "gridcolor": "white",
            "gridwidth": 2,
            "linecolor": "white",
            "showbackground": true,
            "ticks": "",
            "zerolinecolor": "white"
           },
           "zaxis": {
            "backgroundcolor": "#E5ECF6",
            "gridcolor": "white",
            "gridwidth": 2,
            "linecolor": "white",
            "showbackground": true,
            "ticks": "",
            "zerolinecolor": "white"
           }
          },
          "shapedefaults": {
           "line": {
            "color": "#2a3f5f"
           }
          },
          "ternary": {
           "aaxis": {
            "gridcolor": "white",
            "linecolor": "white",
            "ticks": ""
           },
           "baxis": {
            "gridcolor": "white",
            "linecolor": "white",
            "ticks": ""
           },
           "bgcolor": "#E5ECF6",
           "caxis": {
            "gridcolor": "white",
            "linecolor": "white",
            "ticks": ""
           }
          },
          "title": {
           "x": 0.05
          },
          "xaxis": {
           "automargin": true,
           "gridcolor": "white",
           "linecolor": "white",
           "ticks": "",
           "title": {
            "standoff": 15
           },
           "zerolinecolor": "white",
           "zerolinewidth": 2
          },
          "yaxis": {
           "automargin": true,
           "gridcolor": "white",
           "linecolor": "white",
           "ticks": "",
           "title": {
            "standoff": 15
           },
           "zerolinecolor": "white",
           "zerolinewidth": 2
          }
         }
        },
        "title": {
         "text": "Distribución Geográfica de Estaciones de Monitoreo"
        },
        "width": 800
       }
      }
     },
     "metadata": {},
     "output_type": "display_data"
    },
    {
     "name": "stdout",
     "output_type": "stream",
     "text": [
      "✅ Mapa creado con 6 estaciones\n"
     ]
    }
   ],
   "source": [
    "# 2. Mapa de calor con coordenadas (solo estaciones geocodificadas)\n",
    "print(\"🗺️ Creando mapa de calor con plotly...\")\n",
    "\n",
    "df_validas = df_geocodificado[df_geocodificado['geocodificacion_exitosa']].copy()\n",
    "\n",
    "if len(df_validas) > 0:\n",
    "    fig_mapa = go.Figure()\n",
    "    \n",
    "    # Agregar marcadores\n",
    "    fig_mapa.add_trace(go.Scattermapbox(\n",
    "        lat=df_validas['latitud_geocodificada'],\n",
    "        lon=df_validas['longitud_geocodificada'],\n",
    "        mode='markers',\n",
    "        marker=dict(\n",
    "            size=15,\n",
    "            color=df_validas['valor_ejemplo'],\n",
    "            colorscale='Viridis',\n",
    "            showscale=True,\n",
    "            colorbar=dict(title=\"Valor Parámetro\")\n",
    "        ),\n",
    "        text=df_validas['GLS_ESTACION'],\n",
    "        hovertemplate='<b>%{text}</b><br>Lat: %{lat}<br>Lon: %{lon}<br>Valor: %{marker.color}<extra></extra>'\n",
    "    ))\n",
    "    \n",
    "    # Configurar layout del mapa\n",
    "    fig_mapa.update_layout(\n",
    "        title='Distribución Geográfica de Estaciones de Monitoreo',\n",
    "        mapbox=dict(\n",
    "            style='open-street-map',\n",
    "            center=dict(\n",
    "                lat=df_validas['latitud_geocodificada'].mean(),\n",
    "                lon=df_validas['longitud_geocodificada'].mean()\n",
    "            ),\n",
    "            zoom=6\n",
    "        ),\n",
    "        height=600,\n",
    "        margin=dict(l=0, r=0, t=30, b=0)\n",
    "    )\n",
    "    \n",
    "    # Usar el sistema de visualizaciones\n",
    "    mostrar_grafico_demo(fig_mapa, \"mapa_distribucion_estaciones\")\n",
    "    \n",
    "    print(f\"✅ Mapa creado con {len(df_validas)} estaciones\")\n",
    "else:\n",
    "    print(\"⚠️ No hay suficientes estaciones geocodificadas para crear mapa\")"
   ]
  },
  {
   "cell_type": "code",
   "execution_count": 24,
   "id": "c2b25663",
   "metadata": {},
   "outputs": [
    {
     "name": "stdout",
     "output_type": "stream",
     "text": [
      "📈 Creando análisis de parámetros ambientales...\n",
      "Guardando visualización 'demo_analisis_regional_parametros'...\n",
      "- Guardando versión interactiva... ✓ (8.7 KB)\n",
      "- Creando enlace estático para GitHub...\n",
      "✓ Visualización guardada exitosamente:\n",
      "- HTML interactivo: figures\\demo_analisis_regional_parametros.html\n",
      "- Referencia GitHub: figures\\demo_analisis_regional_parametros_github.html\n",
      "✓ (8.7 KB)\n",
      "- Creando enlace estático para GitHub...\n",
      "✓ Visualización guardada exitosamente:\n",
      "- HTML interactivo: figures\\demo_analisis_regional_parametros.html\n",
      "- Referencia GitHub: figures\\demo_analisis_regional_parametros_github.html\n"
     ]
    },
    {
     "data": {
      "application/vnd.plotly.v1+json": {
       "config": {
        "plotlyServerURL": "https://plot.ly"
       },
       "data": [
        {
         "hovertemplate": "Región=%{x}<br>Valor Promedio=%{y}<extra></extra>",
         "legendgroup": "Centro",
         "marker": {
          "color": "#FF6B6B",
          "pattern": {
           "shape": ""
          }
         },
         "name": "Centro",
         "orientation": "v",
         "showlegend": true,
         "textposition": "auto",
         "type": "bar",
         "x": [
          "Centro"
         ],
         "xaxis": "x",
         "y": {
          "bdata": "mpmZmZmZKkA=",
          "dtype": "f8"
         },
         "yaxis": "y"
        },
        {
         "hovertemplate": "Región=%{x}<br>Valor Promedio=%{y}<extra></extra>",
         "legendgroup": "Norte",
         "marker": {
          "color": "#4ECDC4",
          "pattern": {
           "shape": ""
          }
         },
         "name": "Norte",
         "orientation": "v",
         "showlegend": true,
         "textposition": "auto",
         "type": "bar",
         "x": [
          "Norte"
         ],
         "xaxis": "x",
         "y": {
          "bdata": "mpmZmZmZG0A=",
          "dtype": "f8"
         },
         "yaxis": "y"
        },
        {
         "hovertemplate": "Región=%{x}<br>Valor Promedio=%{y}<extra></extra>",
         "legendgroup": "Sur",
         "marker": {
          "color": "#45B7D1",
          "pattern": {
           "shape": ""
          }
         },
         "name": "Sur",
         "orientation": "v",
         "showlegend": true,
         "textposition": "auto",
         "type": "bar",
         "x": [
          "Sur"
         ],
         "xaxis": "x",
         "y": {
          "bdata": "MzMzMzMzKEA=",
          "dtype": "f8"
         },
         "yaxis": "y"
        }
       ],
       "layout": {
        "barmode": "relative",
        "height": 600,
        "legend": {
         "title": {
          "text": "Región"
         },
         "tracegroupgap": 0
        },
        "showlegend": true,
        "template": {
         "data": {
          "bar": [
           {
            "error_x": {
             "color": "#2a3f5f"
            },
            "error_y": {
             "color": "#2a3f5f"
            },
            "marker": {
             "line": {
              "color": "#E5ECF6",
              "width": 0.5
             },
             "pattern": {
              "fillmode": "overlay",
              "size": 10,
              "solidity": 0.2
             }
            },
            "type": "bar"
           }
          ],
          "barpolar": [
           {
            "marker": {
             "line": {
              "color": "#E5ECF6",
              "width": 0.5
             },
             "pattern": {
              "fillmode": "overlay",
              "size": 10,
              "solidity": 0.2
             }
            },
            "type": "barpolar"
           }
          ],
          "carpet": [
           {
            "aaxis": {
             "endlinecolor": "#2a3f5f",
             "gridcolor": "white",
             "linecolor": "white",
             "minorgridcolor": "white",
             "startlinecolor": "#2a3f5f"
            },
            "baxis": {
             "endlinecolor": "#2a3f5f",
             "gridcolor": "white",
             "linecolor": "white",
             "minorgridcolor": "white",
             "startlinecolor": "#2a3f5f"
            },
            "type": "carpet"
           }
          ],
          "choropleth": [
           {
            "colorbar": {
             "outlinewidth": 0,
             "ticks": ""
            },
            "type": "choropleth"
           }
          ],
          "contour": [
           {
            "colorbar": {
             "outlinewidth": 0,
             "ticks": ""
            },
            "colorscale": [
             [
              0,
              "#0d0887"
             ],
             [
              0.1111111111111111,
              "#46039f"
             ],
             [
              0.2222222222222222,
              "#7201a8"
             ],
             [
              0.3333333333333333,
              "#9c179e"
             ],
             [
              0.4444444444444444,
              "#bd3786"
             ],
             [
              0.5555555555555556,
              "#d8576b"
             ],
             [
              0.6666666666666666,
              "#ed7953"
             ],
             [
              0.7777777777777778,
              "#fb9f3a"
             ],
             [
              0.8888888888888888,
              "#fdca26"
             ],
             [
              1,
              "#f0f921"
             ]
            ],
            "type": "contour"
           }
          ],
          "contourcarpet": [
           {
            "colorbar": {
             "outlinewidth": 0,
             "ticks": ""
            },
            "type": "contourcarpet"
           }
          ],
          "heatmap": [
           {
            "colorbar": {
             "outlinewidth": 0,
             "ticks": ""
            },
            "colorscale": [
             [
              0,
              "#0d0887"
             ],
             [
              0.1111111111111111,
              "#46039f"
             ],
             [
              0.2222222222222222,
              "#7201a8"
             ],
             [
              0.3333333333333333,
              "#9c179e"
             ],
             [
              0.4444444444444444,
              "#bd3786"
             ],
             [
              0.5555555555555556,
              "#d8576b"
             ],
             [
              0.6666666666666666,
              "#ed7953"
             ],
             [
              0.7777777777777778,
              "#fb9f3a"
             ],
             [
              0.8888888888888888,
              "#fdca26"
             ],
             [
              1,
              "#f0f921"
             ]
            ],
            "type": "heatmap"
           }
          ],
          "histogram": [
           {
            "marker": {
             "pattern": {
              "fillmode": "overlay",
              "size": 10,
              "solidity": 0.2
             }
            },
            "type": "histogram"
           }
          ],
          "histogram2d": [
           {
            "colorbar": {
             "outlinewidth": 0,
             "ticks": ""
            },
            "colorscale": [
             [
              0,
              "#0d0887"
             ],
             [
              0.1111111111111111,
              "#46039f"
             ],
             [
              0.2222222222222222,
              "#7201a8"
             ],
             [
              0.3333333333333333,
              "#9c179e"
             ],
             [
              0.4444444444444444,
              "#bd3786"
             ],
             [
              0.5555555555555556,
              "#d8576b"
             ],
             [
              0.6666666666666666,
              "#ed7953"
             ],
             [
              0.7777777777777778,
              "#fb9f3a"
             ],
             [
              0.8888888888888888,
              "#fdca26"
             ],
             [
              1,
              "#f0f921"
             ]
            ],
            "type": "histogram2d"
           }
          ],
          "histogram2dcontour": [
           {
            "colorbar": {
             "outlinewidth": 0,
             "ticks": ""
            },
            "colorscale": [
             [
              0,
              "#0d0887"
             ],
             [
              0.1111111111111111,
              "#46039f"
             ],
             [
              0.2222222222222222,
              "#7201a8"
             ],
             [
              0.3333333333333333,
              "#9c179e"
             ],
             [
              0.4444444444444444,
              "#bd3786"
             ],
             [
              0.5555555555555556,
              "#d8576b"
             ],
             [
              0.6666666666666666,
              "#ed7953"
             ],
             [
              0.7777777777777778,
              "#fb9f3a"
             ],
             [
              0.8888888888888888,
              "#fdca26"
             ],
             [
              1,
              "#f0f921"
             ]
            ],
            "type": "histogram2dcontour"
           }
          ],
          "mesh3d": [
           {
            "colorbar": {
             "outlinewidth": 0,
             "ticks": ""
            },
            "type": "mesh3d"
           }
          ],
          "parcoords": [
           {
            "line": {
             "colorbar": {
              "outlinewidth": 0,
              "ticks": ""
             }
            },
            "type": "parcoords"
           }
          ],
          "pie": [
           {
            "automargin": true,
            "type": "pie"
           }
          ],
          "scatter": [
           {
            "fillpattern": {
             "fillmode": "overlay",
             "size": 10,
             "solidity": 0.2
            },
            "type": "scatter"
           }
          ],
          "scatter3d": [
           {
            "line": {
             "colorbar": {
              "outlinewidth": 0,
              "ticks": ""
             }
            },
            "marker": {
             "colorbar": {
              "outlinewidth": 0,
              "ticks": ""
             }
            },
            "type": "scatter3d"
           }
          ],
          "scattercarpet": [
           {
            "marker": {
             "colorbar": {
              "outlinewidth": 0,
              "ticks": ""
             }
            },
            "type": "scattercarpet"
           }
          ],
          "scattergeo": [
           {
            "marker": {
             "colorbar": {
              "outlinewidth": 0,
              "ticks": ""
             }
            },
            "type": "scattergeo"
           }
          ],
          "scattergl": [
           {
            "marker": {
             "colorbar": {
              "outlinewidth": 0,
              "ticks": ""
             }
            },
            "type": "scattergl"
           }
          ],
          "scattermap": [
           {
            "marker": {
             "colorbar": {
              "outlinewidth": 0,
              "ticks": ""
             }
            },
            "type": "scattermap"
           }
          ],
          "scattermapbox": [
           {
            "marker": {
             "colorbar": {
              "outlinewidth": 0,
              "ticks": ""
             }
            },
            "type": "scattermapbox"
           }
          ],
          "scatterpolar": [
           {
            "marker": {
             "colorbar": {
              "outlinewidth": 0,
              "ticks": ""
             }
            },
            "type": "scatterpolar"
           }
          ],
          "scatterpolargl": [
           {
            "marker": {
             "colorbar": {
              "outlinewidth": 0,
              "ticks": ""
             }
            },
            "type": "scatterpolargl"
           }
          ],
          "scatterternary": [
           {
            "marker": {
             "colorbar": {
              "outlinewidth": 0,
              "ticks": ""
             }
            },
            "type": "scatterternary"
           }
          ],
          "surface": [
           {
            "colorbar": {
             "outlinewidth": 0,
             "ticks": ""
            },
            "colorscale": [
             [
              0,
              "#0d0887"
             ],
             [
              0.1111111111111111,
              "#46039f"
             ],
             [
              0.2222222222222222,
              "#7201a8"
             ],
             [
              0.3333333333333333,
              "#9c179e"
             ],
             [
              0.4444444444444444,
              "#bd3786"
             ],
             [
              0.5555555555555556,
              "#d8576b"
             ],
             [
              0.6666666666666666,
              "#ed7953"
             ],
             [
              0.7777777777777778,
              "#fb9f3a"
             ],
             [
              0.8888888888888888,
              "#fdca26"
             ],
             [
              1,
              "#f0f921"
             ]
            ],
            "type": "surface"
           }
          ],
          "table": [
           {
            "cells": {
             "fill": {
              "color": "#EBF0F8"
             },
             "line": {
              "color": "white"
             }
            },
            "header": {
             "fill": {
              "color": "#C8D4E3"
             },
             "line": {
              "color": "white"
             }
            },
            "type": "table"
           }
          ]
         },
         "layout": {
          "annotationdefaults": {
           "arrowcolor": "#2a3f5f",
           "arrowhead": 0,
           "arrowwidth": 1
          },
          "autotypenumbers": "strict",
          "coloraxis": {
           "colorbar": {
            "outlinewidth": 0,
            "ticks": ""
           }
          },
          "colorscale": {
           "diverging": [
            [
             0,
             "#8e0152"
            ],
            [
             0.1,
             "#c51b7d"
            ],
            [
             0.2,
             "#de77ae"
            ],
            [
             0.3,
             "#f1b6da"
            ],
            [
             0.4,
             "#fde0ef"
            ],
            [
             0.5,
             "#f7f7f7"
            ],
            [
             0.6,
             "#e6f5d0"
            ],
            [
             0.7,
             "#b8e186"
            ],
            [
             0.8,
             "#7fbc41"
            ],
            [
             0.9,
             "#4d9221"
            ],
            [
             1,
             "#276419"
            ]
           ],
           "sequential": [
            [
             0,
             "#0d0887"
            ],
            [
             0.1111111111111111,
             "#46039f"
            ],
            [
             0.2222222222222222,
             "#7201a8"
            ],
            [
             0.3333333333333333,
             "#9c179e"
            ],
            [
             0.4444444444444444,
             "#bd3786"
            ],
            [
             0.5555555555555556,
             "#d8576b"
            ],
            [
             0.6666666666666666,
             "#ed7953"
            ],
            [
             0.7777777777777778,
             "#fb9f3a"
            ],
            [
             0.8888888888888888,
             "#fdca26"
            ],
            [
             1,
             "#f0f921"
            ]
           ],
           "sequentialminus": [
            [
             0,
             "#0d0887"
            ],
            [
             0.1111111111111111,
             "#46039f"
            ],
            [
             0.2222222222222222,
             "#7201a8"
            ],
            [
             0.3333333333333333,
             "#9c179e"
            ],
            [
             0.4444444444444444,
             "#bd3786"
            ],
            [
             0.5555555555555556,
             "#d8576b"
            ],
            [
             0.6666666666666666,
             "#ed7953"
            ],
            [
             0.7777777777777778,
             "#fb9f3a"
            ],
            [
             0.8888888888888888,
             "#fdca26"
            ],
            [
             1,
             "#f0f921"
            ]
           ]
          },
          "colorway": [
           "#636efa",
           "#EF553B",
           "#00cc96",
           "#ab63fa",
           "#FFA15A",
           "#19d3f3",
           "#FF6692",
           "#B6E880",
           "#FF97FF",
           "#FECB52"
          ],
          "font": {
           "color": "#2a3f5f"
          },
          "geo": {
           "bgcolor": "white",
           "lakecolor": "white",
           "landcolor": "#E5ECF6",
           "showlakes": true,
           "showland": true,
           "subunitcolor": "white"
          },
          "hoverlabel": {
           "align": "left"
          },
          "hovermode": "closest",
          "mapbox": {
           "style": "light"
          },
          "paper_bgcolor": "white",
          "plot_bgcolor": "#E5ECF6",
          "polar": {
           "angularaxis": {
            "gridcolor": "white",
            "linecolor": "white",
            "ticks": ""
           },
           "bgcolor": "#E5ECF6",
           "radialaxis": {
            "gridcolor": "white",
            "linecolor": "white",
            "ticks": ""
           }
          },
          "scene": {
           "xaxis": {
            "backgroundcolor": "#E5ECF6",
            "gridcolor": "white",
            "gridwidth": 2,
            "linecolor": "white",
            "showbackground": true,
            "ticks": "",
            "zerolinecolor": "white"
           },
           "yaxis": {
            "backgroundcolor": "#E5ECF6",
            "gridcolor": "white",
            "gridwidth": 2,
            "linecolor": "white",
            "showbackground": true,
            "ticks": "",
            "zerolinecolor": "white"
           },
           "zaxis": {
            "backgroundcolor": "#E5ECF6",
            "gridcolor": "white",
            "gridwidth": 2,
            "linecolor": "white",
            "showbackground": true,
            "ticks": "",
            "zerolinecolor": "white"
           }
          },
          "shapedefaults": {
           "line": {
            "color": "#2a3f5f"
           }
          },
          "ternary": {
           "aaxis": {
            "gridcolor": "white",
            "linecolor": "white",
            "ticks": ""
           },
           "baxis": {
            "gridcolor": "white",
            "linecolor": "white",
            "ticks": ""
           },
           "bgcolor": "#E5ECF6",
           "caxis": {
            "gridcolor": "white",
            "linecolor": "white",
            "ticks": ""
           }
          },
          "title": {
           "x": 0.05
          },
          "xaxis": {
           "automargin": true,
           "gridcolor": "white",
           "linecolor": "white",
           "ticks": "",
           "title": {
            "standoff": 15
           },
           "zerolinecolor": "white",
           "zerolinewidth": 2
          },
          "yaxis": {
           "automargin": true,
           "gridcolor": "white",
           "linecolor": "white",
           "ticks": "",
           "title": {
            "standoff": 15
           },
           "zerolinecolor": "white",
           "zerolinewidth": 2
          }
         }
        },
        "title": {
         "font": {
          "size": 16
         },
         "text": "Valor Promedio de Parámetros por Región"
        },
        "width": 800,
        "xaxis": {
         "anchor": "y",
         "categoryarray": [
          "Centro",
          "Norte",
          "Sur"
         ],
         "categoryorder": "array",
         "domain": [
          0,
          1
         ],
         "title": {
          "text": "Región"
         }
        },
        "yaxis": {
         "anchor": "x",
         "domain": [
          0,
          1
         ],
         "title": {
          "text": "Valor Promedio"
         }
        }
       }
      }
     },
     "metadata": {},
     "output_type": "display_data"
    },
    {
     "name": "stdout",
     "output_type": "stream",
     "text": [
      "✅ Análisis regional completado\n"
     ]
    }
   ],
   "source": [
    "# 3. Análisis de parámetros por región (simulado)\n",
    "print(\"📈 Creando análisis de parámetros ambientales...\")\n",
    "\n",
    "# Simular regiones basadas en coordenadas\n",
    "def asignar_region(lat, lon):\n",
    "    if lat > -33:\n",
    "        return \"Norte\"\n",
    "    elif lat > -38:\n",
    "        return \"Centro\"\n",
    "    else:\n",
    "        return \"Sur\"\n",
    "\n",
    "df_validas['region_estimada'] = df_validas.apply(\n",
    "    lambda row: asignar_region(row['latitud_geocodificada'], row['longitud_geocodificada']), \n",
    "    axis=1\n",
    ")\n",
    "\n",
    "# Crear gráfico de barras por región\n",
    "fig_regiones = px.bar(\n",
    "    df_validas.groupby('region_estimada')['valor_ejemplo'].mean().reset_index(),\n",
    "    x='region_estimada',\n",
    "    y='valor_ejemplo',\n",
    "    title='Valor Promedio de Parámetros por Región',\n",
    "    labels={'valor_ejemplo': 'Valor Promedio', 'region_estimada': 'Región'},\n",
    "    color='region_estimada',\n",
    "    color_discrete_sequence=['#FF6B6B', '#4ECDC4', '#45B7D1']\n",
    ")\n",
    "\n",
    "fig_regiones.update_layout(\n",
    "    showlegend=False,\n",
    "    height=400,\n",
    "    title_font_size=16\n",
    ")\n",
    "\n",
    "# Usar el sistema de visualizaciones\n",
    "mostrar_grafico_demo(fig_regiones, \"analisis_regional_parametros\")\n",
    "\n",
    "print(\"✅ Análisis regional completado\")"
   ]
  },
  {
   "cell_type": "markdown",
   "id": "6155685b",
   "metadata": {},
   "source": [
    "## 4. 🎯 Exportación y Resumen de Resultados\n",
    "\n",
    "Exportemos los resultados y generemos un resumen final."
   ]
  },
  {
   "cell_type": "code",
   "execution_count": 25,
   "id": "c939aaa8",
   "metadata": {},
   "outputs": [
    {
     "name": "stdout",
     "output_type": "stream",
     "text": [
      "💾 Exportando resultados...\n",
      "📊 Coordenadas exportadas a: demo_estaciones_geocodificadas.csv\n",
      "\n",
      "📋 RESUMEN FINAL DE LA DEMOSTRACIÓN\n",
      "==================================================\n",
      "📊 Fecha Analisis: 2025-06-11 16:14:47\n",
      "📊 Total Estaciones Analizadas: 7\n",
      "📊 Estaciones Geocodificadas Exitosamente: 6\n",
      "📊 Porcentaje Exito Geocodificacion: 85.7%\n",
      "📊 Cobertura Geografica: Alta\n",
      "📁 Archivos Generados:\n",
      "   • demo_mapa_estaciones.html\n",
      "   • demo_estadisticas_geocodificacion.html\n",
      "   • demo_mapa_distribucion_estaciones.html\n",
      "   • demo_analisis_regional_parametros.html\n",
      "   • demo_estaciones_geocodificadas.csv\n",
      "📊 Sistema Visualizaciones: Activo y funcionando\n",
      "📊 Compatibilidad Github: Optimizada\n",
      "\n",
      "🎉 ¡Demostración completada exitosamente!\n",
      "✅ Sistema integrado funcionando al 100%\n",
      "🗺️ Geocodificador operativo con 85.7% de éxito\n",
      "📊 Visualizaciones optimizadas para GitHub\n"
     ]
    }
   ],
   "source": [
    "# Exportar coordenadas geocodificadas\n",
    "print(\"💾 Exportando resultados...\")\n",
    "\n",
    "# Exportar a CSV\n",
    "geocoder.exportar_coordenadas_csv(\n",
    "    df_geocodificado, \n",
    "    archivo_salida='demo_estaciones_geocodificadas.csv'\n",
    ")\n",
    "\n",
    "# Generar resumen completo\n",
    "resumen_demo = {\n",
    "    'fecha_analisis': pd.Timestamp.now().strftime('%Y-%m-%d %H:%M:%S'),\n",
    "    'total_estaciones_analizadas': len(estaciones_demo),\n",
    "    'estaciones_geocodificadas_exitosamente': stats['estaciones_geocodificadas'],\n",
    "    'porcentaje_exito_geocodificacion': f\"{stats['porcentaje_exito']:.1f}%\",\n",
    "    'cobertura_geografica': stats['cobertura_nacional'],\n",
    "    'archivos_generados': [\n",
    "        'demo_mapa_estaciones.html',\n",
    "        'demo_estadisticas_geocodificacion.html',\n",
    "        'demo_mapa_distribucion_estaciones.html',\n",
    "        'demo_analisis_regional_parametros.html',\n",
    "        'demo_estaciones_geocodificadas.csv'\n",
    "    ],\n",
    "    'sistema_visualizaciones': 'Activo y funcionando',\n",
    "    'compatibilidad_github': 'Optimizada'\n",
    "}\n",
    "\n",
    "print(\"\\n📋 RESUMEN FINAL DE LA DEMOSTRACIÓN\")\n",
    "print(\"=\" * 50)\n",
    "for key, value in resumen_demo.items():\n",
    "    if key == 'archivos_generados':\n",
    "        print(f\"📁 {key.replace('_', ' ').title()}:\")\n",
    "        for archivo in value:\n",
    "            print(f\"   • {archivo}\")\n",
    "    else:\n",
    "        print(f\"📊 {key.replace('_', ' ').title()}: {value}\")\n",
    "\n",
    "print(f\"\\n🎉 ¡Demostración completada exitosamente!\")\n",
    "print(f\"✅ Sistema integrado funcionando al 100%\")\n",
    "print(f\"🗺️ Geocodificador operativo con {stats['porcentaje_exito']:.1f}% de éxito\")\n",
    "print(f\"📊 Visualizaciones optimizadas para GitHub\")"
   ]
  },
  {
   "cell_type": "markdown",
   "id": "47b50054",
   "metadata": {},
   "source": [
    "## 5. ✨ Conclusiones y Próximos Pasos\n",
    "\n",
    "### 🎯 Resultados Obtenidos:\n",
    "\n",
    "1. **✅ Sistema de Visualizaciones Integrado**\n",
    "   - Funciones especializadas para cada tipo de análisis\n",
    "   - Compatibilidad completa con GitHub Pages\n",
    "   - Manejo robusto de errores y fallbacks\n",
    "\n",
    "2. **✅ Geocodificador Inteligente**\n",
    "   - Geocodificación exitosa de estaciones de monitoreo\n",
    "   - Múltiples estrategias de búsqueda geográfica\n",
    "   - Cache local para eficiencia\n",
    "\n",
    "3. **✅ Mapas Interactivos**\n",
    "   - Generación automática de mapas HTML\n",
    "   - Visualización de distribución geográfica\n",
    "   - Información contextual en tooltips\n",
    "\n",
    "### 🚀 Aplicaciones Prácticas:\n",
    "\n",
    "- **Análisis de Calidad del Agua**: Mapeo de estaciones de monitoreo con parámetros ambientales\n",
    "- **Estudios de Emisiones**: Visualización geográfica de fuentes de contaminación\n",
    "- **Investigación Ambiental**: Correlaciones espaciales entre variables\n",
    "- **Reportes Gubernamentales**: Presentaciones interactivas para tomadores de decisiones\n",
    "\n",
    "### 📈 Próximos Desarrollos:\n",
    "\n",
    "1. Integración con más fuentes de datos geográficos oficiales\n",
    "2. Análisis temporal de tendencias ambientales\n",
    "3. Predicción de calidad ambiental usando ML\n",
    "4. Dashboard interactivo en tiempo real\n",
    "\n",
    "**🌍 El sistema está listo para análisis ambientales avanzados en Chile** 🇨🇱"
   ]
  }
 ],
 "metadata": {
  "kernelspec": {
   "display_name": "ds_portfolio_env",
   "language": "python",
   "name": "python3"
  },
  "language_info": {
   "codemirror_mode": {
    "name": "ipython",
    "version": 3
   },
   "file_extension": ".py",
   "mimetype": "text/x-python",
   "name": "python",
   "nbconvert_exporter": "python",
   "pygments_lexer": "ipython3",
   "version": "3.11.9"
  }
 },
 "nbformat": 4,
 "nbformat_minor": 5
}
